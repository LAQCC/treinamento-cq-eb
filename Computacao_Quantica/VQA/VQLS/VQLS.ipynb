{
 "cells": [
  {
   "cell_type": "markdown",
   "metadata": {},
   "source": [
    "$\\newcommand{\\ket}[1]{{\\left\\vert{#1}\\right\\rangle}}$\n",
    "$\\newcommand{\\bra}[1]{{\\left\\langle{#1}\\right\\vert}}$\n",
    "# Algoritmo VQLS\n",
    "\n",
    "Neste notebook, vamos apresentar o algoritmo Grover e implementar em `myQLM`.\n",
    "\n",
    "- Artigo Original do VQLS https://arxiv.org/abs/1909.05820\n",
    "\n",
    "\n",
    "## Descrição do Algoritmo VQLS\n",
    "\n",
    "Considerando $A$ uma matriz $2^n x 2^2$ que pode ser expressa como uma combinação linear de matrizes unitárias $L$, tal que $A_0$, $A_1$, ..., $A_{L-1}$, temos que:\n",
    "\n",
    "\\begin{equation}\n",
    "A = \\sum_{i=0}^{L-1} c_l A_l\n",
    "\\end{equation}\n",
    "\n",
    "Onde $c_l$ são números complexos arbitrários. Outra observação é que para o algoritmo assumimos que $A_l$ pode ser eficientemente implementada em um circuito quântico agindo em $n$ qubits. Para o vetor b, previamente normalizado, aplicamos um operador U, gerando o estado $\\ket{b}$ a partir do qubir $\\ket{0}$;\n",
    "\n",
    "\\begin{equation}\n",
    "U \\ket{0} = \\ket{b}\n",
    "\\end{equation}\n",
    "\n",
    "Onde aqui assumimos que $U$ pode ser implementada eficientemente em um circuito quântico. Com isso, o intuito é encontrar o estado $\\ket{x}$, tal que $\\ket{x}$ é igual ou proporcional a $A^{-1}\\ket{b}. Para o algoritmo, o estado desejado é:\n",
    "\n",
    "\\begin{equation}\n",
    "\\ket{\\Psi} := \\frac{A\\ket{x}}{\\sqrt{\\bra{x}A^{\\dagger}A\\ket{x}}}\n",
    "\\end{equation}\n",
    "\n",
    "Classicamente, a complexidade de execucão desses algoritmos é da ordem de $O (N \\sqrt{k})$, sendo $k$ o número de condições da matriz A, obtido a partir da razão entre o seu maior e menor autovalor. Com o VQLS, podemos escalonar linearmente em k, logaritmicamente em 1/ε ou polilogaritmicamente em N,sendo ε a tolerˆancia a erro do algoritmo associada à função de custo. Mas, como aplicamos na prática? Vejamos primeiro um panorama do algoritmo."
   ]
  },
  {
   "cell_type": "markdown",
   "metadata": {},
   "source": [
    "## Panorâma do VQLS\n",
    "De início, começamos com um registrador de qubit, com cada qubit inicializado em $\\ket{0}$. O algoritmo pega suas entradas, então prepara e avalia a função de custo, começando com a criação de algum ansatz $V(w)$. Se o custo calculado for maior que algum parâmetro $\\gamma$, o algoritmo é executado novamente com os parâmetros atualizados, caso contrário, o algoritmo termina e o ansatz é calculado com os parâmetros ótimos (determinados no término). Isso nos dá o vetor de estado que minimiza nossa função de custo e, portanto, a forma normalizada de $\\ket{x}$. A representação geral do algoritmo pode ser vizualizada abaixo:\n",
    "\n",
    "![image.png](imgs/vqls_circuit_or.png)\n",
    "\n",
    "## Os passos do algoritmo\n",
    "\n",
    "O algoritmo tem os seguintes passos:\n",
    "\n",
    "1. Preparar o estado inicial $\\ket{b} = U \\ket{0}$;\n",
    "\n",
    "2. Aplicar o Ansatz $V(\\alpha)$ que irá permitir o cálculo de $x/||x||_2$; \n",
    "\n",
    "3. Aplicar uma função de custo para encontrar parâmetros $\\alpha$ que possibilitem o cálculo de $\\ket{x}$ normalizado na etapa anterior;\n",
    "\n",
    "4. Verificar, por meio de processamento clássico, se o custo é menor que um parâmetros $\\gamma$, que está associado à tolerância de erros do algoritmo $\\epsilon$. Caso contrário, repete as duas etapas anteriores;\n",
    "\n",
    "5. Interrupção da execução do algoritmo ao encontrar um parâmetro ótimo $\\alpha_{opt}$, ou seja, $C(\\alpha_{opt}) \\leq \\gamma$;\n",
    "\n",
    "6. Aplicar o Ansatz para o cálculo de $\\ket{x(\\alpha_{opt})}$."
   ]
  },
  {
   "cell_type": "markdown",
   "metadata": {},
   "source": [
    "## A função de custo"
   ]
  },
  {
   "cell_type": "markdown",
   "metadata": {},
   "source": [
    "Os parâmetros devem ser otimizados para maximizar a sobreposição entre os estados quânticos $\\ket{b}$ e $\\ket{\\Psi}$. Isso sugere definir a seguinte função de custo:\n",
    "\n",
    "\\begin{equation} \n",
    "C_{G} = 1 - \\vert \\langle b \\vert \\Psi \\rangle \\vert^2, \n",
    "\\end{equation}\n",
    "\n",
    "De modo que a sua minnimização deve levar à solução do problema. A principal ideia do algoritmo é substituir o termo ${\\color{blue}{\\ket{0}\\bra{0}}}$ na função de custo original:\n",
    "\n",
    "\\begin{equation} \n",
    "C_{G} = 1 - \\frac{\\sum_{l, l'} c_l c_{l'}^{*} \\bra{0} V^{\\dagger} A_{l'}^{\\dagger}U {\\color{blue}{\\ket{0} \\bra{0} U^{\\dagger} A_l V \\ket{0}}}}{\\sum_{l, l'} c_l c_{l'}^{*} \\bra{0} V^{\\dagger} A_{l'}^{\\dagger}A_l V \\ket{0}}, \n",
    "\\end{equation}\n",
    "\n",
    "Pelo seguinte operador:\n",
    "\n",
    "\\begin{equation} \n",
    "{\\color{blue}{P = \\frac{1}{2} + \\frac{1}{2n} \\sum_{j = 0}^{n-1} Z_j}}, \n",
    "\\end{equation}\n",
    "\n",
    "Tal que $Z_j$ é a porta Z aplicada no qubit $j$. Tendo como função de custo:\n",
    "\n",
    "\\begin{equation} \n",
    "C_{L} = 1 - \\frac{\\sum_{l, l'} c_l c_{l'}^{*} \\bra{0} V^{\\dagger} A_{l'}^{\\dagger}U {\\color{blue}{P U^{\\dagger} A_l V \\ket{0}}}}{\\sum_{l, l'} c_l c_{l'}^{*} \\bra{0} V^{\\dagger} A_{l'}^{\\dagger}A_l V \\ket{0}}, \n",
    "\\end{equation}\n",
    "\n",
    "que pode ser aplicado em um ciruito quântico, sendo uma boa aproximação para $CG$, uma vez que:\n",
    "\n",
    "\\begin{equation}\n",
    "C_G \\rightarrow 0 \\Leftrightarrow C_L \\rightarrow 0\n",
    "\\end{equation}\n",
    "\n",
    "Substituindo o operador $P$ na equação, temos então:\n",
    "\n",
    "\\begin{equation} \n",
    "C_{L} = \\frac{1}{2} - \\frac{1}{2n} \\frac{\\sum_{j = 0}^{n-1} \\sum_{l, l'} c_l c_{l'}^{*} \\mu_{l, l', j}}{\\sum_{l, l'} c_l c_{l'}^{*} \\mu_{l, l', -1}}, \n",
    "\\end{equation}\n",
    "\n",
    "Que pode ser calculado sempre que for possível medir o coeficiente:\n",
    "\n",
    "\\begin{equation} \n",
    "\\mu_{l, l', j} = \\bra{0} \\vert V^{\\dagger} A_{l'}^{\\dagger} U Z_j U^{\\dagger} A_l V \\ket{0}, \n",
    "\\end{equation}"
   ]
  },
  {
   "cell_type": "markdown",
   "metadata": {},
   "source": [
    "## Implementação do Algoritmo na Prática"
   ]
  },
  {
   "cell_type": "markdown",
   "metadata": {},
   "source": [
    "Para o exemplo de aplicação, iremos utilizar o seguinte sistema:\n",
    "\n",
    "\\begin{equation}\n",
    "Ax = b\n",
    "\\end{equation}\n",
    "\n",
    "\\begin{equation} \\begin{pmatrix}\n",
    "1 && 0 && 0 && 0 && 0.4 && 0 && 0 && 0 \\\\\n",
    "0 && 1 && 0 && 0 && 0 && 0.4 && 0 && 0 \\\\\n",
    "0 && 0 && 1 && 0 && 0 && 0 && 0 && 0 \\\\\n",
    "0 && 0 && 0 && 1 && 0 && 0 && 0 && 0 \\\\\n",
    "0.4 && 0 && 0 && 0 && 1 && 0 && 0 && 0 \\\\\n",
    "0 && 0.4 && 0 && 0 && 0 && 1 && 0 && 0 \\\\\n",
    "0 && 0 && 0 && 0 && 0 && 0 && 1 && 0 \\\\\n",
    "0 && 0 && 0 && 0 && 0 && 0 && 0 && 1 \n",
    "\\end{pmatrix}\\begin{pmatrix}\n",
    "x_1 \\\\\n",
    "x_2 \\\\\n",
    "x_3 \\\\\n",
    "x_4 \\\\\n",
    "x_5 \\\\\n",
    "x_6 \\\\\n",
    "x_7 \\\\\n",
    "x_8 \n",
    "\\end{pmatrix} = \\begin{pmatrix}\n",
    "0.35355339 \\\\\n",
    "0.35355339 \\\\\n",
    "0.35355339 \\\\\n",
    "0.35355339 \\\\\n",
    "0.35355339 \\\\\n",
    "0.35355339 \\\\\n",
    "0.35355339 \\\\\n",
    "0.35355339 \n",
    "\\end{pmatrix} \\end{equation}\n",
    "\n",
    "Nesse exemplo, podemos decompor a matriz $A$ como uma combinação linear de matrizes unitárias a partir de portas Pauli:\n",
    "\n",
    "\\begin{equation} A = c_0A_0 + c_1 A_1 + c_2 A_2 = I + 0.2X_0 Z_1 + 0.2 X_0 \\end{equation}\n",
    "\n",
    "E o vetor $\\ket{b}$: \n",
    "\n",
    "\\begin{equation} \n",
    "\\ket{b} = U \\ket{0} = H_0 H_1 H_2 \\ket{0},\n",
    "\\end{equation}\n",
    "\n",
    "Este problema é computacionalmente bastante fácil, pois uma única camada de rotações locais é suficiente para gerar o estado da solução, ou seja, podemos usar o seguinte ansatz:\n",
    "\n",
    "\\begin{equation}\n",
    "\\ket {x} = V(w) \\ket{0} = [R_y(w_0) R_y(w_1) R_Y(w_2)]H_0 H_1 H_2 \\ket{0}\n",
    "\\end{equation}"
   ]
  },
  {
   "cell_type": "markdown",
   "metadata": {},
   "source": [
    "O circuito quântico pode ser vizualizado abaixo:\n",
    "\n",
    "![image-2.png](imgs/vqls_circuit.png)\n"
   ]
  },
  {
   "cell_type": "markdown",
   "metadata": {},
   "source": [
    "Mas, como implementamos isso no código? Inicialmente é feita a importação das bibliotecas necessárias."
   ]
  },
  {
   "cell_type": "code",
   "execution_count": 1,
   "metadata": {},
   "outputs": [],
   "source": [
    "import time\n",
    "import numpy as np\n",
    "import importlib.util\n",
    "from scipy.optimize import minimize\n",
    "\n",
    "from qat.lang.AQASM import Program,QRoutine,RY,RZ,H,CNOT,Z,PH\n",
    "from qat.core import Observable, Term\n",
    "from qat.plugins import ObservableSplitter\n",
    "from qat.qpus import get_default_qpu"
   ]
  },
  {
   "cell_type": "markdown",
   "metadata": {},
   "source": [
    "Em seguida, definimos a função clássica responsável por contabilizar o período de execução do algoritmo na função de custo, chamada de `Timer`. Em outras palavras, ela servirá como uma espécie de cronômetro."
   ]
  },
  {
   "cell_type": "code",
   "execution_count": 2,
   "metadata": {},
   "outputs": [],
   "source": [
    "class Timer():\n",
    "    text: str = \"Elapsed time: {:0.4f} seconds\"\n",
    "    _start_time: float = 0\n",
    "\n",
    "    def start(self) -> None:\n",
    "        \"\"\"Start a new timer\"\"\"        \n",
    "        self._start_time = time.perf_counter()\n",
    "\n",
    "    def stop(self) -> float:\n",
    "        \"\"\"Stop the timer, and report the elapsed time\"\"\"\n",
    "        elapsed_time = time.perf_counter() - self._start_time\n",
    "        self._start_time = None\n",
    "\n",
    "        return elapsed_time\n",
    "    \n",
    "    def __enter__(self):\n",
    "        \"\"\"Start a new timer as a context manager\"\"\"\n",
    "        self.start()\n",
    "        return self\n",
    "\n",
    "    def __exit__(self, *exc_info):\n",
    "        \"\"\"Stop the context manager timer\"\"\"\n",
    "        print(self.text.format(self.stop()))"
   ]
  },
  {
   "cell_type": "markdown",
   "metadata": {},
   "source": [
    "Definiremos agora um observável `qpu`que atuará nas na combinação linear das matrizes $A_l$."
   ]
  },
  {
   "cell_type": "code",
   "execution_count": null,
   "metadata": {},
   "outputs": [],
   "source": [
    "qpu = ObservableSplitter() | get_default_qpu()"
   ]
  },
  {
   "cell_type": "markdown",
   "metadata": {},
   "source": [
    "A fução `U_b` define a preparação do estado $\\ket{b}$:  \n",
    "\n",
    "\\begin{equation} \n",
    "\\ket{b} = U \\ket{0} = H_0 H_1 H_2 \\ket{0},\n",
    "\\end{equation}\n",
    "\n",
    "Além disso, as matrizes $H, X, Z$ e a função `apply_n` são criadas para serem utilizadas na geração de observáveis posteriormente, que servirão para reescrever a matriz $A$ como uma combinação linear de matrizes unitárias."
   ]
  },
  {
   "cell_type": "code",
   "execution_count": 3,
   "metadata": {},
   "outputs": [],
   "source": [
    "def U_b(qprog,qubits,n_qubits):\n",
    "    for idx in range(n_qubits):\n",
    "        qprog.apply(H,qubits[idx])\n",
    "\n",
    "H_mat = np.array([[1,1],[1,-1]])/np.sqrt(2)\n",
    "X_m = np.array([[0,1],[1,0]])\n",
    "Z_m = np.array([[1,0],[0,-1]])\n",
    "\n",
    "def apply_n(f, m, n):\n",
    "    r = m\n",
    "    for i in range(n-1):\n",
    "        r = f(r,m)\n",
    "    return r"
   ]
  },
  {
   "cell_type": "markdown",
   "metadata": {},
   "source": [
    "Segue abaixo o circuito variacional para mapeamento do estado $\\ket{0}$  para o estado $\\ket{x}$ a partir do ansatz $V(\\alpha_{opt})$. "
   ]
  },
  {
   "cell_type": "code",
   "execution_count": 4,
   "metadata": {},
   "outputs": [],
   "source": [
    "def variational_block(qprog,qubits,n_qubits,weights):\n",
    "    \n",
    "    # Preparação da Sobreposição.\n",
    "    for idx in range(n_qubits):\n",
    "        qprog.apply(H,qubits[idx])\n",
    "\n",
    "    # Circuito de Variação\n",
    "    for idx, element in enumerate(weights):\n",
    "        var = qprog.new_var(float, '\\\\theta'+str(idx))\n",
    "        qprog.apply(RY(var), qubits[idx])"
   ]
  },
  {
   "cell_type": "markdown",
   "metadata": {},
   "source": [
    "Segue abaixo a função de normalização do $\\ket{\\Psi}$ e a função de custo. "
   ]
  },
  {
   "cell_type": "code",
   "execution_count": 5,
   "metadata": {},
   "outputs": [],
   "source": [
    "def psi_norm(c):\n",
    "    \"\"\"Returns the normalization constant <psi|psi>, where |psi> = A |x>.\"\"\"\n",
    "\n",
    "    return abs(qpu.submit(c.to_job(job_type='OBS', observable=A*A)).value)\n",
    "\n",
    "def bind(c, w):\n",
    "    #print({'\\\\theta'+str(idx):e for idx, e in enumerate(w)})\n",
    "    return c.bind_variables({'\\\\theta'+str(idx):e for idx, e in enumerate(w)})\n",
    "\n",
    "# Valor esperado do Observável e função de custo correspondente\n",
    "def cost_loc(weights: np.array,\n",
    "             O:       Observable\n",
    "            )->float:\n",
    "    c = bind(parametrized_circuit, weights)\n",
    "    num = qpu.submit(c.to_job(job_type='OBS', observable=O, nbshots=0)).value\n",
    "    res = 0.5 - 0.5 * abs(num) / (n_qubits * psi_norm(c))\n",
    "    cost_history.append(res)\n",
    "    return res"
   ]
  },
  {
   "cell_type": "markdown",
   "metadata": {},
   "source": [
    "Definidas as funções a serem utilizadas, abaixo são criados o observável a partir das matrizes definidas anteriormente. Por definição, esse observável (O) dá uma aceleração de $~4x$ no algoritmo. \n",
    "\n",
    "Note taambém que o observável `O` foi definido conforme descrito anteriormente."
   ]
  },
  {
   "cell_type": "code",
   "execution_count": 6,
   "metadata": {},
   "outputs": [],
   "source": [
    "n_qubits = 3       # Número de qubits no sistema.\n",
    "n_shots = 10 ** 2  # Número de medidas.\n",
    "steps = 30         # Número de passos para otimização\n",
    "eta = 0.8          # Learning rate\n",
    "q_delta = 0.001    # Initial spread of random quantum weights\n",
    "rng_seed = 0       # Seed for random number generator\n",
    "\n",
    "np.random.seed(rng_seed)\n",
    "w0 = np.random.randn(n_qubits) * q_delta \n",
    "\n",
    "# Definindo os Observáveis\n",
    "A = Observable(n_qubits, pauli_terms=[Term(0.2, \"XZ\", [0,1]),Term(0.2, \"X\", [0])], constant_coeff=1)\n",
    "U = Observable(n_qubits, matrix=apply_n(np.kron, H_mat, 3)/(2**(3-1)))\n",
    "Z = Observable(n_qubits, pauli_terms=[Term(1, \"Z\", [i]) for i in range(n_qubits)])\n",
    "\n",
    "O=A*U*Z*U*A"
   ]
  },
  {
   "cell_type": "markdown",
   "metadata": {},
   "source": [
    "Portanto, é possível implementar o programa principal, com o passo-a-passo descrito anteriormente."
   ]
  },
  {
   "cell_type": "code",
   "execution_count": 7,
   "metadata": {},
   "outputs": [
    {
     "name": "stdout",
     "output_type": "stream",
     "text": [
      "\n",
      "   Return from subroutine COBYLA because the MAXFUN limit has been reached.\n",
      "\n",
      "Elapsed time: 14.1780 seconds\n",
      "   NFVALS =   50   F = 4.687500E-01    MAXCV = 0.000000E+00\n",
      "   X = 4.463379E-05   3.303840E-01  -8.043914E-05\n",
      "VQLS result\n",
      "|<x|n>|^2=\n",
      " [0.08445223 0.08445977 0.16555672 0.1655715  0.08443865 0.08444618\n",
      " 0.16553009 0.16554486]\n"
     ]
    }
   ],
   "source": [
    "qprog=Program()\n",
    "qubits=qprog.qalloc(n_qubits)\n",
    "variational_block(qprog,qubits,n_qubits,w0)\n",
    "parametrized_circuit = qprog.to_circ()\n",
    "cost_history = []\n",
    "with Timer():\n",
    "    w = minimize(cost_loc,w0,O, method='COBYLA',\n",
    "                           constraints=(), tol=0.0001, callback=None, \n",
    "                           options={'rhobeg': 1.0, 'maxiter': 50, 'disp': True, 'catol': 0.001})\n",
    "\n",
    "# Preparação da Solução pelo VQLS\n",
    "# ------------------------------------\n",
    "# Dados os parâmetros de variação ``w`` que otimizamos anteriormente,\n",
    "# podemos gerar o estado quântico |x>. Ao medir |x>\n",
    "# na base computacional podemos estimar a probabilidade de cada estado da base.\n",
    "# Para estimar a distribuição de probabilidade sobre os estados de base, \n",
    "# primeiro pegamos amostras ``n_shots`` e então calculamos a frequência relativa de cada resultado.\n",
    "\n",
    "def prob_dist(r):\n",
    "    n = 2**len(r.raw_data[0].state.bitstring)\n",
    "    p = np.zeros(n)\n",
    "    for j, e in enumerate(r.raw_data):\n",
    "        p[sum([int(s)*2**int(i) for i,s in enumerate(e.state.bitstring)])] = e.probability\n",
    "        \n",
    "    return p\n",
    "\n",
    "q_probs = prob_dist(qpu.submit(bind(parametrized_circuit,w.x).to_job()))\n",
    "q_probs_init = prob_dist(qpu.submit(bind(parametrized_circuit,w0).to_job()))\n",
    "\n",
    "# As probabilidades anteriores devem corresponder às seguintes probabilidades de estado quântico.\n",
    "\n",
    "print(\"VQLS result\")\n",
    "print(\"|<x|n>|^2=\\n\", q_probs)"
   ]
  },
  {
   "cell_type": "markdown",
   "metadata": {},
   "source": [
    "Segue abaixo a implementação do algoritmo clássico para comparação com os resultados do VQLS. "
   ]
  },
  {
   "cell_type": "code",
   "execution_count": 8,
   "metadata": {},
   "outputs": [
    {
     "name": "stdout",
     "output_type": "stream",
     "text": [
      "A = \n",
      " [[1.  0.  0.  0.  0.4 0.  0.  0. ]\n",
      " [0.  1.  0.  0.  0.  0.4 0.  0. ]\n",
      " [0.  0.  1.  0.  0.  0.  0.  0. ]\n",
      " [0.  0.  0.  1.  0.  0.  0.  0. ]\n",
      " [0.4 0.  0.  0.  1.  0.  0.  0. ]\n",
      " [0.  0.4 0.  0.  0.  1.  0.  0. ]\n",
      " [0.  0.  0.  0.  0.  0.  1.  0. ]\n",
      " [0.  0.  0.  0.  0.  0.  0.  1. ]]\n",
      "b = \n",
      " [0.35355339 0.35355339 0.35355339 0.35355339 0.35355339 0.35355339\n",
      " 0.35355339 0.35355339]\n",
      "classical result\n",
      "x_n^2 =\n",
      " [0.08445946 0.08445946 0.16554054 0.16554054 0.08445946 0.08445946\n",
      " 0.16554054 0.16554054]\n"
     ]
    }
   ],
   "source": [
    "# Para resolver o problema de maneira clássica, usamos a representação matricial explícita em\n",
    "# termos de NumPy arrays.c = np.array([1.0, 0.2, 0.2])\n",
    "c = np.array([1.0, 0.2, 0.2])\n",
    "Id = np.identity(2)\n",
    "Z_mat = np.array([[1, 0], [0, -1]])\n",
    "X_mat = np.array([[0, 1], [1, 0]])\n",
    "\n",
    "A_0 = np.identity(8)\n",
    "A_1 = np.kron(np.kron(X_mat, Z_mat), Id)\n",
    "A_2 = np.kron(np.kron(X_mat, Id), Id)\n",
    "\n",
    "A_num = c[0] * A_0 + c[1] * A_1 + c[2] * A_2\n",
    "b = np.ones(8) / np.sqrt(8)\n",
    "\n",
    "# Podemos escrever os valores de A e b:\n",
    "print(\"A = \\n\", A_num)\n",
    "print(\"b = \\n\", b)\n",
    "\n",
    "# TA solução pode ser computada por meio da inversão da matriz A:\n",
    "A_inv = np.linalg.inv(A_num)\n",
    "x = np.dot(A_inv, b)\n",
    "\n",
    "# Finalmente, visando compara x com o estado|x\\rangle$, nós normalizamos seus elementos e elevamos ao quadrado\n",
    "c_probs = (x / np.linalg.norm(x)) ** 2\n",
    "\n",
    "# Comparação:\n",
    "print(\"classical result\")\n",
    "print(\"x_n^2 =\\n\", c_probs)"
   ]
  }
 ],
 "metadata": {
  "kernelspec": {
   "display_name": "Python 3 (ipykernel)",
   "language": "python",
   "name": "python3"
  },
  "language_info": {
   "codemirror_mode": {
    "name": "ipython",
    "version": 3
   },
   "file_extension": ".py",
   "mimetype": "text/x-python",
   "name": "python",
   "nbconvert_exporter": "python",
   "pygments_lexer": "ipython3",
   "version": "3.9.12"
  },
  "vscode": {
   "interpreter": {
    "hash": "c3503f95e0e8f4afdf6702396a7a2a29cae9f67572acfe092405dcaa2579b817"
   }
  }
 },
 "nbformat": 4,
 "nbformat_minor": 4
}
