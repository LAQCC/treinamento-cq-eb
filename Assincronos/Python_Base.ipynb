{
 "cells": [
  {
   "cell_type": "markdown",
   "id": "cfb28f32-d21e-4011-a1af-762a3af91d60",
   "metadata": {},
   "source": [
    "# Aula 2.08 - Python Base\n",
    "### LAQCC - SENAI - CIMATEC\n",
    "  "
   ]
  },
  {
   "cell_type": "markdown",
   "id": "e4ab2807-6b3b-410d-8d66-efedbf589cec",
   "metadata": {},
   "source": [
    "* **Sumário**\n",
    "\n",
    "    * Operadores\n",
    "    * Variáveis\n",
    "    * Strings\n",
    "    * Condicionais\n",
    "    * Estrutura de dados ( listas, tuplas, dicionário)\n",
    "    * Laços, estruturas de controle\n",
    "    * Funções\n",
    "    * Bibliotecas ( numpy, scipy, simpy, networkx, pyplot )"
   ]
  },
  {
   "cell_type": "markdown",
   "id": "b2522932-17d8-4db6-9342-620e16772728",
   "metadata": {},
   "source": [
    "#  <span style=\"color:blue\">Operadores Aritiméticos </span>."
   ]
  },
  {
   "cell_type": "markdown",
   "id": "a9f3ab34-8b3c-427f-b10a-913c76040337",
   "metadata": {},
   "source": [
    "Em Python, caso queira realizar expressões matemáticas, tais como soma, produto, etc. É nescessário a utilização da sintaxe correta, a tabela abaixo mostra as possíveis operações.\n"
   ]
  },
  {
   "cell_type": "markdown",
   "id": "d073b62c-e7e1-4bdf-a23e-1440b50c7ca8",
   "metadata": {},
   "source": [
    "Operação  | Conceito | Sinal\n",
    "--------- | ---------|------\n",
    "Adição | Realiza a soma entre os operandos |  +\n",
    "Subtração| Realiza a subtração entre operandos. Adiciona o sinal de negativo no número | -\n",
    "Multiplicação | Realiza o produto entre operandos | *\n",
    "Divisão| Realiza a divisão entre operandos | /\n",
    "Divisão inteira | Realiza a divisão entre operandos e a parte decimal do resultado | //\n",
    "Resto | Retorna o resto da divisão | %\n",
    "Potenciação | Retorna um número elevado a potência de outro | **"
   ]
  },
  {
   "cell_type": "code",
   "execution_count": 1,
   "id": "9bad9cf3-3e1b-449b-b724-be755bcf36cd",
   "metadata": {},
   "outputs": [
    {
     "data": {
      "text/plain": [
       "9"
      ]
     },
     "execution_count": 1,
     "metadata": {},
     "output_type": "execute_result"
    }
   ],
   "source": [
    "7+2\n"
   ]
  },
  {
   "cell_type": "code",
   "execution_count": 2,
   "id": "920ffe76-2d9b-40a3-888d-5f945d806045",
   "metadata": {},
   "outputs": [
    {
     "data": {
      "text/plain": [
       "5"
      ]
     },
     "execution_count": 2,
     "metadata": {},
     "output_type": "execute_result"
    }
   ],
   "source": [
    "7-2"
   ]
  },
  {
   "cell_type": "code",
   "execution_count": 3,
   "id": "b624fe07-ed2b-4e6d-989f-4bece5f783f1",
   "metadata": {},
   "outputs": [
    {
     "data": {
      "text/plain": [
       "14"
      ]
     },
     "execution_count": 3,
     "metadata": {},
     "output_type": "execute_result"
    }
   ],
   "source": [
    "7*2"
   ]
  },
  {
   "cell_type": "code",
   "execution_count": 4,
   "id": "1cc3d1c2-ee63-4a3f-b548-79c298e8ce36",
   "metadata": {},
   "outputs": [
    {
     "data": {
      "text/plain": [
       "3.5"
      ]
     },
     "execution_count": 4,
     "metadata": {},
     "output_type": "execute_result"
    }
   ],
   "source": [
    "7/2"
   ]
  },
  {
   "cell_type": "code",
   "execution_count": 5,
   "id": "0c2ee95f-d2a7-4418-88e9-a5055a09e33c",
   "metadata": {},
   "outputs": [
    {
     "data": {
      "text/plain": [
       "3"
      ]
     },
     "execution_count": 5,
     "metadata": {},
     "output_type": "execute_result"
    }
   ],
   "source": [
    "7//2"
   ]
  },
  {
   "cell_type": "code",
   "execution_count": 6,
   "id": "e3b0e66e-b66e-4a7c-925b-f451bc552c47",
   "metadata": {},
   "outputs": [
    {
     "data": {
      "text/plain": [
       "1"
      ]
     },
     "execution_count": 6,
     "metadata": {},
     "output_type": "execute_result"
    }
   ],
   "source": [
    "7%2"
   ]
  },
  {
   "cell_type": "code",
   "execution_count": 13,
   "id": "d2c58d7c-8aa4-4897-b9c2-c4eea2bbdb81",
   "metadata": {},
   "outputs": [
    {
     "data": {
      "text/plain": [
       "49"
      ]
     },
     "execution_count": 13,
     "metadata": {},
     "output_type": "execute_result"
    }
   ],
   "source": [
    "7**2"
   ]
  },
  {
   "cell_type": "markdown",
   "id": "53e600ec-8a6d-4799-b664-056a7401a429",
   "metadata": {},
   "source": [
    "# <span style=\"color:blue\">Variáveis </span>\n",
    "\n",
    "Em Python, nomes de variáveis devem iniciar obrigatoriamente com letras, porém podem conter números e unterline _ , mas não é permitido espaços.\n",
    "\n",
    "\n",
    "Nome da Variável | Válido\n",
    "-----------------|-------\n",
    "X | Sim\n",
    "x2 |Sim\n",
    "velocidade | Sim\n",
    "valor_teste | Sim\n",
    "valor teste | Não\n",
    "_x | Sim\n",
    "2x | Não\n"
   ]
  },
  {
   "cell_type": "markdown",
   "id": "7d84d622",
   "metadata": {},
   "source": [
    "# <span style=\"color:blue\">Operdores de Atribuição </span>\n",
    "\n",
    "São utilizados quando se deseja atribuir valores à variável\n",
    "\n",
    "Operador|Exemplo| Equivalente a\n",
    "--------|-------|--------------\n",
    "= | a = 1 | a = 1\n",
    "+= | a +=1 | $a_1 = a_0 + 1$\n",
    "-= | a-= 2 | $a_1 = a_0 - 2$\n",
    "*=  | a *= 5 | $a_1 = a_0 \\times 5 $\n",
    "/= | a /= 3 | $a_1 = a_0 \\div  3$\n",
    "%= | a %=2 | $a_1 = a_0$%2 "
   ]
  },
  {
   "cell_type": "markdown",
   "id": "7d4a9b4b",
   "metadata": {},
   "source": [
    "# <span style=\"color:blue\">Operadores Relacionais </span>\n",
    "\n",
    "\n",
    "## Operadores de Comparação\n",
    "\n",
    "São utilizado quando se deseja comparar dois valores, podem retornar True ou False a depender da condição, mas é possível definir outras ações baseado nessas saídas como veremos posteriormente.\n",
    "\n",
    "Operador| Conceito | Símbolo\n",
    ":--------|:----------:|------\n",
    "$>$| Verifica se um valor é maior que o outro | >\n",
    "$<$| Verifica se um valor é menor que o outro | <\n",
    "$=$ | Verifica se um valor é igual a outro | ==\n",
    "$\\neq $ | Verifica se um valor é diferente de outro | !=\n",
    "$\\geq $ | Verifica se um valor é maior ou igual a outro | >=\n",
    "$\\leq  $| Verifica se um valor é maior ou igual a outro | <=\n",
    "\n",
    "\n",
    "<span style=\"color:red\">OBS: Não confundir == com =, no primeiro caso usamos quando desejamos comparar um valor com outro, já no segundo caso usamos para atribuir um valor a uma variável. </span>\n",
    "\n",
    "## Operador NOT\n",
    "\n",
    "O operador **not**(não), é o equivalente a operação lógica Não, estudada na aula de computação clássica I, como vimos, a operação de negação (ou Inversão) torna um valor falso em verdadeiro, e vice-versa.\n",
    "\n",
    "\n",
    "X | not X\n",
    "--|----\n",
    "F|V\n",
    "V|F\n",
    "\n"
   ]
  },
  {
   "cell_type": "code",
   "execution_count": null,
   "id": "1cffe38d",
   "metadata": {},
   "outputs": [],
   "source": [
    "not True"
   ]
  },
  {
   "cell_type": "code",
   "execution_count": null,
   "id": "8668c38f",
   "metadata": {},
   "outputs": [],
   "source": [
    "not False"
   ]
  },
  {
   "cell_type": "markdown",
   "id": "beb93a5e",
   "metadata": {},
   "source": [
    "## Operador AND\n",
    "\n",
    "Esse operador é o equivalente a função AND, onde sua saída será verdadeira quando todas as entradas forem verdadeiras.\n",
    "\n",
    "X|Y| X and Y\n",
    ":-|-|:---:\n",
    "V|V|V\n",
    "V|F|F\n",
    "F|V|F\n",
    "F|F|F"
   ]
  },
  {
   "cell_type": "code",
   "execution_count": null,
   "id": "5b91e324",
   "metadata": {},
   "outputs": [],
   "source": [
    "True and True"
   ]
  },
  {
   "cell_type": "code",
   "execution_count": null,
   "id": "4d1b22dc",
   "metadata": {},
   "outputs": [],
   "source": [
    "True and False"
   ]
  },
  {
   "cell_type": "code",
   "execution_count": null,
   "id": "f5044e2a",
   "metadata": {},
   "outputs": [],
   "source": [
    "False and True"
   ]
  },
  {
   "cell_type": "code",
   "execution_count": null,
   "id": "bd333fda",
   "metadata": {},
   "outputs": [],
   "source": [
    "False and False"
   ]
  },
  {
   "cell_type": "markdown",
   "id": "11463979-59d2-4589-8442-61396b36ec93",
   "metadata": {},
   "source": [
    "## Operador Or\n",
    "\n",
    "Esse operador equivale a função OR, onde sua saída será Falsa se todas entradas forem falsas, e verdadeira caso o contrário.\n",
    "\n",
    "X|Y| X or Y\n",
    ":-|-|:---:\n",
    "V|V|V\n",
    "V|F|V\n",
    "F|V|V\n",
    "F|F|F"
   ]
  },
  {
   "cell_type": "code",
   "execution_count": null,
   "id": "31783d94-3a63-4135-83f8-3ba647eb5b00",
   "metadata": {},
   "outputs": [],
   "source": [
    "True or True"
   ]
  },
  {
   "cell_type": "code",
   "execution_count": null,
   "id": "2f55d0dc-75d9-4b0e-8948-219ee30e19dc",
   "metadata": {},
   "outputs": [],
   "source": [
    "True or False"
   ]
  },
  {
   "cell_type": "code",
   "execution_count": null,
   "id": "87a13252-ede5-4ea6-804e-80846e783965",
   "metadata": {},
   "outputs": [],
   "source": [
    "False or True"
   ]
  },
  {
   "cell_type": "code",
   "execution_count": null,
   "id": "b728dc94-b09a-4288-8344-f28de875f7ff",
   "metadata": {},
   "outputs": [],
   "source": [
    "False or False"
   ]
  },
  {
   "cell_type": "markdown",
   "id": "d0b95226-e3f5-4894-8632-d48b32772981",
   "metadata": {},
   "source": [
    "# <span style=\"color:blue\">Números </span>\n",
    "\n",
    "Muitas vezes as entradas de dados pode ser números, o Python trata tipos de números de maneiras diferentes, basicamente separando em dois grupos, os números inteiros e pontos flutuantes."
   ]
  },
  {
   "cell_type": "markdown",
   "id": "53fd739e-1704-43d1-8038-710c1664f9e3",
   "metadata": {},
   "source": [
    "## Números inteiros\n",
    "\n",
    "Representados matematicamente pelo grupo **Z**, os números inteiros (positivos e negativos) são permitidos realizar as operações matemáticas (+ , - , *, /, ** ) e teremos o seu resultado também um inteiro\n",
    "\n",
    "\n",
    "*Obs: no terminal, espaços não interferem no resultado, porém pode afetar as variáveis do tipo \"string\" que iremos estudar mais a frente.*\n",
    "\n",
    "É possível utilizar o terminal como uma calculadora, experimente colocar expressões abaixo e realizar os cálculos de expressões com números inteiros."
   ]
  },
  {
   "cell_type": "code",
   "execution_count": null,
   "id": "90da545c-fc90-452d-83bf-f2224c661efd",
   "metadata": {},
   "outputs": [],
   "source": [
    "1+5*30/10-55"
   ]
  },
  {
   "cell_type": "markdown",
   "id": "c4795f6f-26f0-4189-9d94-35a11f13eba7",
   "metadata": {},
   "source": [
    "## Ponto flutuante\n",
    "\n",
    "Qualquer número decimal é considera pelo Python como ponto flutuante ( *float*), geralmente podemos usar tranquilamente os pontos flutuantes como usamos os inteiros, porém as vezes por tentar representar da forma mais exata possível acaba ocorrendo alguns erros de concatenação conforme o exemplo abaixo:"
   ]
  },
  {
   "cell_type": "code",
   "execution_count": null,
   "id": "a98cdd18-038f-46a1-85e4-42e5fe8100e5",
   "metadata": {},
   "outputs": [],
   "source": [
    "0.1+0.2"
   ]
  },
  {
   "cell_type": "markdown",
   "id": "2557bd63-eb10-46fc-af0c-3549cea67778",
   "metadata": {},
   "source": [
    "Isso pode ocorrer em qualquer linguagem, e vai variar da precisão da máquina que está utilizando, porém também é possível realizar ajustes para considerar quantas casas decimais você deseja arredondar, de forma que se adeque ao seu problema.\n",
    "\n",
    "\n",
    "*Obs: Lembre-se de que o que os pontos flutuantes devem ser escritos com '.' e não com ',' como fazemos comumente aqui.*"
   ]
  },
  {
   "cell_type": "markdown",
   "id": "df9dc4e5-73b7-4d4e-b8d4-a0b39dbec341",
   "metadata": {},
   "source": [
    "# <span style=\"color:blue\">String </span>\n",
    "\n",
    "## Variável String\n",
    "\n",
    "Outro tipo de dados do Python, são as Strings, são uma sequência de caracteres imutáveis onde são definidos com ' ' ou \" \" , tudo que estiver entre as aspas ou apóstrofos, será considerado uma string.\n",
    "\n",
    "Dentro da string podemos ter números, pontos, letras maíusculas e minúsculas e até mesmo espaços, fazendo com que cada caractere adicionado (espaço, maíscula, minúscula) diferencie uma string da outra."
   ]
  },
  {
   "cell_type": "code",
   "execution_count": null,
   "id": "e3781a8c-c743-417f-baf4-6fdd6a3f324f",
   "metadata": {},
   "outputs": [],
   "source": [
    "# Criando uma String, basta apenas colocar entre aspas(\" \") ou apóstrofo (' ')\n",
    "'Criando String'"
   ]
  },
  {
   "cell_type": "code",
   "execution_count": null,
   "id": "d156a04a-2f02-48b4-a75b-21fac8cb737a",
   "metadata": {},
   "outputs": [],
   "source": [
    "# Perceba que aqui está a mesma coisa escrita, porém uma tem letras maísculas e espaço, e a outra\n",
    "# Está tudo junto, ao pedir para comparar se são iguais, irá retornar que o resultado é falso.\n",
    "\n",
    "\"Nome Qualquer\" == \"Nomequalquer\""
   ]
  },
  {
   "cell_type": "markdown",
   "id": "4099a786-1b05-475b-b85c-45ff7855f51d",
   "metadata": {},
   "source": [
    "*Obs: ao colocar um número dentro de uma string ele para de ser um int ou float, e é considerado como string*"
   ]
  },
  {
   "cell_type": "code",
   "execution_count": null,
   "id": "5946612c-df51-464b-8017-a940d94ca481",
   "metadata": {},
   "outputs": [],
   "source": [
    "string1 = '26 de outubro de 2019'\n",
    "string2 = 'Hoje é um belo dia!'\n",
    "string3 = \"10% de 30 = 3\"\n",
    "string4 = \"Aqui  tem espaço em branco →  ←  \" \n",
    "\n",
    "print(string1)\n",
    "print(string2)\n",
    "print(string3) \n",
    "print(string4)"
   ]
  },
  {
   "cell_type": "markdown",
   "id": "dfaab2f4-8e8c-42fd-bdea-25d877c8b4bc",
   "metadata": {},
   "source": [
    "## Tamanho de uma string\n",
    "\n",
    "Ao criarmos uma string, o Python irá interpretar a quantidade de caracteres que possui aquela string e consequentemente ela terá uma \"tamanho\" relacionado a quantidade de caracteres. É possível determinar o tamanho dessa string através da função **len**, onde irá retornar o número de caracteres da string conforme o exemplo abaixo:"
   ]
  },
  {
   "cell_type": "code",
   "execution_count": null,
   "id": "792285a4-b461-4e8b-a81d-ab341d0dbfdf",
   "metadata": {},
   "outputs": [],
   "source": [
    "print(len(\"Vamos determinar o tamanho dessa string\"))\n"
   ]
  },
  {
   "cell_type": "markdown",
   "id": "074b4bb0-f31f-4214-a509-d5d207ab16d0",
   "metadata": {},
   "source": [
    "A string acima possui o \"tamanho\" = 39 caracteres, incluindo os espaços. Caso uma string seja vazia ela é representada da seguinte forma:\n"
   ]
  },
  {
   "cell_type": "code",
   "execution_count": null,
   "id": "86b05a7d-33ed-43c0-a010-520891213896",
   "metadata": {},
   "outputs": [],
   "source": [
    "print(len(\"\"))"
   ]
  },
  {
   "cell_type": "markdown",
   "id": "fecc6740-5333-43ac-802c-924d940faf2c",
   "metadata": {},
   "source": [
    "Podemos acessar caractere a caractere da string, pense que cada caractere tem uma \"coordenada\", começando a partir do 0.\n",
    "\n",
    "Conforme o exemplo abaixo, é possível acessar cada caractere dessa string através de sua coordenada correspondente.\n",
    "\n",
    "\n",
    "|C|O|M|P|U|T|A|Ç|Ã|O| |Q|U|Â|N|T|I|C|A||**Conteúdo**|\n",
    "|-|-|-|-|-|-|-|-|-|-|-|-|-|-|-|-|-|-|-|-|-----------|\n",
    "|0|1|2|3|4|5|6|7|8|9|10|11|12|13|14|15|16|17|18||**Índice**|\n",
    "\n",
    "\n",
    "Para acessar o conteúdo é bastante simples, vamos denominar uma variável $x$ como a string acima.\n",
    "\n",
    "então, digamos que queiramos saber qual é o 13º Caractere dessa string, pedimos para gerar um print do elemento x[13], onde x é a string, e o número entre [ ] é a posição que queremos.\n",
    "\n"
   ]
  },
  {
   "cell_type": "code",
   "execution_count": null,
   "id": "e74e7022-afa8-45fc-9c0c-192cd2a95c43",
   "metadata": {},
   "outputs": [],
   "source": [
    "x = \"Computação Quântica\"\n",
    "print(x[13])"
   ]
  },
  {
   "cell_type": "markdown",
   "id": "17197f98-ecb0-401b-9c8a-6b839d00b54f",
   "metadata": {},
   "source": [
    "## Operações Com Strings\n",
    "\n",
    "É possível realizar algumas operações com strings\n",
    "\n",
    "### Concatenação\n",
    "\n",
    "É a soma entre duas strings, perceba que, a soma nesse caso é a junção de uma string com outra formando uma string maior do que o tamanho de cada uma individual.\n"
   ]
  },
  {
   "cell_type": "code",
   "execution_count": null,
   "id": "5909fc7b-59ba-4aed-a142-0c6263e24bfc",
   "metadata": {},
   "outputs": [],
   "source": [
    "a = \"Computação\"\n",
    "b = \" \"  #Perceba que essa string é um espaço vazio\n",
    "c = \"Quântica\"\n",
    "\n",
    "\n",
    "print(a+b+c)\n",
    "print( \"Tamanho de a = \",len(a)) # Tamanho da String a\n",
    "print(\"Tamanho de b = \",len(b)) # Tamanho da String b\n",
    "print(\"Tamanho de c = \",len(c)) # Tamanho da String c\n",
    "print(\"Tamanho de a+b+c = \",len(a+b+c)) # Tamanho da String a+b+c"
   ]
  },
  {
   "cell_type": "markdown",
   "id": "d3ad172c-244a-4eed-ba73-de27a0960999",
   "metadata": {},
   "source": [
    "### Composição\n",
    "\n",
    "Ao juntarmo strings para construir mensagens, nem sempre é tão simples, por exemplo quando queremos exibir uma mensagem de uma variável numérica. Com isso a composição nos ajuda a realizar essa tarefa. \n",
    "\n",
    "Usando alguns marcadores no local onde queremos utilizar de acordo com a variável, os tipos de marcadores são:\n",
    "\n",
    "|**Marcador**|**Tipo**|\n",
    "|------------|--------|\n",
    "|%d| Números Inteiros|\n",
    "|%f| Números Flutuantes|\n",
    "|%s| Strings |\n"
   ]
  },
  {
   "cell_type": "code",
   "execution_count": null,
   "id": "0efef97e-0fe0-4a3f-999d-66ac2f6f0f98",
   "metadata": {},
   "outputs": [],
   "source": [
    "Faturamento = 55\n",
    "# Fora da string definimos qual é a variável que utilizaremos, no nosso caso a variável se chama Faturamento\n",
    "print(\"O faturamento foi de [%d] milhões de dólares\" % Faturamento)\n"
   ]
  },
  {
   "cell_type": "code",
   "execution_count": null,
   "id": "824ba41f-4f4e-4ef0-bbdd-bd4377e4d46f",
   "metadata": {},
   "outputs": [],
   "source": [
    "# Mais alguns exemplos do que é possível fazer com composição:\n",
    "\n",
    "nome = \"João\"\n",
    "idade = 22 \n",
    "grana = 51.34\n",
    "\n",
    "# Aqui o número decimal vem com a quantidade de casas que irá variar da máquina que tiver utilizando\n",
    "print(\"%s tem %d anos e R$%f no bolso.\" % (nome, idade, grana))\n",
    "\n",
    "# Aqui definimos que a string ocupe 3 dígitos através do comando %3d, e o float tenha dois dígitos através .2f\n",
    "print(\"%12s tem %3d anos e R$%5.2f no bolso.\" % (nome, idade, grana))  \n",
    "\n",
    "#Aqui definimos que a idade possua o 0 na frente através do comando %03d\n",
    "print(\"%12s tem %03d anos e R$%5.2f no bolso.\" % (nome, idade, grana))  \n",
    "\n",
    "print(\"%-12s tem %-3d anos e R$%-5.2f no bolso.\" % (nome, idade, grana))\n"
   ]
  },
  {
   "cell_type": "markdown",
   "id": "43789f07-e2ef-49eb-b850-220887aa59f6",
   "metadata": {},
   "source": [
    "### Fatiamento\n",
    "\n",
    "É possível selecionar também apenas parte de uma string, para isso iremos apenas definir a coordenada referente ao caractere de início do corte, e a coordenada do caractere final (este não incluso).\n",
    "conforme o exemplo abaixo:"
   ]
  },
  {
   "cell_type": "code",
   "execution_count": null,
   "id": "e8206965-0877-464d-926f-ee0946e23a91",
   "metadata": {},
   "outputs": [],
   "source": [
    "x = \"Computação Quântica\"\n",
    "print(x[0:13])\n",
    "#Perceba que o intervalo vai até o â, mas ele não entra no print, deve prestar atenção pois isso causa confusão\n",
    "#No caso o fatiamento vai do caractere 0 até o 12 (incluso), por isso dizemos que ele termina no x[13]\n",
    "\n",
    "#Podemos omitir o início, então ele irar começar de x[0]\n",
    "print(x[:13])\n",
    "\n",
    "#Caso omita o fim, ele irá considerar todo o resto da string\n",
    "print(x[7:])\n",
    "\n"
   ]
  },
  {
   "cell_type": "markdown",
   "id": "7c5727b1-ed58-49ff-9ce5-8a89075a6e4f",
   "metadata": {},
   "source": [
    "Outras funções das strings:\n",
    "\n",
    "|**Método**|**Função**|\n",
    "|----------|----------|\n",
    "|**len(string)**| Retorna o tamanho da função|\n",
    "|**.count(caractere)**|Retorna quantas vezes o caractere aparece na string|\n",
    "|**.lower()**| Converte todas as  letras para minúscula|\n",
    "|**.upper()**|Converte todas as letras para maiúscula|\n",
    "|**.title()**|Converte a primeira letra de cada palavra para maíscula|\n",
    "|**.split()**| Transforma a string em uma lista, utilizando os espaços como referência|\n",
    "|**.replace(x1,x2)**|Substitui na string x1 por x2|\n",
    "|**.ljust(tamanho)**|Justifica à esquerda|\n",
    "|**.rjust(tamanho)**|Justifica à direita|\n",
    "|**.center(tamanho)**|Justifica ao centro|\n",
    "\n",
    "\n",
    "***Obs*** Nem todos os métodos foram apresentados aqui, consultar a literatura para maior aprofundamento."
   ]
  },
  {
   "cell_type": "markdown",
   "id": "09b9c5d0",
   "metadata": {},
   "source": [
    "###  <span style=\"color:red\">Atividade </span>\n",
    "\n",
    "\n",
    "<span style=\"color:red\">Execute um programa em que peça para inserir o nome e o sobre nome da pessoa, e exiba no nome em letras maíusculas, além da quantidade de letras no nome.</span>\n"
   ]
  },
  {
   "cell_type": "code",
   "execution_count": null,
   "id": "2b50d4ef",
   "metadata": {},
   "outputs": [],
   "source": []
  },
  {
   "cell_type": "code",
   "execution_count": null,
   "id": "18daf982",
   "metadata": {},
   "outputs": [],
   "source": [
    "#Possível solução:\n",
    "\n",
    "nome1 =  input(\"Digite seu nome:  \")\n",
    "nome2 = input (\"Digite seu sobrenome: \")\n",
    "x = len(nome1)\n",
    "y = len(nome2)\n",
    "z = nome1.count(\" \")\n",
    "q = nome2.count (\" \")\n",
    "s = x+y-z-q\n",
    "print(\"Olá \",nome1.upper() ,nome2.upper() , \"seu nome tem\", s , \"letras\")"
   ]
  },
  {
   "cell_type": "markdown",
   "id": "308d9848",
   "metadata": {},
   "source": [
    "# <span style=\"color:blue\">Print </span>\n",
    "\n",
    "Este comando \"imprime\" valores na tela, esses valores podem ser resultados de operações, strings, variáveis, etc.\n",
    "\n",
    "Usamos print(valor, string, etc)\n",
    "\n"
   ]
  },
  {
   "cell_type": "markdown",
   "id": "0ebf7dcf",
   "metadata": {},
   "source": [
    "# <span style=\"color:blue\">Condicionais </span>\n",
    "\n",
    "\n",
    "São instruções que colocamos no código para que possa executar determinada parte do programa com base no resultado de uma determinada condição. Para isso usamos as condicionais que serão apresentadas as seguir.\n",
    "\n",
    "\n",
    "\n",
    "## If\n",
    "\n",
    "A condição if, (*se* no português), irá executar algo se uma condição for atendida.\n",
    "Para um melhor entendimento, podemos pensar que ela funciona da seguinte maneira: \"***Se** a condição for verdadeira, execute uma tarefa*\"\n",
    "\n",
    "Por isso, devemos sempre colocar uma condição após o if.\n",
    "\n",
    "**Obs:** Ao utilizar condicionais, é necessário colocar sempre \":\" ao final, e o que deve ser executado após a condição deve estar *identada*(Deslocamento de texto a direita), uma dica é usar a tecla tab, que dará o espaço de identação dentro do ambiente que estiver executando o python."
   ]
  },
  {
   "cell_type": "code",
   "execution_count": null,
   "id": "217cf098",
   "metadata": {},
   "outputs": [],
   "source": [
    "#Vamos fazer um programa que dirá se o número é ímpar, ou par.\n",
    "\n",
    "n = eval(input(\"Digite um número inteiro: \"))\n",
    "\n",
    "\n",
    "# O comando eval irá transformar a entrada que seria uma string, em um número (nesse caso int)\n",
    "# O comando input, pede para o usuário entrar com algum dado.\n",
    "\n",
    "#Aqui, se o resto da divisão por 2 for igual a zero, esse número será par\n",
    "if n % 2 == 0 :\n",
    "    print(\"esse número é par\")\n",
    "\n",
    "#Já aqui, se o resto da divisão por 2 for diferente de zero, esse número será ímpar\n",
    "if n % 2 != 0 :\n",
    "    print(\"esse número é ímpar\")"
   ]
  },
  {
   "cell_type": "markdown",
   "id": "89ceb6c5",
   "metadata": {},
   "source": [
    "###  <span style=\"color:red\">Atividade </span>\n",
    "\n",
    "\n",
    "<span style=\"color:red\">1. Execute um programa em que leia 5 números e imprima o maior e o menor</span>\n",
    "\n",
    "<span style=\"color:red\">2. Escreva um programa que peça o valor do salário, e calcule e imprima 15% desse valor.\n",
    "</span>"
   ]
  },
  {
   "cell_type": "code",
   "execution_count": null,
   "id": "4e255573",
   "metadata": {},
   "outputs": [],
   "source": []
  },
  {
   "cell_type": "code",
   "execution_count": null,
   "id": "6a5dfa10",
   "metadata": {},
   "outputs": [],
   "source": []
  },
  {
   "cell_type": "markdown",
   "id": "14ed22a4",
   "metadata": {},
   "source": [
    "## Else\n",
    "\n",
    "Esta condicional é usada para realizar uma condição contrária a que foi ordenada na condicional **if**, ela representa o \"Se não\" (A idéia de \"Caso Contrário\")podemos pensar nela da seguinte maneira:\n",
    "\n",
    "\"**Se** determinada condição for atendida, faça isso. **Caso contrário** (Else) faça aquilo.\"\n",
    "\n",
    "***Obs:*** Lembre-se que o Else deve ser usado  sempre depois do if, caso contrário irá dar erro no programa."
   ]
  },
  {
   "cell_type": "code",
   "execution_count": null,
   "id": "c874e83e",
   "metadata": {},
   "outputs": [],
   "source": [
    "\n",
    "# Utilizando o mesmo exemplo que o anterior, observe como simplifica o código.\n",
    "# Quando temos duas respostas (V ou F) recomenda-se o uso do if/else\n",
    "n2 = eval(input(\"Digite um número inteiro: \"))\n",
    "\n",
    "if n2 % 2 == 0 :\n",
    "    print(\"esse número é par\")\n",
    "\n",
    "\n",
    "else:\n",
    "    print(\"esse número é ímpar\")"
   ]
  },
  {
   "cell_type": "markdown",
   "id": "28b13c71",
   "metadata": {},
   "source": [
    "###  <span style=\"color:red\">Atividade </span>\n",
    "\n",
    "\n",
    "<span style=\"color:red\">3. Execute um programa em que irá perguntar a distância da viagem de um passageiro, em quilômetros, e calcule o preço da passagem, o valor será ${R$ 0,87}$ para viagens menos de 100 km, e ${R$ 0,67}$, caso a distância seja superior.</span>"
   ]
  },
  {
   "cell_type": "code",
   "execution_count": null,
   "id": "7178feab",
   "metadata": {},
   "outputs": [],
   "source": []
  },
  {
   "cell_type": "markdown",
   "id": "c56ea207",
   "metadata": {},
   "source": [
    "Outra questão que devemos ficar atentos, é que podemos aninhar algumas estruturas, ou seja, colocar if dentro de outros if, pois o programa pode ser mais complexo ou necessitar de mais condicionais, deve-se lembrar de deslocar a direita sempre que uma condicional estiver dentro da outra.\n",
    "\n",
    "\n",
    "Por exemplo, queremos um progama que imprima o preço de cada produto com base na categoria, conforme a tabela abaixo:\n",
    "\n",
    "|**Categoria**|**Preço**|\n",
    "|:------:|:----:|\n",
    "|1|12,00|\n",
    "|2|18,00|\n",
    "|3|25,00|\n",
    "|4|27,00|\n",
    "|5|36,00|"
   ]
  },
  {
   "cell_type": "code",
   "execution_count": 8,
   "id": "5962dc86",
   "metadata": {},
   "outputs": [
    {
     "name": "stdout",
     "output_type": "stream",
     "text": [
      "Digite a categoria do produto:5\n",
      "O preço do produto é: R$ 36.00\n"
     ]
    }
   ],
   "source": [
    "categoria = int(input(\"Digite a categoria do produto:\"))\n",
    "\n",
    "if categoria == 1:\n",
    "    valor = 12  \n",
    "else:\n",
    "    if categoria == 2:\n",
    "        valor = 18\n",
    "    else:\n",
    "        if categoria == 3:\n",
    "            valor = 25\n",
    "        else:\n",
    "            if categoria == 4:\n",
    "                valor   =   27\n",
    "            else:\n",
    "                if categoria == 5:\n",
    "                    valor   =   36\n",
    "                else:\n",
    "                    print(\"Categoria inválida, digite um valor entre 1 e 5!\")\n",
    "                    valor   =   0\n",
    "print(\"O preço do produto é: R$%6.2f\" % valor)"
   ]
  },
  {
   "cell_type": "markdown",
   "id": "5eb1da8c",
   "metadata": {},
   "source": [
    "## Elif\n",
    "\n",
    "Outra solução que temos para várias condições é o comando **elif**, que irá evitar múltiplos **if** identandos, o **elif** irá substituir o par **else if**, mas tornando desnecessário a criação de uma estrutura totalmente identada. \n",
    "\n",
    "Refazendo o exemplo anterior com o comando **elif**, teremos o seguinte código:"
   ]
  },
  {
   "cell_type": "code",
   "execution_count": 9,
   "id": "7e58a004",
   "metadata": {},
   "outputs": [
    {
     "name": "stdout",
     "output_type": "stream",
     "text": [
      "Digite a categoria do produto:3\n",
      "O preço do produto é: R$ 25.00\n"
     ]
    }
   ],
   "source": [
    "categoria2 = int(input(\"Digite a categoria do produto:\"))\n",
    "\n",
    "\n",
    "if categoria2 == 1:\n",
    "    valor2 = 12\n",
    "elif categoria2 == 2:\n",
    "    valor2 = 18\n",
    "elif categoria2 == 3:\n",
    "    valor2 = 25\n",
    "elif categoria2 == 4:\n",
    "    valor2 = 27\n",
    "elif categoria2 == 5:   \n",
    "    valor2 = 36\n",
    "else:\n",
    "    print(\"Categoria inválida, digite um valor entre 1 e 5!\")\n",
    "    valor2 = 0\n",
    "\n",
    "\n",
    "print(\"O preço do produto é: R$%6.2f\" % valor2)\n",
    "    "
   ]
  },
  {
   "cell_type": "markdown",
   "id": "d8d90d0f",
   "metadata": {},
   "source": [
    "### Exemplo\n",
    "\n",
    "Escreva uma função que recebe quatro números x1,x2,y1,y2, que são as\n",
    "coordenadas dos pontos (x1, y1) e (x2, y2) no plano. Sua função deve computar:\n",
    "\n",
    "• a inclinação da linha que une os pontos (se a linha for vertical deverá imprimir\n",
    "“inclinação infinita”);\n",
    "\n",
    "• A distância entre os dois pontos.\n",
    "\n",
    "O formato de saída deve ser do tipo:\n",
    "\n",
    "A inclinação é 1.0 e a distância é 1.414\n",
    "\n",
    "A inclinação é infinita e a distância é 1.000"
   ]
  },
  {
   "cell_type": "code",
   "execution_count": 11,
   "id": "d9f7a9cc",
   "metadata": {},
   "outputs": [
    {
     "name": "stdout",
     "output_type": "stream",
     "text": [
      "Digite o valor de x1: 2\n",
      "Digite o valor de x2: 3\n",
      "Digite o valor de y1: 4\n",
      "Digite o valor de y2: 5\n",
      "\n",
      " A inclinação é 0.79 e a distância é 1.414\n"
     ]
    }
   ],
   "source": [
    "'''É necessário importar a biblioteca math, ela irá permitir utilizar funções \n",
    "matemáticas, iremos estudar isso mais aprofundado posteriormente.\n",
    "Pense que tudo que tiver com math. está usando alguma função da biblioteca math, como \n",
    "por exemplo math.atan significa que está utilizando a função arco tangente da biblioteca\n",
    "math\n",
    "'''\n",
    "\n",
    "import math  \n",
    "\n",
    "\n",
    "a = float(input(\"Digite o valor de x1: \"))\n",
    "b = float(input(\"Digite o valor de x2: \"))\n",
    "c = float(input(\"Digite o valor de y1: \"))\n",
    "d = float(input(\"Digite o valor de y2: \"))\n",
    "\n",
    "def dist(a,b,c,d):\n",
    " \n",
    " if a == b and c == d:\n",
    "     print(\"Os pontos estão no mesmo local do espaço.\")\n",
    " elif a == b and c != d:\n",
    "   distancia = (((a-b)**2)+((c-d)**2))**0.5\n",
    "   print(\"Não é possível fazer divisão por zero, logo não é possível calcular a inclinação.\")\n",
    "   print(\"A distância é {:.3f}.\".format(distancia))\n",
    " else:\n",
    "    distancia = (((a-b)**2)+((c-d)**2))**0.5\n",
    "\n",
    "    incli = math.atan((c-d)/(a-b))\n",
    "\n",
    "    if a == b and c == d :\n",
    "      print(\"\\n Não é possível realizar divisão por zero\")\n",
    "    \n",
    "    elif incli == 90:\n",
    "      print(\"\\n A inclinação é infinita e a distância é {}\".format(distancia))\n",
    "    else:\n",
    "      print(\"\\n A inclinação é {:.2f} e a distância é {:.3f}\".format(incli, distancia) ) \n",
    "\n",
    "dist(a,b,c,d)"
   ]
  },
  {
   "cell_type": "markdown",
   "id": "407258c5-75e4-44cd-8192-cef6c42b357a",
   "metadata": {},
   "source": [
    "# <span style=\"color:blue\">Estrutura de Dados - Listas, Tuplas e Dicionários </span>\n",
    "\n",
    "## Listas\n",
    "\n",
    "São sequências de objetos identificados por meio de um índice, assim como nas strings o primeiro elemento começa em 0, um ponto importante a destacar, é que as listas podem conter qualquer tipo de dado (strings, variáveis, int, float, etc.), se comparado com as strings, a primeira são objetos imutáveis, enquanto a segunda não, havendo a possibilidade de mudança dos elementos.\n",
    "\n",
    "para se criar uma lista devemos ter a seguinte estrutura:\n",
    "\n",
    "<span style=\"color:purple\">Nome_da_lista = $[a_0, a_1, a_2, \\cdots, a_n]$ </span>\n",
    "\n",
    "**Obs:** Os elementos da lista devem ser sempre separados por $,$\n"
   ]
  },
  {
   "cell_type": "code",
   "execution_count": 12,
   "id": "f80bcb8f-f994-4a0e-92b0-cd0ff51d2881",
   "metadata": {},
   "outputs": [
    {
     "name": "stdout",
     "output_type": "stream",
     "text": [
      "[1, 2.35, 'String123', 1.4142135623730951]\n"
     ]
    }
   ],
   "source": [
    "a = 2**(1/2)\n",
    "lista_a = [1,2.35,\"String123\",a]\n",
    "print(lista_a)"
   ]
  },
  {
   "cell_type": "markdown",
   "id": "84709f65-c9b5-4e31-b1ca-04f873ad1469",
   "metadata": {},
   "source": [
    "Assim como nas strings, podemos \"chamar\" determinado elemento associando o seu índice, baseado no exemplo anterior, teríamos:\n",
    "\n",
    "|**lista_a**|=|1|2.35|\"String123\"|a|\n",
    "|:---------:|:-:|:-:|:--:|:---------:|:-:|\n",
    "|**Índice**| |0|1|2|3|4|\n",
    "\n",
    "Para chamar o elemento usamos:\n",
    "\n",
    "<span style=\"color:purple\">Nome_da_lista[índice] </span>\n"
   ]
  },
  {
   "cell_type": "code",
   "execution_count": 17,
   "id": "150046b4-9ed5-4ea2-876a-cfb865d2b052",
   "metadata": {},
   "outputs": [
    {
     "data": {
      "text/plain": [
       "'String123'"
      ]
     },
     "execution_count": 17,
     "metadata": {},
     "output_type": "execute_result"
    }
   ],
   "source": [
    "a = 2**(1/2)\n",
    "lista_a = [1,2.35,\"String123\",a]\n",
    "\n",
    "lista_a[2]"
   ]
  },
  {
   "cell_type": "markdown",
   "id": "90ec928e-52f5-417c-851c-1aa7eb1819b5",
   "metadata": {},
   "source": [
    "É possível obter listas dentro da lista também"
   ]
  },
  {
   "cell_type": "code",
   "execution_count": 20,
   "id": "07ef243c-2d10-4d4c-9712-52ca9848732e",
   "metadata": {},
   "outputs": [
    {
     "data": {
      "text/plain": [
       "'beta'"
      ]
     },
     "execution_count": 20,
     "metadata": {},
     "output_type": "execute_result"
    }
   ],
   "source": [
    "lista = [1, 2, [\"alfa\",\"beta\",\"gama\"], 4816 ]\n",
    "'''Caso queira chamar um elemento de uma lista que está dentro de outra, primeiro colocamos o elemento da lista maior\n",
    "Que seria o lista[2], e depois o elemento que quer dentro da lista 'de dentro', suponhamos que queiramos chamar o \n",
    "a string beta, ficaria da seguinte forma\n",
    "'''\n",
    "lista[2][1]"
   ]
  },
  {
   "cell_type": "markdown",
   "id": "0f394ef2-8c1b-4eff-b892-7d0dd498ca49",
   "metadata": {},
   "source": [
    "## Alterando valores de uma lista\n",
    "\n",
    "Os valores de uma lista podem ser alterados por atribuição, ou seja podemos designar um valor a um determinado elemento, e ele será substituido na lista.\n"
   ]
  },
  {
   "cell_type": "code",
   "execution_count": 21,
   "id": "aa691ac9-b060-4ea9-9987-7f07dd45d2e1",
   "metadata": {},
   "outputs": [
    {
     "name": "stdout",
     "output_type": "stream",
     "text": [
      "[1, 2, 3, 574, 5]\n"
     ]
    }
   ],
   "source": [
    "lista_2 = [1,2,3,4,5]\n",
    "\n",
    "lista_2[3] = 574\n",
    "print(lista_2)"
   ]
  },
  {
   "cell_type": "code",
   "execution_count": 24,
   "id": "64cea37f-971c-4706-aee3-288781dbae15",
   "metadata": {},
   "outputs": [
    {
     "name": "stdout",
     "output_type": "stream",
     "text": [
      "[1, 2, 'Computação', 4, 33.3756]\n"
     ]
    }
   ],
   "source": [
    "''' É possível alterar os elementos por valores de outro tipo, como strings e float '''\n",
    "\n",
    "lista_3 = [1,2,3,4,5]\n",
    "\n",
    "lista_3[2] = \"Computação\"\n",
    "lista_3[4] = 33.3756\n",
    "print(lista_3)"
   ]
  },
  {
   "cell_type": "markdown",
   "id": "5d2095d9-7db5-4aec-b927-f4cb4755c086",
   "metadata": {},
   "source": [
    "Alguns métodos podem ser utilizado em listas, conforme a tabela abaixo:\n",
    "\n",
    "|**Método**|**Descrição**|\n",
    "|:--------:|:-----------:|\n",
    "|**len(lista)** |Imprime o número de elementos da lista |\n",
    "|**min(lista)** |Retorna o menor valor da lista |\n",
    "|**max(lista)** |Retorna o maior valor da lista |\n",
    "|**sum(lista)** |Retorna a soma dos elementos da lista |\n",
    "|**lista.append(item)** |Adiciona um item ao final da lista |\n",
    "|**lista.insert(posição, item)** |Insere um item no índice indicado |\n",
    "|**lista.extend(nova_lista)** |Insere uma nova lista ao final de uma lista |\n",
    "|**lista.remove(posição)** | Remove o item do índice indicado|\n",
    "|**lista.sort()** |Ordena a lista em ordem crescente |\n",
    "|**lista.reverse** |Ordena lista em ordem decrescente |\n",
    "|**lista.pop()** |Retorna o último elemento da lista |\n",
    "|**count(item)** |Conta quantas vezes o elemento aparece na lista |\n",
    "|item **in** lista | Verifica se o objeto perten a lista|\n",
    "\n",
    "**Obs:** Lista na tabela se refere ao nome da lista que está usando, então lembre-se de substituir o nome \"lista\" para o nome que atribuiu a lista que deseja trabalhar."
   ]
  },
  {
   "cell_type": "markdown",
   "id": "e3369f0f-d926-43b9-abb0-f1a7bd3c64c1",
   "metadata": {},
   "source": [
    "## Tuplas\n",
    "\n",
    "Similar as listas, podemos utilizar tuplas quando queremos que as sequências de valores sejam imutáveis, computacionalmente falando, o processamento de tuplas é mais rápido que o das listas. A forma de estrutura é parecida com a das listas, porém ao invés de usarmos colchetes, usamos parênteses.\n",
    "\n",
    "<span style=\"color:purple\">Nome_da_Tupla = $(a_0, a_1, a_2, \\cdots, a_n)$ </span>\n"
   ]
  },
  {
   "cell_type": "markdown",
   "id": "f74fa8b6-732c-45cf-ac43-2be523afe295",
   "metadata": {},
   "source": [
    "Um processo bastante utilizado nas tuplas é o desempacotamento, onde atribui cada elemento da tupla a uma variável."
   ]
  },
  {
   "cell_type": "code",
   "execution_count": 25,
   "id": "7a3a1aca-0e89-44c3-8606-5d1eeeedb411",
   "metadata": {},
   "outputs": [
    {
     "name": "stdout",
     "output_type": "stream",
     "text": [
      "1\n",
      "2\n",
      "3\n",
      "4\n",
      "5\n"
     ]
    }
   ],
   "source": [
    "tupla = (1,2,3,4,5)\n",
    "a,b,c,d,e = tupla\n",
    "print(a)\n",
    "print(b)\n",
    "print(c)\n",
    "print(d)\n",
    "print(e)"
   ]
  },
  {
   "cell_type": "markdown",
   "id": "9e2f1f93-9d59-46c4-9159-1ac6df4c234d",
   "metadata": {},
   "source": [
    "Além disso tuplas suportam a maioria das operações de listas.A forma de chamar um elemento também é a mesma das listas."
   ]
  },
  {
   "cell_type": "markdown",
   "id": "fc6fb75f-cac6-4c8d-9993-afa9df83082d",
   "metadata": {},
   "source": [
    "## Dicionários\n",
    "\n",
    "São estruturas de dados similares a das listas, mas com propriedades de acesso diferentes, os dicionários são compostos por conjutos de chaves e valores, ele relaciona uma chave com um determinado valor, ou seja cada elemento de um dicionário é a combinação de uma chave e um valor. A sua estrutura é da seguinte forma:\n",
    "\n",
    "\n",
    "<span style=\"color:purple\">Nome_do_Dicionario = {$Chave_0 : Valor_0, Chave_1 : Valor_2, \\cdots, Chave_n : Valor_n$} </span>\n",
    "\n",
    "Imagine por exemplo que se queira listar um conjunto de itens com determinados valores conforme a tabela abaixo:\n",
    "\n",
    "|**Produto**|**Valor**|\n",
    "|:---------:|:-------:|\n",
    "|Item 1 | 0,75|\n",
    "|Item 2 | 2,53|\n",
    "|Item 3 | 9,17|\n",
    "|Item 4 | 13,24|\n",
    "\n",
    "Criando um dicionário disso teriamos:"
   ]
  },
  {
   "cell_type": "code",
   "execution_count": 31,
   "id": "d058fedb-007c-4999-ae9e-7b568a715065",
   "metadata": {},
   "outputs": [],
   "source": [
    "Tabela = {\"item1\" : 0.75, \n",
    "          \"item2\" :2.53, \n",
    "          \"item3\" : 9.17, \n",
    "          \"item4\" : 13.24}"
   ]
  },
  {
   "cell_type": "markdown",
   "id": "560f13e6-b962-4f71-86ac-1e697a6e2ed2",
   "metadata": {},
   "source": [
    "O dicionário é acessado por suas chaves, oara obter o valor de um item usamos a seguinte estrutura:\n",
    "<span style=\"color:purple\">Nome_do_Dicionario[\"Nome da chave\"] </span>\n",
    "\n",
    "Diferente das listas, ao invés de usar números como índice, os dicionários irão usar as chaves definidas na construção do dicionário como índice, quando atribuimos um valor a uma chave, duas coisas podem acontecer:\n",
    "\n",
    "$\\Rightarrow$ Se a chave já existe: O valor associado é alterado para o novo valor.\n",
    "$$$$\n",
    "$\\Rightarrow$ Se a chave não existe: A nova chave será adicionada ao dicionário.\n"
   ]
  },
  {
   "cell_type": "code",
   "execution_count": 32,
   "id": "c75ba7aa-72a6-427a-8eec-5aaa6df15b4c",
   "metadata": {},
   "outputs": [
    {
     "data": {
      "text/plain": [
       "2.53"
      ]
     },
     "execution_count": 32,
     "metadata": {},
     "output_type": "execute_result"
    }
   ],
   "source": [
    "'''Chamando um elemento no dicionárito'''\n",
    "Tabela[\"item2\"]"
   ]
  },
  {
   "cell_type": "code",
   "execution_count": 33,
   "id": "a1fa9f4b-9cec-48e5-ab89-13592176e84e",
   "metadata": {},
   "outputs": [
    {
     "data": {
      "text/plain": [
       "False"
      ]
     },
     "execution_count": 33,
     "metadata": {},
     "output_type": "execute_result"
    }
   ],
   "source": [
    "''' Verificamos também se uma chave pertence a um dicionário utilizando o in'''\n",
    "\n",
    "\"item5\" in Tabela"
   ]
  },
  {
   "cell_type": "code",
   "execution_count": 36,
   "id": "0cf74c3c-30c0-4ebf-95c0-236e395e2fe4",
   "metadata": {},
   "outputs": [
    {
     "data": {
      "text/plain": [
       "dict_keys(['item1', 'item2', 'item3', 'item4'])"
      ]
     },
     "execution_count": 36,
     "metadata": {},
     "output_type": "execute_result"
    }
   ],
   "source": [
    "'''Podemos obter também todas as chaves do dicionário'''\n",
    "Tabela.keys()"
   ]
  },
  {
   "cell_type": "code",
   "execution_count": 35,
   "id": "184324d5-6f71-4481-8b8f-429f251482b6",
   "metadata": {},
   "outputs": [
    {
     "data": {
      "text/plain": [
       "dict_values([0.75, 2.53, 9.17, 13.24])"
      ]
     },
     "execution_count": 35,
     "metadata": {},
     "output_type": "execute_result"
    }
   ],
   "source": [
    "''' Se quisermos os valores, usamos o seguinte'''\n",
    "Tabela.values()"
   ]
  },
  {
   "cell_type": "markdown",
   "id": "ede25b62-e68b-459f-8571-c864db516110",
   "metadata": {},
   "source": [
    "# <span style=\"color:blue\">Laços e Estruturas de Controle </span>\n"
   ]
  },
  {
   "cell_type": "markdown",
   "id": "2e225a72",
   "metadata": {},
   "source": [
    "## Range\n",
    "\n",
    "Antes de trabalharmos com laços em si vamos introduzir um objeto bastante utilizado na programação, e que poderá auxiliar em diversos códigos. O objeto range gera uma sequência de números inteiros que vai de $0$(caso não determine de onte começar) até $n-1$, com um determinado passo (que por padrão é 1 caso não defina o tamanho do passo), a sua estrutura é a seguinte:\n",
    "\n",
    "<span style=\"color:purple\">range(início,fim, passo)</span>\n",
    "\n",
    "Na forma padrão ( de $0$ até $n-1$, com passo igual a 1) podemos escrever da seguinte forma também:\n",
    "\n",
    "<span style=\"color:purple\">range(n)</span>\n",
    "\n",
    "**Obs:** A função range gera um novo tipo de objeto no python que se chama range.\n",
    "\n"
   ]
  },
  {
   "cell_type": "code",
   "execution_count": 2,
   "id": "c64d89b6",
   "metadata": {},
   "outputs": [
    {
     "data": {
      "text/plain": [
       "range(0, 11)"
      ]
     },
     "execution_count": 2,
     "metadata": {},
     "output_type": "execute_result"
    }
   ],
   "source": [
    "# Retorna uma sequência de números de 0 a 10\n",
    "range(11)"
   ]
  },
  {
   "cell_type": "markdown",
   "id": "ca4ce851",
   "metadata": {},
   "source": [
    "Podemos transformar o range em uma lista de valores inteiros usando a função list()"
   ]
  },
  {
   "cell_type": "code",
   "execution_count": 3,
   "id": "845ec2c6",
   "metadata": {},
   "outputs": [
    {
     "data": {
      "text/plain": [
       "[0, 1, 2, 3, 4, 5, 6, 7, 8, 9, 10]"
      ]
     },
     "execution_count": 3,
     "metadata": {},
     "output_type": "execute_result"
    }
   ],
   "source": [
    "list(range(11))"
   ]
  },
  {
   "cell_type": "code",
   "execution_count": 4,
   "id": "2d917a5c",
   "metadata": {},
   "outputs": [
    {
     "data": {
      "text/plain": [
       "[0, 3, 6, 9, 12, 15, 18, 21, 24, 27, 30]"
      ]
     },
     "execution_count": 4,
     "metadata": {},
     "output_type": "execute_result"
    }
   ],
   "source": [
    "'''Criando uma sequência de múltiplos de 3 de 0 a 30 (incluso), então devemos finalizar\n",
    "nosso range em 31, pense no final do range como um intervalo aberto, logo queremos que\n",
    "o intervalo pare ne um local mas não faça parte, como são múltiplos de 3, o passo será 3'''\n",
    "\n",
    "list(range(0,31,3))"
   ]
  },
  {
   "cell_type": "markdown",
   "id": "e5b846aa",
   "metadata": {},
   "source": [
    "Lembre-se que é possível utilizar números negativos também, desde que pertenção ao conjunto dos números inteiros."
   ]
  },
  {
   "cell_type": "code",
   "execution_count": 8,
   "id": "c3c57377",
   "metadata": {},
   "outputs": [
    {
     "data": {
      "text/plain": [
       "[-15, -13, -11, -9, -7, -5, -3, -1, 1, 3, 5, 7, 9, 11, 13, 15]"
      ]
     },
     "execution_count": 8,
     "metadata": {},
     "output_type": "execute_result"
    }
   ],
   "source": [
    "list(range(-15,16,2))"
   ]
  },
  {
   "attachments": {
    "Slide1.jpg": {
     "image/jpeg": "[encoded data removed]"
    }
   },
   "cell_type": "markdown",
   "id": "1a2e3626",
   "metadata": {},
   "source": [
    "## FOR\n",
    "\n",
    "Agora, iremos estudar algumas estruturas de repetição, a mais simples é o laço for (para em português), onde irar realizar uma tarefa sequencialmente para cada item de um objeto iterável(*string, tupla, lista,range,$\\cdots$*)\n",
    "\n",
    "a sua estrutura vai ser a seguinte:\n",
    "\n",
    "<span style=\"color:purple\">for **item** in **objeto** :</span>\n",
    "\n",
    "    tarefa 1 \n",
    "    tarefa 2\n",
    "    ...\n",
    "    \n",
    "    \n",
    "    \n",
    "**OBS:** As tarefas devem estar identadas abaixo do for, usamos  4 espaços, ou apertando a tecla tab para identar\n",
    "**OBS:** Lembre-se de colocar os : ao final da linha onte está o laço de repetição, caso contrário o código irá dar erro.\n",
    "\n",
    "\n",
    "**Como funciona ?**\n",
    "\n",
    "Após dada a instrução, o primeiro elemento do objeto será atribuído a variável item, e as ações identadas serão executada. A cada rodada um novo elemento é formado sequencialmente, essas ações irão se repetir até o último elemento do objeto.\n",
    "\n",
    "\n",
    "\n",
    "![Slide1.jpg](attachment:Slide1.jpg)"
   ]
  },
  {
   "cell_type": "code",
   "execution_count": 9,
   "id": "34ae6ffd",
   "metadata": {},
   "outputs": [
    {
     "name": "stdout",
     "output_type": "stream",
     "text": [
      "0\n",
      "1\n",
      "2\n",
      "3\n",
      "4\n",
      "5\n",
      "6\n",
      "7\n",
      "8\n",
      "9\n",
      "10\n"
     ]
    }
   ],
   "source": [
    "'''Com o for, podemos fazer semelhante a função list mostrada anteriormente,\n",
    "mas observe que não saiu uma lista e sim vários prints'''\n",
    "\n",
    "for i in range(0,11):\n",
    "    print(i)"
   ]
  },
  {
   "cell_type": "code",
   "execution_count": 11,
   "id": "1815b177",
   "metadata": {},
   "outputs": [
    {
     "name": "stdout",
     "output_type": "stream",
     "text": [
      "0\n",
      "1\n",
      "4\n",
      "9\n",
      "16\n",
      "25\n",
      "36\n",
      "49\n",
      "64\n",
      "81\n",
      "100\n"
     ]
    }
   ],
   "source": [
    "'''Podemos também definir as ações a serem tomadas, lembrando sempre de identar\n",
    "Por exemplo pegando o mesmo exemplo anterior, vamos deixar todos os valores ao quadrado'''\n",
    "\n",
    "for i in range(0,11):\n",
    "    i = i**2\n",
    "    print(i)"
   ]
  },
  {
   "cell_type": "markdown",
   "id": "91c07fac",
   "metadata": {},
   "source": [
    "### Exemplo\n",
    "\n",
    "Escreva um programa que pede a usuário quantos termos ele quer da sequência de Fibonacci ( essa sequência diz que a partir do segundo termo, o próximo sera a soma dos dois anteriores)"
   ]
  },
  {
   "cell_type": "code",
   "execution_count": 14,
   "id": "a709f33f",
   "metadata": {},
   "outputs": [
    {
     "name": "stdout",
     "output_type": "stream",
     "text": [
      "Quantos números da sequência deseja obter ? (>2)30\n",
      "[1, 1, 2, 3, 5, 8, 13, 21, 34, 55, 89, 144, 233, 377, 610, 987, 1597, 2584, 4181, 6765, 10946, 17711, 28657, 46368, 75025, 121393, 196418, 317811, 514229, 832040]\n"
     ]
    }
   ],
   "source": [
    "# Entrada que pedirá os dados e transformará em um objeto int\n",
    "\n",
    "x = eval(input(\"Quantos números da sequência deseja obter ? (>2)\"))\n",
    "\n",
    "# Os primeiros números da sequência estarão dentro de uma lista\n",
    "\n",
    "fibonacci = [1,1]\n",
    "\n",
    "# Usaremos o laço for para os termos\n",
    "\n",
    "for i in range(2,x):\n",
    "    #somaremos os dois termos da sequência que estão dentro da lista\n",
    "    soma = fibonacci[i-1]+fibonacci[i-2]\n",
    "    \n",
    "    #usando a função append para adicionar a nova soma na lista, ela irá se repetir \n",
    "    #para todos os termos dentro do range\n",
    "    \n",
    "    fibonacci.append(soma)\n",
    "    \n",
    "\n",
    "#print fora da identação pois dentro do laço for irá imprimir a cada laço, queremos apenas\n",
    "#ao fim do loop\n",
    "print(fibonacci)"
   ]
  },
  {
   "cell_type": "markdown",
   "id": "84ce9acb",
   "metadata": {},
   "source": [
    "## WHILE"
   ]
  },
  {
   "attachments": {
    "Slide2.jpg": {
     "image/jpeg": "[encoded data removed]"
    }
   },
   "cell_type": "markdown",
   "id": "d1bede89",
   "metadata": {},
   "source": [
    "A estrutura de repetição while (enquanto em português) irá repetir um bloco enquanto a condição for verdadeira, essa condição será uma expressão lógica, cada rodada as ações identadas sob o loop  são executadas repetidamentes até a condição ser falsa.\n",
    "\n",
    "![Slide2.jpg](attachment:Slide2.jpg)"
   ]
  },
  {
   "cell_type": "markdown",
   "id": "e8c2e4f4",
   "metadata": {},
   "source": [
    "### Exemplo\n",
    "\n",
    "Criar um programa que enquanto o usurário não colocar a senha correta ele mostre que a a senha está incorreta e não libere a entrada no sistema.\n"
   ]
  },
  {
   "cell_type": "code",
   "execution_count": 19,
   "id": "105853ee",
   "metadata": {},
   "outputs": [
    {
     "name": "stdout",
     "output_type": "stream",
     "text": [
      "Digite a senha:   1235\n",
      "Senha incorreta\n",
      "Digite a senha:   quantica123\n",
      "Sistema Liberado\n"
     ]
    }
   ],
   "source": [
    "senha = \"quantica123\"\n",
    "\n",
    "digito = \"\"\n",
    "\n",
    "while digito != senha:\n",
    "    digito = input(\"Digite a senha:   \")\n",
    "    if digito != senha:\n",
    "        print(\"Senha incorreta\")\n",
    "    \n",
    "    else:\n",
    "        break\n",
    "print(\"Sistema Liberado\")\n",
    "    \n",
    "\n"
   ]
  },
  {
   "cell_type": "markdown",
   "id": "ff3e3c3d-bf76-4407-a121-e8f074f1852a",
   "metadata": {},
   "source": [
    "# <span style=\"color:blue\">FUNÇÕES </span>\n",
    "\n",
    "Um programa pode conter milhares de linhas de códigos, onde as vezes é nescessário repetir alguns comandos apenas com parâmetros diferentes, visando evitar ficar reescrevendo os mesmos comandos várias vezes, usamos as funções, que são pequenos blocos de código onde pode ser utilizado em qualquer parte do programa, alterando apenas o parâmetro.\n",
    "\n",
    "### Declarando uma função\n",
    "\n",
    "É possivel utilizar qalquer nome para as funções, exceto nomes que a palavra é reservada em Python, e que os nomes devem seguir a regra de identificadores permitidos.\n",
    "\n",
    "Usamos o comando **def** para definir uma nova função, dentro dos parênteses, temos os parâmetros, que devem ser separados por vírgula.\n",
    "\n",
    "A função precisa de certas informações para que possa executar a tarefa designada. Essas informações (valores) são chamados de arumentos ou parâmetros, e são passados à função pelo usuário.\n",
    "\n",
    "Ao definir quais são os parâmetros que queremos dizemos que iremos \"chamar\" a função, que nada mais é do que substituir a variável pelo parâmetro definido pelo usuário e a função realizar a tarefa com esses novos parâmetros. Observe abaixo como fazemos:\n",
    "\n",
    "<span style=\"color:purple\">**def** nome(x,y,z):</span>\n",
    "\n",
    "para retornar o valor, basta apenas chamar o nome da função, e os valores dos parâmetros que deseja.\n",
    "\n",
    "<span style=\"color:purple\">nome(a,b,c) :</span>\n",
    "\n",
    "Essa \"chamada\" da função, são os argumentos (no exemplo acima os valores a,b e c) que irão substituir as variáveis (parâmetros) exatamente na ordem que são colocadas.\n",
    "\n"
   ]
  },
  {
   "cell_type": "code",
   "execution_count": 1,
   "id": "3fedd45b-6f97-4a7c-af74-e0c68d351558",
   "metadata": {},
   "outputs": [
    {
     "name": "stdout",
     "output_type": "stream",
     "text": [
      "37\n"
     ]
    }
   ],
   "source": [
    "#Vamos criar uma função que define se um número é maior que outro\n",
    "\n",
    "def maior(x,y):\n",
    "    if x>y:\n",
    "        print(x)\n",
    "    else:\n",
    "        print(y)\n",
    "        \n",
    "\n",
    "#Chamando a função:\n",
    "\n",
    "maior(15,37)"
   ]
  },
  {
   "cell_type": "code",
   "execution_count": 5,
   "id": "70b393e2",
   "metadata": {},
   "outputs": [
    {
     "data": {
      "text/plain": [
       "360.0"
      ]
     },
     "execution_count": 5,
     "metadata": {},
     "output_type": "execute_result"
    }
   ],
   "source": [
    "def calcular_pagamento(qtd_horas, valor_hora):\n",
    "  horas = float(qtd_horas)\n",
    "  taxa = float(valor_hora)\n",
    "  if horas <= 40:\n",
    "    salario=horas*taxa\n",
    "  else:\n",
    "    h_excd = horas - 40\n",
    "    salario = 40*taxa+(h_excd*(1.5*taxa))\n",
    "  return salario\n",
    "\n",
    "\n",
    "calcular_pagamento(30,12)"
   ]
  },
  {
   "cell_type": "markdown",
   "id": "12eb258d",
   "metadata": {},
   "source": [
    "# <span style=\"color:blue\">MÓDULOS E BIBLIOTECAS </span>\n",
    "\n",
    "Em Python, um módulo é um arquivo .py com instruções e definições em Python onde otimizamos a escrita de códigos sem precisar reinventar ou reescrever diversas vezes comandos que já são utilizados na linguagem de programação.\n",
    "\n",
    "Já uma biblioteca, será um conjunto de diversos módulos que geralmente são agrupados por área, por exemplo a biblioteca **math** irá compilar diversos módulos que realizará operações matemáticas fazendo com que apenas seja necessário chamar a função que deseja, sem necessáriamente ter de criar essa função.\n",
    "\n",
    "Acessamos as bibliotecas importando-as no nosso terminal, através do comando import, seguido da biblioteca que se deseja importar.\n",
    "\n",
    "Como no exemplo abaixo iremos importar a biblioteca math"
   ]
  },
  {
   "cell_type": "code",
   "execution_count": 10,
   "id": "d612f451",
   "metadata": {},
   "outputs": [
    {
     "name": "stdout",
     "output_type": "stream",
     "text": [
      "3.141592653589793\n"
     ]
    }
   ],
   "source": [
    "import math\n",
    "\n",
    "# Os objetos da biblioteca serão acessados por meio da notação de .\n",
    "# onde teremos o seguinte endereçamento:  módulo.objeto\n",
    "\n",
    "'''Aqui chamaremos o objeto π (número irracional pi) que já tem o seu\n",
    "valor definido dentro dessa biblioteca, o número de casas dependerá da\n",
    "precisão da máquina, mas não iremos nos ater a isso nesse momento.'''\n",
    "x = math.pi\n",
    "\n",
    "print(x)"
   ]
  },
  {
   "cell_type": "markdown",
   "id": "dee004fd",
   "metadata": {},
   "source": [
    "### Importando um módulo\n",
    "\n",
    "é possível também importar um único módulo da biblioteca, conforme o exemplo abaixo, da biblioteca **math** queremos apenas o módulo **sqrt** que nos dará a raiz quadradada."
   ]
  },
  {
   "cell_type": "code",
   "execution_count": 7,
   "id": "a123b894",
   "metadata": {},
   "outputs": [
    {
     "name": "stdout",
     "output_type": "stream",
     "text": [
      "5.0\n"
     ]
    }
   ],
   "source": [
    "from math import sqrt\n",
    "print(sqrt(25))"
   ]
  },
  {
   "cell_type": "markdown",
   "id": "88367045",
   "metadata": {},
   "source": [
    "### Importando toda a biblioteca\n",
    "\n",
    "para importar todas as funções de uma biblioteca utilizamos a seguinte sintaxe."
   ]
  },
  {
   "cell_type": "code",
   "execution_count": 8,
   "id": "9a375884",
   "metadata": {},
   "outputs": [],
   "source": [
    "from math import *"
   ]
  },
  {
   "cell_type": "markdown",
   "id": "1982c10c",
   "metadata": {},
   "source": [
    "### import item.subitem.subsubitem\n",
    "\n",
    "Em uma construção com vários subitens de um determidado módulo, cada item, com exceção do último, deve ser um pacote. O último pode ser também um pacote ou módulo, mas nunca uma classe, função ou variável contida em um módulo.\n",
    "\n"
   ]
  },
  {
   "cell_type": "markdown",
   "id": "c2e8e91f",
   "metadata": {},
   "source": [
    "### Renomeando uma biblioteca\n",
    "\n",
    "Para facilitar a escrita de um código, é possivel renomear uma biblioteca, e a partir de então utilizar a nova forma de escrita para chamar essa biblioteca."
   ]
  },
  {
   "cell_type": "code",
   "execution_count": 9,
   "id": "2037b55f",
   "metadata": {},
   "outputs": [
    {
     "data": {
      "image/png": "[encoded data removed]",
      "text/plain": [
       "<Figure size 432x288 with 1 Axes>"
      ]
     },
     "metadata": {
      "needs_background": "light"
     },
     "output_type": "display_data"
    }
   ],
   "source": [
    "import matplotlib.pyplot as plt\n",
    "\n",
    "#Observe que ao invés deu escrever matplotlib.pyplot, agora basta o plt\n",
    "\n",
    "\n",
    "plt.plot([1, 2, 3, 4])\n",
    "plt.ylabel('some numbers')\n",
    "plt.show()"
   ]
  },
  {
   "cell_type": "markdown",
   "id": "8f8f917c",
   "metadata": {},
   "source": [
    "# <span style=\"color:blue\">PRINCIPAIS BIBLIOTECAS </span>\n",
    "\n",
    "\n",
    "## Numpy\n",
    "\n",
    "Numeric Python, ou Numpy, é uma biblioteca utilizada para cálculos algébricos em Arrays Multidimensionais, fornecendo um conjunto de funções e operações de biblioteca que ajudam na parte de cálculos numéricos.\n",
    "\n",
    "A documentação da biblioteca pode ser acessada em:\n",
    "\n",
    "https://numpy.org/doc/stable/\n",
    "\n",
    "\n",
    "\n",
    "\n",
    "## Scipy\n",
    "\n",
    "Scientific Python, ou ScipyÉ uma biblioteca que pode ser usada para resolver problemas cientificos e matemáticos, construida como uma extensão do Numpy e permite o usuário manipular e visualizar arquivos com uma ampla variedades de comandos de alto nível, como interpolação, otimização, estatísticas, etc. Como é construida em numpy, importando o scipy não é necessário importar o numpy.\n",
    "\n",
    "A sua documentação pode ser acessada em:\n",
    "\n",
    "https://docs.scipy.org/doc/scipy/\n",
    "\n",
    "\n",
    "## Matplotlib\n",
    "\n",
    "É uma biblioteca que abrange diversos tipos de criação de visualizações estatísticas, animadas e interativas em python, permitindo personalizar layouts e estilos visuais, geração de gráficos, entre outros, sua documentação pode ser acessada em:\n",
    "\n",
    "https://matplotlib.org/stable/index.html\n",
    "\n",
    "## Simpy\n",
    "\n",
    "O simbolic python, ou simpy, é uma biblioteca de simulação de eventos discretos, Os processos em Simpy são definidos através de funções generator e podem, por exemplo, ser utilizadas para definir componentes como compradores, veículos ou agentes. Simpy também disponibiliza diversos tipos de recursos compartilhados para utilização de recursos propensos a congestionamento ( como servidores, caixas e túneis)\n",
    "As simulações podem ser realizadas de modo “mais rápido possível”, em tempo real (de acordo com o desenrolar do tempo) ou manualmente passo a passo por cada evento.\n",
    "\n",
    "A sua documentação pode ser acessada em:\n",
    "\n",
    "https://simpy.readthedocs.io/en/latest/contents.html\n",
    "\n",
    "## Networkx\n",
    "\n",
    "É uma biblioteca para a criação, manipulação e estudo da estrutura, dinâmica,funções de redes complexas e manipulação de grafos.\n",
    "A sua documentação pode ser acessada em:\n",
    "\n",
    "https://networkx.org/documentation/stable/tutorial.html\n",
    "\n",
    "## Pandas\n",
    "\n",
    "É uma biblioteca criada para manipulação e análise de dados, oferecendo estruturas e operações para maniupular tabelas numéricas e séries temporais, opera com matrizes ou qualquer outro conjunto de dados que não necessariamente precisem estar rotulados.\n",
    "A sua biblioteca pode ser acessada em:\n",
    "\n",
    "https://pandas.pydata.org/docs/\n",
    "\n"
   ]
  }
 ],
 "metadata": {
  "kernelspec": {
   "display_name": "Python 3 (ipykernel)",
   "language": "python",
   "name": "python3"
  },
  "language_info": {
   "codemirror_mode": {
    "name": "ipython",
    "version": 3
   },
   "file_extension": ".py",
   "mimetype": "text/x-python",
   "name": "python",
   "nbconvert_exporter": "python",
   "pygments_lexer": "ipython3",
   "version": "3.9.7"
  }
 },
 "nbformat": 4,
 "nbformat_minor": 5
}
