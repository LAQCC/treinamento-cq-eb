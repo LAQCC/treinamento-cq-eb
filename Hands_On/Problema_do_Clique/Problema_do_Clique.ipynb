{
 "cells": [
  {
   "cell_type": "code",
   "execution_count": null,
   "metadata": {},
   "outputs": [],
   "source": [
    "import matplotlib.pyplot as plt\n",
    "\n",
    "# pyqubo imports\n",
    "from pyqubo import Binary, Array\n",
    "\n",
    "#myqlm imports\n",
    "from qat.plugins import ScipyMinimizePlugin\n",
    "from qat.qpus import get_default_qpu\n",
    "from qat.core import Observable, Term\n",
    "\n",
    "import networkx as nx"
   ]
  },
  {
   "cell_type": "markdown",
   "metadata": {},
   "source": [
    "# Problema do K-Clique\n",
    "\n",
    "O Problema do K-Clique consiste em encontrar um subgrafo completo, $\\hat{G}$, composto por $K$ vértices (nós), em um dado grafo $G(V,E)$. Um grafo é completo quando todos os seus vértices nós interconectados. Na figura abaixo, podemos ver um grafo e seu respectivo clique de tamanho $K=4$.\n",
    "\n",
    "<img src=\"imagens/grafo_clique.png\" width=750 />\n",
    "\n"
   ]
  },
  {
   "cell_type": "markdown",
   "metadata": {},
   "source": [
    "É possível verificar que o conjunto dos vértices $|V_c| = \\{0,1,2,3\\} $ formam um clique de tamanho $K=4$, pois formam um grafo completo. "
   ]
  },
  {
   "cell_type": "markdown",
   "metadata": {},
   "source": [
    "### Exercício 1:\n",
    "\n",
    "Codifique o grafo da figura anterior e desenhe-o usando o framework `Networkx`."
   ]
  },
  {
   "cell_type": "code",
   "execution_count": null,
   "metadata": {},
   "outputs": [],
   "source": [
    "# Crie uma estrutura que codifique o grafo\n",
    "G = nx.Graph()\n",
    "\n",
    "# Crie uma lista com os indices de cada nó\n",
    "nodes = FIXME\n",
    "\n",
    "# Crie uma lista de tuplas com os nos vizinhos: g=[..., (ni,nj),...]\n",
    "e = FIXME\n",
    "\n",
    "G.add_nodes_from(nodes)\n",
    "G.add_edges_from(e)\n",
    "nx.draw_networkx(G, with_labels=True)\n",
    "print(G)"
   ]
  },
  {
   "cell_type": "markdown",
   "metadata": {},
   "source": [
    "### Exercício 2:\n",
    "\n",
    "Defina os parâmetros do problema. Note que queremos encontrar um clique de tamanho $K=4$ no grafo dado como exemplo."
   ]
  },
  {
   "cell_type": "code",
   "execution_count": null,
   "metadata": {},
   "outputs": [],
   "source": [
    "# Defina o tamanho do clique\n",
    "K = FIXME\n",
    "\n",
    "# Numero de nos do grafo\n",
    "num_nodes = FIXME\n",
    "\n",
    "print(f\"Tamanho do Clique: {K}\\nNúmero de nós: {num_nodes}\")\n"
   ]
  },
  {
   "cell_type": "markdown",
   "metadata": {},
   "source": [
    "## Formulação como Otimização Irrestrita\n",
    "\n",
    "O problema do K-clique pode ser formulado como uma função de otimização com variáveis binárias, $x_i \\in \\{0,1\\}$. Se $x_i = 1$, indica que o vértice de índice $i$ faz parte do clique. A solução do exemplo com o grafo apresentado anteriormente é dada por $\\vec{x} = 11110$, visto que apenas o vértice $4$ não faz parte do clique.\n",
    "\n",
    "Existem dois termos de penalidades necessários para escrever o Problema do Clique como Otimização Irrestrita. Um dos termos está relacionado ao fato de que o número de vértices no estado $x_i = 1$ deve ser igual a $K$. Ele é representado por\n",
    "\n",
    "$$ H_a = \\left(K - \\sum_{i=0}^{N}x_i\\right)^2. $$\n",
    "\n",
    "Quanto maior a diferença entre $K$ e o número de vértices em estado $1$, maior será a penalidade na função objetivo. O valor de $H_a$ será $0$ (mínimo) quando o critério for atendido.\n",
    "\n",
    "Essa condição, no entanto, não é suficiente para garantir que o clique seja encontrado. Para isso é preciso considerar outros aspectos do clique, como a quantidade de arestas. Essa quantidade é dada por\n",
    "\n",
    "$$E = \\frac{K(K-1)}{2}.$$\n",
    "\n",
    "Logo, é necessário um novo termo na função objetivo, cujo papel desempenhado é o de penalizar a função caso o número de arestas do subgrafo que conectam os nós de estado $x_i = 1$ seja diferente de $E$. A quantidade de arestas do clique deve ser igual a $E$, portanto o termo de penalidade é\n",
    "\n",
    "$$H_b = E - \\sum_{<ij>}x_ix_j$$\n",
    "\n",
    "onde $<ij>$ representa os índices apenas dos vértices conectados entre si.\n",
    "\n",
    "Juntos dos termos são definidas as variáveis de penalidade dadas por $A$ e $B$, que são números inteiros usados para controlar a função objetivo e garantir que as restrições serão atendidas. Sendo assim, a função objetivo final é dada por \n",
    "\n",
    "$$H = A\\left(K - \\sum_{i=0}^{N}x_i\\right)^2 + B\\left( C - \\sum_{<ij>}x_ix_j\\right).$$\n",
    "\n",
    "Neste problema, devemos considerar as constantes de penalidade satisfaznedo $A > B$.\n"
   ]
  },
  {
   "cell_type": "markdown",
   "metadata": {},
   "source": [
    "### QLM Problem Generator\n",
    "\n",
    "myQLM fornece geradores de batch usados para gerar um quantum job (usado para resolver um problema combinatório) e analisar o resultado para retornar uma estrutura de dados legível.\n",
    "\n",
    "Esses geradores em batch podem gerar diferentes tipos de jobs, para serem compatíveis com diferentes tipos de QPUs. Os diferentes tipos de job são:\n",
    "\n",
    "  - QAOA jobs\n",
    "  - Annealing Jobs\n",
    "  - Analog Jobs\n",
    "\n",
    "Por questões didáticas, focaremos nesse Hands-on nos QAOA jobs"
   ]
  },
  {
   "cell_type": "markdown",
   "metadata": {},
   "source": [
    "O `KCliqueGenerator` pode ser usado para gerar batchs para resolver o problema K-Clique em um gráfico de entrada.\n",
    "\n",
    "Para isso gera-se uma stack do problema composta por:\n",
    "\n",
    "$$\\text{Gerador}\\>|\\>\\text{Optimizer}\\>|\\>\\text{QPU}$$"
   ]
  },
  {
   "cell_type": "code",
   "execution_count": null,
   "metadata": {},
   "outputs": [],
   "source": [
    "from qat.generators import KCliqueGenerator\n",
    "\n",
    "scipy_args = dict(method=\"COBYLA\", tol=1e-5, options={\"maxiter\": 200})\n",
    "kclique_application = KCliqueGenerator(job_type=\"qaoa\") | (ScipyMinimizePlugin(**scipy_args) | get_default_qpu())"
   ]
  },
  {
   "cell_type": "markdown",
   "metadata": {},
   "source": [
    "Com a aplicação criada, chama-se o método `execute` passando os parâmetros necessários para a resolução do problema.\n",
    "\n",
    "### Exercício 3:\n",
    "\n",
    "Escreva as variáveis de penalidade para os termos $H_a$ e $H_b$ do Hamiltoniano do problema."
   ]
  },
  {
   "cell_type": "code",
   "execution_count": null,
   "metadata": {},
   "outputs": [],
   "source": [
    "# Penalidades para Ha e Hb\n",
    "A = FIXME\n",
    "B = FIXME\n",
    "print(f\"Constantes de penalidade: {A} e {B}.\")\n",
    "\n",
    "\n",
    "combinatorial_result = kclique_application.execute(G, K, A, B)"
   ]
  },
  {
   "cell_type": "markdown",
   "metadata": {},
   "source": [
    "O objeto retornado pelo `execute` é um tipo específico de `Result` que contém tanto a solução do problema quanto a energia mínima do Hamiltoniano."
   ]
  },
  {
   "cell_type": "code",
   "execution_count": null,
   "metadata": {},
   "outputs": [],
   "source": [
    "print(\"The nodes of the complete subgraph are\", combinatorial_result.clique)\n",
    "print(combinatorial_result.cost)\n",
    "combinatorial_result.display()"
   ]
  },
  {
   "cell_type": "markdown",
   "metadata": {},
   "source": [
    "# Problema do Max Cut\n",
    "\n",
    "Para um grafo, um corte máximo é um corte cujo tamanho é de pelo menos o tamanho de qualquer outro corte. O problema de encontrar um corte máximo em um grafo é conhecido como Problema do Corte-Máximo (Max-Cut).\n",
    "\n",
    "O problema pode ser descrito simplesmente como segue. Deseja-se um subconjunto S do conjunto de vértices tal que o número de arestas entre S e o subconjunto complementar é tão grande quanto possível.\n",
    "\n",
    "![MaxCut](https://upload.wikimedia.org/wikipedia/commons/thumb/c/cf/Max-cut.svg/200px-Max-cut.svg.png)"
   ]
  },
  {
   "cell_type": "markdown",
   "metadata": {},
   "source": [
    "### Exercício 4\n",
    "\n",
    "Crie um grafo que será usado para o Max Cut"
   ]
  },
  {
   "cell_type": "code",
   "execution_count": null,
   "metadata": {},
   "outputs": [],
   "source": [
    "graph = nx.full_rary_tree(FIXME, FIXME)\n",
    "nx.draw_networkx(graph)"
   ]
  },
  {
   "cell_type": "code",
   "execution_count": null,
   "metadata": {},
   "outputs": [],
   "source": [
    "from qat.generators import MaxCutGenerator\n",
    "\n",
    "scipy_args = dict(method=\"COBYLA\", tol=1e-5, options={\"maxiter\": 200})\n",
    "max_cut_application = MaxCutGenerator(job_type=\"qaoa\") | (ScipyMinimizePlugin(**scipy_args) | get_default_qpu())"
   ]
  },
  {
   "cell_type": "code",
   "execution_count": null,
   "metadata": {},
   "outputs": [],
   "source": [
    "combinatorial_result = max_cut_application.execute(graph)\n",
    "print(\"The nodes in the first subgraph are\", combinatorial_result.subsets[0])\n",
    "print(\"The nodes in the second subgraph are\", combinatorial_result.subsets[1])\n",
    "# The cost here is negative since all combinatorial optimization problems are defined as a minimization problem, so a factor of -1 is needed\n",
    "print(\"The number of edges that are cut is\", -1 * combinatorial_result.cost)"
   ]
  },
  {
   "cell_type": "code",
   "execution_count": null,
   "metadata": {},
   "outputs": [],
   "source": [
    "combinatorial_result.display()"
   ]
  },
  {
   "cell_type": "markdown",
   "metadata": {},
   "source": [
    "Atualmente QLM só possui disponível os ```Problem Generators``` dos problemas abaixo:\n",
    "\n",
    " - Max Cut\n",
    " - Vertex Cover\n",
    " - Graph Partitioning\n",
    " - Graph Colouring\n",
    " - K-clique"
   ]
  }
 ],
 "metadata": {
  "kernelspec": {
   "display_name": "Python 3.9.12 ('base')",
   "language": "python",
   "name": "python3"
  },
  "language_info": {
   "codemirror_mode": {
    "name": "ipython",
    "version": 3
   },
   "file_extension": ".py",
   "mimetype": "text/x-python",
   "name": "python",
   "nbconvert_exporter": "python",
   "pygments_lexer": "ipython3",
   "version": "3.9.17"
  },
  "orig_nbformat": 4,
  "vscode": {
   "interpreter": {
    "hash": "4fed6fc55d4ae3f7785493b66026376f3bc14b86eb26260f45711c87f1ac3e26"
   }
  }
 },
 "nbformat": 4,
 "nbformat_minor": 2
}
