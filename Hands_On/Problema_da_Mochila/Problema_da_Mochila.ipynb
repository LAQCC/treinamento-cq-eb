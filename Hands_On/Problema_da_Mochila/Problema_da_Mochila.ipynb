{
 "cells": [
  {
   "cell_type": "code",
   "execution_count": null,
   "metadata": {},
   "outputs": [],
   "source": [
    "from qat.lang.AQASM import Program, QRoutine, H, CNOT, RX, RY, RZ, X, Z\n",
    "from qat.qpus import get_default_qpu\n",
    "from qat.core import Observable, Term\n",
    "from qat.plugins import ObservableSplitter, ScipyMinimizePlugin\n",
    "\n",
    "import numpy as np\n",
    "import random\n",
    "# pyqubo imports\n",
    "from pyqubo import Binary, Spin, Array\n",
    "from pprint import pprint\n",
    "import matplotlib.pyplot as plt"
   ]
  },
  {
   "cell_type": "markdown",
   "metadata": {},
   "source": [
    "# Hands-on: Problema da Mochila no VQE"
   ]
  },
  {
   "cell_type": "markdown",
   "metadata": {},
   "source": [
    "## Descrição do problema\n",
    "\n",
    "Imagine que voce tem uma mochila com capacidade $W$ (peso total) e barras de ouro de diversos pesos, $w_i$. Você quer colocar o máximo de ouro dentro da mochila, sem que sua capacidade seja ultrapassada. Quais barras de ouro colocar de forma a maximizar a quantidade de ouro dentro da mochila? Esta é uma versão simplificada do problema. Este exemplo pode ser generalizado para várias mochilas e objetos com valores e pesos diferentes.\n",
    "\n",
    "<img src=\"imagens/mochila.jpeg\" width=750 />\n",
    "\n",
    "## Formulação como otimização irrestrita\n",
    "\n",
    "Como queremos maximizar a quantidade de ouro dentro da mochila, podemos criar uma função objetivo de minimização da seguinte forma\n",
    "\n",
    "$$H(\\vec{x}) = \\left(W - \\sum_{i=0}^{n}w_ix_i\\right)^2$$\n",
    "onde $x_i=1$ se a barra de ouro $i$ está dentro da mochila e $x_i=0$ caso contrário. \n",
    "\n",
    "\n",
    "\n"
   ]
  },
  {
   "cell_type": "markdown",
   "metadata": {},
   "source": [
    "## Hands-on\n",
    "\n",
    "Vamos fazer um exemplo simples, com poucas variáveis. Imagine que você possui 3 Barras: Barra 1 - `5kg`; Barra 2 - `3kg`; e Barra 3 - `1kg`. No entando, sua mochila tem a capacidade de apenas `6kg`. Qual é a melhor combinação de barras a se guardar na mochila de forma a minimizar a sobra? Use o VQE para solucionar o problema."
   ]
  },
  {
   "cell_type": "code",
   "execution_count": null,
   "metadata": {},
   "outputs": [],
   "source": [
    "num_variables = 3\n",
    "variables = Array.create('x', shape=num_variables, vartype='BINARY')\n",
    "weights = [5,3,1]"
   ]
  },
  {
   "cell_type": "markdown",
   "metadata": {},
   "source": [
    "### Exercício 1\n",
    "\n",
    "Crie a função objetivo do problema usando o `Pyqubo`."
   ]
  },
  {
   "cell_type": "code",
   "execution_count": null,
   "metadata": {},
   "outputs": [],
   "source": [
    "H = None\n",
    "\n",
    "H"
   ]
  },
  {
   "cell_type": "markdown",
   "metadata": {},
   "source": [
    "### Converção para modelo de Ising"
   ]
  },
  {
   "cell_type": "code",
   "execution_count": null,
   "metadata": {},
   "outputs": [],
   "source": [
    "# -----------------------------------\n",
    "# Transformando de Binary para Ising\n",
    "# -----------------------------------\n",
    "\n",
    "model = H.compile()\n",
    "model = model.to_ising()\n",
    "linear, quadratic = model[0], model[1]\n",
    "\n",
    "print(\"Termos lineares do modelo de Ising\", linear)\n",
    "print(\"Termos quadráticos do modelo de Ising\", quadratic)"
   ]
  },
  {
   "cell_type": "markdown",
   "metadata": {},
   "source": [
    "### Exercício 2\n",
    "\n",
    "Escreva o modelo de Ising em termos de operadores de Pauli-Z. Crie um dicionário para armazenar cada termo da seguinte forma:\n",
    "\n",
    "Exemplo: `hamiltonian = {\"ZIZ\": 4, ...}` onde as chaves são strings com operadores de Pauli-Z e Identidade e os respectivos valores são seus coeficientes."
   ]
  },
  {
   "cell_type": "markdown",
   "metadata": {},
   "source": [
    "Para resolvermos o nosso problema usando o myQLM criaremos um observável usando o Hamiltoniano de Ising criado acima."
   ]
  },
  {
   "cell_type": "code",
   "execution_count": null,
   "metadata": {},
   "outputs": [],
   "source": [
    "single_values = {}\n",
    "multiple_values = {}\n",
    "for k,v in linear.items():\n",
    "    single_values[int(k[2])] = v\n",
    "for k, v in quadratic.items():\n",
    "    multiple_values[(int(k[0][2]), int(k[1][2]))] = v\n",
    "\n",
    "num_qubits = len(variables)\n",
    "hamiltonian = Observable(num_qubits\n",
    "                           , pauli_terms=\n",
    "                           [Term(single_values[x], \"Z\", [x]) for x in single_values]+\n",
    "                           [Term(multiple_values[x], \"ZZ\", [x[0],x[1]]) for x in multiple_values]\n",
    "                           )\n",
    "\n",
    "print(hamiltonian)"
   ]
  },
  {
   "cell_type": "markdown",
   "metadata": {},
   "source": [
    "### Ansatz\n",
    "\n",
    "O ansatz é um circuito quântico parametrizado. Sua forma variacional pode ser dada por padrões heurísticos geralmente implementada através de operadores de rotação e portas CNOT para realizar emaranhamento entre os qubits. Uma forma variacional eficiente é aquela capaz de generalizar bem um estado quântico, aumentando o espaço de busca. Podemos escrever a atuação do circuito variacional, $U(\\vec{\\theta})$, sobre um sistema com $n$ qubits de estado inicial, $|0\\rangle^{\\otimes n}$, como\n",
    "\n",
    "$$U(\\vec{\\theta})|0\\rangle^{\\otimes n} = |\\psi(\\vec{\\theta})\\rangle$$"
   ]
  },
  {
   "cell_type": "markdown",
   "metadata": {},
   "source": [
    "Agora, realizaremos o mesmo processo do exemplo anterios, mas agora não estaremos interessados em ter um número como solução, e sim um vetor, o $\\vec{z}$. Embora minimizaremos o valor esperado de um operador, estaremos interessados no autoestado com maior probabilidade, associado ao menor valor esperado."
   ]
  },
  {
   "cell_type": "markdown",
   "metadata": {},
   "source": [
    "### Exercício 3\n",
    "\n",
    "Aplique as operações no ansatz e defina, no lugar do `FIXME`, o numero de parametros variacionais que voce usou."
   ]
  },
  {
   "cell_type": "code",
   "execution_count": null,
   "metadata": {},
   "outputs": [],
   "source": [
    "def ansatz(num_qubits, var_params):\n",
    "\n",
    "    routine = QRoutine()\n",
    "    wires = routine.new_wires(num_qubits)\n",
    "\n",
    "    # Escreva seu código aqui\n",
    "    \n",
    "    return routine\n",
    "\n",
    "num_params = 2*num_variables\n",
    "circuit = ansatz(num_variables, [i for i in range(num_params)])\n",
    "circuit.display()"
   ]
  },
  {
   "cell_type": "code",
   "execution_count": null,
   "metadata": {},
   "outputs": [],
   "source": [
    "qprog = Program()\n",
    "qbits = qprog.qalloc(num_variables)\n",
    "\n",
    "num_layers = 3\n",
    "num_params = 2*num_variables\n",
    "params  = [[qprog.new_var(float, '\\\\param%s'%i) for i in range(num_params)] for j in range(num_layers)]\n",
    "\n",
    "for i in range(num_layers):\n",
    "    qprog.apply(ansatz(num_variables, params[i]), qbits)\n"
   ]
  },
  {
   "cell_type": "markdown",
   "metadata": {},
   "source": [
    "### Visualização do Circuito"
   ]
  },
  {
   "cell_type": "code",
   "execution_count": null,
   "metadata": {},
   "outputs": [],
   "source": [
    "circuit = qprog.to_circ()\n",
    "print(\"total number of gates: \", len(circuit.ops))\n",
    "print(\"Variables:\", circuit.get_variables())\n",
    "# Display quantum circuit\n",
    "%qatdisplay circuit --svg"
   ]
  },
  {
   "cell_type": "markdown",
   "metadata": {},
   "source": [
    "## Valor esperado do operador hamiltoniano\n",
    "\n",
    "O valor esperado pode ser dado pelo valor médio das energias. O valor esperado é a função a ser minimizada e pode ser dado por\n",
    "\n",
    "$$\\langle \\psi_\\theta | H | \\psi_\\theta \\rangle = \\sum_{i} E_ip_i$$\n",
    "\n",
    "### Exercício 4\n"
   ]
  },
  {
   "cell_type": "code",
   "execution_count": null,
   "metadata": {},
   "outputs": [],
   "source": [
    "# Create a job\n",
    "job = circuit.to_job(observable=hamiltonian)\n",
    "\n",
    "result_list = []\n",
    "# Escolha um número de iterações adequado\n",
    "num_iterations = FIXME\n",
    "for _ in range(num_iterations):\n",
    "    # Inicialize os parâmetros iniciais\n",
    "    initial_parameters = FIXME\n",
    "    cobyla = ScipyMinimizePlugin(tol=1e-6,\n",
    "                                method=\"COBYLA\",\n",
    "                                options={\"maxiter\": 300},\n",
    "                                x0=initial_parameters)\n",
    "    # Create a Quantum Processor Unit\n",
    "    qpu = get_default_qpu()\n",
    "\n",
    "    stack =  cobyla | qpu\n",
    "\n",
    "    # Submit the job to the QPU\n",
    "    result_list.append(stack.submit(job))"
   ]
  },
  {
   "cell_type": "markdown",
   "metadata": {},
   "source": [
    "#### Análise dos Resultados"
   ]
  },
  {
   "cell_type": "code",
   "execution_count": null,
   "metadata": {},
   "outputs": [],
   "source": [
    "for i, r in enumerate(result_list):\n",
    "    print(\"Run\", i, \", Final energy:\", r.value)\n",
    "    #Binding the variables:random.uniform(0, 2*np.pi)\n",
    "    sol_job = job(**eval(r.meta_data[\"parameter_map\"]))\n",
    "\n",
    "    #Rerunning in 'SAMPLE' mode to get the most probable states:\n",
    "    sampling_job = sol_job.circuit.to_job()\n",
    "\n",
    "    sol_res = qpu.submit(sampling_job)\n",
    "    print(\"Most probable states are:\")\n",
    "    for sample in sol_res:\n",
    "        if sample.probability > 0.05:\n",
    "            print(sample.state, \"{:.2f}%\".format(100 * sample.probability))"
   ]
  },
  {
   "cell_type": "code",
   "execution_count": null,
   "metadata": {},
   "outputs": [],
   "source": [
    "# Escolhendo o resultado com o menor valor esperado\n",
    "result = min(result_list, key=lambda s: s.value)\n",
    "print(\"Final energy:\", result.value)\n",
    "for key, value in result.meta_data.items():\n",
    "    print(key, \":\", value)"
   ]
  },
  {
   "cell_type": "code",
   "execution_count": null,
   "metadata": {},
   "outputs": [],
   "source": [
    "plt.plot(eval(result.meta_data[\"optimization_trace\"]))\n",
    "plt.xlabel(\"steps\")\n",
    "plt.ylabel(\"energy\")\n",
    "plt.show()"
   ]
  },
  {
   "cell_type": "markdown",
   "metadata": {},
   "source": [
    "### Exercicio 5\n",
    "\n",
    "Pegue os melhores parametros encontrados na minimização do valor esperado e aplique-os no ansatz. Este circuito será o circuito \"ótimo\" e medidas neste circuito nos dará informações sobre as melhores soluções."
   ]
  },
  {
   "cell_type": "code",
   "execution_count": null,
   "metadata": {},
   "outputs": [],
   "source": [
    "# Emulating a reasonable setup:\n",
    "# Drawing 2048 cuts\n",
    "sol_job = job(**eval(result.meta_data[\"parameter_map\"]))\n",
    "sampling_job = sol_job.circuit.to_job(nbshots=2048)\n",
    "sol_res = qpu.submit(sampling_job)\n",
    "\n",
    "max_state = max([(s.state.value[0], s.probability) for s in sol_res], key=lambda s: s[1])\n",
    "print(\"State with highest probability:\"\n",
    "      , max_state[0]\n",
    "      , \"%.2f%%\" % (100 * max_state[1]) )\n",
    "\n"
   ]
  },
  {
   "cell_type": "markdown",
   "metadata": {},
   "source": [
    "O autoestado com maior ocorrência indica a solução ótima."
   ]
  }
 ],
 "metadata": {
  "kernelspec": {
   "display_name": "Python 3.9.7 ('base')",
   "language": "python",
   "name": "python3"
  },
  "language_info": {
   "codemirror_mode": {
    "name": "ipython",
    "version": 3
   },
   "file_extension": ".py",
   "mimetype": "text/x-python",
   "name": "python",
   "nbconvert_exporter": "python",
   "pygments_lexer": "ipython3",
   "version": "3.9.17"
  },
  "orig_nbformat": 4,
  "vscode": {
   "interpreter": {
    "hash": "445da9f97fff3e9607fce724e9f5124fca1a39a333bfa2bf5db6a7377ace2fc6"
   }
  }
 },
 "nbformat": 4,
 "nbformat_minor": 2
}
