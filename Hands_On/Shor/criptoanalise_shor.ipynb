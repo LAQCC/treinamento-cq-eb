{
 "cells": [
  {
   "cell_type": "code",
   "execution_count": null,
   "metadata": {},
   "outputs": [],
   "source": [
    "import numpy as np\n",
    "from qat.lang import qrout, H, CNOT, X\n",
    "from qat.lang.AQASM import Program\n",
    "from qat.lang.AQASM.qftarith import QFT\n",
    "from qat.qpus import get_default_qpu"
   ]
  },
  {
   "cell_type": "markdown",
   "metadata": {},
   "source": [
    "# Criptoanálise contra Criptografia Assimétrica\n",
    "\n",
    "Criptografia Assimétrica é o nome dado ao esquema criptográfico que envolve duas\n",
    "chaves, comumente chamadas de chave pública e chave privada.  Nesse esquema\n",
    "criptográfico, todo dado encriptado por uma das chaves só pode ser decifrado com\n",
    "o uso da chave complementar.\n",
    "\n",
    "Esse tipo de criptografia é amplamente usado em comunicações pela internet.\n",
    "Nesse caso, o usuário irá gerar um par de chaves, das quais uma ele irá publicar\n",
    "(broadcast) e a outra ele irá manter em sigilo, daí os nomes chave pública e\n",
    "chave privada. Qualquer pessoa que deseja se comunicar com esse usuário poderá\n",
    "encriptar sua mensagem usando a chave pública disponível e terá a garantia que\n",
    "apenas o usuário poderá ler a mensagem. \n",
    "\n",
    "Um criptossistema de chave pública é definido por uma quíntupla ($\\mathcal{P}, \\mathcal{C}, \\mathcal{K}, \\mathcal{E}, \\mathcal{D}$), onde as sete condições a seguir são satisfeitas:\n",
    "\n",
    " 1. $\\mathcal{P}$ é um conjunto finito de *textos simples* possíveis.\n",
    " 2. $\\mathcal{C}$ é um conjunto finito de *textos cifrados* possíveis.\n",
    " 3. $\\mathcal{K}$ é um conjunto finito de chaves possíveis. $\\mathcal{K}$ é chamado de *espaço de chave* (*keyspace*).\n",
    " 4. Para cada chave no keyspace $K \\in \\mathcal{K}$, existe uma regra de criptografia $enc_K \\in \\mathcal{E}$ e uma regra de descriptografia correspondente $dec_K \\in \\mathcal{D}$. Cada $enc_K : \\mathcal{P} \\rightarrow \\mathcal{C}$ e $dec_K : \\mathcal{C} \\rightarrow \\mathcal{P}$ são funções tais que $dec_K (enc_K (m)) = m$ para todo texto simples $m \\in \\mathcal{P}$.\n",
    " 5. Para cada chave $K \\in \\mathcal{K}$ e cada texto simples $m \\in \\mathcal{P}$, tanto $enc_K (m)$ quanto $dec_K (enc_K (m))$ são fáceis de calcular.\n",
    " 6. Para quase todas as chaves $K \\in \\mathcal{K}$, cada algoritmo facilmente computável equivalente a $dec_K$ é computacionalmente inviável para derivar de $enc_K$. Ou seja, é difícil descriptografar sem $dec_K$.\n",
    " 7. A regra de criptografia $enc_K$ é tornada pública e a regra de descriptografia $dec_K$\n",
    " é mantido em sigilo.\n"
   ]
  },
  {
   "cell_type": "markdown",
   "metadata": {},
   "source": [
    "## Algoritmo de Shor vs RSA\n",
    "\n",
    "O criptossistema RSA, em homenagem aos seus inventores Ron Rivest, Adi Shamir e\n",
    "Leonard Adleman, é o criptossistema de chave pública mais conhecido e usado no\n",
    "mundo atualmente.\n",
    "\n",
    "Por exemplo, como um dos sistemas criptográficos de chave pública usados no\n",
    "protocolo Transport Layer Security (TLS) e seu antecessor, o protocolo Secure\n",
    "Sockets Layer (SSL), o sistema criptográfico RSA é usado milhões de vezes por\n",
    "dia na Internet. Essencialmente, o RSA é usado para transmitir uma chave de\n",
    "sessão para um sistema criptográfico simétrico que é então usado para garantir a\n",
    "segurança de uma comunicação.\n"
   ]
  },
  {
   "cell_type": "markdown",
   "metadata": {},
   "source": [
    "### Algoritmo RSA\n",
    "\n",
    "Seja $N = pq$ o produto de dois números primos $p$ e $q$, e definindo\n",
    "$\\mathcal{P} = \\mathcal{C} = \\mathbb{Z}_N$ (conjunto dos inteiros módulo $N$) e o espaço de chaves como\n",
    "\n",
    "$$\\mathcal{K} = \\{ (N,p,q,e,d) \\>:\\> ed \\equiv 1 (\\mod{\\phi(N)}) \\},$$\n",
    "\n",
    "onde $\\phi(N) = (p-1)(q-1)$ é a função Totiente de Euler. Para cada chave $K \\in \\mathcal{K}$, dada por $K = (N,p,q,e,d)$, a regra de criptografia $enc_K\\>:\\>\\mathbb{Z}_N \\rightarrow \\mathbb{Z}_N$ é definida por\n",
    "\n",
    "$$enc_K(x) = x^e \\mod{N},$$ \n",
    "\n",
    "e a regra de descriptografia $dec_K\\>:\\>\\mathbb{Z}_N \\rightarrow \\mathbb{Z}_N$ é definida por\n",
    "\n",
    "$$dec_K(y) = y^d \\mod{N}$$\n",
    "\n",
    "para todo $x,y \\in \\mathbb{Z}$. o par $(e,N)$ é a chave pública do RSA e a tripla $(d,p,q)$ é a chave privada do RSA.\n",
    "\n",
    "Já que os expoentes público e privado $e,d$ devem satisfazer a relação\n",
    "\n",
    "$$ed \\equiv 1 (\\mod(\\phi(N))),$$\n",
    "\n",
    "por consequência\n",
    "\n",
    "$$ed = 1 + k\\phi(N)$$\n",
    "\n",
    "Tendo acesso à chave pública $(e, N)$ e fatorando $N$ em seus componentes $p$ e $q$ é possível recalcular o expoente privado $d$ e obter a chave privada $(d,p,q)$ a partir dessa relação."
   ]
  },
  {
   "cell_type": "code",
   "execution_count": null,
   "metadata": {},
   "outputs": [],
   "source": [
    "# Implementação em Python do algoritmo RSA. Por demonstração, os valores usados\n",
    "# abaixo estão muito abaixo dos usados em prática\n",
    "\n",
    "# Escolha do Par de Números Primos \n",
    "p = 3\n",
    "q = 5\n",
    "N = p*q\n",
    "\n",
    "### Geração da Chave Pública\n",
    "e = 2\n",
    "phi = (p-1)*(q-1)\n",
    "while (e < phi):\n",
    "    # e precisa ser co-primo e inferior a phi\n",
    "    if(np.gcd(e, phi) == 1):\n",
    "        break\n",
    "    else:\n",
    "        e = e+1\n",
    " \n",
    "### Geração da Chave Privada\n",
    "# Escolha de um valor que satisfaça d*e = 1 + k * phi\n",
    "k = 2\n",
    "d = (1 + (k*phi))/e\n",
    "\n",
    "public_key = (e, N)\n",
    "private_key = (p,q,k)\n",
    "\n",
    "print(\"A chave pública é:\", public_key)\n",
    "print(\"A chave privada é:\", private_key)\n",
    "\n",
    "# Mensagem a ser encriptada\n",
    "plaintext = 2.0\n",
    "print(\"Message data = \", plaintext)\n",
    " \n",
    "# Encryption c = (msg ^ e) % n\n",
    "ciphertext = np.power(plaintext, e)\n",
    "ciphertext = np.fmod(ciphertext, N)\n",
    "print(\"Encrypted data = \", ciphertext)\n",
    " \n",
    "# Decryption m = (c ^ d) % n\n",
    "message = np.power(ciphertext, d)\n",
    "message = np.fmod(message, N)\n",
    "print(\"Original Message Sent = \", message)"
   ]
  },
  {
   "cell_type": "markdown",
   "metadata": {},
   "source": [
    "### Algoritmo de Shor parte 1: Circuito Quântico\n",
    "\n",
    "O Algoritmo de Shor pode ser utilizado para encontrar fatores de um número\n",
    "inteiro, $N$, sendo $N = pq$ onde $p$ e $q$ são números primos. \n",
    "\n",
    "O algoritmo usa dois registradores, o primeiro registrador tem $n = \\lceil\n",
    "\\log_2 N^2 \\rceil = \\lceil 2 \\log_2 N \\rceil$ qubits e possui os qubits de\n",
    "medição. O segundo registrador tem $m = \\lceil \\log_2 N \\rceil$ qubits, e é o\n",
    "autoestado para a estimativa da fase quântica. O processo ocorre em quatro\n",
    "etapas principais, semelhantes à implementação da estimativa de fase quântica. \n",
    "\n",
    "1. Inicialização dos qubits. Cria-se uma superposição de todos os $2^n$ estados\n",
    "da base computacional nos $n$ qubits do primeiro registrador, aplicando uma\n",
    "porta Hadamard ($H$) em cada qubit. Também inicializamos os  $m$ qubits do\n",
    "segundo registrador  no estado $\\vert1\\rangle=\\ket{00\\ldots1}$. \n",
    "\n",
    "2. Aplicação do operador unitário $U_a|x\\rangle = |ax \\mod N\\rangle $, que\n",
    "realiza a exponenciação modular no segundo registrador. Esse operador é\n",
    "controlado por cada um dos qubits do primeiro registrador. O esquema abaixo\n",
    "mostra a ordenação e as respectivas potências.\n",
    "\n",
    "<p align=\"center\">\n",
    "<img src=\"imagens/shorimage.png\" width=500 align=center/>\n",
    "</p>\n",
    "\n",
    "3. Aplicação da transformada de Fourier quântica inversa nos qubits do primeiro\n",
    "registrador.\n",
    "\n",
    "4. Medida dos qubits do primeiro registrador, colapsando para o estado\n",
    "$|l\\rangle$ .\n"
   ]
  },
  {
   "cell_type": "markdown",
   "metadata": {},
   "source": [
    "## Exercício hands-on\n",
    "\n",
    "Substitua os `FIXME`s pelas respostas corretas."
   ]
  },
  {
   "cell_type": "markdown",
   "metadata": {},
   "source": [
    "### Defina o número de qubits em cada registrador\n",
    "\n",
    "Leia a descrição do Algoritmo de Shor para obter a resposta para o valor de cada\n",
    "registrador, sendo $n$ o número de qubits no primeiro registrador e $m$ o do\n",
    "segundo.\n",
    "\n",
    "Para o número $15$, podemos usar $n=m=\\lceil \\log_2 N \\rceil$, visto que a ordem é sempre uma potência\n",
    "de $2$."
   ]
  },
  {
   "cell_type": "code",
   "execution_count": null,
   "metadata": {},
   "outputs": [],
   "source": [
    "print(f\"Número a ser fatorado {N}\")\n",
    "\n",
    "# numero de qubits no primeiro registrador.\n",
    "n = FIXME\n",
    "\n",
    "# numero de qubits no segundo registrador.\n",
    "m = FIXME\n",
    "\n",
    "# numero total de qubits\n",
    "num_qubits = n+m\n",
    "\n",
    "print(f\"{n} qubits no registrador de medida\")\n",
    "print(f\"{m} qubits no segundo registrador\")"
   ]
  },
  {
   "cell_type": "markdown",
   "metadata": {},
   "source": [
    "\n",
    "#### Encontre possíveis valores de $a$\n",
    "\n",
    "Esse valor será usado para calcular a exponenciação modular $a^r\\mod15$. Note que ele deve ser coprimo com $N$, ou seja, $MDC(a,N)=1$, e deve ser menor que $N$.\n",
    "\n",
    "Dica: Use np.gcd() para calcular o MDC de $a$ e $n$\n",
    "\n",
    "Dica²: Você pode usar um laço de repetição para gerar diferentes valores possíveis"
   ]
  },
  {
   "cell_type": "code",
   "execution_count": null,
   "metadata": {},
   "outputs": [],
   "source": [
    "# Escreva seu código abaixo\n",
    "\n",
    "a = FIXME"
   ]
  },
  {
   "cell_type": "markdown",
   "metadata": {},
   "source": [
    "### Inicializando os qubits\n",
    "\n",
    "Inicializamos o registrador de medida como uma superposição uniforme através da operação $H^{\\otimes n}|0\\rangle^{\\otimes n}$. O segundo registrador, onde será aplicada a exponenciação modular, é inicializado no estado $|1\\rangle \\equiv |00...001\\rangle$.\n",
    "\n",
    "Logo, o estado inicializado, $|\\psi_0\\rangle$, é dado por\n",
    "\n",
    "$$|\\psi_0\\rangle = \\frac{1}{\\sqrt{2^n}}\\sum_{i=0}^{2^n-1}|i\\rangle\\otimes |1\\rangle$$\n",
    "\n",
    "DICA: Escreva a inicialização de qubits usando uma QRoutine do QLM. Uma rotina pode ser criada de duas formas:\n",
    "\n",
    "    - Usando a *label* @qrout no início de uma função\n",
    "    - Declarando o objeto QRoutine()\n",
    "\n",
    "DICA²: Não esqueça de visualizar o seu circuito\n",
    "\n",
    "DICA³: Modifique a assinatura da função para que ela receba qualquer parâmetro que julgue necessário"
   ]
  },
  {
   "cell_type": "code",
   "execution_count": null,
   "metadata": {},
   "outputs": [],
   "source": [
    "@qrout\n",
    "def initialize_qubits():\n",
    "    pass\n",
    "\n",
    "# visualizando o circuito de inicialização\n",
    "initialize_qubits().display()"
   ]
  },
  {
   "cell_type": "markdown",
   "metadata": {},
   "source": [
    "### Exponenciação Modular Quântica\n",
    "\n",
    "Nessa etapa, precisamos gerar os valores da exponenciação modular $a^{2^i} \\mod 15$ no segundo registrador, e para cada inteiro $i$ será associado um qubit no primeiro registrador que irá controlar esta porta.\n",
    "\n",
    "Para tal, precisamos implementar várias vezes o operador: $$U_a|y\\rangle = |a y\\mod 15\\rangle$$\n",
    "\n",
    "Usaremos como exemplo, a implementação usada em https://arxiv.org/pdf/1202.6614.pdf para $a=7$, dado pelo circuito:\n",
    "\n",
    "<p align=\"center\">\n",
    "<img src=\"imagens/M7.jpg\" width=200 />\n",
    "</p>\n",
    "\n",
    "Para cada $i$, basta aplicarmos este circuito $2^i$ vezes de forma controlada a partir do valor inicial 1.\n",
    "\n",
    "O circuito acima pode ser controlado extendendo as portas $X$ para CNOTS com um qubit de controle e abrindo a porta SWAP em sua decomposição por CNOTs. Assim, cada CNOT pode ser extendida para uma porta Toffoli (CCNOT) com o qubit de controle. Vide imagens abaixo:\n",
    "\n",
    "<p align=\"center\">\n",
    "<img src=\"imagens/M7Aberto.jpg\" width=400 />\n",
    "</p>\n",
    "\n",
    "<p align=\"center\">\n",
    "<img src=\"imagens/CM7.jpg\" width=400 />\n",
    "</p>\n",
    "\n",
    "Para generalizar esta ideia com um $a$ diferente de 7, basta obter a representação do $U_a$ em CNOTS e SWAPS e convertê-lo para uma versão controlada. O material de referência mostra circuitos para outros valores de $a$.\n",
    "\n",
    "OBS: Faça o circuito para $a=8$ e, caso sobre tempo, para $a=14$. \n",
    "\n",
    "OBS²: Acompanhe o que foi feito para $a=7$ e, baseado na referência dada, reproduza de forma análoga para os outros valores de $a$.\n"
   ]
  },
  {
   "cell_type": "code",
   "execution_count": null,
   "metadata": {},
   "outputs": [],
   "source": [
    "@qrout\n",
    "def controlled_modular_exponentiation(i):\n",
    "    pass\n",
    "\n",
    "# visualizando a exponenciação modular\n",
    "controlled_modular_exponentiation(1).display()"
   ]
  },
  {
   "cell_type": "markdown",
   "metadata": {},
   "source": [
    "### Criando o programa\n",
    "\n",
    "Neste exercício, você terá que aplicar todos os blocos de operações do Algoritmo de Shor no circuito quântico.\n",
    "O programa consiste na aplicação das três principais operações descritas acima:\n",
    "\n",
    "1. Inicialização do circuito\n",
    "2. Exponenciação modular\n",
    "3. Transformada Quântica de Fourier (QFT) no primeiro registrador\n",
    "\n",
    "As medidas serão feitas e usadas no pós-processamento a fim de se encontrar o período $r$.\n",
    "\n",
    "DICA: Use a função de QFT do próprio QLM."
   ]
  },
  {
   "cell_type": "code",
   "execution_count": null,
   "metadata": {},
   "outputs": [],
   "source": [
    "# criando o objeto shor com a classe Program\n",
    "shor = Program()\n",
    "\n",
    "### Escreva seu código abaixo\n",
    "# alocando qubits no programa shor\n",
    "\n",
    "# Aplique a rotina de inicialização\n",
    "\n",
    "# Aplique a Exponenciação Modular\n",
    "\n",
    "# Aplique a QFT no primeiro registrador\n",
    "\n",
    "\n",
    "# transformando de programa para circuito \n",
    "circuit = shor.to_circ()\n",
    "\n",
    "# visualizando o circuito\n",
    "# Obs: na interface web do jupyter é possível dar zoom na imagem e visualizar melhor o circuito\n",
    "%qatdisplay circuit --svg"
   ]
  },
  {
   "cell_type": "markdown",
   "metadata": {},
   "source": [
    "### Realizando uma única medida no primeiro registrador"
   ]
  },
  {
   "cell_type": "code",
   "execution_count": null,
   "metadata": {},
   "outputs": [],
   "source": [
    "# submeta o circuito para job\n",
    "# Repare que será realizada apenas uma medida no circuito \n",
    "job = circuit.to_job(nbshots=1, qubits=FIXME)\n",
    "result = get_default_qpu().submit(job)\n",
    "\n",
    "# Aqui imprimimos os estados medidos e suas respectivas probabilidades\n",
    "# A lista states armazenará todos os estados medidos (ou apenas um unico estado se nbshots=1) para pos processamento\n",
    "states = []\n",
    "for sample in result:\n",
    "     print(\"State %s: probability %s \" % (sample.state, sample.probability))\n",
    "     states.append(sample.state)"
   ]
  },
  {
   "cell_type": "markdown",
   "metadata": {},
   "source": [
    "### Transformando o valor medido para decimal\n",
    "\n",
    "Nesta etapa, vamos transformar o valor medido para decimal. A lista *states* criada armazena todas as amostras obtidas, para acessar o valor de uma amostra pode se acessar o atributo sample.value. O QLM armazena os valores dos estados dos qubits em notação *little-endian*, portanto para gerar o valor decimal final é preciso reverter a string que representa o estado."
   ]
  },
  {
   "cell_type": "code",
   "execution_count": null,
   "metadata": {},
   "outputs": [],
   "source": [
    "states[0].value"
   ]
  },
  {
   "cell_type": "code",
   "execution_count": null,
   "metadata": {},
   "outputs": [],
   "source": [
    "# O codigo abaixo converte os estados medidos no primeiro registrador em decimais\n",
    "# Criamos uma lista string onde cada elemento corresponde a '0's ou '1's medidos no primeiro registrador \n",
    "string_reg1 = states[0].value[0]\n",
    "print(\"Um valor binário no 1o registrador: \", string_reg1)\n",
    "\n",
    "\n",
    "l = int(''.join(string_reg1[::-1]),2)\n",
    "print(\"Valor decimal medido, l =  \", l)"
   ]
  },
  {
   "cell_type": "markdown",
   "metadata": {},
   "source": [
    "### Algoritmo de Shor parte 2: Pós-processamento Clássico\n",
    "\n",
    "Depois que os resultados da medição forem determinados, é necessário fazer um\n",
    "pós-processamento clássico adicional para determinar os fatores ou decidir\n",
    "executar o programa novamente.\n",
    "\n",
    "1. Calcula-se $\\frac{l}{2^n}$ e toma-se o denominador como candidato ao período $r$. \n",
    "\n",
    "2. Testar se $r$ é período. Se $ a^r = 1 \\mod N$, então $r$ é o período e é garantido que os fatores primos de $N$ serão obtidos através da relação\n",
    "\n",
    "$$p,q = \\text{mdc}(a^{r/2} \\pm 1, N)$$"
   ]
  },
  {
   "cell_type": "markdown",
   "metadata": {},
   "source": [
    "### Algoritmo de frações continuadas\n",
    "\n",
    "A expansão em uma fração continuada de $\\frac{\\ell}{2^n}$, onde $\\ell$ é a saída\n",
    "do algoritmo, é dada por $$\\frac{\\ell}{2^n}=\\cfrac{1}{a_1 + \\cfrac{1}{a_2 +\n",
    "\\cfrac{1}{ \\ddots + \\cfrac{1}{a_k} }}}$$ Os sucessivos convergentes da fração\n",
    "continuada são $[a_1]$, $[a_1,a_2]$, $[a_1,a_2,a_3]$ e assim por diante onde\n",
    "\n",
    "$$[a_1]=\\cfrac{1}{a_1},\\;\\;[a_1,a_2]=\\cfrac{1}{a_1 + \\cfrac{1}{a_2\n",
    "}},\\;\\;[a_1,a_2,a_3]=\\cfrac{1}{a_1 + \\cfrac{1}{a_2 + \\cfrac{1}{ a_3}}},\n",
    "\\;\\;\\cdots$$ \n",
    "\n",
    "O último convergente é $[a_1,a_2,...,a_k]$, que é igual a $\\frac{\\ell}{2^m}$. No\n",
    "algoritmo de Shor, temos que escolher o convergente mais próximo de\n",
    "$\\frac{\\ell}{2^m}$ tal que o denominador seja menor do que $N$.  Por exemplo, os\n",
    "convergentes da expansão em fração continuada de $\\ell/2^m$ para $\\ell=85$ e\n",
    "$m=9$ são $[6]=\\frac{1}{6}$, $[6,42]=\\frac{42}{253}$, e por último\n",
    "$[6,42,2]=\\frac{85}{512}=\\ell/2^m$. \n",
    "\n",
    "[//]: # (Quando $N=21$, temos que selecionar o convergente $[6]=\\frac{1}{6}$.)"
   ]
  },
  {
   "cell_type": "markdown",
   "metadata": {},
   "source": [
    "O valor decimal medido é dado por $l$. Implemente abaixo o algoritmo de frações continuadas em $l/2^n$ para encontrar o candidato a $r$. Verifique se esse $r$ satisfaz $a^r \\equiv 1\\mod15$. Caso contrário, você terá que rodar o algoritmo novamente, realizando uma nova medida.\n",
    "\n",
    "DICA: utilize o pacote do PyPi (https://pypi.org/project/ContFrac/) para implementar o algoritmo de frações continuadas, encontrar os convergentes e o valor candidado a ordem $r$. Você também pode implementar seu próprio código."
   ]
  },
  {
   "cell_type": "code",
   "execution_count": null,
   "metadata": {},
   "outputs": [],
   "source": [
    "r = 0\n",
    "### Implemente seu código abaixo \n",
    "\n",
    "\n",
    "print(\"Candidato a r: \", r)\n",
    "# NOTA: se voce encontrar r ímpar, terá de rodar o algoritmo novamente"
   ]
  },
  {
   "cell_type": "markdown",
   "metadata": {},
   "source": [
    "### Determinando os fatores primos de $N$\n",
    "\n",
    "Use $r$ para encontrar os fatores primos de $N$.\n",
    "\n",
    "Dica: voce pode usar a função no numpy, np.gcd() para facilitar o cálculo do MDC."
   ]
  },
  {
   "cell_type": "code",
   "execution_count": null,
   "metadata": {},
   "outputs": [],
   "source": [
    "p = 0\n",
    "q = 0\n",
    "\n",
    "### Escreva seu codigo abaixo \n",
    "\n",
    "\n",
    "print(f\"Os fatores primos encontrados são {p} e {q}.\")"
   ]
  },
  {
   "cell_type": "markdown",
   "metadata": {},
   "source": [
    "Se você não encontrou os fatores primos corretos, significa  que a medida que voce realizou não te forneceu a ordem $r$ correta. Você terá que rodar o algoritmo uma quantidade suficiente de vezes para encontrar o $r$ adequado. Você também pode aumentar o número de medidas `nbshots` e criar uma rotina que testa todos os valores medidos. Caso prefira, apenas rode o notebook mais algumas vezes."
   ]
  },
  {
   "cell_type": "markdown",
   "metadata": {},
   "source": [
    "### Recuperando a chave privada"
   ]
  },
  {
   "cell_type": "code",
   "execution_count": null,
   "metadata": {},
   "outputs": [],
   "source": [
    "phi = (p-1)*(q-1)\n",
    "\n",
    "# Escolha de um valor que satisfaça d*e = 1 + k * phi\n",
    "k = 2\n",
    "d = (1 + (k*phi))/e\n",
    "\n",
    "print(f\"A chave privada é ({p}, {q}, {d})\")"
   ]
  }
 ],
 "metadata": {
  "kernelspec": {
   "display_name": "Python 3.9.12 ('base')",
   "language": "python",
   "name": "python3"
  },
  "language_info": {
   "codemirror_mode": {
    "name": "ipython",
    "version": 3
   },
   "file_extension": ".py",
   "mimetype": "text/x-python",
   "name": "python",
   "nbconvert_exporter": "python",
   "pygments_lexer": "ipython3",
   "version": "3.9.17"
  },
  "orig_nbformat": 4,
  "vscode": {
   "interpreter": {
    "hash": "4fed6fc55d4ae3f7785493b66026376f3bc14b86eb26260f45711c87f1ac3e26"
   }
  }
 },
 "nbformat": 4,
 "nbformat_minor": 2
}
