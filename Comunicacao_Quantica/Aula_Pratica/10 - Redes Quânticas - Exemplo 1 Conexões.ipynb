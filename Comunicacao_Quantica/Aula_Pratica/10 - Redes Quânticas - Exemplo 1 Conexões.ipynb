{
 "cells": [
  {
   "cell_type": "markdown",
   "id": "ed95c2dd-aacb-486d-8a33-37e3b888c2b5",
   "metadata": {},
   "source": [
    "# **Redes Quânticas - Exemplo 1: Conexões**"
   ]
  },
  {
   "cell_type": "markdown",
   "id": "0e30b394",
   "metadata": {},
   "source": [
    "Neste notebook nós praticamos a utilização de conexões entre os nós, para que possamos modelar mais facilmente situações mais complexas (por exemplo, fornecer emaranhamento através de uma fonte quântica)"
   ]
  },
  {
   "cell_type": "code",
   "execution_count": 1,
   "id": "db5b4837",
   "metadata": {},
   "outputs": [],
   "source": [
    "import netsquid as ns\n",
    "import pandas\n",
    "from netsquid.components.qprocessor import QuantumProcessor, PhysicalInstruction\n",
    "from netsquid.nodes import Node, Connection, Network\n",
    "from netsquid.protocols.protocol import Signals\n",
    "from netsquid.protocols.nodeprotocols import NodeProtocol\n",
    "from netsquid.components.qchannel import QuantumChannel\n",
    "from netsquid.components.cchannel import ClassicalChannel\n",
    "from netsquid.components.qsource import QSource, SourceStatus\n",
    "from netsquid.qubits.state_sampler import StateSampler\n",
    "from netsquid.components.qprogram import QuantumProgram\n",
    "from netsquid.components.models.qerrormodels import DepolarNoiseModel, DephaseNoiseModel\n",
    "import netsquid.components.instructions as instr\n",
    "import pydynaa"
   ]
  },
  {
   "cell_type": "markdown",
   "id": "290d4c1e",
   "metadata": {},
   "source": [
    "## **Exemplo 1: Conexões**\n",
    "\n",
    "Já praticamos como conectar dois nós através de um canal clássico e/ou quântico. Em vez de conectar canais diretamente aos nós, agora praticaremos como usar conexões.\n",
    "\n",
    "Começamos com uma conexão quântica e usaremos o canal quântico para enviar um qubit de um nó para outro. \n",
    "\n",
    "\n",
    "Primeiro definimos as instruções físicas e inicializamos dois processadores quânticos com uma posição de memória cada.\n"
   ]
  },
  {
   "cell_type": "code",
   "execution_count": 2,
   "id": "f78f5f6d",
   "metadata": {},
   "outputs": [],
   "source": [
    "phys_instructions1 = [\n",
    "    PhysicalInstruction(instr.INSTR_INIT, duration=3),\n",
    "    PhysicalInstruction(instr.INSTR_H, duration=1),\n",
    "    PhysicalInstruction(instr.INSTR_X, duration=1),]\n",
    "\n",
    "qproc1a = QuantumProcessor(name=\"ExampleQProc1a\", num_positions =1, phys_instructions = phys_instructions1)\n",
    "qproc1b = QuantumProcessor(name=\"ExampleQProc1b\", num_positions =1, phys_instructions = phys_instructions1)"
   ]
  },
  {
   "cell_type": "markdown",
   "id": "b9e588f8",
   "metadata": {},
   "source": [
    "<br><br>Como antes, cada processador será atribuído a um nó. Os dois nós estarão fisicamente separados um do outro e nosso objetivo é enviar um qubit de um nó para o outro. Para fazer isso, inicializaremos os dois nós com portas para comunicação de entrada (qin) e saída (qout) e conectaremos as portas de memória às portas do nó."
   ]
  },
  {
   "cell_type": "code",
   "execution_count": 3,
   "id": "a12edd7a",
   "metadata": {},
   "outputs": [],
   "source": [
    "node1a = Node(name=\"ExampleNode1a\", qmemory=qproc1a, port_names=['qin_1a','qout_1a'])\n",
    "node1b = Node(name=\"ExampleNode1b\", qmemory=qproc1b, port_names=['qin_1b','qout_1b'])\n",
    "\n",
    "node1a.qmemory.ports['qout0'].forward_output(node1a.ports['qout_1a'])\n",
    "node1b.ports['qin_1b'].forward_input(node1b.qmemory.ports['qin0'])"
   ]
  },
  {
   "cell_type": "markdown",
   "id": "973fcc02",
   "metadata": {},
   "source": [
    "<br><br>No notebook anterior, inicializamos em seguida um canal quântico que usamos para conectar os dois nós entre si. Aqui, definimos agora uma conexão quântica que contém um canal quântico.\n",
    "\n",
    "<span style = \"color:orange\"> class netsquid.nodes.connections.Connection(name) </span>"
   ]
  },
  {
   "cell_type": "code",
   "execution_count": 4,
   "id": "fa8867d7",
   "metadata": {},
   "outputs": [],
   "source": [
    "class QuantumConnection(Connection):\n",
    "    \"\"\" Uma conexão que neste exemplo contém apenas um canal quântico. \n",
    "    No entanto, podemos incluir uma fonte quântica desde a conexão \n",
    "    e usá-la para distribuir qubits emaranhados aos nós conectados.\"\"\"\n",
    "    \n",
    "    def __init__(self, name = \"QuantumConnection\"):\n",
    "        super().__init__(name=name)\n",
    "        \n",
    "        # Inicializando um canal quântico\n",
    "        qchannell = QuantumChannel(name=\"QChannel_1a21b\")\n",
    "        \n",
    "        # Conectando o canal para entrada e saída das portas da conexão\n",
    "        self.add_subcomponent(qchannell, \n",
    "                             forward_input=[(\"A\",\"send\")],\n",
    "                             forward_output=[(\"B\",\"recv\")])"
   ]
  },
  {
   "cell_type": "markdown",
   "id": "fad34fbd",
   "metadata": {},
   "source": [
    "<br><br>Agora, conectamos as portas dos nós às portas da conexão."
   ]
  },
  {
   "cell_type": "code",
   "execution_count": 5,
   "id": "3f6104d3",
   "metadata": {},
   "outputs": [],
   "source": [
    "qconn = QuantumConnection()\n",
    "node1a.ports['qout_1a'].connect(qconn.ports['A'])\n",
    "node1b.ports['qin_1b'].connect(qconn.ports['B'])"
   ]
  },
  {
   "cell_type": "markdown",
   "id": "d421794a",
   "metadata": {},
   "source": [
    "<br><br>Em seguida, nós definimos um programa quântico para o node1a que\n",
    "- incializa um qubit na posição 0 no node1a\n",
    "- mudam o estado do qubit para $|+\\rangle = \\frac{1}{\\sqrt 2}(|0\\rangle + |1\\rangle)$\n",
    "\n",
    "\n",
    "Um protocolo para node1a que\n",
    "- executa o programa\n",
    "- remove o qubit da memória\n",
    "- envia o qubit para a porta de saída da memória \n",
    "\n",
    "e um protocolo para o node1b que apenas aguarde pelo qubit recebido"
   ]
  },
  {
   "cell_type": "code",
   "execution_count": 6,
   "id": "0aab369f",
   "metadata": {},
   "outputs": [],
   "source": [
    "class node1aProgram(QuantumProgram):\n",
    "    default_num_qubits=1 # Numero de qubits\n",
    "    \n",
    "    def program(self):\n",
    "        q0, = self.get_qubit_indices(1) # Obtém os indices para o qubit que estamos trabalhando\n",
    "        self.apply(instr.INSTR_INIT, [q0]) # Inicializa o qubit\n",
    "        \n",
    "        # Define o estado do qubit para h0\n",
    "        self.apply(instr.INSTR_H, [q0]) # Aplica a porta H em q0\n",
    "        \n",
    "        yield self.run() # Executa as instruções agendada acima\n",
    "        \n",
    "class node1aProtocol(NodeProtocol):\n",
    "    def run(self):\n",
    "        node1aprog = node1aProgram()\n",
    "            \n",
    "        yield self.node.qmemory.execute_program(node1aprog)\n",
    "\n",
    "        qubit = self.node.qmemory.pop(positions=[0])\n",
    "        self.node.qmemory.ports[\"qout0\"].tx_output(qubit)\n",
    "\n",
    "class node1bProtocol(NodeProtocol):\n",
    "    def run(self):\n",
    "        port_qin = self.node.ports[\"qin_1b\"]\n",
    "        \n",
    "        # Aguardando o qubit chegar aqui\n",
    "        expr = yield(self.await_port_input(port_qin))"
   ]
  },
  {
   "cell_type": "markdown",
   "id": "9fc1eb56",
   "metadata": {},
   "source": [
    "<br><br>Tudo o que resta fazer é executar os dois protocolos"
   ]
  },
  {
   "cell_type": "code",
   "execution_count": 7,
   "id": "78f64298",
   "metadata": {},
   "outputs": [
    {
     "data": {
      "text/plain": [
       "4.0"
      ]
     },
     "execution_count": 7,
     "metadata": {},
     "output_type": "execute_result"
    }
   ],
   "source": [
    "node1aprot = node1aProtocol(node1a)\n",
    "node1bprot = node1bProtocol(node1b)\n",
    "\n",
    "node1aprot.start() # Inicia o protocolo no node1a\n",
    "node1bprot.start() # Inicia o protocolo no node1b\n",
    "\n",
    "ns.sim_run() # Inicia a simulação\n",
    "ns.sim_time()"
   ]
  },
  {
   "cell_type": "markdown",
   "id": "ee4be21d",
   "metadata": {},
   "source": [
    "Espiando as memória, vemos que o qubit foi movido conforme planejado"
   ]
  },
  {
   "cell_type": "code",
   "execution_count": 8,
   "id": "af3f0fde",
   "metadata": {},
   "outputs": [
    {
     "data": {
      "text/plain": [
       "[Qubit('QS#0-0')]"
      ]
     },
     "execution_count": 8,
     "metadata": {},
     "output_type": "execute_result"
    }
   ],
   "source": [
    "node1b.qmemory.peek(positions=[0])"
   ]
  },
  {
   "cell_type": "code",
   "execution_count": 9,
   "id": "fe39aa9d",
   "metadata": {},
   "outputs": [
    {
     "name": "stdout",
     "output_type": "stream",
     "text": [
      "state of qubit1b as ket KetRepr(num_qubits=1,\n",
      "ket=\n",
      "[[0.70710678+0.j]\n",
      " [0.70710678+0.j]])\n"
     ]
    }
   ],
   "source": [
    "qubit1b, = node1b.qmemory.peek(positions=[0])\n",
    "print(\"state of qubit1b as ket\", qubit1b.qstate.qrepr)"
   ]
  },
  {
   "cell_type": "code",
   "execution_count": null,
   "id": "4cabde44",
   "metadata": {},
   "outputs": [],
   "source": []
  }
 ],
 "metadata": {
  "kernelspec": {
   "display_name": "Python 3 (ipykernel)",
   "language": "python",
   "name": "python3"
  },
  "language_info": {
   "codemirror_mode": {
    "name": "ipython",
    "version": 3
   },
   "file_extension": ".py",
   "mimetype": "text/x-python",
   "name": "python",
   "nbconvert_exporter": "python",
   "pygments_lexer": "ipython3",
   "version": "3.9.12"
  }
 },
 "nbformat": 4,
 "nbformat_minor": 5
}
