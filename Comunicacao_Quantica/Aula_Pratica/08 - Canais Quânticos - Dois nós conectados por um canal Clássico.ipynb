{
 "cells": [
  {
   "cell_type": "markdown",
   "id": "25e54675-be2d-446b-88a9-56f7c6888f22",
   "metadata": {},
   "source": [
    "# **Canais Quânticos - Exemplo 2: Dois nós conectados por um canal clássico**"
   ]
  },
  {
   "cell_type": "markdown",
   "id": "960125aa",
   "metadata": {},
   "source": [
    "Neste notebook praticamos como conectar dois nós por um canal clássico. Usamos um programa quântico para enviar um bit clássico. O bit que estamos enviando ditará como modificar o qubit armazenado no segundo nó."
   ]
  },
  {
   "cell_type": "code",
   "execution_count": 1,
   "id": "d30d099f",
   "metadata": {},
   "outputs": [],
   "source": [
    "import netsquid as ns\n",
    "from netsquid.components.qprocessor import QuantumProcessor, PhysicalInstruction\n",
    "from netsquid.components.qprogram import QuantumProgram\n",
    "from netsquid.nodes import Node\n",
    "from netsquid.nodes.connections import Connection\n",
    "from netsquid.components.cchannel import ClassicalChannel\n",
    "from netsquid.components.qchannel import QuantumChannel\n",
    "import netsquid.components.instructions as instr\n",
    "from netsquid.protocols.nodeprotocols import NodeProtocol\n",
    "from netsquid.protocols.protocol import Signals\n",
    "import pydynaa"
   ]
  },
  {
   "cell_type": "markdown",
   "id": "0213ee31",
   "metadata": {},
   "source": [
    "<br><br> Começaremos novamente definindo a instruções físicas e inicializando dois processadores quânticos com uma posição de memória cada."
   ]
  },
  {
   "cell_type": "code",
   "execution_count": 2,
   "id": "c6410a51",
   "metadata": {},
   "outputs": [],
   "source": [
    "phys_instructions2 = [\n",
    "    PhysicalInstruction(instr.INSTR_INIT, duration=3),\n",
    "    PhysicalInstruction(instr.INSTR_H, duration=1),\n",
    "    PhysicalInstruction(instr.INSTR_X, duration=1),\n",
    "    PhysicalInstruction(instr.INSTR_MEASURE, duration=7)\n",
    "]\n",
    "qproc2a = QuantumProcessor(name=\"ExampleQProc2a\" , num_positions =1, phys_instructions = phys_instructions2)\n",
    "qproc2b = QuantumProcessor(name=\"ExampleQProc2b\" , num_positions =1, phys_instructions = phys_instructions2)"
   ]
  },
  {
   "cell_type": "markdown",
   "id": "04e5f6a2",
   "metadata": {},
   "source": [
    "<br><br> Cada processador será novamente atribuído a um nó. Os dois nós estarão fisicamente separados um do outro e nosso objetivo é enviar um bit clássico de um nó para o outro. Para fazer isso, inicializaremos os dois nós com portas para comunicação clássica de entrada (cin) e saída (cout)."
   ]
  },
  {
   "cell_type": "code",
   "execution_count": 3,
   "id": "7a677b63",
   "metadata": {},
   "outputs": [],
   "source": [
    "node2a = Node(name=\"ExampleNode2a\", qmemory=qproc2a, port_names=['cin_2a','cout_2a'])\n",
    "node2b = Node(name=\"ExampleNode2b\", qmemory=qproc2b, port_names=['cin_2b','cout_2b'])"
   ]
  },
  {
   "cell_type": "markdown",
   "id": "0b9c0f89",
   "metadata": {},
   "source": [
    "<br><br> Nós também inicializamos um canal clássico que usaremos para conectar aos outros dois nós.\n",
    "\n",
    "<span style=\"color: orange\"> class netsquid.components.cchannel.ClassicalChannel(name, delay=0, lenght=0, models=None, classical_code=None, transmit_empty_items=False, properties=None, **kwargs) </span>"
   ]
  },
  {
   "cell_type": "code",
   "execution_count": 4,
   "id": "31484da4",
   "metadata": {},
   "outputs": [],
   "source": [
    "cchannel2=ClassicalChannel(name=\"CChannel_2a22b\")"
   ]
  },
  {
   "cell_type": "markdown",
   "id": "dd431896",
   "metadata": {},
   "source": [
    "<br><br> Nosso objetivo é\n",
    "- Inicialize um qubit no slot 0 no node2a\n",
    "- Inicialize um qubit no slot 0 em node2b\n",
    "- Alterar o estado do qubit no node2a para um estado de superposição\n",
    "- Medir o qubit\n",
    "- Enviar o resultado da medição através do canal clássico para node2b\n",
    "- Se o bit clássico for 1, altere o estado do qubit armazenado no node2b\n",
    "\n",
    "Para fazer isso, precisamos conectar os nós e o canal. <br><br> \n",
    "Vamos fazer isso da seguinte forma: <br><br>\n",
    "\n",
    "- Conectando a saída do node2a com a entrada do cchannel;\n",
    "- Conectando a saída do cchannel com a entrada do node2b.\n",
    "\n",
    "Desta forma podemos enviar um bit clássico de node2a para node2b e usar isso para decidir se o estado do qubit em node2b deve ser modificado"
   ]
  },
  {
   "cell_type": "code",
   "execution_count": 5,
   "id": "bde1137e",
   "metadata": {},
   "outputs": [],
   "source": [
    "node2a.ports['cout_2a'].connect(cchannel2.ports[\"send\"])\n",
    "node2b.ports['cin_2b'].connect(cchannel2.ports[\"recv\"])"
   ]
  },
  {
   "cell_type": "markdown",
   "id": "8b81bf85",
   "metadata": {},
   "source": [
    "Primeiro, nós inicializamos um qubit no node2b."
   ]
  },
  {
   "cell_type": "code",
   "execution_count": 6,
   "id": "ba79e97c",
   "metadata": {},
   "outputs": [
    {
     "data": {
      "text/plain": [
       "3.0"
      ]
     },
     "execution_count": 6,
     "metadata": {},
     "output_type": "execute_result"
    }
   ],
   "source": [
    "node2b.qmemory.execute_instruction(instr.INSTR_INIT, [0]) # Agendando inicialização do qubit\n",
    "ns.sim_run() # Executando o próximo evento agendado\n",
    "ns.sim_time() # Checando o tempo atual"
   ]
  },
  {
   "cell_type": "markdown",
   "id": "e79e8024",
   "metadata": {},
   "source": [
    "Em seguida,\n",
    "- Inicializamos um qubit no slot 0 no node2a;\n",
    "- Alteramos o estado do qubit para  $|+\\rangle = \\frac{1}{\\sqrt 2}(|0\\rangle + |1\\rangle)$;\n",
    "- Medimos o qubit.\n",
    "\n",
    "Para praticar o uso de programas quânticos, agruparemos todas essas etapas em um programa que executaremos no node2a"
   ]
  },
  {
   "cell_type": "code",
   "execution_count": 7,
   "id": "0bfaa585",
   "metadata": {},
   "outputs": [],
   "source": [
    "class node2aProgram(QuantumProgram):\n",
    "    default_num_qubits = 1 # Número de qubits\n",
    "    \n",
    "    def program(self):\n",
    "        q0, = self.get_qubit_indices(1) # obtendo os índices para o qubit que estaremos trabalhando\n",
    "        self.apply(instr.INSTR_INIT, [q0]) # Inicializando o qubit\n",
    "        \n",
    "        # Alterando o estado do qubit\n",
    "        self.apply(instr.INSTR_H, [q0]) # aplicando a porta H no q0\n",
    "        \n",
    "        # Agora medindo qubit\n",
    "        self.apply(instr.INSTR_MEASURE, q0, output_key=\"m1\") # Medindo q0 e armazenando o resultado\n",
    "        \n",
    "        yield self.run() # Executando as instruções agendadas acima"
   ]
  },
  {
   "cell_type": "markdown",
   "id": "538ad1f1",
   "metadata": {},
   "source": [
    "<br><br> Executando o programa no node1a"
   ]
  },
  {
   "cell_type": "code",
   "execution_count": 8,
   "id": "d4d153be",
   "metadata": {},
   "outputs": [
    {
     "data": {
      "text/plain": [
       "14.0"
      ]
     },
     "execution_count": 8,
     "metadata": {},
     "output_type": "execute_result"
    }
   ],
   "source": [
    "testprog = node2aProgram()\n",
    "qproc2a.execute_program(testprog)\n",
    "ns.sim_run()\n",
    "ns.sim_time()"
   ]
  },
  {
   "cell_type": "markdown",
   "id": "bec81f01",
   "metadata": {},
   "source": [
    "Agora, colocamos o resultado da medição na porta de saída do node2a"
   ]
  },
  {
   "cell_type": "code",
   "execution_count": 9,
   "id": "1d943246",
   "metadata": {},
   "outputs": [
    {
     "data": {
      "text/plain": [
       "14.0"
      ]
     },
     "execution_count": 9,
     "metadata": {},
     "output_type": "execute_result"
    }
   ],
   "source": [
    "m1, = testprog.output[\"m1\"]\n",
    "node2a.ports[\"cout_2a\"].tx_output(m1)\n",
    "ns.sim_run()\n",
    "ns.sim_time()"
   ]
  },
  {
   "cell_type": "markdown",
   "id": "f37fdab3",
   "metadata": {},
   "source": [
    "E por último, usamos a mensagem para decidir se queremos modificar o qubit no node2b.\n",
    "\n",
    "Se o resultado da medição for\n",
    "- \"1\" nos aplicamos à porta H;\n",
    "- \"0\" nós aplicamos à porta X."
   ]
  },
  {
   "cell_type": "code",
   "execution_count": 10,
   "id": "3588e1ce",
   "metadata": {},
   "outputs": [
    {
     "name": "stdout",
     "output_type": "stream",
     "text": [
      "Aplicando a porta H\n"
     ]
    },
    {
     "data": {
      "text/plain": [
       "15.0"
      ]
     },
     "execution_count": 10,
     "metadata": {},
     "output_type": "execute_result"
    }
   ],
   "source": [
    "message = node2b.ports[\"cin_2b\"].rx_input()\n",
    "if message.items[0] ==1:\n",
    "    node2b.qmemory.execute_instruction(instr.INSTR_H, [0]) # Aplicando a porta H\n",
    "    print(\"Aplicando a porta H\")\n",
    "if message.items[0] ==0:\n",
    "    node2b.qmemory.execute_instruction(instr.INSTR_X, [0]) # Aplicando a porta X\n",
    "    print(\"Aplicando a porta H\")\n",
    "    \n",
    "ns.sim_run()\n",
    "ns.sim_time()"
   ]
  },
  {
   "cell_type": "markdown",
   "id": "8e4bbd9c",
   "metadata": {},
   "source": [
    "## Sugestão de Prática\n",
    "\n",
    "Combine o que praticamos no exemplo 1 e no exemplo 2:\n",
    "- Crie um processador quântico com duas posições de memória e atribua-o ao nodeA;\n",
    "- Crie um processador quântico com duas posições de memória e atribua-o ao nodeB;\n",
    "- Escreva um programa que inicialize os dois qubits no nó A, aplique a porta H ao segundo qubit e então meça o segundo qubit;\n",
    "- Envie o primeiro qubit para nodeB;\n",
    "- Envie o resultado da medição para o nodeB;\n",
    "- Use o resultado da medição para decidir como alterar o estado do qubit no nodeB."
   ]
  },
  {
   "cell_type": "code",
   "execution_count": null,
   "id": "f81c3d66",
   "metadata": {},
   "outputs": [],
   "source": []
  }
 ],
 "metadata": {
  "kernelspec": {
   "display_name": "Python 3 (ipykernel)",
   "language": "python",
   "name": "python3"
  },
  "language_info": {
   "codemirror_mode": {
    "name": "ipython",
    "version": 3
   },
   "file_extension": ".py",
   "mimetype": "text/x-python",
   "name": "python",
   "nbconvert_exporter": "python",
   "pygments_lexer": "ipython3",
   "version": "3.9.12"
  }
 },
 "nbformat": 4,
 "nbformat_minor": 5
}
