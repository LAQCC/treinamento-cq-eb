{
 "cells": [
  {
   "cell_type": "markdown",
   "id": "cbc9ee1f-e93a-4dad-90ce-77a4ebe8fa68",
   "metadata": {},
   "source": [
    "## **Processador Quântico - Processador, Instruções e Execução de Eventos**"
   ]
  },
  {
   "cell_type": "markdown",
   "id": "c569ffd8",
   "metadata": {},
   "source": [
    "Neste notebook, iremos aprender como usar um processador quântico com instruções físicas específicas. Isso nos permite levar em consideração a duração física de um processo e incluir possíveis erros. Também começaremos a usar simulação de eventos discretos onde a operação do sistema é modelada como uma sequência discreta de eventos no tempo. Cada evento ocorre em um instante específico e altera o estado do sistema. Entre eventos, presume-se que o sistema não muda."
   ]
  },
  {
   "cell_type": "code",
   "execution_count": 1,
   "id": "fe4eb7d4",
   "metadata": {},
   "outputs": [],
   "source": [
    "# Importanto os conteúdos necessários do pacote netsquid\n",
    "import netsquid as ns\n",
    "from netsquid.components.qprocessor import QuantumProcessor, PhysicalInstruction\n",
    "from netsquid.components.qprogram import QuantumProgram\n",
    "import netsquid.components.instructions as instr\n",
    "import pydynaa"
   ]
  },
  {
   "cell_type": "markdown",
   "id": "7c052c4d",
   "metadata": {},
   "source": [
    "<br><br>No último notebook aprendemos como criar uma memória quântica com um número predefinido de posições (num_positions) para armazenar qubits e como usar instruções para operar nos qubits. <br> <br>\n",
    "\n",
    "Até então, as instruções não eram físicamente precisas. Eram aplicadas instantaneamente e sem erros. <br><br>\n",
    "\n",
    "O Processador quântico nos permite mudar isso! Em um processador quântico podemos especificar um conjunto de instruções físicas com tempos de operação associados, modelos de erro e até mesmo definindo uma topologia (em quais qubits uma instrução pode ser aplicada). <br><br>\n",
    "\n",
    "Como primeiro exemplo, especificamos as três instruções físicas a seguir:\n",
    "- Inicializar um qubit leva 3 nanossegundos;\n",
    "- Aplicar a porta Hadamard leva 1 nanossegundo;\n",
    "- Aplicar a porta X leva 1 nanossegundo. <br> <br>\n",
    "\n",
    "<span style=\"color:orange\"> \n",
    "    class netsquid.components.qprocessor.PhysicalInstruction(instruction, double duration, topology = None, quantum_noise_model = None, classical_noise_model = None, bool parallel=False, apply_q_noise_after = True, **parameters)\n",
    "    \n",
    "</span>"
   ]
  },
  {
   "cell_type": "code",
   "execution_count": 2,
   "id": "abf4e3a3",
   "metadata": {},
   "outputs": [],
   "source": [
    "phys_instructions1 = [\n",
    "    PhysicalInstruction(instr.INSTR_INIT, duration=3),\n",
    "    PhysicalInstruction(instr.INSTR_H, duration=1),   \n",
    "    PhysicalInstruction(instr.INSTR_X, duration=1),   \n",
    "]"
   ]
  },
  {
   "cell_type": "markdown",
   "id": "96c01f5f",
   "metadata": {},
   "source": [
    "<br><br>Em seguida, nós inicializamos um processador quântico com uma memória quântica contendo uma posição de memória. Nós usaremos três instruções físicas especificadas acima. <br> <br>\n",
    "\n",
    "<span style=\"color:orange\">\n",
    "    class netsquid.components.qprocessor.QuantumProcessor(name, num_positions=1, mem_noise_models=None, phys_instructions= None, mem_pos_types=None, fallback_to_nonphysical=False, properties=None, ** kwargs)"
   ]
  },
  {
   "cell_type": "code",
   "execution_count": 3,
   "id": "fffbd3f7",
   "metadata": {},
   "outputs": [],
   "source": [
    "# Criando um processador quântico com um a posição de memória e capaz de aplicar as instruções físicas acima.\n",
    "qprocl = QuantumProcessor(name=\"ExampleQProcl\",num_positions=1, phys_instructions=phys_instructions1)"
   ]
  },
  {
   "cell_type": "markdown",
   "id": "1d0537da",
   "metadata": {},
   "source": [
    "O NetSquid usa simulação de eventos discretos onde a operação do sistema é modelada como uma sequência discreta de eventos no tempo. Cada evento ocorre em um instante específico e altera o estado do sistema. Entre os eventos, presume-se que o sistema não muda. <br><br>\n",
    "\n",
    "Podemos verificar a hora atual do sistema com ns.sim_time(). Como até o momento não agendamos eventos, o tempo não evoluiu."
   ]
  },
  {
   "cell_type": "code",
   "execution_count": 4,
   "id": "c9252324",
   "metadata": {},
   "outputs": [
    {
     "data": {
      "text/plain": [
       "0.0"
      ]
     },
     "execution_count": 4,
     "metadata": {},
     "output_type": "execute_result"
    }
   ],
   "source": [
    "ns.sim_time() # Checando tempo atual da simulação"
   ]
  },
  {
   "cell_type": "markdown",
   "id": "23febb2c",
   "metadata": {},
   "source": [
    "A execução de uma instrução fará avançar o tempo. Para mostrar isso, vamos agendar o evento de inicialização do qubit em nosso processador. Para aplicar a instrução, precisamos executar o evento correspondente. Ns.sim_run() executa o próximo evento agendado. Por último, verificamos a hora atual, o que nos mostra que, conforme esperado, foram necessários 3 nanossegundos para inicializar o qubit. <br><br>\n",
    "\n",
    "<span style=\"color: orange\"> class netsquid.components.qprocessor.QuantumProcessor.execute_instruction(self, instruction, qubit_mapping=None, str output_key='instr',bool physical=True, bool check_qubit_mapping=True, **parameters) </span>"
   ]
  },
  {
   "cell_type": "code",
   "execution_count": 5,
   "id": "e0d0608e",
   "metadata": {},
   "outputs": [
    {
     "data": {
      "text/plain": [
       "3.0"
      ]
     },
     "execution_count": 5,
     "metadata": {},
     "output_type": "execute_result"
    }
   ],
   "source": [
    "qprocl.execute_instruction(instr.INSTR_INIT, [0]) # Agenda a inicialização do qubit no slot 0\n",
    "ns.sim_run() # Roda o próximo evento agendado\n",
    "ns.sim_time() # checa o tempo atual em ns"
   ]
  },
  {
   "cell_type": "markdown",
   "id": "dd782ccb",
   "metadata": {},
   "source": [
    "Em seguida, nós agendamos a aplicação da porta H. Executamos esse evento e novamente verificamos a evolução temporal."
   ]
  },
  {
   "cell_type": "code",
   "execution_count": 6,
   "id": "dd5a69b0",
   "metadata": {},
   "outputs": [
    {
     "data": {
      "text/plain": [
       "4.0"
      ]
     },
     "execution_count": 6,
     "metadata": {},
     "output_type": "execute_result"
    }
   ],
   "source": [
    "qprocl.execute_instruction(instr.INSTR_H, [0]) # Agendando a aplicação de H no slot 0\n",
    "ns.sim_run() # Roda o próximo evento agendado\n",
    "ns.sim_time() # checa o tempo atual em ns"
   ]
  },
  {
   "cell_type": "markdown",
   "id": "1f4efe7a",
   "metadata": {},
   "source": [
    "Como antes, podemos espiar o estado do qubit,"
   ]
  },
  {
   "cell_type": "code",
   "execution_count": 10,
   "id": "824e1b40",
   "metadata": {},
   "outputs": [
    {
     "name": "stdout",
     "output_type": "stream",
     "text": [
      "qprocl_s0 as ket KetRepr(num_qubits=1,\n",
      "ket=\n",
      "[[0.70710678+0.j]\n",
      " [0.70710678+0.j]])\n"
     ]
    }
   ],
   "source": [
    "qprocl_s0, = qprocl.peek(positions=[0]) # Espiando o qubit na posição 0.\n",
    "print(\"qprocl_s0 as ket\", qprocl_s0.qstate.qrepr) # Mostra o estado do qubit na posição 0."
   ]
  },
  {
   "cell_type": "markdown",
   "id": "73e42944",
   "metadata": {},
   "source": [
    "<span style = \"color: red\"> **Tentar executar uma instrução que não pode corresponder a uma instrução física causará um erro como pode ser visto abaixo** </span>"
   ]
  },
  {
   "cell_type": "code",
   "execution_count": 11,
   "id": "644730d9",
   "metadata": {},
   "outputs": [
    {
     "ename": "MissingInstructionError",
     "evalue": "Missing physical instruction for Instruction: z_gate",
     "output_type": "error",
     "traceback": [
      "\u001b[0;31m---------------------------------------------------------------------------\u001b[0m",
      "\u001b[0;31mMissingInstructionError\u001b[0m                   Traceback (most recent call last)",
      "Cell \u001b[0;32mIn [11], line 1\u001b[0m\n\u001b[0;32m----> 1\u001b[0m \u001b[43mqprocl\u001b[49m\u001b[38;5;241;43m.\u001b[39;49m\u001b[43mexecute_instruction\u001b[49m\u001b[43m(\u001b[49m\u001b[43minstr\u001b[49m\u001b[38;5;241;43m.\u001b[39;49m\u001b[43mINSTR_Z\u001b[49m\u001b[43m,\u001b[49m\u001b[43m \u001b[49m\u001b[43m[\u001b[49m\u001b[38;5;241;43m0\u001b[39;49m\u001b[43m]\u001b[49m\u001b[43m)\u001b[49m \u001b[38;5;66;03m# Agendando a aplicação uma porta Z no slot 0\u001b[39;00m\n\u001b[1;32m      2\u001b[0m ns\u001b[38;5;241m.\u001b[39msim_run()\n",
      "File \u001b[0;32mnetsquid/components/qprocessor.pyx:1073\u001b[0m, in \u001b[0;36mnetsquid.components.qprocessor.QuantumProcessor.execute_instruction\u001b[0;34m()\u001b[0m\n",
      "\u001b[0;31mMissingInstructionError\u001b[0m: Missing physical instruction for Instruction: z_gate"
     ]
    }
   ],
   "source": [
    "qprocl.execute_instruction(instr.INSTR_Z, [0]) # Agendando a aplicação uma porta Z no slot 0\n",
    "ns.sim_run() # Executa o próximo evento agendado."
   ]
  },
  {
   "cell_type": "markdown",
   "id": "11cc53d9",
   "metadata": {},
   "source": [
    "<span style=\"color: green\">**Para corrigir este erro, você precisari adicionar a porta Z em suas instruções físicas.**  $$$$Ao invés de:\n",
    "</span>"
   ]
  },
  {
   "cell_type": "code",
   "execution_count": 12,
   "id": "7f6e852c",
   "metadata": {},
   "outputs": [],
   "source": [
    "phys_instructions1 = [\n",
    "    PhysicalInstruction(instr.INSTR_INIT, duration=3), # Inicializando um qubit\n",
    "    PhysicalInstruction(instr.INSTR_H, duration=1),    # Porta H\n",
    "    PhysicalInstruction(instr.INSTR_X, duration=1),    # Porta X\n",
    "]"
   ]
  },
  {
   "cell_type": "markdown",
   "id": "d4dd422e",
   "metadata": {},
   "source": [
    "<span style=\"color: green\">você precisa escrever:\n",
    "</span>"
   ]
  },
  {
   "cell_type": "code",
   "execution_count": 13,
   "id": "0bc8d833",
   "metadata": {},
   "outputs": [],
   "source": [
    "phys_instructions1 = [\n",
    "    PhysicalInstruction(instr.INSTR_INIT, duration=3), # Inicializando um qubit\n",
    "    PhysicalInstruction(instr.INSTR_H, duration=1),    # Porta H\n",
    "    PhysicalInstruction(instr.INSTR_X, duration=1),    # Porta X\n",
    "    PhysicalInstruction(instr.INSTR_Z, duration=1),    # Porta Z\n",
    "]"
   ]
  },
  {
   "cell_type": "markdown",
   "id": "71cfde55-7140-4657-b41c-cbde600e10f4",
   "metadata": {},
   "source": [
    "## **Sugestões de Prática**"
   ]
  },
  {
   "cell_type": "markdown",
   "id": "f24c2c86",
   "metadata": {},
   "source": [
    "- Especifique um conjunto de instrunções físicas que permite inicializar o qubit (duração 5 ns), aplique as portas H, X, Y e Z (duração de 2 ns cada); \n",
    "- Inicialize um novo processador quântico que chame esse conjunto de instruções físicas;\n",
    "- Aplique a porta H no qubit. Rode esse evento e cheque o tempo;\n",
    "- Aplique a porta Y no qubit. Rode esse evento e cheque o tempo;\n",
    "- Aplique a porta Z no qubit. Rode esse evento e cheque o tempo;\n",
    "- Espie o estado do qubit."
   ]
  },
  {
   "cell_type": "code",
   "execution_count": null,
   "id": "2acdb46f",
   "metadata": {},
   "outputs": [],
   "source": []
  }
 ],
 "metadata": {
  "kernelspec": {
   "display_name": "Python 3 (ipykernel)",
   "language": "python",
   "name": "python3"
  },
  "language_info": {
   "codemirror_mode": {
    "name": "ipython",
    "version": 3
   },
   "file_extension": ".py",
   "mimetype": "text/x-python",
   "name": "python",
   "nbconvert_exporter": "python",
   "pygments_lexer": "ipython3",
   "version": "3.9.12"
  }
 },
 "nbformat": 4,
 "nbformat_minor": 5
}
