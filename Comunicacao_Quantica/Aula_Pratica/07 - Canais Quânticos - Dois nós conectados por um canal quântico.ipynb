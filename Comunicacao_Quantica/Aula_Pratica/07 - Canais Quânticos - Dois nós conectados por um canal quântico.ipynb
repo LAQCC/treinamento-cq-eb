{
 "cells": [
  {
   "cell_type": "markdown",
   "id": "6ac0e772-654a-4b04-9133-ad42261d9057",
   "metadata": {},
   "source": [
    "# **Canais Quânticos - dois nós conectados por um canal quântico** "
   ]
  },
  {
   "cell_type": "markdown",
   "id": "8e040a9a",
   "metadata": {},
   "source": [
    "Neste notebook praticaremos como conectar nós uns aos outros para que os qubits possam ser enviados entre eles. Até agora armazenamos qubits, aplicamos operações e os medimos. Agora daremos um passo adiante e também enviaremos qubits entre diferentes locais. <br> <br>\n",
    "\n",
    "Em primeiro lugar, agora deixamos de trabalhar diretamente com memórias quânticas ou processadores quânticos e passamos a trabalhar com nós que possuem processadores quânticos dentro deles. Os nós podem ter portas de entrada e saída que nos permitem conectar diferentes nós entre si por meio de canais clássicos ou quânticos."
   ]
  },
  {
   "cell_type": "code",
   "execution_count": 1,
   "id": "0386348d",
   "metadata": {},
   "outputs": [],
   "source": [
    "import netsquid as ns\n",
    "from netsquid.components.qprocessor import QuantumProcessor, PhysicalInstruction\n",
    "from netsquid.components.qprogram import QuantumProgram\n",
    "from netsquid.nodes import Node\n",
    "from netsquid.nodes.connections import Connection\n",
    "from netsquid.components.cchannel import ClassicalChannel\n",
    "from netsquid.components.qchannel import QuantumChannel\n",
    "import netsquid.components.instructions as instr\n",
    "from netsquid.protocols.nodeprotocols import NodeProtocol\n",
    "from netsquid.protocols.protocol import Signals\n",
    "import pydynaa\n"
   ]
  },
  {
   "cell_type": "markdown",
   "id": "7b062d65-be7b-4d5d-8647-3d5eb6c2706f",
   "metadata": {},
   "source": [
    "## <span style = \"color: black\">**Exemplo 1: Dois nós conectados por um canal quântico**</span>"
   ]
  },
  {
   "cell_type": "markdown",
   "id": "e4a2eaa2",
   "metadata": {},
   "source": [
    "Em nosso primeiro exemplo, conectaremos dois nós por um canal quântico e usaremos esse canal para enviar qubits de um nó para outro.\n",
    "Nós começamos definindo as instruções físicas e inicializando dois processadores quânticos com uma posição de memória cada."
   ]
  },
  {
   "cell_type": "code",
   "execution_count": 2,
   "id": "25019713",
   "metadata": {},
   "outputs": [],
   "source": [
    "phys_instructions1 = [\n",
    "    PhysicalInstruction(instr.INSTR_INIT, duration=3),\n",
    "    PhysicalInstruction(instr.INSTR_H, duration=1),\n",
    "    PhysicalInstruction(instr.INSTR_X, duration=1)]\n",
    "qproc1a = QuantumProcessor(name=\"ExampleQProc1a\" , num_positions =1, phys_instructions = phys_instructions1)\n",
    "qproc1b = QuantumProcessor(name=\"ExampleQProc1b\" , num_positions =1, phys_instructions = phys_instructions1)"
   ]
  },
  {
   "cell_type": "markdown",
   "id": "a8fcecb6",
   "metadata": {},
   "source": [
    "<br> <br> Cada processador será atribuído a um nó. Os dois nós estarão fisicamente separados um do outro. Para fazer isso, inicializaremos os dois nós com portas para comunicação de entrada (qin) e saída (qout). <br> <br>\n",
    "\n",
    "- <span style = \"color: orange\"> class netsquid.nodes.Node(name, ID= None, qmemory = None, port_names=None) </span>"
   ]
  },
  {
   "cell_type": "code",
   "execution_count": 3,
   "id": "ba121082",
   "metadata": {},
   "outputs": [],
   "source": [
    "node1a = Node(name=\"ExampleNode1a\", qmemory=qproc1a, port_names=['qin_1a','qout_1a'])\n",
    "node1b = Node(name=\"ExampleNode1b\", qmemory=qproc1b, port_names=['qin_1b','qout_1b'])"
   ]
  },
  {
   "cell_type": "markdown",
   "id": "4e6744ac",
   "metadata": {},
   "source": [
    "<br> <br> Nós também inicializamos um canal quântico que usaremos para conectar os dois nós. <br> <br>\n",
    "- <span style = \"color: orange\"> class netsquid.components.qchanel.QuantumChannel(name, delay=0, lenght=0, models=None, transmit_empty_items=False, properties=None, **kwargs) </span>"
   ]
  },
  {
   "cell_type": "code",
   "execution_count": 4,
   "id": "146e8a19",
   "metadata": {},
   "outputs": [],
   "source": [
    "qchannell = QuantumChannel(name=\"QChannel_1a21b\")"
   ]
  },
  {
   "cell_type": "markdown",
   "id": "63e5efcd",
   "metadata": {},
   "source": [
    "<br> <br> Nosso objetivo é:\n",
    "- Inicializar um qubit no slot 0 em node1a;\n",
    "- Enviar o qubit através do canal para node1b;\n",
    "- Armazene o qubit no slot 0 no node1b. <br> <br>\n",
    "\n",
    "Para fazer isso, precisamos conectar os nós por um canal quântico. <br> <br>\n",
    "Vamos fazer isso da seguinte forma: <br> <br>\n",
    "\n",
    "- Enviando a saída da posição de memória 0 do nó 1a para a saída do nó 1a ;\n",
    "- Enviando a entrada do nó 1b upara a entrada da posição de memória 0 no nó 1b;\n",
    "- Conectando a saída do nó 1a com a entrada do canal quântico;\n",
    "- Conectando a saída do canal quântico com a entrada do nó 1b.\n",
    "\n",
    "Desta forma podemos enviar um qubit do nó 1a para o nó 1b.\n",
    "\n",
    "<img src = nodes.png>"
   ]
  },
  {
   "cell_type": "code",
   "execution_count": 5,
   "id": "d445506d",
   "metadata": {},
   "outputs": [],
   "source": [
    "node1a.qmemory.ports['qout0'].forward_output(node1a.ports['qout_1a'])\n",
    "node1b.ports['qin_1b'].forward_input(node1b.qmemory.ports['qin0'])"
   ]
  },
  {
   "cell_type": "code",
   "execution_count": 6,
   "id": "7843de91",
   "metadata": {},
   "outputs": [],
   "source": [
    "node1a.ports['qout_1a'].connect(qchannell.ports[\"send\"])\n",
    "node1b.ports['qin_1b'].connect(qchannell.ports[\"recv\"])"
   ]
  },
  {
   "cell_type": "markdown",
   "id": "9f4b22b9",
   "metadata": {},
   "source": [
    "<br><br>Inicializando um qubit no slot 0 no node1a."
   ]
  },
  {
   "cell_type": "code",
   "execution_count": 7,
   "id": "e74e218c",
   "metadata": {},
   "outputs": [
    {
     "data": {
      "text/plain": [
       "3.0"
      ]
     },
     "execution_count": 7,
     "metadata": {},
     "output_type": "execute_result"
    }
   ],
   "source": [
    "node1a.qmemory.execute_instruction(instr.INSTR_INIT, [0]) # Agendando inicialização do qubit\n",
    "ns.sim_run() # Rodando o próximo evento agendado\n",
    "ns.sim_time() # Checando o tempo atual"
   ]
  },
  {
   "cell_type": "markdown",
   "id": "310c60dc",
   "metadata": {},
   "source": [
    "Espiando a memória, vemos que existe um qubit."
   ]
  },
  {
   "cell_type": "code",
   "execution_count": 8,
   "id": "90584e6a",
   "metadata": {},
   "outputs": [
    {
     "data": {
      "text/plain": [
       "[Qubit('QS#0-0')]"
      ]
     },
     "execution_count": 8,
     "metadata": {},
     "output_type": "execute_result"
    }
   ],
   "source": [
    "node1a.qmemory.peek(positions=[0])"
   ]
  },
  {
   "cell_type": "markdown",
   "id": "61450295",
   "metadata": {},
   "source": [
    "<br> <br> Em seguida, nós queremos enviar um qubit através do canal para o node1b. Para fazer isso, removemos (ou usamos pop) o qubit da memória e o colocamos na porta de saída da memória. <br> <br>\n",
    "\n",
    "<span style = \"color:orange\"> pop(self, positions, noise_positions = none, skip_noise=False, check_positions=True, meta_data = None, positional_qout=False) </span>"
   ]
  },
  {
   "cell_type": "code",
   "execution_count": 9,
   "id": "4997288f",
   "metadata": {},
   "outputs": [],
   "source": [
    "qubit = node1a.qmemory.pop(positions=[0]) # removendo o qubit da posição 0\n",
    "node1a.qmemory.ports[\"qout0\"].tx_output(qubit)"
   ]
  },
  {
   "cell_type": "markdown",
   "id": "181bbe98",
   "metadata": {},
   "source": [
    "<br> <br> Espiando agora, nós vemos que não há nenhum qubit na memória."
   ]
  },
  {
   "cell_type": "code",
   "execution_count": 10,
   "id": "c93bd92a",
   "metadata": {},
   "outputs": [
    {
     "data": {
      "text/plain": [
       "[None]"
      ]
     },
     "execution_count": 10,
     "metadata": {},
     "output_type": "execute_result"
    }
   ],
   "source": [
    "node1a.qmemory.peek(positions=[0])"
   ]
  },
  {
   "cell_type": "markdown",
   "id": "d62783eb",
   "metadata": {},
   "source": [
    "Espiando a memória no node1b, nós vemos que o qubit não chegou ainda."
   ]
  },
  {
   "cell_type": "code",
   "execution_count": 11,
   "id": "a47030c3",
   "metadata": {},
   "outputs": [
    {
     "data": {
      "text/plain": [
       "[None]"
      ]
     },
     "execution_count": 11,
     "metadata": {},
     "output_type": "execute_result"
    }
   ],
   "source": [
    "node1b.qmemory.peek(positions=[0])"
   ]
  },
  {
   "cell_type": "markdown",
   "id": "301de95e",
   "metadata": {},
   "source": [
    "Para realmente mover o qubit através do canal, precisamos executar o simulador que executará o evento de transmissão do qubit"
   ]
  },
  {
   "cell_type": "code",
   "execution_count": 12,
   "id": "c8212bba",
   "metadata": {},
   "outputs": [
    {
     "data": {
      "text/plain": [
       "3.0"
      ]
     },
     "execution_count": 12,
     "metadata": {},
     "output_type": "execute_result"
    }
   ],
   "source": [
    "ns.sim_run()\n",
    "ns.sim_time()"
   ]
  },
  {
   "cell_type": "markdown",
   "id": "d63b3322",
   "metadata": {},
   "source": [
    "Verificando o tempo de simulação, vemos que não passou nenhum tempo enquanto o qubit foi enviado pelo canal. Isso ocorre porque na verdade não contabilizamos a duração desse evento. No momento, a transmissão é instantânea. (Nota: poderíamos ter modelado, por exemplo, os qubits como fótons viajando através de uma fibra. Faremos isso mais tarde).\n",
    "\n",
    "Espiando o node1b, vemos que o qubit chegou e agora está armazenado na memória do node1b."
   ]
  },
  {
   "cell_type": "code",
   "execution_count": 13,
   "id": "59350d8c",
   "metadata": {},
   "outputs": [
    {
     "data": {
      "text/plain": [
       "[Qubit('QS#0-0')]"
      ]
     },
     "execution_count": 13,
     "metadata": {},
     "output_type": "execute_result"
    }
   ],
   "source": [
    "node1b.qmemory.peek(positions=[0])"
   ]
  },
  {
   "cell_type": "markdown",
   "id": "11e65aa6-c72a-4c46-bdd7-4e77c09f1736",
   "metadata": {},
   "source": [
    "## <span style=\"color:black\">**Sugestão de Prática:**\n"
   ]
  },
  {
   "cell_type": "markdown",
   "id": "e7ce2e46",
   "metadata": {},
   "source": [
    "Crie um novo exemplo no qual você permite que o qubit vá e volte entre os dois nós usando dois canais quânticos."
   ]
  },
  {
   "cell_type": "code",
   "execution_count": null,
   "id": "589f582f",
   "metadata": {},
   "outputs": [],
   "source": []
  }
 ],
 "metadata": {
  "kernelspec": {
   "display_name": "Python 3 (ipykernel)",
   "language": "python",
   "name": "python3"
  },
  "language_info": {
   "codemirror_mode": {
    "name": "ipython",
    "version": 3
   },
   "file_extension": ".py",
   "mimetype": "text/x-python",
   "name": "python",
   "nbconvert_exporter": "python",
   "pygments_lexer": "ipython3",
   "version": "3.9.12"
  }
 },
 "nbformat": 4,
 "nbformat_minor": 5
}
