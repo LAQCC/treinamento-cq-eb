{
 "cells": [
  {
   "cell_type": "markdown",
   "id": "e1d27c4f-11c7-4108-9a54-b483cc4fb9b4",
   "metadata": {},
   "source": [
    "# **Processador Quântico - Quantum Programs**"
   ]
  },
  {
   "cell_type": "markdown",
   "id": "7081d70e",
   "metadata": {},
   "source": [
    "Neste notebook nós iremos praticar como usar programas quânticos para rodar operações em sequência nos qubits. Nós iremos usar esses programas para rodar o circuito do teleporte nos qubits dentro do processador."
   ]
  },
  {
   "cell_type": "code",
   "execution_count": 1,
   "id": "a9ab613f",
   "metadata": {},
   "outputs": [],
   "source": [
    "import netsquid as ns\n",
    "from netsquid.components.qprocessor import QuantumProcessor, PhysicalInstruction\n",
    "from netsquid.components.qprogram import QuantumProgram\n",
    "import netsquid.components.instructions as instr\n",
    "import pydynaa"
   ]
  },
  {
   "cell_type": "markdown",
   "id": "7b67292d",
   "metadata": {},
   "source": [
    "<br> <br> Neste exemplo, nós trabalharemos com programas quânticos que podemos executar em processadores. <br> <br>\n",
    "\n",
    "<span style=\"color:red\">\n",
    "Como você já deve ter descoberto neste ponto, tentar executar instruções enquanto as instruções anteriores não foram concluídas causa erros (ProcessorBusyError). Aqui está um exemplo usando o processador do exemplo 1.<span>"
   ]
  },
  {
   "cell_type": "code",
   "execution_count": 2,
   "id": "86cfa929",
   "metadata": {},
   "outputs": [],
   "source": [
    "phys_instructions1 = [\n",
    "    PhysicalInstruction(instr.INSTR_INIT, duration=3), # Inicializando um qubit\n",
    "    PhysicalInstruction(instr.INSTR_H, duration=1),    # Porta H\n",
    "    PhysicalInstruction(instr.INSTR_X, duration=1),    # Porta X\n",
    "]\n",
    "\n",
    "qproc1 = QuantumProcessor(name=\"ExampleQProcl\",num_positions=1, phys_instructions=phys_instructions1)"
   ]
  },
  {
   "cell_type": "markdown",
   "id": "a55adc20",
   "metadata": {},
   "source": [
    "<br> <br> <span style=\"color:red\">\n",
    "Tentando executar uma instrução enquanto outra não foi finalizada.</span>"
   ]
  },
  {
   "cell_type": "code",
   "execution_count": 3,
   "id": "b95b18c8",
   "metadata": {},
   "outputs": [
    {
     "ename": "ProcessorBusyError",
     "evalue": "",
     "output_type": "error",
     "traceback": [
      "\u001b[0;31m---------------------------------------------------------------------------\u001b[0m",
      "\u001b[0;31mProcessorBusyError\u001b[0m                        Traceback (most recent call last)",
      "Cell \u001b[0;32mIn [3], line 2\u001b[0m\n\u001b[1;32m      1\u001b[0m qproc1\u001b[38;5;241m.\u001b[39mexecute_instruction(instr\u001b[38;5;241m.\u001b[39mINSTR_X, [\u001b[38;5;241m0\u001b[39m]) \u001b[38;5;66;03m# Agendando aplicar a porta X\u001b[39;00m\n\u001b[0;32m----> 2\u001b[0m \u001b[43mqproc1\u001b[49m\u001b[38;5;241;43m.\u001b[39;49m\u001b[43mexecute_instruction\u001b[49m\u001b[43m(\u001b[49m\u001b[43minstr\u001b[49m\u001b[38;5;241;43m.\u001b[39;49m\u001b[43mINSTR_H\u001b[49m\u001b[43m,\u001b[49m\u001b[43m \u001b[49m\u001b[43m[\u001b[49m\u001b[38;5;241;43m0\u001b[39;49m\u001b[43m]\u001b[49m\u001b[43m)\u001b[49m \u001b[38;5;66;03m# Agendando aplicar a porta H\u001b[39;00m\n\u001b[1;32m      3\u001b[0m ns\u001b[38;5;241m.\u001b[39msim_run()\n",
      "File \u001b[0;32mnetsquid/components/qprocessor.pyx:1093\u001b[0m, in \u001b[0;36mnetsquid.components.qprocessor.QuantumProcessor.execute_instruction\u001b[0;34m()\u001b[0m\n",
      "File \u001b[0;32mnetsquid/components/qprocessor.pyx:1003\u001b[0m, in \u001b[0;36mnetsquid.components.qprocessor.QuantumProcessor.execute_program\u001b[0;34m()\u001b[0m\n",
      "\u001b[0;31mProcessorBusyError\u001b[0m: "
     ]
    }
   ],
   "source": [
    "qproc1.execute_instruction(instr.INSTR_X, [0]) # Agendando aplicar a porta X\n",
    "qproc1.execute_instruction(instr.INSTR_H, [0]) # Agendando aplicar a porta H\n",
    "ns.sim_run() # Rodando o próximo evento agendado"
   ]
  },
  {
   "cell_type": "markdown",
   "id": "e3d5602e",
   "metadata": {},
   "source": [
    "<span style = \"color: green\"> Para prevenir esse erro, nós precisamos rodar cada evento em sequência.</span>"
   ]
  },
  {
   "cell_type": "markdown",
   "id": "af9c5762",
   "metadata": {},
   "source": [
    "Antes de tentarmos isso, vamos reiniciar o processador e também redefinir a linha do tempo da simulação, que limpa todos os eventos ainda agendados e zera o tempo da simulação."
   ]
  },
  {
   "cell_type": "code",
   "execution_count": 4,
   "id": "b2d19a0b",
   "metadata": {},
   "outputs": [
    {
     "data": {
      "text/plain": [
       "0.0"
      ]
     },
     "execution_count": 4,
     "metadata": {},
     "output_type": "execute_result"
    }
   ],
   "source": [
    "qproc1.reset() # Reseta o processador\n",
    "ns.sim_reset() # Reseta a timeline de simulação\n",
    "ns.sim_time() # Printa o tempo"
   ]
  },
  {
   "cell_type": "code",
   "execution_count": 5,
   "id": "4081f351",
   "metadata": {},
   "outputs": [
    {
     "data": {
      "text/plain": [
       "5.0"
      ]
     },
     "execution_count": 5,
     "metadata": {},
     "output_type": "execute_result"
    }
   ],
   "source": [
    "qproc1.execute_instruction(instr.INSTR_INIT, [0]) # Necessário para inicializar o qubit novamente, 3 ns\n",
    "ns.sim_run() # Roda o próximo evento agendado\n",
    "qproc1.execute_instruction(instr.INSTR_X, [0]) # Agenda aplicar a porta X, 1 ns\n",
    "ns.sim_run() # Roda o próximo evento agendado\n",
    "qproc1.execute_instruction(instr.INSTR_H, [0]) # Agenda aplicar a porta H, 1 ns\n",
    "ns.sim_run() # Roda o próximo evento agendado\n",
    "ns.sim_time()"
   ]
  },
  {
   "cell_type": "markdown",
   "id": "bc05b6a0",
   "metadata": {},
   "source": [
    "<br> <br> Em vez de chamar ns.sim_run() entre cada instrução, podemos usar programas quânticos.\n",
    "Os programas quânticos podem aplicar instruções sequencialmente. Vamos usar um programa quântico para teletransportar qubits como fizemos no Notebook D_QuantumMemory_Example3.\n",
    "\n",
    "Seguimos novamente o diagrama do circuito <br> <br>\n",
    "\n",
    "<img src = teleporte.png> <br> <br>\n",
    "\n",
    "Em detalhes as etapas são: <br> <br>\n",
    "- **Passo 1:** inicializar três qubits\n",
    "- **Passo 2:** Aplique as portas H e S ao primeiro qubit para configurá-lo no estado que queremos teletransportar $|0_y\\rangle = \\frac{1}{\\sqrt 2}(|0\\rangle + i|1\\rangle)$\n",
    "- **Passo 3:** entrelaçar o qubit 2 e o qubit 3 no estado Bell $|\\Phi_+\\rangle = \\frac{1}{\\sqrt 2}(|00\\rangle+|11\\rangle) $ aplicando primeiro o H e a porta CNOT\n",
    "- **Passo 4:** execute um BSM no qubit 1 e qubit 2\n",
    "- **Passo 5:** aplicar correções condicionais ao qubit 3"
   ]
  },
  {
   "cell_type": "markdown",
   "id": "fe022618",
   "metadata": {},
   "source": [
    "<br> <br> Em vez de executar todas essas instruções sequencialmente no processador, agora escrevemos um programa quântico e apenas executamos esse programa.\n",
    "\n",
    "<br> <br>$$|\\Phi_+\\rangle = \\frac{1}{\\sqrt 2}(|00\\rangle+|11\\rangle) $$\n",
    "\n",
    "<br> <br>Para fazer isso, criamos aqui uma subclasse para a classe QuantumPorgram. Este programa será executado em três qubits e teletransportará o estado do qubit 1 (na posição de memória 0)\n",
    "para qubit 3 (na posição de memória 2)\n",
    "\n",
    "$$$$\n",
    "<span style = \"color: orange\"> class netsquid.components.qprogram.QuantumProgram(num_qubits=None, parallel=True, qubit_mapping=None)\n",
    "               </span>"
   ]
  },
  {
   "cell_type": "code",
   "execution_count": 6,
   "id": "9ed85033",
   "metadata": {},
   "outputs": [],
   "source": [
    "class TeleportProgram(QuantumProgram):\n",
    "    default_num_qubits =3 # número de qubits\n",
    "    \n",
    "    def program(self):\n",
    "        q0, q1,q2 = self.get_qubit_indices(3) # verifica os índices dos qubits\n",
    "        \n",
    "        self.apply(instr.INSTR_INIT, [q0,q1,q2]) # inicializa os três qubits\n",
    "        \n",
    "        # conjunto de estados do qubit 1 pra y0\n",
    "        self.apply(instr.INSTR_H, [q0]) # Aplica H em q0\n",
    "        self.apply(instr.INSTR_S, [q0]) # Aplica S em q0\n",
    "        \n",
    "        # Emaranhando o qubit 2 e o qubit 3\n",
    "        self.apply(instr.INSTR_H, [q1]) # Aplica H em q1\n",
    "        self.apply(instr.INSTR_CNOT, [q1,q2]) # Aplica CNOT em q1 e q2\n",
    "        \n",
    "        # Agora emaranhando o qubit 1 e 2, e medindo ambos (BSM)\n",
    "        self.apply(instr.INSTR_CNOT, [q0,q1])\n",
    "        self.apply(instr.INSTR_H, [q0]) \n",
    "        self.apply(instr.INSTR_MEASURE,q0, output_key=\"m1\") #medindo q0 e armazenando o resultado\n",
    "        self.apply(instr.INSTR_MEASURE,q1, output_key=\"m2\") #medindo q1 e armazenando o resultado\n",
    "        \n",
    "        yield self.run() # roda as instruções agendada acima\n",
    "        \n",
    "        # Aplicando as correções a depender da medição\n",
    "        # Se a medição do qubit 2 (q1) resultar em '1', aplicamos a porta X ao qubit 3 (q2)\n",
    "        if self.output[\"m2\"][0] ==1:\n",
    "            self.apply(instr.INSTR_X, q2)\n",
    "        # Se a medição do qubit 1 (q0) resultar em '1', aplicamos a porta Z ao qubit 3 (q2)    \n",
    "        if self.output[\"m1\"][0]==1:\n",
    "            self.apply(instr.INSTR_Z, q2)\n",
    "            \n",
    "        yield self.run() # Executa as instruções agendadas."
   ]
  },
  {
   "cell_type": "markdown",
   "id": "b1b9df9b",
   "metadata": {},
   "source": [
    "<br> <br> Para teletransportar o estado do qubit 1, nós precisamos apenas executar esse programa. Nós podemos executar esse programa em qualquer processador, desde que suporte as instruções. <br> <br>\n",
    "\n",
    "Primeiro, nós especificamos as instruções físicas necessárias: <br> <br>\n",
    "\n",
    "- Inicializando um qubit: 3 ns.\n",
    "- Aplicando a porta S: 1 ns. Pode ser aplicada em paralelo, posição de memória 0\n",
    "- Aplicando a porta H: 1 ns. Pode ser aplicada em paralelo, posição de memória 0,1\n",
    "- Aplicando a porta X: 1 ns. Pode ser aplicada em paralelo, posição de memória 2\n",
    "- Aplicando a porta Z: 1 ns. Pode ser aplicada em paralelo, posição de memória 2\n",
    "- Aplicando a porta CNOT: 4 ns. Pode ser aplicada em paralelo, posição de memória (0 = controle, 1 = alvo) e (1 = controle, 2 = alvo)\n",
    "- Medindo na base Z: 7 ns."
   ]
  },
  {
   "cell_type": "code",
   "execution_count": 7,
   "id": "4790ae66",
   "metadata": {},
   "outputs": [],
   "source": [
    "phys_instructions3 = [\n",
    "    PhysicalInstruction(instr.INSTR_INIT, duration=3),\n",
    "    PhysicalInstruction(instr.INSTR_S, duration =1, parallel=True, topology=[0]),\n",
    "    PhysicalInstruction(instr.INSTR_H, duration =1, parallel=True, topology=[0,1]),\n",
    "    PhysicalInstruction(instr.INSTR_X, duration =1, parallel=True, topology=[2]),\n",
    "    PhysicalInstruction(instr.INSTR_Z, duration =1, parallel=True, topology=[2]),\n",
    "    PhysicalInstruction(instr.INSTR_CNOT, duration =1, parallel=True, topology=[(0,1),(1,2)]),\n",
    "    PhysicalInstruction(instr.INSTR_MEASURE, duration =7, parallel=True, topology=[0,1])\n",
    "]"
   ]
  },
  {
   "cell_type": "markdown",
   "id": "1942fbd5",
   "metadata": {},
   "source": [
    "<br> <br> A seguir, nós iniciaizaremos um processador quântico com uma memória quântica com três posições de memória, e utilizaremos as instruções físicas especificadas acima."
   ]
  },
  {
   "cell_type": "code",
   "execution_count": 8,
   "id": "54648857",
   "metadata": {},
   "outputs": [],
   "source": [
    "ns.sim_reset() # resetando a simulação"
   ]
  },
  {
   "cell_type": "code",
   "execution_count": 9,
   "id": "7960d220",
   "metadata": {},
   "outputs": [],
   "source": [
    "qproc3 = QuantumProcessor(name=\"ExampleQProc3\", num_positions=3, phys_instructions = phys_instructions3)"
   ]
  },
  {
   "cell_type": "markdown",
   "id": "85df7a8e",
   "metadata": {},
   "source": [
    "<br> <br> Executamos agora o programa no processador que foi inicializado."
   ]
  },
  {
   "cell_type": "code",
   "execution_count": 10,
   "id": "af378a11",
   "metadata": {},
   "outputs": [
    {
     "data": {
      "text/plain": [
       "14.0"
      ]
     },
     "execution_count": 10,
     "metadata": {},
     "output_type": "execute_result"
    }
   ],
   "source": [
    "qproc3.execute_program(TeleportProgram()) # Agendando a execução do programa no processador\n",
    "ns.sim_run() # Rodando o próximo evento agendado\n",
    "ns.sim_time() # Checando o tempo atual em ns"
   ]
  },
  {
   "cell_type": "markdown",
   "id": "77af3694",
   "metadata": {},
   "source": [
    "Para avaliar quão bem o teleporte funcionou, olhamos a fidelidade."
   ]
  },
  {
   "cell_type": "code",
   "execution_count": 12,
   "id": "5dddec7d",
   "metadata": {},
   "outputs": [
    {
     "name": "stdout",
     "output_type": "stream",
     "text": [
      "Fidelity of teleported state: 0.9999999999999998\n"
     ]
    }
   ],
   "source": [
    "qproc3_s3, = qproc3.peek(positions=[2])\n",
    "print(\"Fidelity of teleported state: {}\".format(ns.qubits.fidelity([qproc3_s3],ns.y0)))"
   ]
  },
  {
   "cell_type": "markdown",
   "id": "304e6851-68e2-4eae-abcb-5e0400675a01",
   "metadata": {},
   "source": [
    "## **Sugestão de Prática**"
   ]
  },
  {
   "cell_type": "markdown",
   "id": "1525abb9",
   "metadata": {},
   "source": [
    "Escreva um novo programa que ao invés de teleportar o estado ns.y0 $\\rightarrow|0_y\\rangle = \\frac{1}{\\sqrt 2}(|0\\rangle + i|1\\rangle)$ , teleporte o estado ns.h0 $\\rightarrow|+\\rangle = \\frac{1}{\\sqrt 2}(|0\\rangle + |1\\rangle)$ ou o estado ns.y1 $\\rightarrow|1_y\\rangle = \\frac{1}{\\sqrt 2}(|0\\rangle - i|1\\rangle)$. <br> <br>\n",
    "\n",
    "Você pode também modificar o exemplo acima ou criar o seu próprio. Lembre-se de modificar as instruções físicas se necessário, e de trocar o estado alvo quando for calcular a fidelidade correspondente."
   ]
  },
  {
   "cell_type": "code",
   "execution_count": null,
   "id": "b4facac5",
   "metadata": {},
   "outputs": [],
   "source": []
  }
 ],
 "metadata": {
  "kernelspec": {
   "display_name": "Python 3 (ipykernel)",
   "language": "python",
   "name": "python3"
  },
  "language_info": {
   "codemirror_mode": {
    "name": "ipython",
    "version": 3
   },
   "file_extension": ".py",
   "mimetype": "text/x-python",
   "name": "python",
   "nbconvert_exporter": "python",
   "pygments_lexer": "ipython3",
   "version": "3.9.12"
  }
 },
 "nbformat": 4,
 "nbformat_minor": 5
}
