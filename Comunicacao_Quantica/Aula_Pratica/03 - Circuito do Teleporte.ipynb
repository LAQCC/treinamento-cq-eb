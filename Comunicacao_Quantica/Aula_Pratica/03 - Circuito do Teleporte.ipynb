{
 "cells": [
  {
   "cell_type": "markdown",
   "id": "8b466ca6-004b-4315-b629-0cc348719d8f",
   "metadata": {},
   "source": [
    "# **Exemplo 3 - Circuito do Teleporte**"
   ]
  },
  {
   "cell_type": "markdown",
   "id": "76543a7b",
   "metadata": {},
   "source": [
    "Neste notebook, iremos aprender como ocorre o teleporte do estado de um qubit entre diferentes posições de memória.\n",
    "\n",
    "<img src = teleporte.png>"
   ]
  },
  {
   "cell_type": "code",
   "execution_count": 1,
   "id": "34cede43",
   "metadata": {},
   "outputs": [],
   "source": [
    "# Importando os pacotes necessários\n",
    "import netsquid as ns\n",
    "from netsquid.components.qmemory import QuantumMemory\n",
    "import netsquid.components.instructions as instr"
   ]
  },
  {
   "cell_type": "markdown",
   "id": "7ddc3420",
   "metadata": {},
   "source": [
    "<br> <br> Usando uma memória quântica com 3 posições de memória, nós demostramos como teleportar o estado de um qubit armazenado na posição 0 (qubit 1) para o qubit na posição 2 (qubit 3)."
   ]
  },
  {
   "cell_type": "code",
   "execution_count": 2,
   "id": "92ddda75",
   "metadata": {},
   "outputs": [],
   "source": [
    "# Criando uma memória quântica com 3 qubits\n",
    "qmemory3 = QuantumMemory(name=\"ExampleQMem3\" , num_positions=3)\n",
    "instr.INSTR_INIT(qmemory3, positions = [0]) # Inicializando um qubit na posição 0\n",
    "instr.INSTR_INIT(qmemory3, positions = [1]) # Inicializando um qubit na posição 1\n",
    "instr.INSTR_INIT(qmemory3, positions = [2]) # Inicializando um qubit na posição 2"
   ]
  },
  {
   "cell_type": "code",
   "execution_count": 3,
   "id": "db2d3b79",
   "metadata": {},
   "outputs": [
    {
     "name": "stdout",
     "output_type": "stream",
     "text": [
      "qmem3_s0 as ket KetRepr(num_qubits=1,\n",
      "ket=\n",
      "[[1.+0.j]\n",
      " [0.+0.j]])\n",
      "qmem3_s1 as ket KetRepr(num_qubits=1,\n",
      "ket=\n",
      "[[1.+0.j]\n",
      " [0.+0.j]])\n",
      "qmem3_s2 as ket KetRepr(num_qubits=1,\n",
      "ket=\n",
      "[[1.+0.j]\n",
      " [0.+0.j]])\n"
     ]
    }
   ],
   "source": [
    "qmem3_s0, = qmemory3.peek(positions=[0]) # Espiando o qubit na posição 0\n",
    "qmem3_s1, = qmemory3.peek(positions=[1]) # Espiando o qubit na posição 1\n",
    "qmem3_s2, = qmemory3.peek(positions=[2]) # Espiando o qubit na posição 2\n",
    "print(\"qmem3_s0 as ket\", qmem3_s0.qstate.qrepr) # Printa o estado do qubit na posição 0\n",
    "print(\"qmem3_s1 as ket\", qmem3_s1.qstate.qrepr) # Printa o estado do qubit na posição 1\n",
    "print(\"qmem3_s2 as ket\", qmem3_s2.qstate.qrepr) # Printa o estado do qubit na posição 2"
   ]
  },
  {
   "cell_type": "markdown",
   "id": "211677d9",
   "metadata": {},
   "source": [
    "Vemos que todos os três qubits estão no estado $|0\\rangle$. <br> <br>\n",
    "Agora, iremos mudar o estado do qubit 1 para o estado <br> <br>\n",
    "$$|0_y \\rangle = \\frac{1}{\\sqrt 2}(|0\\rangle + i |1\\rangle)$$ <br> <br>\n",
    "Nosso objetivo é teleportar esse estado do qubit 1 (slot 0) para o qubit 3 (slot 2)."
   ]
  },
  {
   "cell_type": "code",
   "execution_count": 4,
   "id": "07805265",
   "metadata": {},
   "outputs": [
    {
     "name": "stdout",
     "output_type": "stream",
     "text": [
      "qmem3_s0 as ket KetRepr(num_qubits=1,\n",
      "ket=\n",
      "[[0.70710678+0.j        ]\n",
      " [0.        +0.70710678j]])\n"
     ]
    }
   ],
   "source": [
    "instr.INSTR_H(qmemory3, positions=[0]) # Aplicando a porta Hadamard na posição 0\n",
    "instr.INSTR_S(qmemory3, positions=[0]) # Aplicando a porta S na posição 0\n",
    "print(\"qmem3_s0 as ket\", qmem3_s0.qstate.qrepr) # Printa o estado do qubit na posição 0"
   ]
  },
  {
   "cell_type": "markdown",
   "id": "89154d28",
   "metadata": {},
   "source": [
    "O qubit 1 (slot 0) agora é o estado\n",
    "$$|\\psi\\rangle = \\frac{1}{\\sqrt 2}(|0\\rangle + i|1\\rangle)$$\n",
    "Para constar, esse estado também é predefinido no NetSquid. É o estado ns.y0"
   ]
  },
  {
   "cell_type": "code",
   "execution_count": 5,
   "id": "e76db4b1",
   "metadata": {},
   "outputs": [
    {
     "name": "stdout",
     "output_type": "stream",
     "text": [
      "[[0.70710678+0.j        ]\n",
      " [0.        +0.70710678j]]\n"
     ]
    }
   ],
   "source": [
    "print(ns.y0)"
   ]
  },
  {
   "cell_type": "markdown",
   "id": "de279caf",
   "metadata": {},
   "source": [
    "Em seguida, nós emaranharemos os qubits 2 e 3, aplicando a porta H e a CNOT ( conforme a imagem)"
   ]
  },
  {
   "cell_type": "code",
   "execution_count": 6,
   "id": "c19082fe",
   "metadata": {},
   "outputs": [],
   "source": [
    "instr.INSTR_H(qmemory3, positions=[1]) # Aplicando a porta Hadamard na posição 1\n",
    "instr.INSTR_CNOT(qmemory3, positions=[1,2]) # Aplicando a porta CNOT com slot 1 como controle e na posição como alvo."
   ]
  },
  {
   "cell_type": "code",
   "execution_count": 7,
   "id": "49b451e3",
   "metadata": {},
   "outputs": [
    {
     "name": "stdout",
     "output_type": "stream",
     "text": [
      "qmem3_s0 as ket KetRepr(num_qubits=1,\n",
      "ket=\n",
      "[[0.70710678+0.j        ]\n",
      " [0.        +0.70710678j]])\n",
      "qmem3_s1 as ket KetRepr(num_qubits=2,\n",
      "ket=\n",
      "[[0.70710678+0.j]\n",
      " [0.        +0.j]\n",
      " [0.        +0.j]\n",
      " [0.70710678+0.j]])\n",
      "qmem3_s2 as ket KetRepr(num_qubits=2,\n",
      "ket=\n",
      "[[0.70710678+0.j]\n",
      " [0.        +0.j]\n",
      " [0.        +0.j]\n",
      " [0.70710678+0.j]])\n"
     ]
    }
   ],
   "source": [
    "print(\"qmem3_s0 as ket\", qmem3_s0.qstate.qrepr) # Printa o estado do qubit na posição 0\n",
    "print(\"qmem3_s1 as ket\", qmem3_s1.qstate.qrepr) # Printa o estado do qubit na posição 1\n",
    "print(\"qmem3_s2 as ket\", qmem3_s2.qstate.qrepr) # Printa o estado do qubit na posição 2"
   ]
  },
  {
   "cell_type": "markdown",
   "id": "a789a60a",
   "metadata": {},
   "source": [
    "Vemos que o qubit 1 está no estado $|0_y\\rangle$ \n",
    "Já os qubits 2 e 3 estão compartilhando um estado de Bell <br> <br>\n",
    "$$|\\Phi_+\\rangle = \\frac{1}{\\sqrt 2} \\begin{pmatrix}\n",
    "1 \\\\0\n",
    " \\\\0\n",
    " \\\\1\n",
    "\\end{pmatrix} = \\frac{1}{\\sqrt 2}(|00\\rangle + |11\\rangle) $$ <br> <br>\n",
    "\n",
    "Agora, nós realizamos a medição do estado de Bell ( BSM - Bell State Measurement ) nos qubits do slot 0 e slot 1 (Conforme a imagem). Para isso, aplicamos as portas CNOT e H nos dois qubits."
   ]
  },
  {
   "cell_type": "code",
   "execution_count": 8,
   "id": "16df50df",
   "metadata": {},
   "outputs": [],
   "source": [
    "instr.INSTR_CNOT(qmemory3, positions=[0,1])\n",
    "instr.INSTR_H(qmemory3, positions=[0]) # Aplicando a porta Hadamard na posição 0"
   ]
  },
  {
   "cell_type": "markdown",
   "id": "4316c586",
   "metadata": {},
   "source": [
    "<br> <br> Medindo os qubits 1 e 2"
   ]
  },
  {
   "cell_type": "code",
   "execution_count": 9,
   "id": "59906a14",
   "metadata": {},
   "outputs": [],
   "source": [
    "m1 = instr.INSTR_MEASURE(qmemory3, positions=[0]) # Medindo o qubit na posição 0 (qubit 1)\n",
    "m2 = instr.INSTR_MEASURE(qmemory3, positions=[1]) # Medindo o qubit na posição 1 (qubit 2)"
   ]
  },
  {
   "cell_type": "markdown",
   "id": "72e1b152",
   "metadata": {},
   "source": [
    "<br> <br> Dependendo do resultado da medição, agora realizamos operações de correção.\n",
    "- Se a medição do qubit no slot 1 resultou em '1', aplicamos a porta X ao qubit no slot 2.\n",
    "- Se a medição do qubit no slot 0 resultou em '1', aplicamos o Z ao qubit no slot 2."
   ]
  },
  {
   "cell_type": "code",
   "execution_count": 10,
   "id": "2376464e",
   "metadata": {},
   "outputs": [
    {
     "name": "stdout",
     "output_type": "stream",
     "text": [
      "aplicando a porta Z\n"
     ]
    }
   ],
   "source": [
    "if m2[0] == 1: # Medição do qubit na posição 1 resultando em \"1\"\n",
    "    print(\"aplicando a porta X\")\n",
    "    instr.INSTR_X(qmemory3, positions=[2]) # Aplicando a porta X no qubit na posição 2\n",
    "if m1[0] ==1: # Medição do qubit na posição 0 resultando em \"1\"\n",
    "    print(\"aplicando a porta Z\")\n",
    "    instr.INSTR_Z(qmemory3, positions=[2]) # Aplicando a porta Z no qubit na posição 2"
   ]
  },
  {
   "cell_type": "markdown",
   "id": "122383ad",
   "metadata": {},
   "source": [
    "O qubit no slot 2 agora está no estado:\n"
   ]
  },
  {
   "cell_type": "code",
   "execution_count": 11,
   "id": "1dccd810",
   "metadata": {},
   "outputs": [
    {
     "name": "stdout",
     "output_type": "stream",
     "text": [
      "qmem3_s2 as ket KetRepr(num_qubits=1,\n",
      "ket=\n",
      "[[7.07106781e-01-1.73191211e-16j]\n",
      " [1.73191211e-16+7.07106781e-01j]])\n"
     ]
    }
   ],
   "source": [
    "print(\"qmem3_s2 as ket\", qmem3_s2.qstate.qrepr)"
   ]
  },
  {
   "cell_type": "markdown",
   "id": "0afa1cab",
   "metadata": {},
   "source": [
    "Para comparar quão bem conseguimos teleportar o estado do qubit 1 para o qubit 3, calculamos a fidelidade (uma medida de quão semelhante é o estado teleportado ao estado original que queríamos teleportar)\n",
    "\n",
    "<span style=\"color:orange\"> class netsquid.qubits.qubitapi.fidelity(qubits, reference_state, squared=False)</span>"
   ]
  },
  {
   "cell_type": "code",
   "execution_count": 13,
   "id": "435a04dc",
   "metadata": {},
   "outputs": [
    {
     "name": "stdout",
     "output_type": "stream",
     "text": [
      "Fidelidade do estado teleportado: 0.9999999999999998\n"
     ]
    }
   ],
   "source": [
    "print(\"Fidelidade do estado teleportado: {}\".format(\n",
    "    ns.qubits.fidelity([qmem3_s2], ns.y0))) # Compara o estado teleportado com o estado que se deseja."
   ]
  },
  {
   "cell_type": "markdown",
   "id": "75411909-f516-4d07-86de-1cb8418c4356",
   "metadata": {},
   "source": [
    "## **Sugestão de Prática**"
   ]
  },
  {
   "cell_type": "markdown",
   "id": "b0a3c76f",
   "metadata": {},
   "source": [
    "- Tente teleportar outros estados;\n",
    "- Em nosso exemplo nós teleportamos ns.y0;\n",
    "- Tente teleportar o estado ns.h0;\n",
    "- $|+\\rangle = \\frac{1}{\\sqrt 2}(|0\\rangle + |1\\rangle)$;\n",
    "- ou o estado ns.y1;\n",
    "- $|1_y\\rangle = \\frac{1}{\\sqrt 2}(|0\\rangle - i |1\\rangle)$;\n",
    "- Você pode modificar o exemplo acima ou criar o seu próprio. Lembre-se de alterar o estado de destino ao calcular a fidelidade correspondente"
   ]
  },
  {
   "cell_type": "code",
   "execution_count": null,
   "id": "7dd20e9a",
   "metadata": {},
   "outputs": [],
   "source": []
  }
 ],
 "metadata": {
  "kernelspec": {
   "display_name": "Python 3 (ipykernel)",
   "language": "python",
   "name": "python3"
  },
  "language_info": {
   "codemirror_mode": {
    "name": "ipython",
    "version": 3
   },
   "file_extension": ".py",
   "mimetype": "text/x-python",
   "name": "python",
   "nbconvert_exporter": "python",
   "pygments_lexer": "ipython3",
   "version": "3.9.12"
  }
 },
 "nbformat": 4,
 "nbformat_minor": 5
}
