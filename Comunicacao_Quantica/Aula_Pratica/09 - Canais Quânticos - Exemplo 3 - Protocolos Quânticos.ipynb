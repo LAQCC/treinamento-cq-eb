{
 "cells": [
  {
   "cell_type": "markdown",
   "id": "2a312df1",
   "metadata": {},
   "source": [
    "# **Canais Quânticos - Exemplo 3 - Protocolos Quânticos**"
   ]
  },
  {
   "cell_type": "markdown",
   "id": "9e52e609-8928-4d89-bf21-1753fae9e92b",
   "metadata": {},
   "source": [
    "Neste notebook praticaremos como trabalhar com protocolos quânticos que podemos anexar aos nós e que podemos utilizar para executar programas nos nós. Isso nos ajudará a simular mais facilmente cenários mais complexos."
   ]
  },
  {
   "cell_type": "code",
   "execution_count": 1,
   "id": "f1431418",
   "metadata": {},
   "outputs": [],
   "source": [
    "import netsquid as ns\n",
    "from netsquid.components.qprocessor import QuantumProcessor, PhysicalInstruction\n",
    "from netsquid.components.qprogram import QuantumProgram\n",
    "from netsquid.nodes import Node\n",
    "from netsquid.nodes.connections import Connection\n",
    "from netsquid.components.cchannel import ClassicalChannel\n",
    "from netsquid.components.qchannel import QuantumChannel\n",
    "import netsquid.components.instructions as instr\n",
    "from netsquid.protocols.nodeprotocols import NodeProtocol\n",
    "from netsquid.protocols.protocol import Signals\n",
    "import pydynaa"
   ]
  },
  {
   "cell_type": "markdown",
   "id": "77849aba",
   "metadata": {},
   "source": [
    "Para praticar, nós iremos reescrever o exemplo anterior usando protocolos para cada nó.\n",
    "\n",
    "Na sequência, iremos:\n",
    "- Definir as instruções físicas que queremos utilizar nas memórias quânticas;\n",
    "- Inicializar os processadores;\n",
    "- Inicializar os nós;\n",
    "- Inicializar o canal clássico;\n",
    "- Conectar os dois nós a esse canal."
   ]
  },
  {
   "cell_type": "code",
   "execution_count": 2,
   "id": "ea7aa340",
   "metadata": {},
   "outputs": [],
   "source": [
    "phys_instructions3 = [\n",
    "    PhysicalInstruction(instr.INSTR_INIT, duration=3),\n",
    "    PhysicalInstruction(instr.INSTR_H, duration=1),\n",
    "    PhysicalInstruction(instr.INSTR_X, duration=1),\n",
    "    PhysicalInstruction(instr.INSTR_MEASURE, duration=7)]\n",
    "\n",
    "qproc3a = QuantumProcessor(name=\"ExampleQProc3a\" , num_positions =1, phys_instructions = phys_instructions3)\n",
    "qproc3b = QuantumProcessor(name=\"ExampleQProc3b\" , num_positions =1, phys_instructions = phys_instructions3)\n",
    "\n",
    "node3a = Node(name=\"ExampleNode3a\", qmemory=qproc3a, port_names=['cin_3a','cout_3a'])\n",
    "node3b = Node(name=\"ExampleNode3b\", qmemory=qproc3b, port_names=['cin_3b','cout_3b'])\n",
    "\n",
    "cchannel3 = ClassicalChannel(name=\"CChannel_3a23b\")\n",
    "\n",
    "node3a.ports['cout_3a'].connect(cchannel3.ports[\"send\"])\n",
    "node3b.ports['cin_3b'].connect(cchannel3.ports[\"recv\"])"
   ]
  },
  {
   "cell_type": "markdown",
   "id": "d51004aa",
   "metadata": {},
   "source": [
    "Em seguida, definimos um programa quântico para o node3a (o mesmo de antes) onde:\n",
    "- Inicializamos um qubit no slot 0 no node3a;\n",
    "- Mudamos o estado do qubit para  $|+\\rangle = \\frac{1}{\\sqrt 2}(|0\\rangle + |1\\rangle)$;\n",
    "- Medimos o qubit."
   ]
  },
  {
   "cell_type": "code",
   "execution_count": 3,
   "id": "a806d253",
   "metadata": {},
   "outputs": [],
   "source": [
    "class node3aProgram(QuantumProgram):\n",
    "    default_num_qubits = 1 # Número de qubits\n",
    "    \n",
    "    def program(self):\n",
    "        q0, = self.get_qubit_indices(1) #obtendo os índices para o qubit que estaremos trabalhando\n",
    "        self.apply(instr.INSTR_INIT, [q0]) # Inicializando o qubit\n",
    "        \n",
    "        # conjunto do estado do qubit para h0\n",
    "        self.apply(instr.INSTR_H, [q0]) # aplicando a porta H no q0\n",
    "        \n",
    "        # Agora medindo qubit\n",
    "        self.apply(instr.INSTR_MEASURE, q0, output_key=\"m1\") # Medindo q0 e armazenando o resultado\n",
    "        \n",
    "        yield self.run() # Rodando as instruções agendadas acima"
   ]
  },
  {
   "cell_type": "markdown",
   "id": "3f1a7e72",
   "metadata": {},
   "source": [
    "No exemplo 2, executamos o programa diretamente no NodeA. Agora, vamos incorporá-lo dentro de um protocolo. O protocolo primeiro executará o programa e assim que o qubit for medido, ele enviará o resultado da medição para a porta de saída do node3a."
   ]
  },
  {
   "cell_type": "code",
   "execution_count": 4,
   "id": "bc2afc52",
   "metadata": {},
   "outputs": [],
   "source": [
    "class node3aProtocol(NodeProtocol):\n",
    "    def run(self):\n",
    "        node3aprog = node3aProgram()\n",
    "        \n",
    "        yield self.node.qmemory.execute_program(node3aprog)\n",
    "        \n",
    "        m1, = node3aprog.output[\"m1\"]\n",
    "        print(\"measurement outcome\", m1)\n",
    "        self.node.ports[\"cout_3a\"].tx_output(m1)"
   ]
  },
  {
   "cell_type": "markdown",
   "id": "8917fd04",
   "metadata": {},
   "source": [
    "<br><br>No node3b, queremos inicializar um qubit. Para realizar esta etapa, escrevemos um programa que será executado em node3b"
   ]
  },
  {
   "cell_type": "code",
   "execution_count": 5,
   "id": "e8d31098",
   "metadata": {},
   "outputs": [],
   "source": [
    "class node3bProgram(QuantumProgram):\n",
    "    default_num_qubits = 1 # Número de qubits\n",
    "    \n",
    "    def program(self):\n",
    "        q0, = self.get_qubit_indices(1) #obtendo os índices para o qubit que estaremos trabalhando\n",
    "        self.apply(instr.INSTR_INIT, [q0]) # Inicializando o qubit\n",
    "        yield self.run() # Rodando as instruções agendadas acima"
   ]
  },
  {
   "cell_type": "markdown",
   "id": "c0389da3",
   "metadata": {},
   "source": [
    "<br><br>Como acabamos de fazer para node3a, agora escrevemos um protocolo para node3b. O protocolo irá\n",
    "- executar o programa (que inicializa o qubit no node3b);\n",
    "- receber o bit clássico enviado por node3a;\n",
    "- alterar o estado do qubit.\n",
    "\n",
    "<span style = \"color: orange\"> classnetsquid.protocols.nodeprotocols.NodeProtocol(node=None, name=None)</span>"
   ]
  },
  {
   "cell_type": "code",
   "execution_count": 6,
   "id": "84cdcfc9",
   "metadata": {},
   "outputs": [],
   "source": [
    "class node3bProtocol(NodeProtocol):\n",
    "    def run(self):\n",
    "        port_cin = self.node.ports[\"cin_3b\"]\n",
    "        node3bprog = node3bProgram()\n",
    "        \n",
    "        yield self.node.qmemory.execute_program(node3bprog) # qubit tem que ser inicializado\n",
    "        \n",
    "        #Aguardando a mensagem chegar aqui\n",
    "        expr = yield(self.await_port_input(port_cin))\n",
    "        message = self.node.ports[\"cin_3b\"].rx_input()\n",
    "        \n",
    "        if message.items[0] == 1 :\n",
    "            self.node.qmemory.execute_instruction(instr.INSTR_H,[0]) # Aplica a porta H\n",
    "            print(\"aplicando porta H\")\n",
    "        if message.items[0] == 0 :\n",
    "            self.node.qmemory.execute_instruction(instr.INSTR_X,[0]) # Aplica a porta X\n",
    "            print(\"aplicando porta X\")"
   ]
  },
  {
   "cell_type": "markdown",
   "id": "65c977c2",
   "metadata": {},
   "source": [
    "<br><br> Agora, nós podemos rodar os dois protocolos em nossos dois nós"
   ]
  },
  {
   "cell_type": "code",
   "execution_count": 7,
   "id": "87b19560",
   "metadata": {},
   "outputs": [
    {
     "name": "stdout",
     "output_type": "stream",
     "text": [
      "measurement outcome 0\n",
      "aplicando porta X\n"
     ]
    },
    {
     "data": {
      "text/plain": [
       "<function netsquid.util.simtools.sim_time(magnitude=1)>"
      ]
     },
     "execution_count": 7,
     "metadata": {},
     "output_type": "execute_result"
    }
   ],
   "source": [
    "node3aprot = node3aProtocol(node3a)\n",
    "node3bprot = node3bProtocol(node3b)\n",
    "\n",
    "node3aprot.start() # Inicia o protocolo no node3a\n",
    "node3bprot.start() # Inicia o protocolo no node3b\n",
    "\n",
    "ns.sim_run() # Inicia a simulação\n",
    "ns.sim_time"
   ]
  },
  {
   "cell_type": "markdown",
   "id": "a1deaae9-a401-4de7-8da7-b495e48ca729",
   "metadata": {},
   "source": [
    "## Sugestões de Prática:"
   ]
  },
  {
   "cell_type": "markdown",
   "id": "c875f691",
   "metadata": {},
   "source": [
    "Combine o que praticamos nos últimos exemplos:\n",
    "\n",
    "- Crie um processador quântico com duas posições de memória e atribua-o ao nó A;\n",
    "- Crie um processador quântico com duas posições de memória e atribua-o ao nó B.\n",
    "\n",
    "Use programas quânticos e protocolos de nós para\n",
    "\n",
    "- Inicialize os dois qubits no nó A;\n",
    "- Aplique a porta H ao segundo qubit;\n",
    "- Meça o segundo qubit;\n",
    "- Envie o primeiro qubit para nodeB;\n",
    "- Envie o resultado da medição para o nó B.\n",
    "use o resultado da medição para decidir como alterar o estado do qubit no nó B"
   ]
  },
  {
   "cell_type": "code",
   "execution_count": null,
   "id": "97e5ea8e",
   "metadata": {},
   "outputs": [],
   "source": []
  }
 ],
 "metadata": {
  "kernelspec": {
   "display_name": "Python 3 (ipykernel)",
   "language": "python",
   "name": "python3"
  },
  "language_info": {
   "codemirror_mode": {
    "name": "ipython",
    "version": 3
   },
   "file_extension": ".py",
   "mimetype": "text/x-python",
   "name": "python",
   "nbconvert_exporter": "python",
   "pygments_lexer": "ipython3",
   "version": "3.9.12"
  }
 },
 "nbformat": 4,
 "nbformat_minor": 5
}
