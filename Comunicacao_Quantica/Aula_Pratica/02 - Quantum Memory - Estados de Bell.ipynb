{
 "cells": [
  {
   "cell_type": "markdown",
   "id": "5cf2daf8-2a25-4266-bcdb-18be1e42370b",
   "metadata": {},
   "source": [
    "## **Memórias Quânticas- Exemplo 2**"
   ]
  },
  {
   "cell_type": "markdown",
   "id": "1f8ca185",
   "metadata": {},
   "source": [
    "Neste notebook nós iremos praticar operações entre dois qubits e realizar emaranhamento entre eles"
   ]
  },
  {
   "cell_type": "code",
   "execution_count": 1,
   "id": "7967db9c",
   "metadata": {},
   "outputs": [],
   "source": [
    "# Importando os pacotes necessários\n",
    "import netsquid as ns\n",
    "from netsquid.components.qmemory import QuantumMemory\n",
    "import netsquid.components.instructions as instr"
   ]
  },
  {
   "cell_type": "markdown",
   "id": "15ab68e7",
   "metadata": {},
   "source": [
    "<br> <br> Para esse exemplo, nós precisamos de uma memória quântica com duas posições"
   ]
  },
  {
   "cell_type": "code",
   "execution_count": 2,
   "id": "37e411be",
   "metadata": {},
   "outputs": [],
   "source": [
    "# Criando uma memória quântica com duas posições\n",
    "qmemory2 = QuantumMemory(name=\"ExampleQmem2\", num_positions=2)"
   ]
  },
  {
   "cell_type": "markdown",
   "id": "922210bf",
   "metadata": {},
   "source": [
    "<br> <br> Em seguida, nós inicializamos os dois qubits."
   ]
  },
  {
   "cell_type": "code",
   "execution_count": 3,
   "id": "1edf7ebc",
   "metadata": {},
   "outputs": [],
   "source": [
    "instr.INSTR_INIT(qmemory2, positions=[0]) # Inicializando um qubit na posição 0\n",
    "instr.INSTR_INIT(qmemory2, positions=[1]) # Inicializando um qubit na posição 1"
   ]
  },
  {
   "cell_type": "markdown",
   "id": "9f14d223",
   "metadata": {},
   "source": [
    "<br> <br> Vamos \"espiar\" os qubits e checar os estados."
   ]
  },
  {
   "cell_type": "code",
   "execution_count": 4,
   "id": "ee0b79c9",
   "metadata": {},
   "outputs": [
    {
     "name": "stdout",
     "output_type": "stream",
     "text": [
      "qmem2_s0 as ket KetRepr(num_qubits=1,\n",
      "ket=\n",
      "[[1.+0.j]\n",
      " [0.+0.j]])\n",
      "qmem2_s0 as ket KetRepr(num_qubits=1,\n",
      "ket=\n",
      "[[1.+0.j]\n",
      " [0.+0.j]])\n"
     ]
    }
   ],
   "source": [
    "qmem2_s0, = qmemory2.peek(positions=[0]) # Espiar o qubit na posição 0\n",
    "qmem2_s1, = qmemory2.peek(positions=[1]) # Espiar o qubit na posição 1\n",
    "print(\"qmem2_s0 as ket\", qmem2_s0.qstate.qrepr) # Mostra o estado do qubit na posição 0\n",
    "print(\"qmem2_s0 as ket\", qmem2_s1.qstate.qrepr) # Mostra o estado do qubit na posição 1"
   ]
  },
  {
   "cell_type": "markdown",
   "id": "f89347b8",
   "metadata": {},
   "source": [
    "Nós vimos que ambos qubits estão no estado: <br> <br>\n",
    "\n",
    "$$|\\psi\\rangle = \\begin{pmatrix}\n",
    "1 \\\\ 0\n",
    "\\end{pmatrix} = |0\\rangle$$ <br> <br>\n",
    "$$$$\n",
    "Agora, iremos aplicar a porta H para o primeiro qubit e então \"espiaremos\" o seu estado."
   ]
  },
  {
   "cell_type": "code",
   "execution_count": 5,
   "id": "356989a7",
   "metadata": {},
   "outputs": [
    {
     "name": "stdout",
     "output_type": "stream",
     "text": [
      "qmem1_s1 as ket KetRepr(num_qubits=1,\n",
      "ket=\n",
      "[[0.70710678+0.j]\n",
      " [0.70710678+0.j]])\n"
     ]
    }
   ],
   "source": [
    "# Aplicando a porta H na posição 1\n",
    "instr.INSTR_H(qmemory2, positions=[0])\n",
    "print(\"qmem1_s1 as ket\", qmem2_s0.qstate.qrepr) # Mostra o estado do qubit no slot 1"
   ]
  },
  {
   "cell_type": "markdown",
   "id": "d79d11a6",
   "metadata": {},
   "source": [
    "Nós vimos que após aplicar a porta H, o estado do qubit agora é: <br> <br>\n",
    "$$$$\n",
    "$$| \\psi \\rangle  =\\frac{1}{\\sqrt 2} \\begin{pmatrix}\n",
    "1 \\\\  1\n",
    "\\end{pmatrix} = \\frac{1}{\\sqrt 2}( | 0\\rangle+| 1\\rangle). $$ <br> <br>\n",
    "$$$$\n",
    "Agora, vamos aplicar a porta CNOT com o primeiro qubit como controle e o segundo como alvo.\n",
    "Interagir os dois qubits significa que eles irão agora compartilhar um estado. "
   ]
  },
  {
   "cell_type": "code",
   "execution_count": 6,
   "id": "e6ede072",
   "metadata": {},
   "outputs": [
    {
     "name": "stdout",
     "output_type": "stream",
     "text": [
      "qmem2_s0 as ket KetRepr(num_qubits=2,\n",
      "ket=\n",
      "[[0.70710678+0.j]\n",
      " [0.        +0.j]\n",
      " [0.        +0.j]\n",
      " [0.70710678+0.j]])\n",
      "qmem2_s1 as ket KetRepr(num_qubits=2,\n",
      "ket=\n",
      "[[0.70710678+0.j]\n",
      " [0.        +0.j]\n",
      " [0.        +0.j]\n",
      " [0.70710678+0.j]])\n"
     ]
    }
   ],
   "source": [
    "instr.INSTR_CNOT(qmemory2, positions=[0,1]) # Aplicando a porta CNOT para os qubits no slot 0 (controle), e slot 1 (alvo)\n",
    "print(\"qmem2_s0 as ket\", qmem2_s0.qstate.qrepr) # Mostra o estado do qubit no slot 0\n",
    "print(\"qmem2_s1 as ket\", qmem2_s1.qstate.qrepr) # Mostra o estado do qubit no slot 1"
   ]
  },
  {
   "cell_type": "markdown",
   "id": "2d8d929a",
   "metadata": {},
   "source": [
    "Após aplicar a porta H e a porta CNOT, os dois qubits estão em um estado 2-qubit.\n",
    "Esse estado é o estado de Bell: <br> <br>\n",
    "$$ \\\\\\\\ |\\Phi_{+}\\rangle = \\frac{1}{\\sqrt 2}\\begin{pmatrix}\n",
    "1 \\\\0\n",
    " \\\\0\n",
    " \\\\1\n",
    "\\end{pmatrix} = \\frac{1}{\\sqrt 2}(|00\\rangle+|11\\rangle)$$ <br> <br>\n",
    "Vamos medir o primeiro qubit."
   ]
  },
  {
   "cell_type": "code",
   "execution_count": 7,
   "id": "e9443202",
   "metadata": {},
   "outputs": [
    {
     "data": {
      "text/plain": [
       "[0]"
      ]
     },
     "execution_count": 7,
     "metadata": {},
     "output_type": "execute_result"
    }
   ],
   "source": [
    "instr.INSTR_MEASURE(qmemory2, positions=[0]) # medindo o qubit no slot 0"
   ]
  },
  {
   "cell_type": "markdown",
   "id": "00bcfaf9",
   "metadata": {},
   "source": [
    "Se agora observarmos o estado do segundo qubit, veremos que medir um dos dois qubits irá, por padrão, separá-lo de seu estado quântico compartilhado e o qubit restante estará novamente em um estado de 1-qubit."
   ]
  },
  {
   "cell_type": "code",
   "execution_count": 8,
   "id": "b028007f",
   "metadata": {},
   "outputs": [
    {
     "name": "stdout",
     "output_type": "stream",
     "text": [
      "qmem2_s1 as ket KetRepr(num_qubits=1,\n",
      "ket=\n",
      "[[1.-1.2246468e-16j]\n",
      " [0.+0.0000000e+00j]])\n"
     ]
    }
   ],
   "source": [
    "print(\"qmem2_s1 as ket\", qmem2_s1.qstate.qrepr) # Mostra o estado do qubit no slot 1"
   ]
  },
  {
   "cell_type": "markdown",
   "id": "f4772acb",
   "metadata": {},
   "source": [
    "Medindo o segundo qubit e comparando com o resultado da medição do primeiro qubit. Desde que os qubits eram um estado de Bell <br> <br>\n",
    "$$ \\\\\\\\ |\\Phi_{+}\\rangle =  \\frac{1}{\\sqrt 2}(|00\\rangle+|11\\rangle)$$ <br> <br>\n",
    "Nós vimos se medirmos o primeiro qubit e resultar em \"1\", então o mesmo acontecerá no segundo qubit. E se medirmos \"0\", então a medição do segundo qubit também resultará em \"0\". "
   ]
  },
  {
   "cell_type": "code",
   "execution_count": 9,
   "id": "5e05b292",
   "metadata": {},
   "outputs": [
    {
     "data": {
      "text/plain": [
       "[0]"
      ]
     },
     "execution_count": 9,
     "metadata": {},
     "output_type": "execute_result"
    }
   ],
   "source": [
    "instr.INSTR_MEASURE(qmemory2, positions=[1]) # medindo o qubit no slot 1"
   ]
  },
  {
   "cell_type": "markdown",
   "id": "cab382e5-a21f-4c1c-839c-eb5325e06a5b",
   "metadata": {},
   "source": [
    "## **Sugestões de Prática**"
   ]
  },
  {
   "cell_type": "markdown",
   "id": "544d0a99",
   "metadata": {},
   "source": [
    "- Crie uma nova memória quântica que possa armazenar dois qubits;\n",
    "- Inicialize ambos qubits; \n",
    "- Aplique a porta X no qubit 0;\n",
    "- Aplique a porta X no qubit 1;\n",
    "- Aplique a porta H no qubit 0;\n",
    "- Aplique a porta CNOT no qubit 0 (controle) e qubit 1 (alvo);\n",
    "- Qual dos seguintes estados de Bell você criou ?\n",
    "- $ \\\\\\\\ |\\Phi_{+}\\rangle =  \\frac{1}{\\sqrt 2}(|00\\rangle+|11\\rangle)$\n",
    "- $ \\\\\\\\ |\\Phi_{-}\\rangle =  \\frac{1}{\\sqrt 2}(|00\\rangle-|11\\rangle)$\n",
    "- $ \\\\\\\\ |\\Psi_{+}\\rangle =  \\frac{1}{\\sqrt 2}(|01\\rangle+|10\\rangle)$\n",
    "- $ \\\\\\\\ |\\Psi_{-}\\rangle =  \\frac{1}{\\sqrt 2}(|01\\rangle-|10\\rangle)$"
   ]
  },
  {
   "cell_type": "code",
   "execution_count": null,
   "id": "9282184f-e486-46e7-bf5d-b02edab4c9f9",
   "metadata": {},
   "outputs": [],
   "source": []
  },
  {
   "cell_type": "code",
   "execution_count": null,
   "id": "ec496bdb",
   "metadata": {},
   "outputs": [],
   "source": []
  }
 ],
 "metadata": {
  "kernelspec": {
   "display_name": "Python 3 (ipykernel)",
   "language": "python",
   "name": "python3"
  },
  "language_info": {
   "codemirror_mode": {
    "name": "ipython",
    "version": 3
   },
   "file_extension": ".py",
   "mimetype": "text/x-python",
   "name": "python",
   "nbconvert_exporter": "python",
   "pygments_lexer": "ipython3",
   "version": "3.9.12"
  }
 },
 "nbformat": 4,
 "nbformat_minor": 5
}
