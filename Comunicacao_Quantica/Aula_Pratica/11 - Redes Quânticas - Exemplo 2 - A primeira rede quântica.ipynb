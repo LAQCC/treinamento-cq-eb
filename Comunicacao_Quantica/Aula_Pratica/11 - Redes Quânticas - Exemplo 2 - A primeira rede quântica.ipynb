{
 "cells": [
  {
   "cell_type": "markdown",
   "id": "3822aabb-a8d5-472b-be29-69843c688857",
   "metadata": {},
   "source": [
    "#  **Redes Quânticas - Exemplo 2 - A primeira rede quântica**"
   ]
  },
  {
   "cell_type": "markdown",
   "id": "442a3779",
   "metadata": {},
   "source": [
    "Neste notebook agora combinamos todas as partes e criamos uma rede que consiste em dois nós, uma conexão com um canal quântico e uma conexão com um canal clássico. Em seguida, executamos um protocolo completo de teletransporte.\n"
   ]
  },
  {
   "cell_type": "code",
   "execution_count": 1,
   "id": "8453af24",
   "metadata": {},
   "outputs": [],
   "source": [
    "import netsquid as ns\n",
    "import pandas\n",
    "from netsquid.components.qprocessor import QuantumProcessor, PhysicalInstruction\n",
    "from netsquid.nodes import Node, Connection, Network\n",
    "from netsquid.protocols.protocol import Signals\n",
    "from netsquid.protocols.nodeprotocols import NodeProtocol\n",
    "from netsquid.components.qchannel import QuantumChannel\n",
    "from netsquid.components.cchannel import ClassicalChannel\n",
    "from netsquid.qubits.state_sampler import StateSampler\n",
    "from netsquid.components.qprogram import QuantumProgram\n",
    "from netsquid.components.models.qerrormodels import DepolarNoiseModel, DephaseNoiseModel\n",
    "from netsquid.components.models.delaymodels import FibreDelayModel, FixedDelayModel\n",
    "import netsquid.components.instructions as instr\n",
    "import pydynaa"
   ]
  },
  {
   "cell_type": "markdown",
   "id": "869cace1",
   "metadata": {},
   "source": [
    "<br><br>Vamos seguir as seguintes etapas:\n",
    "- primeiro, inicializamos três qubits no node2a;\n",
    "- mudamos o estado do primeiro qubit para ..;\n",
    "- então emaranhamos os outros dois qubits;\n",
    "- enviamos um dos qubits emaranhados para node2b;\n",
    "- agora realizamos um BSM nos dois qubits restantes no node2a;\n",
    "- enviamos o resultado de ambas as medições para node2b;\n",
    "- corrigimos o qubit no node2b;\n",
    "- verificamos a fidelidade do estado teletransportado.\n",
    "\n",
    "Primeiro, definimos como sempre as instruções físicas e os processadores quânticos."
   ]
  },
  {
   "cell_type": "code",
   "execution_count": 2,
   "id": "be98d341",
   "metadata": {},
   "outputs": [],
   "source": [
    "phys_instructions2 = [\n",
    "    PhysicalInstruction(instr.INSTR_INIT, duration=3),\n",
    "    PhysicalInstruction(instr.INSTR_S, duration=1, parallel = True, topology =[0]),\n",
    "    PhysicalInstruction(instr.INSTR_H, duration=1, prallel = True, topology = [0,1]),\n",
    "    PhysicalInstruction(instr.INSTR_X, duration=1, parallel = True, topology = [0]),\n",
    "    PhysicalInstruction(instr.INSTR_Z, duration=1, parallel = True, topology = [0]),\n",
    "    PhysicalInstruction(instr.INSTR_CNOT, duration=1, parallel = True, topology = [(0,1),(1,2)]),\n",
    "    PhysicalInstruction(instr.INSTR_MEASURE, duration=7, parallel = True, topology = [0,1])\n",
    "]\n",
    "\n",
    "qproc2a = QuantumProcessor(name=\"ExampleQProc2a\", num_positions = 3, phys_instructions = phys_instructions2)\n",
    "qproc2b = QuantumProcessor(name=\"ExampleQProc2b\", num_positions = 3, phys_instructions = phys_instructions2)"
   ]
  },
  {
   "cell_type": "markdown",
   "id": "f5296110",
   "metadata": {},
   "source": [
    "<br><br> <span style = \"color: orange\"> class netsquid.nodes.connections.Connection(name)</span>"
   ]
  },
  {
   "cell_type": "code",
   "execution_count": 3,
   "id": "79632fd9",
   "metadata": {},
   "outputs": [],
   "source": [
    "class QuantumConnection(Connection):\n",
    "    \"\"\"Uma conexão neste exemplo contém apenas um canal quântico.\n",
    "No entanto, podemos incluir uma fonte quântica para garantir a conexão \n",
    "e usá-la para distribuir qubits emaranhados aos nós conectados.\"\"\"\n",
    "    def __init__(self, name=\"QuantumConnection\"):\n",
    "        super().__init__(name=name)\n",
    "\n",
    "        # Inicializando o canal quântico\n",
    "        qchannel1 = QuantumChannel(name=\"QChannel_2a22b\")\n",
    "\n",
    "        #Conectando o canal às portas de entrada e saída da conexão\n",
    "        self.add_subcomponent(qchannel1,\n",
    "                             forward_input=[(\"A\",\"send\")],\n",
    "                             forward_output=[(\"B\",\"recv\")])"
   ]
  },
  {
   "cell_type": "code",
   "execution_count": 4,
   "id": "9b1b1c71",
   "metadata": {},
   "outputs": [],
   "source": [
    "class ClassicalConnection(Connection):\n",
    "    \"\"\"Uma conexão com um canal clássico\"\"\"\n",
    "    def __init__(self, name=\"ClassicalConnection\"):\n",
    "        super().__init__(name=name)\n",
    "\n",
    "        # Inicializando o canal clássico\n",
    "        cchannel1 = ClassicalChannel(name=\"QChannel_2a22b\")\n",
    "\n",
    "        #Conectando o canal às portas de entrada e saída da conexão\n",
    "        self.add_subcomponent(cchannel1,\n",
    "            forward_input=[(\"A\",\"send\")],\n",
    "            forward_output=[(\"B\",\"recv\")])"
   ]
  },
  {
   "cell_type": "markdown",
   "id": "d50522a7",
   "metadata": {},
   "source": [
    "<br><br><span style = \"color:orange\"> class netsquid.nodes.network.Network(name, nodes = None) </span>"
   ]
  },
  {
   "cell_type": "code",
   "execution_count": 5,
   "id": "95bca8a5",
   "metadata": {},
   "outputs": [],
   "source": [
    "def network_setup2():\n",
    "    \"\"\"Configurando todos os componentes da rede\"\"\"\n",
    "    \n",
    "    # Primeiro configuramos os dois nós com seus processadores\n",
    "    node2a = Node(name=\"ExampleNode2a\", qmemory = qproc2a, port_names=['cin_2a','cout_2a','qin_2a','qout_2a'])\n",
    "    node2b = Node(name=\"ExampleNode2b\", qmemory = qproc2b, port_names=['cin_2b','cout_2b','qin_2b','qout_2b'])\n",
    "    \n",
    "    # Em seguida, nós criamos a rede\n",
    "    network2 = Network(\"ExampleNet2\")\n",
    "    \n",
    "    #Agora, nós adicionamos dois nós para a rede\n",
    "    network2.add_nodes([node2a, node2b])\n",
    "    \n",
    "    # Configurando a conexão clássica entre os dois nós\n",
    "    cconn = ClassicalConnection()\n",
    "    \n",
    "   # E  adicionando as conexões na rede\n",
    "    network2.add_connection(node2a, node2b, connection = cconn, label = \"classical connection\", \n",
    "                            port_name_node1=\"cout_2a\", port_name_node2=\"cin_2b\")\n",
    "    # configurandoa conexão quântica entre dois nós\n",
    "    qconn = QuantumConnection()\n",
    "    network2.add_connection(node2a, node2b, connection = qconn, label = \"quantum connection\", \n",
    "                            port_name_node1=\"qout_2a\", port_name_node2=\"qin_2b\")\n",
    "    \n",
    "    # por último, adicionamos conexões as portas dentro de cada nó\n",
    "    node2a.qmemory.ports['qout2'].forward_output(node2a.ports['qout_2a'])\n",
    "    node2b.ports['qin_2b'].forward_input(node2b.qmemory.ports['qin0'])\n",
    "    \n",
    "    return network2"
   ]
  },
  {
   "cell_type": "code",
   "execution_count": 6,
   "id": "02f2b494",
   "metadata": {},
   "outputs": [],
   "source": [
    "class node2aProgram1(QuantumProgram):\n",
    "    default_num_qubits = 3 # número de qubits\n",
    "    \n",
    "    def program(self):\n",
    "        q0, q1, q2 = self.get_qubit_indices(3)\n",
    "        self.apply(instr.INSTR_INIT, [q0,q1,q2]) # inicializando os três qubits\n",
    "        \n",
    "        # Configurando o estado do qubit 1 para y0\n",
    "        self.apply(instr.INSTR_H, [q0]) # Aplicando a porta H em q0\n",
    "        self.apply(instr.INSTR_S, [q0]) # Aplicando a porta S em q0\n",
    "        \n",
    "        # Emaranhando os qubits 2 e 3\n",
    "        self.apply(instr.INSTR_H, [q1]) # Aplicando a porta H em q1\n",
    "        self.apply(instr.INSTR_CNOT, [q1,q2]) # Aplicando a porta CNOT em q1 como controle e q2 como alvo\n",
    "        \n",
    "        yield self.run() # Rodando as instruções acima\n",
    "    \n",
    "class node2aProgram2(QuantumProgram):\n",
    "    default_num_qubits = 2 # Número de qubits\n",
    "    \n",
    "    def program(self):\n",
    "        q0, q1 = self.get_qubit_indices(2)\n",
    "        \n",
    "        # Agora emaranhando os qubits 1 e 2 e medindo ambos \n",
    "        self.apply(instr.INSTR_CNOT, [q0,q1]) # Aplicando a porta CNOT em q0 como controle e q1 como alvo\n",
    "        self.apply(instr.INSTR_H, [q0]) # Aplicando a porta H em q0\n",
    "        self.apply(instr.INSTR_MEASURE, q0, output_key = \"M1\") # medir o q0 e armazena o resultado\n",
    "        self.apply(instr.INSTR_MEASURE, q1, output_key = \"M2\") # medir o q1 e armazena o resultado\n",
    "        \n",
    "        yield self.run() # Rodando as instruções agendadas acima"
   ]
  },
  {
   "cell_type": "code",
   "execution_count": 7,
   "id": "bfde59f5",
   "metadata": {},
   "outputs": [],
   "source": [
    "class node2aProtocol(NodeProtocol):\n",
    "    def run(self):\n",
    "        node2aprog1 = node2aProgram1()\n",
    "        node2aprog2 = node2aProgram2()\n",
    "        \n",
    "        yield self.node.qmemory.execute_program(node2aprog1)\n",
    "        \n",
    "        qubit = self.node.qmemory.pop(positions=[2])\n",
    "        \n",
    "        self.node.qmemory.ports[\"qout2\"].tx_output(qubit)\n",
    "        \n",
    "        yield self.node.qmemory.execute_program(node2aprog2)\n",
    "        \n",
    "        m1, = node2aprog2.output[\"M1\"]\n",
    "        m2, = node2aprog2.output[\"M2\"]\n",
    "        print(\"measurement outcome\", m1, m2)\n",
    "        self.node.ports[\"cout_2a\"].tx_output((m1,m2))\n",
    "        \n",
    "        \n",
    "class node2bProtocol(NodeProtocol):\n",
    "    def run(self):\n",
    "        port_cin = self.node.ports[\"cin_2b\"]\n",
    "        port_qin = self.node.ports[\"qin_2b\"]\n",
    "        \n",
    "        # Aguardando o qubit chegar aqui\n",
    "        expr = yield(self.await_port_input(port_qin))\n",
    "        \n",
    "        \n",
    "        # Aguardando a mensagem chegar aqui\n",
    "        expr = yield(self.await_port_input(port_cin))\n",
    "        message, = self.node.ports[\"cin_2b\"].rx_input().items\n",
    "        print(\"message\", message)\n",
    "        if message[0] == 1:\n",
    "            self.node.qmemory.execute_instruction(instr.INSTR_X,[0]) # Aplicando a porta H\n",
    "            print(\"aplicando porta X\")\n",
    "            yield self.await_program(self.node.qmemory)\n",
    "        \n",
    "        if message[1] == 1:\n",
    "            self.node.qmemory.execute_instruction(instr.INSTR_Z,[0]) # Aplicando a porta Z\n",
    "            print(\"aplicando porta Z\")\n",
    "            yield self.await_program(self.node.qmemory)"
   ]
  },
  {
   "cell_type": "code",
   "execution_count": 8,
   "id": "dc5730cf",
   "metadata": {},
   "outputs": [
    {
     "name": "stdout",
     "output_type": "stream",
     "text": [
      "measurement outcome 0 0\n",
      "message (0, 0)\n"
     ]
    },
    {
     "data": {
      "text/plain": [
       "<function netsquid.util.simtools.sim_time(magnitude=1)>"
      ]
     },
     "execution_count": 8,
     "metadata": {},
     "output_type": "execute_result"
    }
   ],
   "source": [
    "network = network_setup2()\n",
    "\n",
    "node2a = network.get_node(\"ExampleNode2a\")\n",
    "node2b = network.get_node(\"ExampleNode2b\")\n",
    "\n",
    "node2aprot = node2aProtocol(node2a)\n",
    "node2bprot = node2bProtocol(node2b)\n",
    "\n",
    "node2aprot.start() # iniciando o protocolo no node2a\n",
    "node2bprot.start() # iniciando o protocolo no node2b\n",
    "\n",
    "ns.sim_run() # Inicia a simulação\n",
    "ns.sim_time"
   ]
  },
  {
   "cell_type": "code",
   "execution_count": 9,
   "id": "8b3d87f9",
   "metadata": {},
   "outputs": [
    {
     "data": {
      "text/plain": [
       "[Qubit('QS#0-2')]"
      ]
     },
     "execution_count": 9,
     "metadata": {},
     "output_type": "execute_result"
    }
   ],
   "source": [
    "node2b.qmemory.peek(positions=[0])"
   ]
  },
  {
   "cell_type": "code",
   "execution_count": 10,
   "id": "716c6624",
   "metadata": {},
   "outputs": [
    {
     "name": "stdout",
     "output_type": "stream",
     "text": [
      "Fidelity of teleported state:0.9999999999999998\n"
     ]
    }
   ],
   "source": [
    "qubit, = node2b.qmemory.peek(positions=[0])\n",
    "print(\"Fidelity of teleported state:{}\".format(ns.qubits.fidelity([qubit],ns.y0)))"
   ]
  },
  {
   "cell_type": "code",
   "execution_count": null,
   "id": "6f0bb5c0",
   "metadata": {},
   "outputs": [],
   "source": []
  }
 ],
 "metadata": {
  "kernelspec": {
   "display_name": "Python 3 (ipykernel)",
   "language": "python",
   "name": "python3"
  },
  "language_info": {
   "codemirror_mode": {
    "name": "ipython",
    "version": 3
   },
   "file_extension": ".py",
   "mimetype": "text/x-python",
   "name": "python",
   "nbconvert_exporter": "python",
   "pygments_lexer": "ipython3",
   "version": "3.9.12"
  }
 },
 "nbformat": 4,
 "nbformat_minor": 5
}
