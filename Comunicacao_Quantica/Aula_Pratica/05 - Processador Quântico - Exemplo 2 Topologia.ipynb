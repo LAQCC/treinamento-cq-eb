{
 "cells": [
  {
   "cell_type": "markdown",
   "id": "41ecf8d7-a231-46bd-aba4-8ebe263d6c89",
   "metadata": {},
   "source": [
    "# **Processador Quântico - Exemplo 2 Topologia**"
   ]
  },
  {
   "cell_type": "markdown",
   "id": "106b8e32",
   "metadata": {},
   "source": [
    "Neste notebook nós praticaremos como usar um Processador Quântico com instrunções específicas que incluam uma dada topologia, restringindo quais portas podem ser aplicadas para uma determinada posição de memória."
   ]
  },
  {
   "cell_type": "code",
   "execution_count": 1,
   "id": "3b85d8bb",
   "metadata": {},
   "outputs": [],
   "source": [
    "import netsquid as ns\n",
    "from netsquid.components.qprocessor import QuantumProcessor, PhysicalInstruction\n",
    "from netsquid.components.qprogram import QuantumProgram\n",
    "import netsquid.components.instructions as instr\n",
    "import pydynaa"
   ]
  },
  {
   "cell_type": "markdown",
   "id": "be9c8c3a",
   "metadata": {},
   "source": [
    "<br> <br> Usando instruções físicas especificadas, também podemos limitar a disponibilidade de instruções para posições de memória específicas e também especificar se as instruções podem ser executadas em paralelo em diferentes qubits (por exemplo, aplicar a porta X no qubit na posição 1 enquanto aplica a porta Y no qubit na posição 2). <br> <br>\n",
    "\n",
    "Para praticar, repetiremos o exemplo 2 do notebook anterior, mas agora usando instruções físicas para emaranhar os dois qubits no estado Bell desejado.<br> <br>\n",
    "\n",
    "Para este exemplo, especificamos as seguintes instruções físicas:\n",
    "\n",
    "- Inicialização um qubit: 3 ns;\n",
    "- Aplicação da porta Hadamard: 1 ns. Pode ser aplicada em paralelo. Posições de memória 0,1);\n",
    "- Aplicação da porta X: 1 ns. Pode ser aplicada em paralelo, posições de memória 0;\n",
    "- Aplicação da porta CNOT: 4 ns. Pode ser aplicada em paralelo, posições de memória (0 = controle, 1 = alvo)."
   ]
  },
  {
   "cell_type": "code",
   "execution_count": 2,
   "id": "b8899c53",
   "metadata": {},
   "outputs": [],
   "source": [
    "phys_instructions2 = [\n",
    "    PhysicalInstruction(instr.INSTR_INIT, duration=3),\n",
    "    PhysicalInstruction(instr.INSTR_H, duration=1, parallel = True, topology=[0,1]),\n",
    "    PhysicalInstruction(instr.INSTR_X, duration=1,parallel = True, topology=[0] ),\n",
    "    PhysicalInstruction(instr.INSTR_CNOT, duration=1, parallel = True, topology=[(0,1)])\n",
    "]"
   ]
  },
  {
   "cell_type": "markdown",
   "id": "aabf1f2a",
   "metadata": {},
   "source": [
    "<br> <br> A seguir, nós inicializaremos um processador quântico com uma memória quântica com duas posições de memória (para amazernarmos dois qubits) e usar as instruções físicas específicas acima."
   ]
  },
  {
   "cell_type": "code",
   "execution_count": 3,
   "id": "edaf7f8f",
   "metadata": {},
   "outputs": [],
   "source": [
    "qproc2 = QuantumProcessor(name=\"ExampleQProc2\",num_positions=2, phys_instructions=phys_instructions2)"
   ]
  },
  {
   "cell_type": "markdown",
   "id": "4fb5bad3",
   "metadata": {},
   "source": [
    "<br> <br> Checando o tempo de simulação"
   ]
  },
  {
   "cell_type": "code",
   "execution_count": 4,
   "id": "0b479a92",
   "metadata": {},
   "outputs": [
    {
     "data": {
      "text/plain": [
       "0.0"
      ]
     },
     "execution_count": 4,
     "metadata": {},
     "output_type": "execute_result"
    }
   ],
   "source": [
    "ns.sim_time()"
   ]
  },
  {
   "cell_type": "markdown",
   "id": "b0b3c491",
   "metadata": {},
   "source": [
    "Primeiro, nós inicializamos os dois qubits."
   ]
  },
  {
   "cell_type": "code",
   "execution_count": 5,
   "id": "61aada5f",
   "metadata": {},
   "outputs": [
    {
     "data": {
      "text/plain": [
       "3.0"
      ]
     },
     "execution_count": 5,
     "metadata": {},
     "output_type": "execute_result"
    }
   ],
   "source": [
    "qproc2.execute_instruction(instr.INSTR_INIT,[0,1]) # Inicializando os dois qubits nos slots 0 e 1\n",
    "ns.sim_run() # Executando o próximo evento agendado\n",
    "ns.sim_time() # Checando o tempo atual em ns"
   ]
  },
  {
   "cell_type": "markdown",
   "id": "70963317",
   "metadata": {},
   "source": [
    "Então nós aplicamos a porta H para o qubit 1"
   ]
  },
  {
   "cell_type": "code",
   "execution_count": 6,
   "id": "6288dda6",
   "metadata": {},
   "outputs": [
    {
     "data": {
      "text/plain": [
       "4.0"
      ]
     },
     "execution_count": 6,
     "metadata": {},
     "output_type": "execute_result"
    }
   ],
   "source": [
    "qproc2.execute_instruction(instr.INSTR_H,[0]) # Aplicando a porta H para o qubit 1\n",
    "ns.sim_run() # Executando o próximo evento agendado\n",
    "ns.sim_time() # Checando o tempo atual em ns"
   ]
  },
  {
   "cell_type": "markdown",
   "id": "8a540062",
   "metadata": {},
   "source": [
    "Agora, aplicando a porta CNOT para os qubit 1 (controle) e qubit 2 (alvo)."
   ]
  },
  {
   "cell_type": "code",
   "execution_count": 7,
   "id": "38dcac4b",
   "metadata": {},
   "outputs": [
    {
     "data": {
      "text/plain": [
       "5.0"
      ]
     },
     "execution_count": 7,
     "metadata": {},
     "output_type": "execute_result"
    }
   ],
   "source": [
    "qproc2.execute_instruction(instr.INSTR_CNOT,[0,1]) # Aplicando a porta CNOT para o qubit 1\n",
    "ns.sim_run() # Executando o próximo evento agendado\n",
    "ns.sim_time() # Checando o tempo atual em ns"
   ]
  },
  {
   "cell_type": "markdown",
   "id": "e030f9c8",
   "metadata": {},
   "source": [
    "Vamos espiar os qubits armazenados nos slots 0 e 1, e observar seus estados."
   ]
  },
  {
   "cell_type": "code",
   "execution_count": 8,
   "id": "611a76dc",
   "metadata": {},
   "outputs": [
    {
     "name": "stdout",
     "output_type": "stream",
     "text": [
      "qproc2_s0 as ket KetRepr(num_qubits=2,\n",
      "ket=\n",
      "[[0.70710678+0.j]\n",
      " [0.        +0.j]\n",
      " [0.        +0.j]\n",
      " [0.70710678+0.j]])\n",
      "qproc2_s1 as ket KetRepr(num_qubits=2,\n",
      "ket=\n",
      "[[0.70710678+0.j]\n",
      " [0.        +0.j]\n",
      " [0.        +0.j]\n",
      " [0.70710678+0.j]])\n"
     ]
    }
   ],
   "source": [
    "qproc2_s0, = qproc2.peek(positions=[0]) # Espiando o qubit no slot 0\n",
    "qproc2_s1, = qproc2.peek(positions=[1]) # Espiando o qubit no slot 1\n",
    "print(\"qproc2_s0 as ket\", qproc2_s0.qstate.qrepr) # Mostra o estado do qubit no slot 0\n",
    "print(\"qproc2_s1 as ket\", qproc2_s1.qstate.qrepr) # Mostra o estado do qubit no slot 1"
   ]
  },
  {
   "cell_type": "markdown",
   "id": "540945f7",
   "metadata": {},
   "source": [
    "Espiar nos mostra que os slots 0 e 1 agora estão em um estado compartilhado. Este estado é um estado de Bell. <br> <br>\n",
    "$$|\\Phi_+\\rangle = \\begin{pmatrix}\n",
    "1 \\\\0\n",
    " \\\\0\n",
    " \\\\1\n",
    "\\end{pmatrix} = \\frac{1}{\\sqrt 2}(|00\\rangle + |11\\rangle)$$"
   ]
  },
  {
   "cell_type": "markdown",
   "id": "c0e54425",
   "metadata": {},
   "source": [
    "## Sugestões de Prática <br> <br>\n",
    "Tente realizar, com instruções físicas e um processador quântico, o estado de Bell:\n",
    "\n",
    "$$\n",
    "|\\Psi_-\\rangle = \\frac{1}{\\sqrt 2}(|01\\rangle - |10\\rangle)\n",
    "$$ <br> <br>\n",
    "\n",
    "Veja nos notebooks anteriores as portas que você precisa. Lembre-se de especificar as instrunções físicas que permitam que você aplique as portas necessárias."
   ]
  },
  {
   "cell_type": "code",
   "execution_count": null,
   "id": "e5b448c5",
   "metadata": {},
   "outputs": [],
   "source": []
  }
 ],
 "metadata": {
  "kernelspec": {
   "display_name": "Python 3 (ipykernel)",
   "language": "python",
   "name": "python3"
  },
  "language_info": {
   "codemirror_mode": {
    "name": "ipython",
    "version": 3
   },
   "file_extension": ".py",
   "mimetype": "text/x-python",
   "name": "python",
   "nbconvert_exporter": "python",
   "pygments_lexer": "ipython3",
   "version": "3.9.12"
  }
 },
 "nbformat": 4,
 "nbformat_minor": 5
}
