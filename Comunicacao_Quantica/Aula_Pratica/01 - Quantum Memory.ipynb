{
 "cells": [
  {
   "cell_type": "markdown",
   "metadata": {},
   "source": [
    "## **Memórias Quânticas- Exemplo 1**"
   ]
  },
  {
   "cell_type": "markdown",
   "metadata": {},
   "source": [
    "Neste notebook nós iremos praticar o armazenamento de qubits em uma memória quântica, realizar a mudança de estado de um qubit, \"espiar\" os estados do qubits e medí-los."
   ]
  },
  {
   "cell_type": "code",
   "execution_count": 1,
   "metadata": {},
   "outputs": [],
   "source": [
    "# importando os pacotes necessários\n",
    "\n",
    "import netsquid as ns\n",
    "from netsquid.components.qmemory import QuantumMemory\n",
    "import netsquid.components.instructions as instr"
   ]
  },
  {
   "cell_type": "markdown",
   "metadata": {},
   "source": [
    "No NetSquid, nós podemos criar uma memória quântica com um número predefinido de posições de mémoria (num_positions) para armazenar os qubtis utilizados. <br> <br>\n"
   ]
  },
  {
   "cell_type": "markdown",
   "metadata": {},
   "source": [
    "<span style=\"color:orange\"> *class netsquid.components.qmemory.QuantumMemory(name, num_positions =1, models = None, memory_noise_models=None, qubit_types=None,properties=None,port_names=None)*</span>"
   ]
  },
  {
   "cell_type": "markdown",
   "metadata": {},
   "source": [
    "\n",
    "Como primeiro exemplo, criamos a memória quântica “ExampleQMem1” que pode armazenar um qubit."
   ]
  },
  {
   "cell_type": "code",
   "execution_count": 7,
   "metadata": {},
   "outputs": [],
   "source": [
    "# Criando uma memória com uma posição\n",
    "qmemory1=QuantumMemory(name=\"ExampleQMem1\",num_positions=1) "
   ]
  },
  {
   "cell_type": "markdown",
   "metadata": {},
   "source": [
    "<br> <br>Podemos manipular qubits usando instruções que são comandos de baixo nível executados em uma memória quântica. Usando instruções podemos inicializar e medir qubits e também operar em qubits aplicando portas."
   ]
  },
  {
   "cell_type": "code",
   "execution_count": 8,
   "metadata": {},
   "outputs": [],
   "source": [
    "# Inicializando o qubit\n",
    "instr.INSTR_INIT(qmemory1, positions=[0])\n",
    "qmem1_s0, = qmemory1.peek(positions=[0]) # Espiar o qubit na posição 0"
   ]
  },
  {
   "cell_type": "markdown",
   "metadata": {},
   "source": [
    "<br> <br>Vamos aplicar a porta X no qubit."
   ]
  },
  {
   "cell_type": "code",
   "execution_count": 9,
   "metadata": {},
   "outputs": [
    {
     "name": "stdout",
     "output_type": "stream",
     "text": [
      "qmem1_s1 as ket KetRepr(num_qubits=1,\n",
      "ket=\n",
      "[[0.+0.j]\n",
      " [1.+0.j]])\n"
     ]
    }
   ],
   "source": [
    "# Aplicando a porta X no slot 1\n",
    "instr.INSTR_X(qmemory1, positions=[0])\n",
    "print(\"qmem1_s1 as ket\", qmem1_s0.qstate.qrepr) # printa o estado do qubit no slot 1"
   ]
  },
  {
   "cell_type": "markdown",
   "metadata": {},
   "source": [
    "Nós vimos que depois de aplicar a porta X, o estado do qubit agora é: <br> <br>\n",
    "\n",
    "$$| \\psi \\rangle  = \\begin{pmatrix}\n",
    "0 \\\\ 1\n",
    "\\end{pmatrix} = | 1\\rangle $$ <br> <br>\n",
    "\n",
    "Se nós aplicarmos a porta Hadamard novamente:\n"
   ]
  },
  {
   "cell_type": "code",
   "execution_count": 10,
   "metadata": {},
   "outputs": [
    {
     "name": "stdout",
     "output_type": "stream",
     "text": [
      "qmem1_s1 as ket KetRepr(num_qubits=1,\n",
      "ket=\n",
      "[[ 0.70710678+0.j]\n",
      " [-0.70710678+0.j]])\n"
     ]
    }
   ],
   "source": [
    "# Aplicando a porta H no slot 1\n",
    "instr.INSTR_H(qmemory1, positions=[0])\n",
    "print(\"qmem1_s1 as ket\", qmem1_s0.qstate.qrepr) # printa o estado do qubit no slot 1"
   ]
  },
  {
   "cell_type": "markdown",
   "metadata": {},
   "source": [
    "Vemos que o estado do qubit agora é: <br> <br>\n",
    "\n",
    "$$| \\psi \\rangle  =\\frac{1}{\\sqrt 2} \\begin{pmatrix}\n",
    "1 \\\\  -1\n",
    "\\end{pmatrix} = \\frac{1}{\\sqrt 2}( | 0\\rangle-| 1\\rangle). $$ <br> <br>\n"
   ]
  },
  {
   "cell_type": "markdown",
   "metadata": {},
   "source": [
    "## **Sugestões de Prática**"
   ]
  },
  {
   "cell_type": "markdown",
   "metadata": {},
   "source": [
    "- Criar uma nova memória quântica que possa armazenar um qubit;\n",
    "- Inicializar o qubit;\n",
    "- Aplicar a porta Y (ou uma porta diferente) no qubit;\n",
    "- \"Espiar\" o estado do qubit;\n",
    "- Medir o qubit."
   ]
  },
  {
   "cell_type": "code",
   "execution_count": null,
   "metadata": {},
   "outputs": [],
   "source": []
  }
 ],
 "metadata": {
  "kernelspec": {
   "display_name": "Python 3 (ipykernel)",
   "language": "python",
   "name": "python3"
  },
  "language_info": {
   "codemirror_mode": {
    "name": "ipython",
    "version": 3
   },
   "file_extension": ".py",
   "mimetype": "text/x-python",
   "name": "python",
   "nbconvert_exporter": "python",
   "pygments_lexer": "ipython3",
   "version": "3.9.12"
  }
 },
 "nbformat": 4,
 "nbformat_minor": 4
}
