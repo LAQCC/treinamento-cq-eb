{
 "cells": [
  {
   "cell_type": "markdown",
   "metadata": {},
   "source": [
    "# Desafio"
   ]
  },
  {
   "cell_type": "code",
   "execution_count": null,
   "metadata": {},
   "outputs": [],
   "source": [
    "from qat.lang import qrout, H, CNOT, X\n",
    "from qat.lang.AQASM import Program, QRoutine\n",
    "from qat.lang.AQASM.qftarith import QFT\n",
    "from qat.qpus import PyLinalg\n",
    "from qat.qpus import get_default_qpu\n",
    "import numpy as np\n",
    "from math import modf, gcd\n",
    "import matplotlib.pyplot as plt\n",
    "from contfrac import continued_fraction,convergents  # pip install contfrac\n",
    "import string"
   ]
  },
  {
   "cell_type": "markdown",
   "metadata": {},
   "source": [
    "# Algoritmo de Shor vs RSA\n",
    "\n",
    "A proposta desse desafio é usar o Algoritmo de Shor para decriptar uma mensagem encriptada pelo método RSA. Para realizar esta tarefa, será necessário encontrar fatores primos, $p$ e $q$, de um dado número inteiro, $N$, e, em seguida, com o uso das chaves pública, $e$, e privada, $d$, será possível descobrir a mensagem cifrada. "
   ]
  },
  {
   "cell_type": "markdown",
   "metadata": {},
   "source": [
    "## Algoritmo RSA\n",
    "\n",
    "### Cifragem\n",
    "\n",
    "1. Selecionar um par de números primos, $p$ e $q$ e calcular N, tal que  \n",
    "\n",
    "$$p \\times q = N$$\n",
    "\n",
    "2. Calcular $\\phi$:\n",
    "\n",
    "$$\\phi = (p-1)(q-1)$$\n",
    "\n",
    "3. Cálculo das chaves pública, $e$, e privada, $d$, que devem satisfazer as seguintes condições:\n",
    "\n",
    "$$\\text{mdc}(e, p-1) = \\text{mdc}(e, q-1) = 1$$\n",
    "$$e \\times d \\mod \\phi = 1$$\n",
    "\n",
    "\n",
    "### Decifragem\n",
    "\n",
    "Uma vez que temos $N$, $e$ e $d$, sujeitos às restrições dadas acima, estamos prontos para encriptar e decriptar mensagens. Sabendo que as mensagens devem ser convertidas em números inteiros no protocolo RSA, uma mensagem $m$ pode ser encriptada da seguinte maneira:\n",
    "\n",
    "$$m^* = m^e\\mod N$$\n",
    "\n",
    "Uma vez que a mensagem é encriptada, qualquer pessoa com acesso a chave privada, $d$, pode decifrar a mensagem através da seguinte relação:\n",
    "\n",
    "$$m' = m^{*d} \\mod N$$\n",
    "\n",
    "Logo, $m = m'$ caso a mensagem tenha sido decrifrada com sucesso.\n",
    "\n",
    "Um post prático sobre a encriptação RSA pode ser visto em https://medium.com/@asallen67/rsa-encryption-45956aef8617\n"
   ]
  },
  {
   "cell_type": "markdown",
   "metadata": {},
   "source": [
    "## Código de encriptação\n",
    "\n",
    "O código usado para encriptar a mensagem é dado pela função `codificacao()`"
   ]
  },
  {
   "cell_type": "code",
   "execution_count": 19,
   "metadata": {},
   "outputs": [
    {
     "name": "stdout",
     "output_type": "stream",
     "text": [
      "Initial message:\n",
      "REDACTED\n",
      "[69, 108, 29, 65, 89, 72, 108, 29]\n",
      "\n",
      "\n",
      "The encoded message(encrypted by public key)\n",
      "\n",
      "691082965897210829\n",
      "\n",
      "\n",
      "The decoded message(decrypted by public key)\n",
      "\n",
      "REDACTED\n"
     ]
    }
   ],
   "source": [
    "import random\n",
    "import math\n",
    "\n",
    "public_key = None\n",
    "private_key = None\n",
    "n = None\n",
    " \n",
    "def setkeys():\n",
    "    global public_key, private_key, n\n",
    "    prime1 = 11  # First prime number\n",
    "    prime2 = 13  # Second prime number\n",
    " \n",
    "    n = prime1 * prime2\n",
    "    fi = (prime1 - 1) * (prime2 - 1)\n",
    " \n",
    "    e = 2\n",
    "    while True:\n",
    "        if math.gcd(e, fi) == 1:\n",
    "            break\n",
    "        e += 1\n",
    " \n",
    "    # d = (k*Φ(n) + 1) / e for some integer k\n",
    "    public_key = e\n",
    " \n",
    "    d = 2\n",
    "    while True:\n",
    "        if (d * e) % fi == 1:\n",
    "            break\n",
    "        d += 1\n",
    " \n",
    "    private_key = d\n",
    " \n",
    "# To encrypt the given number\n",
    "def encrypt(message):\n",
    "    global public_key, n\n",
    "    e = public_key\n",
    "    encrypted_text = 1\n",
    "    while e > 0:\n",
    "        encrypted_text *= message\n",
    "        encrypted_text %= n\n",
    "        e -= 1\n",
    "    return encrypted_text\n",
    " \n",
    "# To decrypt the given number\n",
    "def decrypt(encrypted_text):\n",
    "    global private_key, n\n",
    "    d = private_key\n",
    "    decrypted = 1\n",
    "    while d > 0:\n",
    "        decrypted *= encrypted_text\n",
    "        decrypted %= n\n",
    "        d -= 1\n",
    "    return decrypted\n",
    " \n",
    "# First converting each character to its ASCII value and\n",
    "# then encoding it then decoding the number to get the\n",
    "# ASCII and converting it to character\n",
    "def encoder(message):\n",
    "    encoded = []\n",
    "    # Calling the encrypting function in encoding function\n",
    "    for letter in message:\n",
    "        encoded.append(encrypt(ord(letter)))\n",
    "    return encoded\n",
    " \n",
    "def decoder(encoded):\n",
    "    s = ''\n",
    "    # Calling the decrypting function decoding function\n",
    "    for num in encoded:\n",
    "        s += chr(decrypt(num))\n",
    "    return s\n",
    "\n",
    "# Uncomment below for manual input\n",
    "# message = input(\"Enter the message\\n\")\n",
    "# Calling the encoding function\n",
    "setkeys()\n",
    "plaintext = \"REDACTED\"\n",
    "ciphertext = encoder(plaintext)\n",
    "\n",
    "print(\"Initial message:\")\n",
    "print(plaintext)\n",
    "print(ciphertext)\n",
    "print(\"\\n\\nThe encoded message(encrypted by public key)\\n\")\n",
    "print(''.join(str(p) for p in ciphertext))\n",
    "print(\"\\n\\nThe decoded message(decrypted by public key)\\n\")\n",
    "print(''.join(str(p) for p in decoder(ciphertext)))"
   ]
  }
 ],
 "metadata": {
  "kernelspec": {
   "display_name": "Python 3.9.12 ('base')",
   "language": "python",
   "name": "python3"
  },
  "language_info": {
   "codemirror_mode": {
    "name": "ipython",
    "version": 3
   },
   "file_extension": ".py",
   "mimetype": "text/x-python",
   "name": "python",
   "nbconvert_exporter": "python",
   "pygments_lexer": "ipython3",
   "version": "3.9.17"
  },
  "orig_nbformat": 4,
  "vscode": {
   "interpreter": {
    "hash": "4fed6fc55d4ae3f7785493b66026376f3bc14b86eb26260f45711c87f1ac3e26"
   }
  }
 },
 "nbformat": 4,
 "nbformat_minor": 2
}
