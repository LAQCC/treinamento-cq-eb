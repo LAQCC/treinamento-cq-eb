{
 "cells": [
  {
   "cell_type": "markdown",
   "metadata": {},
   "source": [
    "# Desafio 1 - Criptoanálise com Shor"
   ]
  },
  {
   "cell_type": "code",
   "execution_count": null,
   "metadata": {},
   "outputs": [],
   "source": [
    "from aux_functions import decoder, intercept_transmission"
   ]
  },
  {
   "cell_type": "markdown",
   "metadata": {},
   "source": [
    "## Interceptando uma Mensagem\n",
    "\n",
    "Recentemente, nossos serviços de inteligência interceptaram uma mensagem\n",
    "codificada enviada por um membro do grupo hacker *Black Mesa*. A mensagem\n",
    "foi identificada como uma peça vital para decifrarmos um futuro ataque que será\n",
    "realizado pelo grupo. Ao que tudo indica, a mensagem está encriptada pelo\n",
    "algoritmo RSA. Sem acesso à chave privada não é possível descobrir o conteúdo da\n",
    "mensagem.\n",
    "\n",
    "A chave pública do par RSA foi encontrada dentro de um fórum usado pelos membros\n",
    "desse grupo. Entretanto, em circunstâncias normais não é possível descobrir a\n",
    "chave privada tendo de informação apenas a chave pública. A prova de segurança\n",
    "do RSA está baseada na dificuldade computacional do problema de fatoração de\n",
    "números inteiros, um problema reconhecidamente difícil e que levaria dias em um\n",
    "supercomputador para resolvê-lo. E ao final desse tempo a mensagem já teria\n",
    "perdido qualquer valor estratégico."
   ]
  },
  {
   "cell_type": "code",
   "execution_count": null,
   "metadata": {},
   "outputs": [],
   "source": [
    "ciphertext, public_key = intercept_transmission()\n",
    "\n",
    "print(f'A mensagem criptografada interceptada é', ''.join(str(p) for p in ciphertext))\n",
    "print(f'A chave pública usada para encriptar essa mensagem é {public_key}')"
   ]
  },
  {
   "cell_type": "markdown",
   "metadata": {},
   "source": [
    "Por nossa sorte, não estamos em circunstâncias normais. Por meio do algoritmo\n",
    "de Shor, um algoritmo quântico para a fatoração de números inteiros, é possível\n",
    "quebrar a criptografia RSA. "
   ]
  },
  {
   "cell_type": "markdown",
   "metadata": {},
   "source": [
    "## Decifrando a mensagem\n",
    "\n",
    "Implemente o algoritmo de Shor capaz de fatorar o número $N$ que faz parte da chave pública *(e, N)*.\n",
    "\n",
    "Use os fatores primos $p$ e $q$ descobertos para calcular $\\phi(N)$ e recuperar o expoente privado $d$, reconstruindo assim a chave privada *(d, p, q)*"
   ]
  },
  {
   "cell_type": "code",
   "execution_count": null,
   "metadata": {},
   "outputs": [],
   "source": [
    "e, N = public_key\n",
    "\n",
    "p = 0\n",
    "q = 0\n",
    "d = 0\n",
    "\n",
    "private_key = (d, p, q)\n",
    "print(f'A verdadeira chave privada RSA é {private_key}')"
   ]
  },
  {
   "cell_type": "code",
   "execution_count": null,
   "metadata": {},
   "outputs": [],
   "source": [
    "print(\"O texto cifrado interceptado foi\\n\")\n",
    "print(''.join(str(p) for p in ciphertext))\n",
    "print(\"A mensagem secreta encontrada é\\n\")\n",
    "print(''.join(str(p) for p in decoder(ciphertext, private_key)))"
   ]
  }
 ],
 "metadata": {
  "kernelspec": {
   "display_name": "Python 3.9.12 ('base')",
   "language": "python",
   "name": "python3"
  },
  "language_info": {
   "codemirror_mode": {
    "name": "ipython",
    "version": 3
   },
   "file_extension": ".py",
   "mimetype": "text/x-python",
   "name": "python",
   "nbconvert_exporter": "python",
   "pygments_lexer": "ipython3",
   "version": "3.9.17"
  },
  "orig_nbformat": 4,
  "vscode": {
   "interpreter": {
    "hash": "4fed6fc55d4ae3f7785493b66026376f3bc14b86eb26260f45711c87f1ac3e26"
   }
  }
 },
 "nbformat": 4,
 "nbformat_minor": 2
}
