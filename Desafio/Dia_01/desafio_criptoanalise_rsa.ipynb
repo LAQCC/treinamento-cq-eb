{
 "cells": [
  {
   "cell_type": "markdown",
   "metadata": {},
   "source": [
    "# Desafio"
   ]
  },
  {
   "cell_type": "code",
   "execution_count": 2,
   "metadata": {},
   "outputs": [],
   "source": [
    "from aux_functions import decoder, intercept_transmission, recover_true_keys, discover_secret_number"
   ]
  },
  {
   "cell_type": "markdown",
   "metadata": {},
   "source": [
    "## Interceptando uma Mensagem\n",
    "\n",
    "Nossa equipe de inteligência foi capaz de interceptar uma mensagem enviada pela organização secreta [Cognito]. Sabemos que o emissor dessa mensagem foi o Dr.[Doofleschmirtz] e temos acessoa a sua chave pública RSA.\n"
   ]
  },
  {
   "cell_type": "code",
   "execution_count": 3,
   "metadata": {},
   "outputs": [
    {
     "name": "stdout",
     "output_type": "stream",
     "text": [
      "A mensagem criptografada interceptada é 7762338059386221988391862499886244496212959\n",
      "A chave pública usada para encriptar essa mensagem é (7, 143)\n"
     ]
    }
   ],
   "source": [
    "ciphertext, public_key = intercept_transmission()\n",
    "\n",
    "print(f'A mensagem criptografada interceptada é', ''.join(str(p) for p in ciphertext))\n",
    "print(f'A chave pública usada para encriptar essa mensagem é {public_key}')"
   ]
  },
  {
   "cell_type": "markdown",
   "metadata": {},
   "source": [
    "Infelizmente é impossível decifrar um texto RSA sem descobrir a sua chave secreta e nossos supercomputadores demorariam anos para quebrar a criptografia. Depois de todo esse tempo, a mensagem pode ter perdido seu valor como informação.\n",
    "\n",
    "Felizmente, podemos usar a computação quântica para obter a chave privada do Dr. [Nome] e com isso decifrar a sua mensagem. Entretanto, os computadores quânticos atuais são muito limitados e não poderiam em condições normais serem usados para fatorar um número tão grande como uma chave RSA.\n",
    "\n",
    "Nosso time de T.I. conseguiu formular uma função que é capaz de transformar a chave pública em um número primo de tamanho menor, e com isso torna-se possível fatorá-lo usando o Algoritmo de Shor. Caso os fatores $p$ e $q$ que compõem o número secreto sejam descobertos, uma segunda função pode ser usada para derivar a verdadeira chave secreta a partir dos fatores."
   ]
  },
  {
   "cell_type": "code",
   "execution_count": 4,
   "metadata": {},
   "outputs": [
    {
     "name": "stdout",
     "output_type": "stream",
     "text": [
      "O número que guarda o segredo é 21\n"
     ]
    }
   ],
   "source": [
    "N = discover_secret_number(public_key)\n",
    "print(f'O número que guarda o segredo é {N}')"
   ]
  },
  {
   "cell_type": "markdown",
   "metadata": {},
   "source": [
    "## Decifrando a mensagem\n",
    "\n",
    "Implemente o algoritmo de Shor capaz de fatorar o número $N$ descoberto pela função ```discover_secret_number```"
   ]
  },
  {
   "cell_type": "code",
   "execution_count": 5,
   "metadata": {},
   "outputs": [
    {
     "name": "stdout",
     "output_type": "stream",
     "text": [
      "A verdadeira chave privada RSA é (103, 11, 13)\n"
     ]
    }
   ],
   "source": [
    "p = 7\n",
    "q = 3\n",
    "\n",
    "private_key = recover_true_keys(p, q)\n",
    "print(f'A verdadeira chave privada RSA é {private_key}')"
   ]
  },
  {
   "cell_type": "code",
   "execution_count": 6,
   "metadata": {},
   "outputs": [
    {
     "name": "stdout",
     "output_type": "stream",
     "text": [
      "\n",
      "\n",
      "The encoded message(encrypted by public key)\n",
      "\n",
      "7762338059386221988391862499886244496212959\n",
      "\n",
      "\n",
      "The decoded message(decrypted by public key)\n",
      "\n",
      "Mensagem Super Secreta\n"
     ]
    }
   ],
   "source": [
    "print(\"\\n\\nThe encoded message(encrypted by public key)\\n\")\n",
    "print(''.join(str(p) for p in ciphertext))\n",
    "print(\"\\n\\nThe decoded message(decrypted by public key)\\n\")\n",
    "print(''.join(str(p) for p in decoder(ciphertext, private_key)))"
   ]
  }
 ],
 "metadata": {
  "kernelspec": {
   "display_name": "Python 3.9.12 ('base')",
   "language": "python",
   "name": "python3"
  },
  "language_info": {
   "codemirror_mode": {
    "name": "ipython",
    "version": 3
   },
   "file_extension": ".py",
   "mimetype": "text/x-python",
   "name": "python",
   "nbconvert_exporter": "python",
   "pygments_lexer": "ipython3",
   "version": "3.9.17"
  },
  "orig_nbformat": 4,
  "vscode": {
   "interpreter": {
    "hash": "4fed6fc55d4ae3f7785493b66026376f3bc14b86eb26260f45711c87f1ac3e26"
   }
  }
 },
 "nbformat": 4,
 "nbformat_minor": 2
}
