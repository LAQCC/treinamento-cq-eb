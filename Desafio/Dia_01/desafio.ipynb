{
 "cells": [
  {
   "cell_type": "code",
   "execution_count": 27,
   "metadata": {},
   "outputs": [],
   "source": [
    "from qat.lang.AQASM import *\n",
    "from qat.lang.AQASM.qftarith import QFT\n",
    "from qat.qpus import PyLinalg\n",
    "from qat.qpus import get_default_qpu\n",
    "import numpy as np\n",
    "from math import modf, gcd\n",
    "import matplotlib.pyplot as plt\n",
    "from contfrac import continued_fraction,convergents  # pip install contfrac\n",
    "import string"
   ]
  },
  {
   "cell_type": "markdown",
   "metadata": {},
   "source": [
    "# Algoritmo de Shor vs RSA\n",
    "\n",
    "A proposta desse desafio é usar o Algoritmo de Shor para decriptar uma mensagem encriptada pelo método RSA. Para realizar esta tarefa, será necessário encontrar fatores primos, $p$ e $q$, de um dado número inteiro, $N$, e, em seguida, com o uso das chaves pública, $e$, e privada, $d$, será possível descobrir a mensagem cifrada. \n",
    "\n",
    "### Relembrando os passos do método RSA para encriptação\n",
    "\n",
    "1. Selecionar um par de números primos, $p$ e $q$ e calcular N, tal que  \n",
    "\n",
    "$$p \\times q = N$$\n",
    "\n",
    "2. Calcular $\\phi$:\n",
    "\n",
    "$$\\phi = (p-1)(q-1)$$\n",
    "\n",
    "3. Cálculo das chaves pública, $e$, e privada, $d$, que devem satisfazer as seguintes condições:\n",
    "\n",
    "$$\\text{mdc}(e, p-1) = \\text{mdc}(e, q-1) = 1$$\n",
    "$$e \\times d \\mod \\phi = 1$$\n",
    "\n",
    "\n",
    "### Passos para decifrar uma mensagem\n",
    "\n",
    "Uma vez que temos $N$, $e$ e $d$, sujeitos às restrições dadas acima, estamos prontos para encriptar e decriptar mensagens. Sabendo que as mensagens devem ser convertidas em números inteiros no protocolo RSA, uma mensagem $m$ pode ser encriptada da seguinte maneira:\n",
    "\n",
    "$$m^* = m^e\\mod N$$\n",
    "\n",
    "Uma vez que a mensagem é encriptada, qualquer pessoa com acesso a chave privada, $d$, pode decifrar a mensagem através da seguinte relação:\n",
    "\n",
    "$$m' = m^{*d} \\mod N$$\n",
    "\n",
    "Logo, $m = m'$ caso a mensagem tenha sido decrifrada com sucesso.\n",
    "\n",
    "Um post prático sobre a encriptação RSA pode ser visto em https://medium.com/@asallen67/rsa-encryption-45956aef8617\n"
   ]
  },
  {
   "cell_type": "markdown",
   "metadata": {},
   "source": [
    "## Código de encriptação\n",
    "\n",
    "O código usado para encriptar a mensagem é dado pela função `codificacao()`"
   ]
  },
  {
   "cell_type": "code",
   "execution_count": 28,
   "metadata": {},
   "outputs": [],
   "source": [
    "def codificacao(x):\n",
    "    if( type(x) == type(1) ):\n",
    "        alfabeto = list(string.ascii_lowercase)[:19] + [' ']\n",
    "        if( x < len(alfabeto) ):\n",
    "            return alfabeto[x]\n",
    "        else:\n",
    "            return '?'\n",
    "    if( type(x) == type('s') ):\n",
    "        alfabeto = list(string.ascii_lowercase)[:19] + [' ']\n",
    "        code = {}\n",
    "        for inteiro, letra in enumerate(alfabeto):\n",
    "            code[letra]=inteiro\n",
    "        return code[x]"
   ]
  },
  {
   "cell_type": "markdown",
   "metadata": {},
   "source": [
    "A mensagem codificada com o protocolo RSA é dada por:"
   ]
  },
  {
   "cell_type": "code",
   "execution_count": 29,
   "metadata": {},
   "outputs": [],
   "source": [
    "encrypted_message = 'pafabqnjkpqcakmqlomirilalao'"
   ]
  },
  {
   "cell_type": "markdown",
   "metadata": {},
   "source": [
    "## Desafio\n",
    "\n",
    "1) Implemente, usando o `myQLM`, o Algoritmo de Shor para descobrir a mensagem encriptada pelo método RSA. O número a ser fatorado é o $21$, e você deverá definir corretamente o número de qubits usados em cada registrador do circuito, conforme teoria. Como material de apoio, você pode utilizar as aulas e notebooks anteriores.\n",
    "\n",
    "2) Faça o mesmo usando $n=m+1$. Compare os dois resultados.\n",
    "\n",
    "Crie o circuito de multiplicação modular para $a=13$ ou $a=8$.\n",
    "\n",
    "$$$$\n",
    "\n",
    "A pontuação será dada da seguinte maneira:\n",
    "\n",
    "    - Escolha dos parametros: 0.5\n",
    "    - Incialização do circuito: 1.0\n",
    "    - Construção do circuito de multiplicação modular: 2.5\n",
    "    - Circuito completo: 1.0\n",
    "    - Pós-processamento das medidas: 2.0\n",
    "    - Decodificação da mensagem: 3.0\n",
    "\n",
    "O resto é com vocês. Boa sorte!"
   ]
  },
  {
   "cell_type": "code",
   "execution_count": null,
   "metadata": {},
   "outputs": [],
   "source": []
  },
  {
   "cell_type": "code",
   "execution_count": null,
   "metadata": {},
   "outputs": [],
   "source": []
  },
  {
   "cell_type": "code",
   "execution_count": null,
   "metadata": {},
   "outputs": [],
   "source": []
  },
  {
   "cell_type": "markdown",
   "metadata": {},
   "source": [
    "## Desafio Extra\n",
    "\n",
    "Crie o circuito reversível para a multiplicação modular para $a=8$. Veja os resultados da aplicação desse circuito no Algoritmo de Shor."
   ]
  },
  {
   "cell_type": "code",
   "execution_count": null,
   "metadata": {},
   "outputs": [],
   "source": []
  }
 ],
 "metadata": {
  "kernelspec": {
   "display_name": "Python 3.9.12 ('base')",
   "language": "python",
   "name": "python3"
  },
  "language_info": {
   "codemirror_mode": {
    "name": "ipython",
    "version": 3
   },
   "file_extension": ".py",
   "mimetype": "text/x-python",
   "name": "python",
   "nbconvert_exporter": "python",
   "pygments_lexer": "ipython3",
   "version": "3.9.12"
  },
  "orig_nbformat": 4,
  "vscode": {
   "interpreter": {
    "hash": "4fed6fc55d4ae3f7785493b66026376f3bc14b86eb26260f45711c87f1ac3e26"
   }
  }
 },
 "nbformat": 4,
 "nbformat_minor": 2
}
