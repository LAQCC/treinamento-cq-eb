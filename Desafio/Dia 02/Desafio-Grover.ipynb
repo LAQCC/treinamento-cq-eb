{
 "cells": [
  {
   "cell_type": "code",
   "execution_count": 1,
   "metadata": {},
   "outputs": [
    {
     "ename": "ModuleNotFoundError",
     "evalue": "No module named 'qat'",
     "output_type": "error",
     "traceback": [
      "\u001b[0;31m---------------------------------------------------------------------------\u001b[0m",
      "\u001b[0;31mModuleNotFoundError\u001b[0m                       Traceback (most recent call last)",
      "\u001b[1;32m/home/omp/Documentos/LAQCC/Repositorios/treinamento-cq-eb/Desafio/Dia 02/Desafio-Grover.ipynb Cell 1\u001b[0m in \u001b[0;36m<cell line: 1>\u001b[0;34m()\u001b[0m\n\u001b[0;32m----> <a href='vscode-notebook-cell:/home/omp/Documentos/LAQCC/Repositorios/treinamento-cq-eb/Desafio/Dia%2002/Desafio-Grover.ipynb#W0sZmlsZQ%3D%3D?line=0'>1</a>\u001b[0m \u001b[39mfrom\u001b[39;00m \u001b[39mqat\u001b[39;00m\u001b[39m.\u001b[39;00m\u001b[39mlang\u001b[39;00m\u001b[39m.\u001b[39;00m\u001b[39mAQASM\u001b[39;00m \u001b[39mimport\u001b[39;00m Program, QRoutine, RZ, RX, CNOT, H, X, Z\n\u001b[1;32m      <a href='vscode-notebook-cell:/home/omp/Documentos/LAQCC/Repositorios/treinamento-cq-eb/Desafio/Dia%2002/Desafio-Grover.ipynb#W0sZmlsZQ%3D%3D?line=1'>2</a>\u001b[0m \u001b[39mfrom\u001b[39;00m \u001b[39mqat\u001b[39;00m\u001b[39m.\u001b[39;00m\u001b[39mcore\u001b[39;00m \u001b[39mimport\u001b[39;00m Observable, Term\n\u001b[1;32m      <a href='vscode-notebook-cell:/home/omp/Documentos/LAQCC/Repositorios/treinamento-cq-eb/Desafio/Dia%2002/Desafio-Grover.ipynb#W0sZmlsZQ%3D%3D?line=2'>3</a>\u001b[0m \u001b[39mfrom\u001b[39;00m \u001b[39mqat\u001b[39;00m\u001b[39m.\u001b[39;00m\u001b[39mqpus\u001b[39;00m \u001b[39mimport\u001b[39;00m get_default_qpu, PyLinalg\n",
      "\u001b[0;31mModuleNotFoundError\u001b[0m: No module named 'qat'"
     ]
    }
   ],
   "source": [
    "from qat.lang.AQASM import Program, QRoutine, RZ, RX, CNOT, H, X, Z\n",
    "from qat.core import Observable, Term\n",
    "from qat.qpus import get_default_qpu, PyLinalg\n",
    "from qat.plugins import ScipyMinimizePlugin\n",
    "from math import sqrt\n",
    "\n",
    "from pysat.formula import CNF"
   ]
  },
  {
   "cell_type": "markdown",
   "metadata": {},
   "source": [
    "## SAT\n",
    "\n",
    "<!-- Descrever 3-SAT -->\n",
    "O Problema de Satisfatibilidade Booleana é o problema de determinar se existe uma interpretação que satisfaça uma fórmula Booleana. Ou seja, o problema busca uma sequência de valores VERDADEIRO ou FALSO que possa substituir as variáveis da fórmula Booleana de forma que seu valor final seja VERDADEIRO. Caso exista essa sequência, a fórmula é *satisfazível*. Por outro lado, se não existe essa sequência, a expressão definida pela fórmula é FALSO para todos os valores e é *insatisfazível*.\n",
    "\n",
    "\n",
    "<!-- Descrever CNF -->\n",
    "## Forma Normal Conjuntiva\n",
    "\n",
    "Uma fórmula booleana é formada por variáveis booleanas, também chamadas de literais. A Forma Normal Conjuntiva é uma forma padrão que pode ser usada para representar qualquer sentença lógica. Nessa forma, a sentença lógica é representada por uma conjunção de cláusulas. Uma conjunção ($\\wedge$) é representada pela operação lógica E. Uma cláusula é uma disjunção ($\\vee$, operação lógica OU) de literais. Por exemplo, a expressão\n",
    "\n",
    "$$ (A \\vee B \\vee C) \\wedge (D \\vee E) \\wedge (F \\vee G)$$\n",
    "\n",
    "Se traduz por \"A ou B ou C e D ou E e F ou G\". A FNC é fácil de se trabalhar e manipular e é possível transformar qualquer sentença lógica em uma forma normal conjuntiva aplicando-se regras de inferência e algumas transformações.\n",
    "\n",
    "Em sua formulação 3-SAT, todas as cláusulas possuem 3 literais.\n",
    "\n",
    "<!-- Usando Grover em 3-SAT -->\n",
    "Grover aplicado ao 3-SAT possui complexidade $O(2^{\\frac{n}{2}}) = O(1.414^n)$.\n",
    "Entretanto, para o problema do 3-SAT, o melhor algoritmo clássico conhecido possui a complexidade de $O(1.307^n)$.\n",
    "Isso é porque problemas NP-completos possuem uma estrutura que pode ser explorada para se obter soluções, enquanto o algoritmo de Grover é ótimo para problemas sem estrutura.\n",
    "Apesar de não parecer vantajoso usar Grover para resolver 3-SAT, as técnicas usadas aqui podem ser expandidas para casos gerais, como o k-SAT, no qual Grover supera o melhor algoritmo clássico atual."
   ]
  },
  {
   "cell_type": "markdown",
   "metadata": {},
   "source": [
    "# Algoritmo de Grover Aplicado\n",
    "\n",
    "<!-- Descrever Grover -->\n",
    "O algoritmo de Grover é um algoritmo quântico que pode ser usado para *busca não estruturada*. O Algoritmo possui a complexidade ótima de $O(\\sqrt{N})$ onde $N$ é o tamanho total do espaço da busca.\n",
    "Sua relevância como algoritmo é pelo fato de que uma grande parte de problemas interessantes, diga-se a classe NP, possuem soluções que são difíceis de computar mas são fáceis de verificar. Portanto, Grover oferece um ganho quadrático para qualquer método de força-bruta para resolver essa classe de problemas.\n",
    "\n",
    "<!-- Grover não é busca em um banco de dados -->\n",
    "Quando usa-se Grover para resolver um problema, como quebra de uma chave criptográfica, é comum confundir o seu comportamento. O algoritmo não faz consultas a um banco de dados magicamente codificado, o qual precisaria estar armazenado integralmente no circuito quântico. Em vez disso, dada uma função booleana arbitrária $f:\\big\\{0,1\\big\\}^n\\rightarrow \\{0,1\\}$ que seja eficientemente computável, cuja expressão matemática é\n",
    "\n",
    "$$\\begin{equation*}\n",
    "    f(x) = \\left\\{\n",
    "  \\begin{array}{ll}\n",
    "    1, & \\hbox{se $x$ resolve o problema,} \\\\\n",
    "    0, & \\hbox{caso contrário.}\n",
    "  \\end{array}\n",
    "\\right.\n",
    "\\end{equation*}$$\n",
    "e você quer descobrir o valor $x$ para o qual $f(x) = 1$, então, como você consegue computar $f(x)$, você pode rodar $f$ em um computador quântico e usar Grover para encontrar $x$.\n",
    "\n",
    "Essa função $f(x)$ será codificada no operador $U_f$ do algoritmo de Grover, também chamado de oráculo. Esse operador deve ser capaz de solucionar o problema em questão, por exemplo, uma instância do problema SAT pode ser implementada usando um circuito clássico. Esse mesmo circuito, se convertido para um circuito quântico equivalente, serve como um operador $U_f$."
   ]
  },
  {
   "cell_type": "markdown",
   "metadata": {},
   "source": [
    "## Desafio - Resolvendo o problema 3-SAT usando Grover\n",
    "\n",
    "Crie um circuito quântico que encontre a solução para a expressão booleana abaixo usando o algoritmo de Grover\n",
    "\n",
    "$$ (x_1 \\vee x_2 \\vee x_3) \\wedge (\\neg x_1 \\vee x_2 \\vee x_3) \\wedge (x_1 \\vee \\neg x_2 \\vee x_3) \\wedge (\\neg x_1 \\vee \\neg x_2 \\vee x_3) \\wedge (\\neg x_1 \\vee x_2 \\vee \\neg x_3) \\wedge (x_1 \\vee \\neg x_2 \\vee \\neg x_3) \\wedge (\\neg x_1 \\vee \\neg x_2 \\vee \\neg x_3)$$"
   ]
  },
  {
   "cell_type": "code",
   "execution_count": null,
   "metadata": {},
   "outputs": [],
   "source": [
    "# remove one of the clauses\n",
    "cnf = CNF(from_file='../example.cnf')\n",
    "num_literals = cnf.nv\n",
    "\n",
    "print(cnf.clauses)\n",
    "print(num_literals)"
   ]
  }
 ],
 "metadata": {
  "kernelspec": {
   "display_name": "Python 3.10.6 64-bit",
   "language": "python",
   "name": "python3"
  },
  "language_info": {
   "codemirror_mode": {
    "name": "ipython",
    "version": 3
   },
   "file_extension": ".py",
   "mimetype": "text/x-python",
   "name": "python",
   "nbconvert_exporter": "python",
   "pygments_lexer": "ipython3",
   "version": "3.10.7"
  },
  "orig_nbformat": 4,
  "vscode": {
   "interpreter": {
    "hash": "767d51c1340bd893661ea55ea3124f6de3c7a262a8b4abca0554b478b1e2ff90"
   }
  }
 },
 "nbformat": 4,
 "nbformat_minor": 2
}
