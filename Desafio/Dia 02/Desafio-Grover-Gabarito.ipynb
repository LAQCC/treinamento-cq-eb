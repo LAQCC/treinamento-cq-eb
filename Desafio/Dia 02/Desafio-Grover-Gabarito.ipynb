{
 "cells": [
  {
   "cell_type": "code",
   "execution_count": 1,
   "metadata": {},
   "outputs": [],
   "source": [
    "from qat.lang.AQASM import Program, QRoutine, RZ, RX, CNOT, H, X, Z\n",
    "from qat.core import Observable, Term\n",
    "from qat.qpus import get_default_qpu, PyLinalg\n",
    "from qat.plugins import ScipyMinimizePlugin\n",
    "from math import sqrt, pi\n",
    "\n",
    "from pysat.formula import CNF"
   ]
  },
  {
   "cell_type": "markdown",
   "metadata": {},
   "source": [
    "# Resolvendo o problema 3-SAT usando Grover\n",
    "\n",
    "<!-- Descrever Grover -->\n",
    "O algoritmo de Grover é um algoritmo quântico que pode ser usado para *busca não estruturada*. O Algoritmo possui a complexidade ótima de $O(\\sqrt{N})$ onde $N$ é o tamanho total do espaço da busca.\n",
    "\n",
    "<!-- Grover não é busca em um banco de dados -->\n",
    "Quando usa-se Grover para resolver um problema, como quebra de uma chave criptográfica, é comum confundir o seu comportamento. O algoritmo não faz consultas a um banco de dados magicamente codificado, o qual precisaria estar armazenado integralmente no circuito quântico. Em vez disso, dada uma função booleana arbitrária $f:\\big\\{0,1\\big\\}^n\\rightarrow \\{0,1\\}$ que seja eficientemente computável, cuja expressão matemática é\n",
    "\n",
    "$$\\begin{equation*}\n",
    "    f(x) = \\left\\{\n",
    "  \\begin{array}{ll}\n",
    "    1, & \\hbox{se $x$ resolve o problema,} \\\\\n",
    "    0, & \\hbox{caso contrário.}\n",
    "  \\end{array}\n",
    "\\right.\n",
    "\\end{equation*}$$\n",
    "e você quer descobrir o valor $x$ para o qual $f(x) = 1$. Como você consegue computar $f(x)$ você pode rodar $f$ em um computador quântico e usar Grover para encontrar $x$.\n",
    "\n",
    "Sua relevância como algoritmo é pelo fato de que uma grande parte de problemas interessantes, diga-se a classe NP, possuem soluções que são difíceis de computar mas são fáceis de verificar. Portanto, Grover oferece um ganho quadrático para qualquer método de força-bruta para resolver essa classe de problemas."
   ]
  },
  {
   "cell_type": "markdown",
   "metadata": {},
   "source": [
    "## SAT\n",
    "\n",
    "<!-- Descrever 3-SAT -->\n",
    "O Problema de Satisfatibilidade Booleana é o problema de determinar se existe uma interpretação que satisfaça uma fórmula Booleana. Ou seja, o problema busca uma sequência de valores VERDADEIRO ou FALSO que possa substituir as variáveis da fórmula Booleana de forma que seu valor final seja VERDADEIRO. Caso exista essa sequência, a fórmula é *satisfazível*. Por outro lado, se não existe essa sequência, a expressão definida pela fórmula é FALSO para todos os valores e é *insatisfazível*.\n",
    "\n",
    "\n",
    "<!-- Descrever CNF -->\n",
    "## Forma Normal Conjuntiva\n",
    "\n",
    "Uma fórmula booleana é formada por variáveis booleanas, também chamadas de literais. A Forma Normal Conjuntiva é uma forma padrão que pode ser usada para representar qualquer sentença lógica. Nessa forma, a sentença lógica é representada por uma conjunção de cláusulas. Uma conjunção ($\\wedge$) é representada pela operação lógica E. Uma cláusula é uma disjunção ($\\vee$, operação lógica OU) de literais. Por exemplo, a expressão\n",
    "\n",
    "$$ (A \\vee B \\vee C) \\wedge (D \\vee E) \\wedge (F \\vee G)$$\n",
    "\n",
    "Se traduz por \"A ou B ou C e D ou E e F ou G\". A FNC é fácil de se trabalhar e manipular e é possível transformar qualquer sentença lógica em uma forma normal conjuntiva aplicando-se regras de inferência e algumas transformações.\n",
    "\n",
    "Em sua formulação 3-SAT, todas as cláusulas possuem 3 literais.\n",
    "\n",
    "<!-- Usando Grover em 3-SAT -->\n",
    "Grover aplicado ao 3-SAT possui complexidade $O(2^{\\frac{n}{2}}) = O(1.414^n)$.\n",
    "Entretanto, para o problema do 3-SAT, o melhor algoritmo clássico conhecido possui a complexidade de $O(1.307^n)$.\n",
    "Isso é porque problemas NP-completos possuem uma estrutura que pode ser explorada para se obter soluções, enquanto o algoritmo de Grover é ótimo para problemas sem estrutura.\n",
    "Apesar de não parecer vantajoso usar Grover para resolver 3-SAT, as técnicas usadas aqui podem ser expandidas para casos gerais, como o k-SAT, no qual Grover supera o melhor algoritmo clássico atual."
   ]
  },
  {
   "cell_type": "code",
   "execution_count": 3,
   "metadata": {},
   "outputs": [
    {
     "ename": "FileNotFoundError",
     "evalue": "[Errno 2] No such file or directory: 'example.cnf'",
     "output_type": "error",
     "traceback": [
      "\u001b[1;31m---------------------------------------------------------------------------\u001b[0m",
      "\u001b[1;31mFileNotFoundError\u001b[0m                         Traceback (most recent call last)",
      "\u001b[1;32mc:\\Users\\55229\\Documents\\GitHub\\treinamento-cq-eb\\Desafio\\Dia 02\\Desafio-Grover-Gabarito.ipynb Célula: 4\u001b[0m in \u001b[0;36m<cell line: 2>\u001b[1;34m()\u001b[0m\n\u001b[0;32m      <a href='vscode-notebook-cell:/c%3A/Users/55229/Documents/GitHub/treinamento-cq-eb/Desafio/Dia%2002/Desafio-Grover-Gabarito.ipynb#W3sZmlsZQ%3D%3D?line=0'>1</a>\u001b[0m \u001b[39m# remove one of the clauses\u001b[39;00m\n\u001b[1;32m----> <a href='vscode-notebook-cell:/c%3A/Users/55229/Documents/GitHub/treinamento-cq-eb/Desafio/Dia%2002/Desafio-Grover-Gabarito.ipynb#W3sZmlsZQ%3D%3D?line=1'>2</a>\u001b[0m cnf \u001b[39m=\u001b[39m CNF(from_file\u001b[39m=\u001b[39;49m\u001b[39m'\u001b[39;49m\u001b[39mexample.cnf\u001b[39;49m\u001b[39m'\u001b[39;49m)\n\u001b[0;32m      <a href='vscode-notebook-cell:/c%3A/Users/55229/Documents/GitHub/treinamento-cq-eb/Desafio/Dia%2002/Desafio-Grover-Gabarito.ipynb#W3sZmlsZQ%3D%3D?line=2'>3</a>\u001b[0m \u001b[39m#cnf = CNF(from_file='example2.cnf')\u001b[39;00m\n\u001b[0;32m      <a href='vscode-notebook-cell:/c%3A/Users/55229/Documents/GitHub/treinamento-cq-eb/Desafio/Dia%2002/Desafio-Grover-Gabarito.ipynb#W3sZmlsZQ%3D%3D?line=3'>4</a>\u001b[0m \u001b[39m#cnf = CNF(from_file='uf20-01.cnf')\u001b[39;00m\n\u001b[0;32m      <a href='vscode-notebook-cell:/c%3A/Users/55229/Documents/GitHub/treinamento-cq-eb/Desafio/Dia%2002/Desafio-Grover-Gabarito.ipynb#W3sZmlsZQ%3D%3D?line=4'>5</a>\u001b[0m num_literals \u001b[39m=\u001b[39m cnf\u001b[39m.\u001b[39mnv\n",
      "File \u001b[1;32mc:\\Users\\55229\\anaconda3\\lib\\site-packages\\pysat\\formula.py:426\u001b[0m, in \u001b[0;36mCNF.__init__\u001b[1;34m(self, from_file, from_fp, from_string, from_clauses, from_aiger, comment_lead)\u001b[0m\n\u001b[0;32m    423\u001b[0m \u001b[39mself\u001b[39m\u001b[39m.\u001b[39mcomments \u001b[39m=\u001b[39m []\n\u001b[0;32m    425\u001b[0m \u001b[39mif\u001b[39;00m from_file:\n\u001b[1;32m--> 426\u001b[0m     \u001b[39mself\u001b[39;49m\u001b[39m.\u001b[39;49mfrom_file(from_file, comment_lead, compressed_with\u001b[39m=\u001b[39;49m\u001b[39m'\u001b[39;49m\u001b[39muse_ext\u001b[39;49m\u001b[39m'\u001b[39;49m)\n\u001b[0;32m    427\u001b[0m \u001b[39melif\u001b[39;00m from_fp:\n\u001b[0;32m    428\u001b[0m     \u001b[39mself\u001b[39m\u001b[39m.\u001b[39mfrom_fp(from_fp, comment_lead)\n",
      "File \u001b[1;32mc:\\Users\\55229\\anaconda3\\lib\\site-packages\\pysat\\formula.py:469\u001b[0m, in \u001b[0;36mCNF.from_file\u001b[1;34m(self, fname, comment_lead, compressed_with)\u001b[0m\n\u001b[0;32m    436\u001b[0m \u001b[39mdef\u001b[39;00m \u001b[39mfrom_file\u001b[39m(\u001b[39mself\u001b[39m, fname, comment_lead\u001b[39m=\u001b[39m[\u001b[39m'\u001b[39m\u001b[39mc\u001b[39m\u001b[39m'\u001b[39m], compressed_with\u001b[39m=\u001b[39m\u001b[39m'\u001b[39m\u001b[39muse_ext\u001b[39m\u001b[39m'\u001b[39m):\n\u001b[0;32m    437\u001b[0m     \u001b[39m\"\"\"\u001b[39;00m\n\u001b[0;32m    438\u001b[0m \u001b[39m        Read a CNF formula from a file in the DIMACS format. A file name is\u001b[39;00m\n\u001b[0;32m    439\u001b[0m \u001b[39m        expected as an argument. A default argument is ``comment_lead`` for\u001b[39;00m\n\u001b[1;32m   (...)\u001b[0m\n\u001b[0;32m    466\u001b[0m \u001b[39m            >>> cnf2 = CNF(from_file='another-file.cnf')\u001b[39;00m\n\u001b[0;32m    467\u001b[0m \u001b[39m    \"\"\"\u001b[39;00m\n\u001b[1;32m--> 469\u001b[0m     \u001b[39mwith\u001b[39;00m FileObject(fname, mode\u001b[39m=\u001b[39;49m\u001b[39m'\u001b[39;49m\u001b[39mr\u001b[39;49m\u001b[39m'\u001b[39;49m, compression\u001b[39m=\u001b[39;49mcompressed_with) \u001b[39mas\u001b[39;00m fobj:\n\u001b[0;32m    470\u001b[0m         \u001b[39mself\u001b[39m\u001b[39m.\u001b[39mfrom_fp(fobj\u001b[39m.\u001b[39mfp, comment_lead)\n",
      "File \u001b[1;32mc:\\Users\\55229\\anaconda3\\lib\\site-packages\\pysat\\_fileio.py:108\u001b[0m, in \u001b[0;36mFileObject.__init__\u001b[1;34m(self, name, mode, compression)\u001b[0m\n\u001b[0;32m    105\u001b[0m \u001b[39m# in some cases an additional file pointer is needed\u001b[39;00m\n\u001b[0;32m    106\u001b[0m \u001b[39mself\u001b[39m\u001b[39m.\u001b[39mfp_extra \u001b[39m=\u001b[39m \u001b[39mNone\u001b[39;00m\n\u001b[1;32m--> 108\u001b[0m \u001b[39mself\u001b[39;49m\u001b[39m.\u001b[39;49mopen(name, mode\u001b[39m=\u001b[39;49mmode, compression\u001b[39m=\u001b[39;49mcompression)\n",
      "File \u001b[1;32mc:\\Users\\55229\\anaconda3\\lib\\site-packages\\pysat\\_fileio.py:123\u001b[0m, in \u001b[0;36mFileObject.open\u001b[1;34m(self, name, mode, compression)\u001b[0m\n\u001b[0;32m    120\u001b[0m     \u001b[39mself\u001b[39m\u001b[39m.\u001b[39mctype \u001b[39m=\u001b[39m compression\n\u001b[0;32m    122\u001b[0m \u001b[39mif\u001b[39;00m \u001b[39mnot\u001b[39;00m \u001b[39mself\u001b[39m\u001b[39m.\u001b[39mctype:\n\u001b[1;32m--> 123\u001b[0m     \u001b[39mself\u001b[39m\u001b[39m.\u001b[39mfp \u001b[39m=\u001b[39m \u001b[39mopen\u001b[39;49m(name, mode)\n\u001b[0;32m    124\u001b[0m \u001b[39melif\u001b[39;00m \u001b[39mself\u001b[39m\u001b[39m.\u001b[39mctype \u001b[39m==\u001b[39m \u001b[39m'\u001b[39m\u001b[39mgzip\u001b[39m\u001b[39m'\u001b[39m:\n\u001b[0;32m    125\u001b[0m     \u001b[39mself\u001b[39m\u001b[39m.\u001b[39mfp \u001b[39m=\u001b[39m gzip\u001b[39m.\u001b[39mopen(name, mode \u001b[39m+\u001b[39m \u001b[39m'\u001b[39m\u001b[39mt\u001b[39m\u001b[39m'\u001b[39m)\n",
      "\u001b[1;31mFileNotFoundError\u001b[0m: [Errno 2] No such file or directory: 'example.cnf'"
     ]
    }
   ],
   "source": [
    "# remove one of the clauses\n",
    "cnf = CNF(from_file='example.cnf')\n",
    "#cnf = CNF(from_file='example2.cnf')\n",
    "#cnf = CNF(from_file='uf20-01.cnf')\n",
    "num_literals = cnf.nv\n",
    "\n",
    "print(cnf.clauses)\n",
    "print(num_literals)"
   ]
  },
  {
   "cell_type": "code",
   "execution_count": null,
   "metadata": {},
   "outputs": [],
   "source": [
    "def oracle(num_qubits, cnf):\n",
    "    routine = QRoutine()\n",
    "    wires = routine.new_wires(num_qubits)\n",
    "    ancilla = routine.new_wires(len(cnf.clauses)+1)\n",
    "    routine.set_ancillae(ancilla)\n",
    "\n",
    "    for i, clause in enumerate(cnf.clauses):\n",
    "        qubits = [abs(q) for q in clause]\n",
    "        for control in clause:\n",
    "            if control < 0:\n",
    "                X(wires[abs(control)-1])\n",
    "        X.ctrl(len(qubits))([wires[n-1] for n in qubits], ancilla[i+1])\n",
    "        for control in clause:\n",
    "            if control < 0:\n",
    "                X(wires[abs(control)-1])\n",
    "\n",
    "    for qubit in ancilla[1:]:\n",
    "        X(qubit)\n",
    "    X.ctrl(len(ancilla)-1)(ancilla[1:], ancilla[0])\n",
    "    for qubit in ancilla[1:]:\n",
    "        X(qubit)\n",
    "\n",
    "    for i, clause in enumerate(reversed(cnf.clauses)):\n",
    "        qubits = [abs(q) for q in clause]\n",
    "        for control in clause:\n",
    "            if control < 0:\n",
    "                X(wires[abs(control)-1])\n",
    "        X.ctrl(len(qubits))([wires[n-1] for n in qubits], ancilla[-i+len(cnf.clauses)])\n",
    "        for control in clause:\n",
    "            if control < 0:\n",
    "                X(wires[abs(control)-1])\n",
    "\n",
    "\n",
    "    return routine"
   ]
  },
  {
   "cell_type": "code",
   "execution_count": null,
   "metadata": {},
   "outputs": [],
   "source": [
    "def diffusion(num_qubits):\n",
    "    routine = QRoutine()\n",
    "    wires = routine.new_wires(num_qubits)\n",
    "    ancilla = routine.new_wires(1)\n",
    "    routine.set_ancillae(ancilla)\n",
    "    # Apply transformation |s> -> |00..0> (H-gates)\n",
    "    for qubit in wires:\n",
    "        H(qubit)\n",
    "    # Apply transformation |00..0> -> |11..1> (X-gates)\n",
    "    for qubit in wires:\n",
    "        X(qubit)\n",
    "    # Do multi-controlled-Z gate\n",
    "    X.ctrl(len(wires))(wires, ancilla)\n",
    "    # Apply transformation |11..1> -> |00..0>\n",
    "    for qubit in wires:\n",
    "        X(qubit)\n",
    "    # Apply transformation |00..0> -> |s>\n",
    "    for qubit in wires:\n",
    "        H(qubit)\n",
    "\n",
    "    return routine"
   ]
  },
  {
   "cell_type": "code",
   "execution_count": null,
   "metadata": {},
   "outputs": [],
   "source": [
    "def check_result(num_qubits):\n",
    "    routine = QRoutine()\n",
    "    wires = routine.new_wires(num_qubits)\n",
    "    ancilla = routine.new_wires(len(cnf.clauses)+1)\n",
    "    routine.set_ancillae(ancilla)\n",
    "\n",
    "    for i, clause in enumerate(cnf.clauses):\n",
    "        qubits = [abs(q) for q in clause]\n",
    "        for control in clause:\n",
    "            if control < 0:\n",
    "                X(wires[abs(control)-1])\n",
    "        X.ctrl(len(qubits))([wires[n-1] for n in qubits], ancilla[i+1])\n",
    "        for control in clause:\n",
    "            if control < 0:\n",
    "                X(wires[abs(control)-1])\n",
    "\n",
    "    for qubit in ancilla[1:]:\n",
    "        X(qubit)\n",
    "    X.ctrl(len(ancilla)-1)(ancilla[1:], ancilla[0])\n",
    "    for qubit in ancilla[1:]:\n",
    "        X(qubit)\n",
    "\n",
    "    return routine"
   ]
  },
  {
   "cell_type": "code",
   "execution_count": null,
   "metadata": {},
   "outputs": [],
   "source": [
    "def initial_state(num_qubits):\n",
    "    routine = QRoutine()\n",
    "    wires = routine.new_wires(num_qubits)\n",
    "    ancilla = routine.new_wires(1)\n",
    "    routine.set_ancillae(ancilla)\n",
    "    for q in wires:\n",
    "        H(q)\n",
    "    X(ancilla)\n",
    "    H(ancilla)\n",
    "\n",
    "    return routine\n",
    "\n",
    "def clean_ancilla(num_qubits):\n",
    "    routine = QRoutine()\n",
    "    wires = routine.new_wires(num_qubits)\n",
    "    ancilla = routine.new_wires(1)\n",
    "    routine.set_ancillae(ancilla)\n",
    "\n",
    "    H(ancilla)\n",
    "    X(ancilla)\n",
    "\n",
    "    return routine"
   ]
  },
  {
   "cell_type": "code",
   "execution_count": null,
   "metadata": {},
   "outputs": [],
   "source": [
    "qprog = Program()\n",
    "num_qubits = num_literals\n",
    "# --------------------------\n",
    "# Initial state preparation\n",
    "# --------------------------\n",
    "qbits = qprog.qalloc(num_qubits)\n",
    "cbits = qprog.calloc(num_qubits)\n",
    "\n",
    "initial = initial_state(num_qubits)\n",
    "oracle_operator = oracle(num_qubits, cnf)\n",
    "diffusion_operator = diffusion(num_qubits)\n",
    "clean = clean_ancilla(num_qubits)\n",
    "check = check_result(num_qubits)\n",
    "\n",
    "# -------------------------\n",
    "# Applying Grover Algorithm\n",
    "# -------------------------\n",
    "initial(qbits)\n",
    "for step in range(int((pi/4)*sqrt(2**num_qubits))):\n",
    "    oracle_operator(qbits)\n",
    "    diffusion_operator(qbits)\n",
    "clean(qbits)\n",
    "check(qbits)"
   ]
  },
  {
   "cell_type": "markdown",
   "metadata": {},
   "source": [
    "### Visualização do Circuito"
   ]
  },
  {
   "cell_type": "code",
   "execution_count": null,
   "metadata": {},
   "outputs": [],
   "source": [
    "circuit = qprog.to_circ()\n",
    "print(\"total number of gates: \", len(circuit.ops))\n",
    "# Display quantum circuit\n",
    "%qatdisplay circuit --svg"
   ]
  },
  {
   "cell_type": "code",
   "execution_count": null,
   "metadata": {},
   "outputs": [],
   "source": [
    "# Create a job\n",
    "job = circuit.to_job(nbshots=1000)\n",
    "\n",
    "qpu = PyLinalg()\n",
    "\n",
    "# Submit the job to the QPU\n",
    "result = qpu.submit(job)\n",
    "\n",
    "# Iterate over the final state vector to get all final components\n",
    "for sample in result:\n",
    "     print(\"State %s: probability %s +/- %s amplitude %s \" % (sample.state, sample.probability, sample.err, sample.amplitude))"
   ]
  }
 ],
 "metadata": {
  "kernelspec": {
   "display_name": "Python 3.9.12 ('base')",
   "language": "python",
   "name": "python3"
  },
  "language_info": {
   "codemirror_mode": {
    "name": "ipython",
    "version": 3
   },
   "file_extension": ".py",
   "mimetype": "text/x-python",
   "name": "python",
   "nbconvert_exporter": "python",
   "pygments_lexer": "ipython3",
   "version": "3.9.12"
  },
  "orig_nbformat": 4,
  "vscode": {
   "interpreter": {
    "hash": "4fed6fc55d4ae3f7785493b66026376f3bc14b86eb26260f45711c87f1ac3e26"
   }
  }
 },
 "nbformat": 4,
 "nbformat_minor": 2
}
