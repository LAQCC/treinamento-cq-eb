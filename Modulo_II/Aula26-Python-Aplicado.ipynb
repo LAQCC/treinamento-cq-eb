{
 "cells": [
  {
   "cell_type": "code",
   "execution_count": 252,
   "metadata": {},
   "outputs": [],
   "source": [
    "import numpy as np\n",
    "from functools import reduce"
   ]
  },
  {
   "cell_type": "markdown",
   "metadata": {},
   "source": [
    "# Computação Quântica Aplicada"
   ]
  },
  {
   "cell_type": "markdown",
   "metadata": {},
   "source": [
    "#### Qubits\n",
    "\n",
    "Qubits podem ser representados por vetores unitários da forma\n",
    "$$\\begin{pmatrix}\\alpha \\\\ \\beta\\end{pmatrix}$$\n",
    "onde os valores $\\alpha$ e $\\beta$ são complexos.\n",
    "\n",
    "Para representar esses vetores usamos o objeto `numpy.array` da biblioteca `numpy`, passando como parâmetro uma lista que representa uma matriz 2x1, para garantir que os vetores serão vetores coluna."
   ]
  },
  {
   "cell_type": "code",
   "execution_count": 253,
   "metadata": {},
   "outputs": [
    {
     "name": "stdout",
     "output_type": "stream",
     "text": [
      "[[1.+0.j]\n",
      " [0.+0.j]] = |0>\n",
      "\n",
      "[[0.+0.j]\n",
      " [1.+0.j]] = |1>\n"
     ]
    }
   ],
   "source": [
    "ket_0 = np.array([[1], [0]], dtype=complex)\n",
    "ket_1 = np.array([[0], [1]], dtype=complex)\n",
    "\n",
    "print(ket_0, \"= |0>\\n\")\n",
    "print(ket_1, \"= |1>\")"
   ]
  },
  {
   "cell_type": "markdown",
   "metadata": {},
   "source": [
    "#### Múltiplos Qubits\n",
    "\n",
    "Para representar espaços de múltiplos qubits usamos o produto tensorial entre os vetores que formam esse espaço. O produto tensorial também faz parte da `numpy` e pode ser chamado através da função `numpy.kron`. O nome da função vem de Produto de Kronecker, que é outra maneira de chamar o produto tensorial."
   ]
  },
  {
   "cell_type": "code",
   "execution_count": 254,
   "metadata": {},
   "outputs": [
    {
     "name": "stdout",
     "output_type": "stream",
     "text": [
      "[[1.+0.j]\n",
      " [0.+0.j]\n",
      " [0.+0.j]\n",
      " [0.+0.j]] = |00>\n",
      "\n",
      "[[0.+0.j]\n",
      " [1.+0.j]\n",
      " [0.+0.j]\n",
      " [0.+0.j]] = |01>\n",
      "\n",
      "[[0.+0.j]\n",
      " [0.+0.j]\n",
      " [1.+0.j]\n",
      " [0.+0.j]] = |10>\n",
      "\n",
      "[[0.+0.j]\n",
      " [0.+0.j]\n",
      " [0.+0.j]\n",
      " [1.+0.j]] = |11>\n",
      "\n"
     ]
    }
   ],
   "source": [
    "num_qubits = 2\n",
    "ket_00 = np.kron(ket_0, ket_0)\n",
    "ket_01 = np.kron(ket_0, ket_1)\n",
    "ket_10 = np.kron(ket_1, ket_0)\n",
    "ket_11 = np.kron(ket_1, ket_1)\n",
    "\n",
    "print(ket_00, \"= |00>\\n\")\n",
    "print(ket_01, \"= |01>\\n\")\n",
    "print(ket_10, \"= |10>\\n\")\n",
    "print(ket_11, \"= |11>\\n\")"
   ]
  },
  {
   "cell_type": "markdown",
   "metadata": {},
   "source": [
    "#### Portas lógicas quânticas\n",
    "\n",
    "Portas lógicas quânticas podem ser representadas por Matrizes Unitárias. As\n",
    "operações mais comuns são as matrizes de Pauli $X$, $Y$ e $Z$, e a porta de Hadamard,\n",
    "representada por $H$. As matrizes de Pauli representam rotações no qubit ao redor\n",
    "do eixo que dá nome a matriz e a porta de Hadamard gera superposição no qubit em\n",
    "que ela opera, deixando-o em um estado \"no meio do caminho\" entre |0> e |1>.\n",
    "\n",
    "Existem também portas lógicas que operam em mais de um qubit ao mesmo tempo. A\n",
    "$CNOT$, ou *Controlled-Not*, é um exemplo desse tipo de porta. Portas de múltiplos\n",
    "qubits também são representadas por matrizes unitárias. \n",
    "\n",
    "Para representar as portas lógicas quânticas em Python também usamos o `numpy.array`."
   ]
  },
  {
   "cell_type": "code",
   "execution_count": 255,
   "metadata": {},
   "outputs": [
    {
     "name": "stdout",
     "output_type": "stream",
     "text": [
      "[[0.+0.j 1.+0.j]\n",
      " [1.+0.j 0.+0.j]] = X\n",
      "\n",
      "[[ 0.+0.j -0.-1.j]\n",
      " [ 0.+1.j  0.+0.j]] = Y\n",
      "\n",
      "[[ 1.+0.j  0.+0.j]\n",
      " [ 0.+0.j -1.+0.j]] = Z\n",
      "\n",
      "[[ 0.70710678+0.j  0.70710678+0.j]\n",
      " [ 0.70710678+0.j -0.70710678+0.j]] = H\n",
      "\n",
      "[[1.+0.j 0.+0.j 0.+0.j 0.+0.j]\n",
      " [0.+0.j 1.+0.j 0.+0.j 0.+0.j]\n",
      " [0.+0.j 0.+0.j 0.+0.j 1.+0.j]\n",
      " [0.+0.j 0.+0.j 1.+0.j 0.+0.j]] = CNOT\n",
      "\n"
     ]
    }
   ],
   "source": [
    "X = np.array([[0, 1],\n",
    "              [1, 0]], dtype=complex)\n",
    "Y = np.array([[0, -1j],\n",
    "              [1j, 0]], dtype=complex)\n",
    "Z = np.array([[1, 0],\n",
    "              [0, -1]], dtype=complex)\n",
    "H = 1/np.sqrt(2)*np.array([[1, 1],\n",
    "                           [1, -1]], dtype=complex)\n",
    "CNOT = np.array([[1, 0, 0, 0],\n",
    "                 [0, 1, 0, 0],\n",
    "                 [0, 0, 0, 1],\n",
    "                 [0, 0, 1, 0]], dtype=complex)\n",
    "\n",
    "print(X, \"= X\\n\")\n",
    "print(Y, \"= Y\\n\")\n",
    "print(Z, \"= Z\\n\")\n",
    "print(H, \"= H\\n\")\n",
    "print(CNOT, \"= CNOT\\n\")"
   ]
  },
  {
   "cell_type": "markdown",
   "metadata": {},
   "source": [
    "#### Portas em qubits específicos\n",
    "\n",
    "Quando aplicamos portas de um único qubit em um sistema composto, é preciso especificar qual qubit será operado por essa porta. Para isso usamos novamento o produto tensorial.\n",
    "\n",
    "Por exemplo, em um sistema de dois qubits, caso se precise aplicar a operação $X$ apenas no primeiro qubits do sistema usaríamos o produto\n",
    "$$X \\otimes I$$\n",
    "onde I representa a matriz identidade. Esse produto gera um novo operador unitário de dois qubits que atua no sistema como um todo, e seu comportamento equivale a operar a porta $X$ no primeiro qubit e não fazer nada no segundo qubit.\n",
    "\n",
    "Caso se precise fazer mais de uma operação em paralelo seguimos a mesma lógica mas usamos o produto entre as matrizes atuantes, por exemplo, o operador\n",
    "$$H \\otimes Z$$\n",
    "atua aplicando a porta de Hadamard no primeiro qubit e a porta de Pauli $Z$ no segundo qubit."
   ]
  },
  {
   "cell_type": "code",
   "execution_count": 256,
   "metadata": {},
   "outputs": [
    {
     "name": "stdout",
     "output_type": "stream",
     "text": [
      "[[1.+0.j 0.+0.j]\n",
      " [0.+0.j 1.+0.j]] = I\n",
      "\n",
      "[[0.+0.j 0.+0.j 1.+0.j 0.+0.j]\n",
      " [0.+0.j 0.+0.j 0.+0.j 1.+0.j]\n",
      " [1.+0.j 0.+0.j 0.+0.j 0.+0.j]\n",
      " [0.+0.j 1.+0.j 0.+0.j 0.+0.j]] = X aplicado no primeiro qubit\n",
      "\n",
      "[[0.+0.j 1.+0.j 0.+0.j 0.+0.j]\n",
      " [1.+0.j 0.+0.j 0.+0.j 0.+0.j]\n",
      " [0.+0.j 0.+0.j 0.+0.j 1.+0.j]\n",
      " [0.+0.j 0.+0.j 1.+0.j 0.+0.j]] = X aplicado no segundo qubit\n",
      "\n"
     ]
    }
   ],
   "source": [
    "I = np.eye(2, dtype=complex)\n",
    "print(I, \"= I\\n\")\n",
    "\n",
    "X0 = np.kron(X, I)\n",
    "X1 = np.kron(I, X)\n",
    "\n",
    "print(X0, \"= X aplicado no primeiro qubit\\n\")\n",
    "print(X1, \"= X aplicado no segundo qubit\\n\")"
   ]
  },
  {
   "cell_type": "markdown",
   "metadata": {},
   "source": [
    "#### Porta Toffoli\n",
    "\n",
    "A porta Toffoli é importante para a computação quântica porque com ela prova-se que é possível recriar qualquer computação clássica dentro de um computador quântico."
   ]
  },
  {
   "cell_type": "code",
   "execution_count": 258,
   "metadata": {},
   "outputs": [
    {
     "name": "stdout",
     "output_type": "stream",
     "text": [
      "[[1.+0.j 0.+0.j 0.+0.j 0.+0.j 0.+0.j 0.+0.j 0.+0.j 0.+0.j]\n",
      " [0.+0.j 1.+0.j 0.+0.j 0.+0.j 0.+0.j 0.+0.j 0.+0.j 0.+0.j]\n",
      " [0.+0.j 0.+0.j 1.+0.j 0.+0.j 0.+0.j 0.+0.j 0.+0.j 0.+0.j]\n",
      " [0.+0.j 0.+0.j 0.+0.j 1.+0.j 0.+0.j 0.+0.j 0.+0.j 0.+0.j]\n",
      " [0.+0.j 0.+0.j 0.+0.j 0.+0.j 1.+0.j 0.+0.j 0.+0.j 0.+0.j]\n",
      " [0.+0.j 0.+0.j 0.+0.j 0.+0.j 0.+0.j 1.+0.j 0.+0.j 0.+0.j]\n",
      " [0.+0.j 0.+0.j 0.+0.j 0.+0.j 0.+0.j 0.+0.j 0.+0.j 1.+0.j]\n",
      " [0.+0.j 0.+0.j 0.+0.j 0.+0.j 0.+0.j 0.+0.j 1.+0.j 0.+0.j]] = Toffoli\n",
      "\n",
      "Sistema Quântico inicial\n",
      "[[0.+0.j]\n",
      " [0.+0.j]\n",
      " [0.+0.j]\n",
      " [0.+0.j]\n",
      " [0.+0.j]\n",
      " [0.+0.j]\n",
      " [1.+0.j]\n",
      " [0.+0.j]] \n",
      "\n",
      "Sistema Quântico inicial após aplicar Toffoli\n",
      "[[0.+0.j]\n",
      " [0.+0.j]\n",
      " [0.+0.j]\n",
      " [0.+0.j]\n",
      " [0.+0.j]\n",
      " [0.+0.j]\n",
      " [0.+0.j]\n",
      " [1.+0.j]]\n"
     ]
    }
   ],
   "source": [
    "toffoli = np.array([[1, 0, 0, 0, 0, 0, 0, 0],\n",
    "                    [0, 1, 0, 0, 0, 0, 0, 0],\n",
    "                    [0, 0, 1, 0, 0, 0, 0, 0],\n",
    "                    [0, 0, 0, 1, 0, 0, 0, 0],\n",
    "                    [0, 0, 0, 0, 1, 0, 0, 0],\n",
    "                    [0, 0, 0, 0, 0, 1, 0, 0],\n",
    "                    [0, 0, 0, 0, 0, 0, 0, 1],\n",
    "                    [0, 0, 0, 0, 0, 0, 1, 0]], dtype=complex)\n",
    "\n",
    "print(toffoli, \"= Toffoli\\n\")\n",
    "\n",
    "qsystem = reduce(np.kron, [ket_1, ket_1, ket_0])\n",
    "print(\"Sistema Quântico inicial\")\n",
    "print(qsystem, \"\\n\")\n",
    "\n",
    "apply_toffoli = np.dot(toffoli, qsystem)\n",
    "print(\"Sistema Quântico inicial após aplicar Toffoli\")\n",
    "print(apply_toffoli)"
   ]
  },
  {
   "cell_type": "markdown",
   "metadata": {},
   "source": [
    "## Meu Simulador\n",
    "\n",
    "As operações básicas de um computador quântico podem ser reduzidas para\n",
    "operações entre vetores e matrizes usando Álgebra Linear. No entanto, o nível de\n",
    "abstração usado normalmente ao se trabalhar com um computador quântico permite\n",
    "ignorar as operações matemáticas ocorrendo por baixo dos panos. Isso se deve ao\n",
    "uso de simuladores, que fazem essas operações e permitem a programação de um\n",
    "computador quântico considerando apenas portas lógicas e qubits.\n",
    "\n",
    "Abaixo temos o exemplo de um simulador simples que permite apenas o uso de\n",
    "portas lógicas de um único qubit e CNOTs."
   ]
  },
  {
   "cell_type": "code",
   "execution_count": 259,
   "metadata": {},
   "outputs": [],
   "source": [
    "class meuSimulador():\n",
    "\n",
    "    def __init__(self) -> None:\n",
    "        self.I = np.eye(2, dtype=complex)\n",
    "\n",
    "    def get_qubits(self, n=1) -> np.array:\n",
    "        ket_0 = np.array([[1], [0]], dtype=complex)\n",
    "        return reduce(np.kron, [ket_0 for _ in range(n)])\n",
    "\n",
    "    def apply_gate(self, qubits: np.array, gate: np.array, qubit_index=0) -> np.array:\n",
    "        n = int(np.log2(qubits.shape[0]))\n",
    "        gate = reduce(\n",
    "            np.kron,\n",
    "            [gate if i == qubit_index else self.I for i in range(n)]\n",
    "        )\n",
    "        return np.dot(gate, qubits)\n",
    "\n",
    "    def apply_cnot(self, qubits, control, target) -> np.array:\n",
    "        n = int(np.log2(qubits.shape[0]))\n",
    "        new_qubits = np.zeros(qubits.shape, dtype=complex)\n",
    "        for state, amp in enumerate(qubits):\n",
    "            if state & (1 << (n-control-1)):\n",
    "                state = state ^ (1 << (n-target-1))\n",
    "            new_qubits[state] = amp\n",
    "        return new_qubits\n",
    "\n",
    "sim = meuSimulador()"
   ]
  },
  {
   "cell_type": "markdown",
   "metadata": {},
   "source": [
    "Podemos usar esse simulador para criar estados emaranhados como o estado de Bell\n",
    "$$\\frac{\\ket{00}+\\ket{11}}{\\sqrt{2}}$$"
   ]
  },
  {
   "cell_type": "code",
   "execution_count": 260,
   "metadata": {},
   "outputs": [
    {
     "name": "stdout",
     "output_type": "stream",
     "text": [
      "[[0.70710678+0.j]\n",
      " [0.        +0.j]\n",
      " [0.        +0.j]\n",
      " [0.70710678+0.j]]\n"
     ]
    }
   ],
   "source": [
    "b00 = sim.get_qubits(2)\n",
    "b00 = sim.apply_gate(b00, H, 0)\n",
    "b00 = sim.apply_cnot(b00, 0, 1)\n",
    "print(b00)"
   ]
  },
  {
   "cell_type": "code",
   "execution_count": 261,
   "metadata": {},
   "outputs": [
    {
     "name": "stdout",
     "output_type": "stream",
     "text": [
      "[[ 0.70710678+0.j]\n",
      " [ 0.        +0.j]\n",
      " [ 0.        +0.j]\n",
      " [-0.70710678+0.j]]\n"
     ]
    }
   ],
   "source": [
    "b01 = sim.get_qubits(2)\n",
    "b01 = sim.apply_gate(b01, X, 0)\n",
    "b01 = sim.apply_gate(b01, H, 0)\n",
    "b01 = sim.apply_cnot(b01, 0, 1)\n",
    "print(b01)"
   ]
  },
  {
   "cell_type": "markdown",
   "metadata": {},
   "source": [
    "A partir da junção de portas lógicas de um único qubit e CNOTs, é possível recriar\n",
    "qualquer computação permitida em um computador quântico. Em outras palavras,\n",
    "essas portas são um conjunto universal.\n",
    "\n",
    "Vamos ver isso em prática recriando a porta de Toffoli usando as portas $T$, $T^\\dagger$, $H$ e $CNOT$."
   ]
  },
  {
   "cell_type": "code",
   "execution_count": null,
   "metadata": {},
   "outputs": [],
   "source": [
    "T = np.array([[1, 0],\n",
    "              [0, np.exp(1j*np.pi/4)]], dtype=complex)\n",
    "T_dagger = np.conj(np.transpose(T))\n",
    "#print(T, \"= T\\n\")\n",
    "#print(T_dagger, \"= T\\n\")\n",
    "#print(S, \"= S\\n\")\n",
    "\n",
    "\n",
    "toffoli_dec = sim.get_qubits(3)\n",
    "# state preparation\n",
    "#toffoli_dec = sim.apply_gate(toffoli_dec, X, 0)\n",
    "#toffoli_dec = sim.apply_gate(toffoli_dec, X, 1)\n",
    "print(toffoli_dec, \"\\n\")\n",
    "\n",
    "# Step 1\n",
    "toffoli_dec = sim.apply_gate(toffoli_dec, H, 2)\n",
    "# Step 2\n",
    "toffoli_dec = sim.apply_cnot(toffoli_dec, 1, 2)\n",
    "# Step 3\n",
    "toffoli_dec = sim.apply_gate(toffoli_dec, T_dagger, 2)\n",
    "# Step 4\n",
    "toffoli_dec = sim.apply_cnot(toffoli_dec, 0, 2)\n",
    "# Step 5\n",
    "toffoli_dec = sim.apply_gate(toffoli_dec, T, 2)\n",
    "# Step 6\n",
    "toffoli_dec = sim.apply_cnot(toffoli_dec, 1, 2)\n",
    "# Step 7\n",
    "toffoli_dec = sim.apply_gate(toffoli_dec, T_dagger, 2)\n",
    "# Step 8\n",
    "toffoli_dec = sim.apply_cnot(toffoli_dec, 0, 2)\n",
    "# Step 9\n",
    "toffoli_dec = sim.apply_gate(toffoli_dec, T_dagger, 1)\n",
    "toffoli_dec = sim.apply_gate(toffoli_dec, T, 2)\n",
    "# Step 10\n",
    "toffoli_dec = sim.apply_cnot(toffoli_dec, 0, 1)\n",
    "toffoli_dec = sim.apply_gate(toffoli_dec, H, 2)\n",
    "# Step 11\n",
    "toffoli_dec = sim.apply_gate(toffoli_dec, T, 0)\n",
    "toffoli_dec = sim.apply_gate(toffoli_dec, T_dagger, 1)\n",
    "# Step 12\n",
    "toffoli_dec = sim.apply_cnot(toffoli_dec, 0, 1)\n",
    "\n",
    "print(\"Estado final possui uma fase global de i\")\n",
    "print(toffoli_dec, \"\\n\")\n",
    "\n",
    "# Remove Global Phase\n",
    "print(\"Estado final sem a fase\")\n",
    "print(toffoli_dec*-1j)"
   ]
  },
  {
   "cell_type": "markdown",
   "metadata": {},
   "source": [
    "Nota-se ao fim que o resultado da ação de todas as portas não retornou exatamente o mesmo estado visto usando a matriz de Toffoli ideal. Isso se deve porque o uso das portas adicionou uma fase global $i$ no estado do sistema. Entretanto, essa fase global pode ser ignorada sem qualquer problema porque fases globais não interferem nas amplitudes dos estados quânticos. "
   ]
  },
  {
   "cell_type": "markdown",
   "metadata": {},
   "source": [
    "## MyQLM\n",
    "\n",
    "#### Executando circuitos quânticos\n",
    "\n",
    "O computador quântico, por vezes chamado de “Quantum Processing Unit” (QPU),\n",
    "possui um fluxo de computação em três passos principais:\n",
    "\n",
    "1. Inicialização: em que os estados (registradores dos qubits) são inicializados;\n",
    "2. Computação: em que uma série de portas lógicas quânticas (um circuito quântico $\\mathcal{C}$) é aplicada nos registradores.\n",
    "3. Medida: em que uma operação de medida é feita no estado final da QPU.\n",
    "\n",
    "O QLM possui simuladores clássicos de QPUs que permitem recriar esse fluxo de computação."
   ]
  },
  {
   "cell_type": "markdown",
   "metadata": {},
   "source": [
    "### Inicialização\n",
    "#### Criando um programa quântico\n",
    "A biblioteca pyAQASM (`qat.lang.AQASM`) possui uma interface de alto-nível para o desenvolvimento de circuitos quânticos. A classe principal dessa biblioteca é `Program`. É nessa classe em que serão alocados os registradores de qubits e mais tarde serão aplicadas as portas lógicas quânticas."
   ]
  },
  {
   "cell_type": "code",
   "execution_count": null,
   "metadata": {},
   "outputs": [],
   "source": [
    "from qat.lang.AQASM import Program\n",
    "\n",
    "# Create a Program\n",
    "qprog = Program()"
   ]
  },
  {
   "cell_type": "markdown",
   "metadata": {},
   "source": [
    "#### Alocando registradores para os qubits\n",
    "Registradores para qubits são alocados pelo Program usando o método `qalloc()`."
   ]
  },
  {
   "cell_type": "code",
   "execution_count": null,
   "metadata": {},
   "outputs": [],
   "source": [
    "# Number of qubits\n",
    "nbqbits = 2\n",
    "# Allocate some qubits\n",
    "qbits = qprog.qalloc(nbqbits)"
   ]
  },
  {
   "cell_type": "markdown",
   "metadata": {},
   "source": [
    "### Computação\n",
    "#### Aplicando portas lógicas quânticas\n",
    "\n",
    "A biblioteca pyAQASM oferece um conjunto básico de portas lógicas para escrever os programas em um computador quântico.\n",
    "- Portas constantes: X, Y, Z, H, S, T, CNOT, CCNOT, CSIGN, SWAP, SQRTSWAP, ISWAP\n",
    "- Portas parametrizadas: RX, RY, RZ, PH (phase shift)\n",
    "\n",
    "Essas portas podem ser aplicadas nos qubits dentro dos registradores:"
   ]
  },
  {
   "cell_type": "code",
   "execution_count": null,
   "metadata": {},
   "outputs": [],
   "source": [
    "from qat.lang.AQASM import H, CNOT\n",
    "\n",
    "# Apply some quantum Gates\n",
    "H(qbits[0])\n",
    "# Here qbits[0] is the control qbit:\n",
    "CNOT(qbits[0], qbits[1])"
   ]
  },
  {
   "cell_type": "markdown",
   "metadata": {},
   "source": [
    "#### Gerando o circuito quântico\n",
    "\n",
    "A classe Program oferece uma interface para construir e gerar um objeto `Circuit` através do método `to_circ()`."
   ]
  },
  {
   "cell_type": "code",
   "execution_count": null,
   "metadata": {},
   "outputs": [],
   "source": [
    "# Export this program into a quantum circuit\n",
    "circuit = qprog.to_circ()"
   ]
  },
  {
   "cell_type": "markdown",
   "metadata": {},
   "source": [
    "#### Mostrando o circuito\n",
    "\n",
    "Durante o processo de construção do circuito quântico é interessante ser capaz de visualizar o estado atual do circuito. Para isso pode-se usar o comando `%qatdisplay` para mostrar o circuito dentro do Jupyter Notebook."
   ]
  },
  {
   "cell_type": "code",
   "execution_count": null,
   "metadata": {},
   "outputs": [],
   "source": [
    "# Display quantum circuit\n",
    "%qatdisplay circuit --svg"
   ]
  },
  {
   "cell_type": "markdown",
   "metadata": {},
   "source": [
    "### Medida\n",
    "\n",
    "#### Descrevendo um *Quantum Job*\n",
    "\n",
    "O *job* entregue para a QPU consiste primariamente de dois componentes principais:\n",
    "- O **circuito quântico** a ser aplicado no registrador do qubit.\n",
    "- A **medida final** a ser feita no estado final do registrador preparado pelo circuito quântico.\n",
    "\n",
    "No QLM, o *quantum job* que descreve essas tarefas é implementado pelo objeto `qat.core.Job`, que contém:\n",
    "- o circuito $\\mathcal{C}$ a ser executado;\n",
    "- O tipo de medida final, com os parâmetros necessários (quais qubits serão medidos ou o observável a ser usado na medida, respectivamente);\n",
    "- O número de repetições (*shots*)\n",
    "\n",
    "Por padrão, o tipo de medida feito é o `SAMPLE`, que representa uma medida dos qubits com um observável $Z$ (base computacional), com todos os qubits sendo medidos um número infinito de vezes (i.e. sem incerteza estatística)."
   ]
  },
  {
   "cell_type": "code",
   "execution_count": null,
   "metadata": {},
   "outputs": [],
   "source": [
    "# Import a Quantum Processor Unit Factory (the default one)\n",
    "from qat.qpus import get_default_qpu\n",
    "\n",
    "# Create a Quantum Processor Unit\n",
    "qpu = get_default_qpu()\n",
    "\n",
    "# Create a job\n",
    "job = circuit.to_job()\n",
    "\n",
    "# Submit the job to the QPU\n",
    "result = qpu.submit(job)\n",
    "\n",
    "# Iterate over the final state vector to get all final components\n",
    "for sample in result:\n",
    "    print(\"State %s: probability %s, amplitude %s\" % (sample.state, sample.probability, sample.amplitude))"
   ]
  },
  {
   "cell_type": "markdown",
   "metadata": {},
   "source": [
    "Nota-se que um `Job` é criado a partir do método `to_job()` de um circuito. Esse *job* é então entregue para o método `submit` da QPU, que retorna um objeto `result`. No modo SAMPLE, esse *result* pode ser iterado para se obter \"amostras\" (*samples*), com cada amostra correspondendo a uma bitstring (`state`) e sua frequência de aparição (`probability`) ao se conduzir a medida $Z$ sobre o estado final.\n",
    "Estados com probabilidade zero não são listados, sendo possível criar um valor `amp_threshold` para filtrar estados abaixo de outros valores de amplitude de probabilidade.\n",
    "\n",
    "O exemplo acima mostra a amplitude de probabilidade (`amplitude`) correspondente aos estados da base computacional. É importante lembrar que essa informação em geral não está disponível em uma QPU real, mas sim em alguns simuladores clássicos."
   ]
  },
  {
   "cell_type": "markdown",
   "metadata": {},
   "source": [
    "Ao se usar um número finito de medidas (*shots*) a probabilidade estimada dos\n",
    "estados se diferencia do ideal por causa de uma incerteza estatística. No QLM, o\n",
    "número de shots é passado como um parâmetro da função `to_job()`. Caso o número de *shots* seja especificado como $0$ então a QPU irá realizar infinitas medidas (sem erro estatístico).\n",
    "\n",
    "Também é possível especificar com um parâmetro de `to_job()` qubits específicos\n",
    "do sistema que serão medidos."
   ]
  },
  {
   "cell_type": "code",
   "execution_count": null,
   "metadata": {},
   "outputs": [],
   "source": [
    "# Create a job\n",
    "job2 = circuit.to_job(nbshots=1024)\n",
    "\n",
    "# Submit the job to the QPU\n",
    "result = qpu.submit(job2)\n",
    "\n",
    "# Iterate over the final state vector to get all final components\n",
    "for sample in result:\n",
    "    print(\"State %s: probability %s +/- %s\" % (sample.state, sample.probability, sample.err))\n",
    "\n",
    "# Create a job\n",
    "job3 = circuit.to_job(nbshots=0, qubits=[1])\n",
    "\n",
    "# Execute\n",
    "result = qpu.submit(job3)\n",
    "for sample in result:\n",
    "    print(\"State %s: probability %s +/- %s\" % (sample.state, sample.probability, sample.err))"
   ]
  },
  {
   "cell_type": "markdown",
   "metadata": {},
   "source": [
    "O campo `err` do objeto `sample` contém o erro padrão da média da frequência de\n",
    "aparição."
   ]
  }
 ],
 "metadata": {
  "kernelspec": {
   "display_name": "Python 3.9.12 ('QLM-env')",
   "language": "python",
   "name": "python3"
  },
  "language_info": {
   "codemirror_mode": {
    "name": "ipython",
    "version": 3
   },
   "file_extension": ".py",
   "mimetype": "text/x-python",
   "name": "python",
   "nbconvert_exporter": "python",
   "pygments_lexer": "ipython3",
   "version": "3.9.12"
  },
  "orig_nbformat": 4,
  "vscode": {
   "interpreter": {
    "hash": "22e2fa0b988ad3c2d827ff085d7b60caf41c3b4887530b545c2ef6d6c16e1ea5"
   }
  }
 },
 "nbformat": 4,
 "nbformat_minor": 2
}
