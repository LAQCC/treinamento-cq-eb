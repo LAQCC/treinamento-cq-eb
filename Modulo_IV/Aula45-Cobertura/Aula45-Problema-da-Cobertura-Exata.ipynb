{
 "cells": [
  {
   "cell_type": "code",
   "execution_count": null,
   "metadata": {},
   "outputs": [],
   "source": [
    "import numpy as np\n",
    "import random\n",
    "import matplotlib.pyplot as plt\n",
    "import networkx as nx\n",
    "\n",
    "from pyqubo import Binary, Array\n",
    "from pprint import pprint\n",
    "from qat.lang.AQASM import Program, QRoutine, RZ, RX, CNOT, H, X\n",
    "from qat.core import Observable, Term\n",
    "from qat.qpus import get_default_qpu\n",
    "from qat.plugins import ScipyMinimizePlugin"
   ]
  },
  {
   "cell_type": "markdown",
   "metadata": {},
   "source": [
    "# Problema da Cobertura Exata (Exact Cover Problem)\n",
    "\n",
    "Considere um conjunto $U = \\{1, \\ldots, n\\}$ e uma coleção de subconjuntos.\n",
    "$$ V = \\{V_1, V_2, \\ldots, V_n\\} \\subseteq 2^U$$\n",
    "Uma cobertura de C com os conjuntos da coleção V é definida como o conjunto dos conjuntos $V_j, \\ldots, V_k \\in V$ tal que\n",
    "$$\\bigcup_i V_i = C$$\n",
    "Para uma cobertura ser exata, os conjuntos que definem a cobertura devem ser disjuntos."
   ]
  },
  {
   "cell_type": "code",
   "execution_count": null,
   "metadata": {},
   "outputs": [],
   "source": [
    "U = [1,2,3,4,5,6]\n",
    "V = [{1,2,3}, {4,5,6}, {1}, {2}, {3}, {4}, {5}, {6}]\n",
    "#U = [1,2,3,4,5,6,7]\n",
    "#V = [{1,7}, {1,4,7}, {1,4}, {4,5,7}, {3,5,6}, {2,3,6}, {2,7}]"
   ]
  },
  {
   "cell_type": "markdown",
   "metadata": {},
   "source": [
    "## Classe de Complexidade\n",
    "\n",
    "Quando formulado como um problema de decisão (\"Existe um conjunto C que é uma cobertura exata de S?\") esse problema é NP-Completo.\n",
    "\n",
    "Quando formulado como um problema de otimização (\"Qual é o menor conjunto C que é uma cobertura exata de S?\") esse problema é NP-Hard."
   ]
  },
  {
   "cell_type": "markdown",
   "metadata": {},
   "source": [
    "## Aplicações\n",
    "\n",
    "**Planejamento Urbano**:Localização de corpo de bombeiros, hospitais\n",
    "\n",
    "**Planejamento de Turnos**: Funcionários de hospital, pilotos de avião, trens\n",
    "\n",
    "**Roteamento de Veículos**\n",
    "\n",
    "Finding Pentomino tilings and solving Sudoku are noteworthy examples of exact cover problems. The n queens problem is a slightly generalized exact cover problem."
   ]
  },
  {
   "cell_type": "markdown",
   "metadata": {},
   "source": [
    "## Hamiltoniano\n",
    "\n",
    "O Hamiltoniano é um operador que codifica a função a ser otimizada.\n",
    "\n",
    "Exact Cover Hamiltonian\n",
    "$$ H_P = \\sum^n_{\\alpha=1} (1 - \\sum_{i:\\alpha\\in V_i} x_i)^2$$\n",
    "\n",
    "Min Exact Cover Hamiltonian\n",
    "$$ H_P = A \\sum^n_{\\alpha=1} (1 - \\sum_{i:\\alpha\\in V_i} x_i)^2 + B\\sum_i x_i$$\n",
    "$$A > nB$$"
   ]
  },
  {
   "cell_type": "code",
   "execution_count": null,
   "metadata": {},
   "outputs": [],
   "source": [
    "variables = Array.create('x', shape=len(V), vartype='BINARY')\n",
    "print(variables)"
   ]
  },
  {
   "cell_type": "code",
   "execution_count": null,
   "metadata": {},
   "outputs": [],
   "source": [
    "A = 8\n",
    "HA = 0\n",
    "for alpha in U:\n",
    "    temp = sum(variables[i] for i, Vi in enumerate(V) if alpha in Vi)\n",
    "    HA += (1-temp)**2\n",
    "HA *= A\n",
    "\n",
    "print(HA)"
   ]
  },
  {
   "cell_type": "code",
   "execution_count": null,
   "metadata": {},
   "outputs": [],
   "source": [
    "B = 1.5\n",
    "HB = B * sum(x for x in variables)\n",
    "\n",
    "print(HB)"
   ]
  },
  {
   "cell_type": "code",
   "execution_count": null,
   "metadata": {},
   "outputs": [],
   "source": [
    "Hamil = HA + HB\n",
    "print(Hamil)"
   ]
  },
  {
   "cell_type": "markdown",
   "metadata": {},
   "source": [
    "## Modelar como QUBO\n",
    "\n",
    "Quadratic unconstrained binary optimization (QUBO), also known as unconstrained binary quadratic programming (UBQP), is a combinatorial optimization problem with a wide range of applications from finance and economics to machine learning.[1] QUBO is an NP hard problem, and for many classical problems from theoretical computer science, like maximum cut, graph coloring and the partition problem, embeddings into QUBO have been formulated.[2][3] Embeddings for machine learning models include support-vector machines, clustering and probabilistic graphical models.[4] Moreover, due to its close connection to Ising models, QUBO constitutes a central problem class for adiabatic quantum computation, where it is solved through a physical process called quantum annealing.\n",
    "\n",
    "Um QUBO é\n",
    " - Um problema matemático;\n",
    " - Declarado em variáveis binárias;\n",
    " - Com variáveis lineares ou quadráticas;\n",
    " - Que pode incluir restrições.\n",
    "\n",
    "$$H_P = -\\sum_i^N h_ix_i - \\sum_{i<j} J_{ij} x_ix_j $$"
   ]
  },
  {
   "cell_type": "code",
   "execution_count": null,
   "metadata": {},
   "outputs": [],
   "source": [
    "model = Hamil.compile()\n",
    "qubo = model.to_qubo()\n",
    "pprint(qubo)"
   ]
  },
  {
   "cell_type": "code",
   "execution_count": null,
   "metadata": {},
   "outputs": [],
   "source": [
    "single_values = {}\n",
    "multiple_values = {}\n",
    "for k,v in qubo[0].items():\n",
    "    if k[0] == k[1]:\n",
    "        single_values[int(k[0][2])] = v\n",
    "    else:\n",
    "        multiple_values[(int(k[0][2]), int(k[1][2]))] = v\n",
    "\n",
    "num_qubits = len(variables)\n",
    "hamiltonian_exact_cover = Observable(num_qubits,\n",
    "                           pauli_terms=\n",
    "                           [Term(single_values[x], \"Z\", [x]) for x in single_values]+\n",
    "                           [Term(multiple_values[x], \"ZZ\", [x[0],x[1]]) for x in multiple_values],\n",
    "                           constant_coeff=qubo[1]\n",
    "                           )\n",
    "\n",
    "print(hamiltonian_exact_cover)"
   ]
  },
  {
   "cell_type": "markdown",
   "metadata": {},
   "source": [
    "## QAOA Ansatz"
   ]
  },
  {
   "cell_type": "markdown",
   "metadata": {},
   "source": [
    "### Separador de Fase"
   ]
  },
  {
   "cell_type": "code",
   "execution_count": null,
   "metadata": {},
   "outputs": [],
   "source": [
    "def phase_separator_exact_cover(qreg, gamma, observable):\n",
    "    single_values = [t.qbits for t in observable.terms if len(t.qbits) == 1]\n",
    "    multiple_values = [t.qbits for t in observable.terms if len(t.qbits) > 1]\n",
    "    for i in single_values:\n",
    "        RZ(gamma)(qreg[i[0]])\n",
    "    for j in multiple_values:\n",
    "        CNOT(qreg[j[0]], qreg[j[1]])\n",
    "        RZ(2*gamma)(qreg[j[1]])\n",
    "        CNOT(qreg[j[0]], qreg[j[1]])"
   ]
  },
  {
   "cell_type": "markdown",
   "metadata": {},
   "source": [
    "### Misturador (Mixer)"
   ]
  },
  {
   "cell_type": "code",
   "execution_count": null,
   "metadata": {},
   "outputs": [],
   "source": [
    "def mixer_exact_cover(qreg, beta, num_qubits):\n",
    "    for q in range(num_qubits):\n",
    "        RX(beta)(qreg[q])"
   ]
  },
  {
   "cell_type": "code",
   "execution_count": null,
   "metadata": {},
   "outputs": [],
   "source": [
    "# --------------------------\n",
    "# Running QAOA for Max Independent Set on simulator\n",
    "# --------------------------\n",
    "\n",
    "# -------------------\n",
    "# Initializing qubits\n",
    "# -------------------\n",
    "p = 4\n",
    "qprog = Program()\n",
    "\n",
    "gamma  = [qprog.new_var(float, '\\\\gamma_%s'%i) for i in range(1,p+1)]\n",
    "beta   = [qprog.new_var(float, '\\\\beta_%s'%i) for i in range(1,p+1)]\n",
    "\n",
    "# --------------------------\n",
    "# Initial state preparation\n",
    "# --------------------------\n",
    "qbits = qprog.qalloc(num_qubits)\n",
    "for q in range(num_qubits):\n",
    "    H(qbits[q])\n",
    "\n",
    "# ----------------------------------\n",
    "# Alternate application of operators\n",
    "# ----------------------------------\n",
    "for step in range(p):\n",
    "    phase_separator_exact_cover(qbits, gamma[step], hamiltonian_exact_cover)\n",
    "    mixer_exact_cover(qbits, beta[step], num_qubits)"
   ]
  },
  {
   "cell_type": "markdown",
   "metadata": {},
   "source": [
    "### Visualização do Circuito"
   ]
  },
  {
   "cell_type": "code",
   "execution_count": null,
   "metadata": {},
   "outputs": [],
   "source": [
    "circuit = qprog.to_circ()\n",
    "print(\"total number of gates: \", len(circuit.ops))\n",
    "print(\"Variables:\", circuit.get_variables())\n",
    "# Display quantum circuit\n",
    "%qatdisplay circuit --svg"
   ]
  },
  {
   "cell_type": "markdown",
   "metadata": {},
   "source": [
    "## Rodar o Circuito usando QLM"
   ]
  },
  {
   "cell_type": "code",
   "execution_count": null,
   "metadata": {},
   "outputs": [],
   "source": [
    "# Create a job\n",
    "job = circuit.to_job(observable=hamiltonian_exact_cover)\n",
    "\n",
    "result_list = []\n",
    "for _ in range(10):\n",
    "    ## A cobyla minimizer over any number of variables, random initialization, 200 max steps\n",
    "    cobyla = ScipyMinimizePlugin(tol=1e-6,\n",
    "                                method=\"COBYLA\",\n",
    "                                options={\"maxiter\": 300},\n",
    "                                x0=[random.uniform(0, 2*np.pi) for _ in range(2*p)])\n",
    "    # Create a Quantum Processor Unit\n",
    "    qpu = get_default_qpu()\n",
    "\n",
    "    stack = cobyla | qpu\n",
    "\n",
    "    # Submit the job to the QPU\n",
    "    result_list.append(stack.submit(job))"
   ]
  },
  {
   "cell_type": "markdown",
   "metadata": {},
   "source": [
    "## Análise dos Resultados"
   ]
  },
  {
   "cell_type": "code",
   "execution_count": null,
   "metadata": {},
   "outputs": [],
   "source": [
    "for i, r in enumerate(result_list):\n",
    "    print(\"Run\", i, \", Final energy:\", r.value)\n",
    "    #Binding the variables:random.uniform(0, 2*np.pi)\n",
    "    sol_job = job(**eval(r.meta_data[\"parameter_map\"]))\n",
    "\n",
    "    #Rerunning in 'SAMPLE' mode to get the most probable states:\n",
    "    sampling_job = sol_job.circuit.to_job()\n",
    "\n",
    "    sol_res = qpu.submit(sampling_job)\n",
    "    print(\"Most probable states are:\")\n",
    "    for sample in sol_res:\n",
    "        if sample.probability > 0.05:\n",
    "            print(sample.state, \"{:.2f}%\".format(100 * sample.probability))"
   ]
  },
  {
   "cell_type": "code",
   "execution_count": null,
   "metadata": {},
   "outputs": [],
   "source": [
    "result = min(result_list, key=lambda s: s.value)\n",
    "print(\"Final energy:\", result.value)\n",
    "for key, value in result.meta_data.items():\n",
    "    print(key, \":\", value)"
   ]
  },
  {
   "cell_type": "code",
   "execution_count": null,
   "metadata": {},
   "outputs": [],
   "source": [
    "plt.plot(eval(result.meta_data[\"optimization_trace\"]))\n",
    "plt.xlabel(\"steps\")\n",
    "plt.ylabel(\"energy\")\n",
    "plt.show()"
   ]
  },
  {
   "cell_type": "code",
   "execution_count": null,
   "metadata": {},
   "outputs": [],
   "source": [
    "import itertools\n",
    "def exact_cover_obj(result, U, V):\n",
    "    solution = [Vi for i, Vi in enumerate(V) if result[i] == '1']\n",
    "    for i in itertools.combinations(solution, 2):\n",
    "        if len(i[0].intersection(i[1])) != 0:\n",
    "            return np.inf\n",
    "    cover = set().union(*solution)\n",
    "    difference = set(U) - cover\n",
    "    if len(difference) == 0:\n",
    "        return len(solution)\n",
    "    else:\n",
    "        return np.inf"
   ]
  },
  {
   "cell_type": "code",
   "execution_count": null,
   "metadata": {},
   "outputs": [],
   "source": [
    "# Emulating a reasonnable setup:\n",
    "# Drawing 1024 cuts\n",
    "sol_job = job(**eval(result.meta_data[\"parameter_map\"]))\n",
    "sampling_job = sol_job.circuit.to_job(nbshots=2048)\n",
    "sol_res = qpu.submit(sampling_job)\n",
    "\n",
    "max_state = max([(s.state.value[0], s.probability) for s in sol_res], key=lambda s: s[1])\n",
    "print(\"State with highest probability:\"\n",
    "      , max_state[0]\n",
    "      , \"%.2f%%\" % (100 * max_state[1])\n",
    "      , [Vi for i, Vi in enumerate(V) if max_state[0][i] == '1'] )\n",
    "\n",
    "tuple_list = [(s.state.value[0], s.probability, exact_cover_obj(s.state.value[0],U,V)) for s in sol_res]\n",
    "exact_cover = min(tuple_list, key=lambda s: s[2])\n",
    "print(\n",
    "    \"Best answer found:\"\n",
    "    , exact_cover[0]\n",
    "    , \"%.2f%%\" % (100 * exact_cover[1])\n",
    "    , [Vi for i, Vi in enumerate(V) if exact_cover[0][i] == '1']\n",
    ")"
   ]
  }
 ],
 "metadata": {
  "kernelspec": {
   "display_name": "Python 3.9.12 ('QLM-env')",
   "language": "python",
   "name": "python3"
  },
  "language_info": {
   "codemirror_mode": {
    "name": "ipython",
    "version": 3
   },
   "file_extension": ".py",
   "mimetype": "text/x-python",
   "name": "python",
   "nbconvert_exporter": "python",
   "pygments_lexer": "ipython3",
   "version": "3.9.12"
  },
  "orig_nbformat": 4,
  "vscode": {
   "interpreter": {
    "hash": "22e2fa0b988ad3c2d827ff085d7b60caf41c3b4887530b545c2ef6d6c16e1ea5"
   }
  }
 },
 "nbformat": 4,
 "nbformat_minor": 2
}
