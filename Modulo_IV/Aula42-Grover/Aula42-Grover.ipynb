{
 "cells": [
  {
   "cell_type": "code",
   "execution_count": 80,
   "metadata": {},
   "outputs": [],
   "source": [
    "from qat.lang.AQASM import Program, QRoutine, RZ, RX, CNOT, H, X, Z\n",
    "from qat.core import Observable, Term\n",
    "from qat.qpus import get_default_qpu, PyLinalg\n",
    "from qat.plugins import ScipyMinimizePlugin\n",
    "from copy import deepcopy\n",
    "import matplotlib.pyplot as plt\n",
    "import math as m\n",
    "\n",
    "from pysat.formula import CNF"
   ]
  },
  {
   "cell_type": "markdown",
   "metadata": {},
   "source": [
    "# Hands-on Algoritmo de Grover\n",
    "\n",
    "## Sumário do Algoritmo de Grover\n",
    "\n",
    "1. Começando no estado $\\ket{0}^{\\otimes n}$, aplique uma porta de Hadamard em cada qubit para gerar a superposição em todos os estados $$\\ket{E} = \\frac{\\sum_x \\ket{x}}{\\sqrt{N}}$$\n",
    "\n",
    "2. Repita as seguintes iterações de Grover aproximadamente $\\pi \\frac{\\sqrt{N}}{4}$ vezes:\n",
    "    - Reflita sobre o estado $\\ket{s}$ usando um oráculo\n",
    "    - Reflita sobre o estado $\\ket{E}$ usando o difusor\n",
    "\n",
    "3. Faça a medida para obter a solução da busca $s$ com probabilidade de pelo menos $1-\\frac{1}{N}$\n",
    "\n",
    "4. Use o oráculo uma última vez para verificar se a solução encontrada é uma resposta para o problema. Caso seja, retorne a solução. Se não, repita o algoritmo.\n",
    "\n"
   ]
  },
  {
   "cell_type": "markdown",
   "metadata": {},
   "source": [
    "# Exercícios\n",
    "\n",
    "1. Estenda o algoritmo de Grover para mais do que 1 elemento marcado. Suponha que o número de elementos marcados seja $m$. Modifique apenas o operdor $U_f$ usando uma porta Toffoli multiqubit para cada elemento marcado. Faça uma implementação que mostre que tempo de execução ideal é $\\left\\lfloor\\frac{\\pi}{4}\\sqrt{\\frac{N}{m}}\\right\\rfloor$.\n",
    "\n",
    "2. Implemente o algoritmo de Grover sem usar o segundo registrador. Use Capítulo 9 Seção 9.5 de https://arxiv.org/abs/2201.10574.\n",
    "\n",
    "Observação: A solução destes exercícios será apresentada nas aulas Hands-on."
   ]
  },
  {
   "cell_type": "markdown",
   "metadata": {},
   "source": [
    "### Exercício 1"
   ]
  },
  {
   "cell_type": "code",
   "execution_count": 81,
   "metadata": {},
   "outputs": [],
   "source": [
    "#targets = [(1,1,0,1,0), (0,1,0,1,0)]\n",
    "targets = [(1,1,0,1,0)]\n",
    "num_qubits = len(targets[0])"
   ]
  },
  {
   "cell_type": "code",
   "execution_count": 82,
   "metadata": {},
   "outputs": [],
   "source": [
    "def initial_state(num_qubits):\n",
    "    routine = QRoutine()\n",
    "    wires = routine.new_wires(num_qubits)\n",
    "    ancilla = routine.new_wires(1)\n",
    "    routine.set_ancillae(ancilla)\n",
    "    for q in wires:\n",
    "        H(q)\n",
    "    X(ancilla)\n",
    "    H(ancilla)\n",
    "\n",
    "    return routine\n",
    "\n",
    "def clean_ancilla(num_qubits):\n",
    "    routine = QRoutine()\n",
    "    wires = routine.new_wires(num_qubits)\n",
    "    ancilla = routine.new_wires(1)\n",
    "    routine.set_ancillae(ancilla)\n",
    "\n",
    "    H(ancilla)\n",
    "    X(ancilla)\n",
    "\n",
    "    return routine\n",
    "\n",
    "initial = initial_state(num_qubits)\n",
    "clean = clean_ancilla(num_qubits)"
   ]
  },
  {
   "cell_type": "code",
   "execution_count": 83,
   "metadata": {},
   "outputs": [],
   "source": [
    "def oracle_multiple_targets(num_qubits, targets):\n",
    "    routine = QRoutine()\n",
    "    wires = routine.new_wires(num_qubits)\n",
    "    ancilla = routine.new_wires(1)\n",
    "    routine.set_ancillae(ancilla)\n",
    "\n",
    "    for e in targets:\n",
    "        for i,val in enumerate(e):\n",
    "            if val == 0:\n",
    "                X(wires[i])\n",
    "        X.ctrl(num_qubits)(wires, ancilla)\n",
    "        for i,val in enumerate(e):\n",
    "            if val == 0:\n",
    "                X(wires[i])\n",
    "    return routine\n",
    "\n",
    "oracle = oracle_multiple_targets(num_qubits, targets)"
   ]
  },
  {
   "cell_type": "code",
   "execution_count": 84,
   "metadata": {},
   "outputs": [],
   "source": [
    "def diffusion(num_qubits):\n",
    "    routine = QRoutine()\n",
    "    wires = routine.new_wires(num_qubits)\n",
    "    ancilla = routine.new_wires(1)\n",
    "    routine.set_ancillae(ancilla)\n",
    "    # Apply transformation |s> -> |00..0> (H-gates)\n",
    "    for qubit in wires:\n",
    "        H(qubit)\n",
    "    # Apply transformation |00..0> -> |11..1> (X-gates)\n",
    "    for qubit in wires:\n",
    "        X(qubit)\n",
    "    # Do multi-controlled-Z gate\n",
    "    X.ctrl(len(wires))(wires, ancilla)\n",
    "    # Apply transformation |11..1> -> |00..0>\n",
    "    for qubit in wires:\n",
    "        X(qubit)\n",
    "    # Apply transformation |00..0> -> |s>\n",
    "    for qubit in wires:\n",
    "        H(qubit)\n",
    "\n",
    "    return routine\n",
    "\n",
    "diffusion_operator = diffusion(num_qubits)"
   ]
  },
  {
   "cell_type": "code",
   "execution_count": 85,
   "metadata": {},
   "outputs": [
    {
     "name": "stdout",
     "output_type": "stream",
     "text": [
      "Número ótimo de repetições: 4\n",
      "Com 1 repetições: \n",
      "Estado |11010>|Anc:0>: probabilidade 0.25830078124999933 amplitude (-0.5082329989778304+0j) \n",
      "Probabilidade de sucesso:  0.25830078124999933\n",
      "******************************************************************************\n",
      "Com 2 repetições: \n",
      "Estado |11010>|Anc:0>: probabilidade 0.6024246215820287 amplitude (0.7761601777867947+0j) \n",
      "Probabilidade de sucesso:  0.6024246215820287\n",
      "******************************************************************************\n",
      "Com 3 repetições: \n",
      "Estado |11010>|Anc:0>: probabilidade 0.8969365358352606 amplitude (-0.9470673343724091+0j) \n",
      "Probabilidade de sucesso:  0.8969365358352606\n",
      "******************************************************************************\n",
      "Com 4 repetições: \n",
      "Estado |11010>|Anc:0>: probabilidade 0.9991823155432861 amplitude (0.9995910741614723+0j) \n",
      "Probabilidade de sucesso:  0.9991823155432861\n",
      "******************************************************************************\n",
      "Com 5 repetições: \n",
      "Estado |11010>|Anc:0>: probabilidade 0.8596366611600305 amplitude (-0.9271659296803515+0j) \n",
      "Probabilidade de sucesso:  0.8596366611600305\n",
      "******************************************************************************\n",
      "Com 6 repetições: \n",
      "Estado |11010>|Anc:0>: probabilidade 0.5458919990273834 amplitude (0.7388450439891868+0j) \n",
      "Probabilidade de sucesso:  0.5458919990273834\n",
      "******************************************************************************\n",
      "Com 7 repetições: \n",
      "Estado |11010>|Anc:0>: probabilidade 0.2099183998658461 amplitude (-0.4581685277993744+0j) \n",
      "Probabilidade de sucesso:  0.2099183998658461\n",
      "******************************************************************************\n"
     ]
    }
   ],
   "source": [
    "probs = []\n",
    "repetitions = []\n",
    "N = 2**num_qubits\n",
    "t_opt = m.floor(m.pi/4 * m.sqrt(N/len(targets)))\n",
    "print('Número ótimo de repetições:',t_opt)\n",
    "\n",
    "\n",
    "# Initializing the first register as |psi_0>\n",
    "for i in range(1,t_opt*2):\n",
    "    qprog = Program()\n",
    "    Qr = qprog.qalloc(num_qubits)\n",
    "\n",
    "    initial(Qr)\n",
    "    for j in range(i):\n",
    "        oracle(Qr)\n",
    "        diffusion_operator(Qr)\n",
    "    clean(Qr)\n",
    "\n",
    "    # Export this program into a quantum circuit\n",
    "    circuit = qprog.to_circ()\n",
    "\n",
    "    # import one Quantum Processor Unit Factory\n",
    "    from qat.qpus import PyLinalg\n",
    "    # Create a Quantum Processor Unit\n",
    "    linalgqpu = PyLinalg()\n",
    "    # Create a job\n",
    "    job = circuit.to_job()\n",
    "    # Submit the job to the QPU\n",
    "    result = linalgqpu.submit(job)\n",
    "\n",
    "    # Iterate over the final state vector to get all final components\n",
    "    print('Com '+str(i)+' repetições: ')\n",
    "    prob = 0\n",
    "    for sample in result:\n",
    "        for e in targets:\n",
    "            if ('|' + ''.join(map(str,e)) in str(sample.state)):\n",
    "                print(\"Estado %s: probabilidade %s amplitude %s \" % (sample.state, sample.probability, sample.amplitude))\n",
    "                prob+=sample.probability\n",
    "    print('Probabilidade de sucesso: ',prob)\n",
    "    probs.append(prob)\n",
    "    repetitions.append(i)\n",
    "    print('******************************************************************************')"
   ]
  },
  {
   "cell_type": "code",
   "execution_count": 86,
   "metadata": {},
   "outputs": [
    {
     "data": {
      "image/png": "[encoded data removed]",
      "text/plain": [
       "<Figure size 432x288 with 1 Axes>"
      ]
     },
     "metadata": {
      "needs_background": "light"
     },
     "output_type": "display_data"
    }
   ],
   "source": [
    "plt.plot(repetitions, probs)\n",
    "plt.xlabel('Número de repetições Grover')\n",
    "plt.ylabel('Probabilidade de encontrar '+'|' + ''.join(map(str,targets[0]))+'>')\n",
    "plt.grid(True)\n",
    "plt.show()"
   ]
  },
  {
   "cell_type": "markdown",
   "metadata": {},
   "source": [
    "### Exercício 2"
   ]
  },
  {
   "cell_type": "code",
   "execution_count": 87,
   "metadata": {},
   "outputs": [],
   "source": [
    "def economic_diffusion(num_qubits):\n",
    "    routine = QRoutine()\n",
    "    wires = routine.new_wires(num_qubits)\n",
    "    for qubit in wires:\n",
    "        X(qubit)\n",
    "    H(wires[-1])\n",
    "    X.ctrl(len(wires)-1)(wires[:-1], wires[-1])\n",
    "    H(wires[-1])\n",
    "    for qubit in wires:\n",
    "        X(qubit)\n",
    "\n",
    "    return routine\n",
    "\n",
    "e_diffusion = economic_diffusion(num_qubits)"
   ]
  },
  {
   "cell_type": "code",
   "execution_count": 88,
   "metadata": {},
   "outputs": [],
   "source": [
    "def economic_oracle(num_qubits, targets):\n",
    "    routine = QRoutine()\n",
    "    wires = routine.new_wires(num_qubits)\n",
    "\n",
    "    for e in targets:\n",
    "        for i,val in enumerate(e):\n",
    "            if val == 1:\n",
    "                X(wires[i])\n",
    "            if i == len(e)-1:\n",
    "                H(wires[i])\n",
    "            else:\n",
    "                X(wires[i])\n",
    "        X.ctrl(num_qubits-1)(wires[:-1], wires[-1])\n",
    "        for i,val in enumerate(e):\n",
    "            if i == len(e)-1:\n",
    "                H(wires[i])\n",
    "            else:\n",
    "                X(wires[i])\n",
    "            if val == 1:\n",
    "                X(wires[i])\n",
    "    return routine\n",
    "\n",
    "e_oracle = economic_oracle(num_qubits, targets)"
   ]
  },
  {
   "cell_type": "code",
   "execution_count": 89,
   "metadata": {},
   "outputs": [
    {
     "name": "stdout",
     "output_type": "stream",
     "text": [
      "Número ótimo de repetições: 4\n",
      "Com 1 repetições: \n",
      "Estado |11010>|Anc:0>: probabilidade 0.031249999999999944 amplitude (0.17677669529663673+0j) \n",
      "Probabilidade de sucesso:  0.031249999999999944\n",
      "******************************************************************************\n",
      "Com 2 repetições: \n",
      "Estado |11010>|Anc:0>: probabilidade 0.031249999999999927 amplitude (0.17677669529663667+0j) \n",
      "Probabilidade de sucesso:  0.031249999999999927\n",
      "******************************************************************************\n",
      "Com 3 repetições: \n",
      "Estado |11010>|Anc:0>: probabilidade 0.031249999999999906 amplitude (0.17677669529663662+0j) \n",
      "Probabilidade de sucesso:  0.031249999999999906\n",
      "******************************************************************************\n",
      "Com 4 repetições: \n",
      "Estado |11010>|Anc:0>: probabilidade 0.031249999999999886 amplitude (0.17677669529663656+0j) \n",
      "Probabilidade de sucesso:  0.031249999999999886\n",
      "******************************************************************************\n",
      "Com 5 repetições: \n",
      "Estado |11010>|Anc:0>: probabilidade 0.031249999999999868 amplitude (0.1767766952966365+0j) \n",
      "Probabilidade de sucesso:  0.031249999999999868\n",
      "******************************************************************************\n",
      "Com 6 repetições: \n",
      "Estado |11010>|Anc:0>: probabilidade 0.031249999999999847 amplitude (0.17677669529663645+0j) \n",
      "Probabilidade de sucesso:  0.031249999999999847\n",
      "******************************************************************************\n",
      "Com 7 repetições: \n",
      "Estado |11010>|Anc:0>: probabilidade 0.031249999999999827 amplitude (0.1767766952966364+0j) \n",
      "Probabilidade de sucesso:  0.031249999999999827\n",
      "******************************************************************************\n"
     ]
    }
   ],
   "source": [
    "probs2 = []\n",
    "repetitions2 = []\n",
    "N = 2**num_qubits\n",
    "t_opt = m.floor(m.pi/4 * m.sqrt(N/len(targets)))\n",
    "print('Número ótimo de repetições:',t_opt)\n",
    "\n",
    "# Initializing the first register as |psi_0>\n",
    "for i in range(1,t_opt*2):\n",
    "    qproge = Program()\n",
    "    Qre = qproge.qalloc(num_qubits)\n",
    "\n",
    "    initial(Qre)\n",
    "    for j in range(i):\n",
    "        e_oracle(Qre)\n",
    "        e_diffusion(Qre)\n",
    "    clean(Qre)\n",
    "\n",
    "    # Export this program into a quantum circuit\n",
    "    circuit = qproge.to_circ()\n",
    "\n",
    "    # import one Quantum Processor Unit Factory\n",
    "    from qat.qpus import PyLinalg\n",
    "    # Create a Quantum Processor Unit\n",
    "    linalgqpu = PyLinalg()\n",
    "    # Create a job\n",
    "    job = circuit.to_job()\n",
    "    # Submit the job to the QPU\n",
    "    result = linalgqpu.submit(job)\n",
    "\n",
    "    # Iterate over the final state vector to get all final components\n",
    "    print('Com '+str(i)+' repetições: ')\n",
    "    prob = 0\n",
    "    for sample in result:\n",
    "        for e in targets:\n",
    "            if ('|' + ''.join(map(str,e)) in str(sample.state)):\n",
    "                print(\"Estado %s: probabilidade %s amplitude %s \" % (sample.state, sample.probability, sample.amplitude))\n",
    "                prob+=sample.probability\n",
    "    print('Probabilidade de sucesso: ',prob)\n",
    "    probs2.append(prob)\n",
    "    repetitions2.append(i)\n",
    "    print('******************************************************************************')"
   ]
  },
  {
   "cell_type": "code",
   "execution_count": 90,
   "metadata": {},
   "outputs": [
    {
     "data": {
      "image/png": "[encoded data removed]",
      "text/plain": [
       "<Figure size 432x288 with 1 Axes>"
      ]
     },
     "metadata": {
      "needs_background": "light"
     },
     "output_type": "display_data"
    }
   ],
   "source": [
    "plt.plot(repetitions2, probs2)\n",
    "plt.xlabel('Número de repetições Grover')\n",
    "plt.ylabel('Probabilidade de encontrar '+'|' + ''.join(map(str,targets[0]))+'>')\n",
    "plt.grid(True)\n",
    "plt.show()"
   ]
  }
 ],
 "metadata": {
  "kernelspec": {
   "display_name": "Python 3.9.12 ('QLM-env')",
   "language": "python",
   "name": "python3"
  },
  "language_info": {
   "codemirror_mode": {
    "name": "ipython",
    "version": 3
   },
   "file_extension": ".py",
   "mimetype": "text/x-python",
   "name": "python",
   "nbconvert_exporter": "python",
   "pygments_lexer": "ipython3",
   "version": "3.9.12"
  },
  "vscode": {
   "interpreter": {
    "hash": "22e2fa0b988ad3c2d827ff085d7b60caf41c3b4887530b545c2ef6d6c16e1ea5"
   }
  }
 },
 "nbformat": 4,
 "nbformat_minor": 4
}
