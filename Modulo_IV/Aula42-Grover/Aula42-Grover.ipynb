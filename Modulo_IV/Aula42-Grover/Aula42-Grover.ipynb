{
 "cells": [
  {
   "cell_type": "code",
   "execution_count": null,
   "metadata": {},
   "outputs": [],
   "source": [
    "from qat.lang.AQASM import Program, QRoutine, RZ, RX, CNOT, H, X, Z\n",
    "from qat.core import Observable, Term\n",
    "from qat.qpus import get_default_qpu, PyLinalg\n",
    "from qat.plugins import ScipyMinimizePlugin\n",
    "from math import sqrt\n",
    "\n",
    "from pysat.formula import CNF"
   ]
  },
  {
   "cell_type": "markdown",
   "metadata": {},
   "source": [
    "# Resolvendo o problema 3-SAT usando Grover\n",
    "\n",
    "<!-- Descrever Grover -->\n",
    "O algoritmo de Grover é um algoritmo quântico de busca que pode ser usado para encontrar soluções em problemas não estruturados com um ganho quadrático em relação a suas contrapartes clássicas.\n",
    "\n",
    "<!-- Descrever 3-SAT -->\n",
    "O Problema de Satisfatibilidade Booleana é o problema de determinar se existe uma interpretação que satisfaça uma fórmula Booleana. Ou seja, o problema busca uma sequência de valores VERDADEIRO ou FALSO que possa substituir as variáveis da fórmula Booleana de forma que seu valor final seja VERDADEIRO. Caso exista essa sequência, a fórmula é *satisfazível*. Por outro lado, se não existe essa sequência, a expressão definida pela fórmula é FALSO para todos os valores e é *insatisfazível*. Esse problema pode ser visto como uma busa, onde a solução é a sequência que satisfaz a fórmula booleana.\n",
    "\n",
    "<!-- Usando Grover em 3-SAT -->\n",
    "Para *buscas não-estruturadas*, o Algoritmo de Grover é ótimo e possui complexidade de $O(\\sqrt{N}) = O(2^{\\frac{n}{2}}) = O(1.414^n)$.\n",
    "Para o problema do 3-SAT, o melhor algoritmo clássico conhecido possui a complexidade de $O(1.307^n)$. Apesar de o algoritmo de Grover poder ser usado para acelerar soluções de problemas NP-Completos, esses problemas possuem uma estrutura, que pode ser aproveitada para se obter complexidades melhores do que a do algoritmo de Grover.\n",
    "Apesar de não fazer sentido usar Grover para resolver 3-SAT, as técnicas usadas aqui podem ser expandidas para casos gerais, como o k-SAT, no qual Grover supera o melhor algoritmo clássico atual."
   ]
  },
  {
   "cell_type": "markdown",
   "metadata": {},
   "source": [
    "<!-- Grover não é busca em um banco de dados -->\n",
    "Quando usa-se Grover para resolver um problema é comum confundir o seu comportamento. Em vez de ser interpretado como uma busca em um banco de dados, Grover é capaz de encontrar uma variável $x_0$ que seja capaz de resolver uma função $f$ específica.\n",
    "\n",
    "A função $f$ é uma função booleana arbitrária $f:\\big\\{0,1\\big\\}^n\\rightarrow \\{0,1\\}$. Para aplicações como quebra de criptografia, seu comportamento não é uma \"busca em um banco de dados\", em que seria necessário armazenar todo o banco de chaves no circuito quântico, mas na verdade uma função do tipo\n",
    "\n",
    "$$\\begin{equation*}\n",
    "    f(x) = \\left\\{\n",
    "  \\begin{array}{ll}\n",
    "    1, & \\hbox{se ${x=x_0}$,} \\\\\n",
    "    0, & \\hbox{caso contrário.}\n",
    "  \\end{array}\n",
    "\\right.\n",
    "\\end{equation*}$$\n",
    "\n",
    "This seems to be a common misunderstanding about Grover's algorithm. It is not about querying a magically encoded database. Rather, you have an efficiently computable function $f(x) \\in {0,1}$ and you want to find some $x_0$ for which $f(x_0)=1$. Since you know how to realize $f(x)$ (i.e., you have a circuit), you can run f on a quantum computer and use Grover to find such an x0. This function can be seen as returning entries of a \"database\", which is encoded in a specific function, though I don't particularly like this picture.\n",
    "\n",
    "The relevance is in the fact that a large number of interesting problems (namely, the class NP) are such that solutions might be hard to find, but they are easy to verify. Thus, Grover gives a square-root speed-up on any brute-force method to solve such a problem (i.e., any method which does not make use of any special structural property of f)."
   ]
  },
  {
   "cell_type": "code",
   "execution_count": null,
   "metadata": {},
   "outputs": [],
   "source": [
    "# remove one of the clauses\n",
    "cnf = CNF(from_file='example.cnf')\n",
    "num_literals = cnf.nv\n",
    "\n",
    "print(cnf.clauses)\n",
    "print(num_literals)\n"
   ]
  },
  {
   "cell_type": "code",
   "execution_count": null,
   "metadata": {},
   "outputs": [],
   "source": [
    "def oracle(num_qubits, cnf):\n",
    "    routine = QRoutine()\n",
    "    # Edite aqui o seu código\n",
    "\n",
    "\n",
    "    return routine"
   ]
  },
  {
   "cell_type": "code",
   "execution_count": null,
   "metadata": {},
   "outputs": [],
   "source": [
    "def diffusion(num_qubits):\n",
    "    routine = QRoutine()\n",
    "    wires = routine.new_wires(num_qubits)\n",
    "    # Apply transformation |s> -> |00..0> (H-gates)\n",
    "    for qubit in wires:\n",
    "        H(qubit)\n",
    "    # Apply transformation |00..0> -> |11..1> (X-gates)\n",
    "    for qubit in wires:\n",
    "        X(qubit)\n",
    "    # Do multi-controlled-Z gate\n",
    "    H(wires[0])\n",
    "    X.ctrl(len(wires)-1)(wires[1:], wires[0])\n",
    "    H(wires[0])\n",
    "    # Apply transformation |11..1> -> |00..0>\n",
    "    for qubit in wires:\n",
    "        X(qubit)\n",
    "    # Apply transformation |00..0> -> |s>\n",
    "    for qubit in wires:\n",
    "        H(qubit)\n",
    "\n",
    "    return routine"
   ]
  },
  {
   "cell_type": "code",
   "execution_count": null,
   "metadata": {},
   "outputs": [],
   "source": [
    "def check_result(num_qubits):\n",
    "    routine = QRoutine()\n",
    "    wires = routine.new_wires(num_qubits)\n",
    "    ancilla = routine.new_wires(len(cnf.clauses)+1)\n",
    "    routine.set_ancillae(ancilla)\n",
    "\n",
    "    for i, clause in enumerate(cnf.clauses):\n",
    "        qubits = [abs(q) for q in clause]\n",
    "        for control in clause:\n",
    "            if control > 0:\n",
    "                X(wires[abs(control)-1])\n",
    "        X.ctrl(len(qubits))([wires[n-1] for n in qubits], ancilla[i])\n",
    "        for control in clause:\n",
    "            if control > 0:\n",
    "                X(wires[abs(control)-1])\n",
    "\n",
    "    for qubit in ancilla[:-1]:\n",
    "        X(qubit)\n",
    "    X.ctrl(len(ancilla)-1)(ancilla[:-1], ancilla[-1])\n",
    "    for qubit in ancilla[:-1]:\n",
    "        X(qubit)\n",
    "    Z(ancilla[-1])\n",
    "\n",
    "    return routine"
   ]
  },
  {
   "cell_type": "code",
   "execution_count": null,
   "metadata": {},
   "outputs": [],
   "source": [
    "qprog = Program()\n",
    "num_qubits = num_literals\n",
    "# --------------------------\n",
    "# Initial state preparation\n",
    "# --------------------------\n",
    "qbits = qprog.qalloc(num_qubits)\n",
    "cbits = qprog.calloc(num_qubits)\n",
    "for q in qbits:\n",
    "    H(q)\n",
    "\n",
    "# ----------------------------------\n",
    "# Alternate application of operators\n",
    "# ----------------------------------\n",
    "oracle_operator = oracle(num_qubits, cnf)\n",
    "diffusion_operator = diffusion(num_qubits)\n",
    "check = check_result(num_qubits)\n",
    "\n",
    "for step in range(int(sqrt(num_qubits))):\n",
    "    oracle_operator(qbits)\n",
    "    diffusion_operator(qbits)\n",
    "check(qbits)"
   ]
  },
  {
   "cell_type": "markdown",
   "metadata": {},
   "source": [
    "### Visualização do Circuito"
   ]
  },
  {
   "cell_type": "code",
   "execution_count": null,
   "metadata": {},
   "outputs": [],
   "source": [
    "circuit = qprog.to_circ()\n",
    "print(\"total number of gates: \", len(circuit.ops))\n",
    "print(\"Variables:\", circuit.get_variables())\n",
    "# Display quantum circuit\n",
    "%qatdisplay circuit --svg"
   ]
  },
  {
   "cell_type": "code",
   "execution_count": null,
   "metadata": {},
   "outputs": [],
   "source": [
    "# Create a job\n",
    "job = circuit.to_job(nbshots=1000)\n",
    "\n",
    "qpu = PyLinalg()\n",
    "\n",
    "# Submit the job to the QPU\n",
    "result = qpu.submit(job)\n",
    "\n",
    "# Iterate over the final state vector to get all final components\n",
    "for sample in result:\n",
    "     print(\"State %s: probability %s +/- %s amplitude %s \" % (sample.state, sample.probability, sample.err, sample.amplitude))"
   ]
  }
 ],
 "metadata": {
  "kernelspec": {
   "display_name": "Python 3.9.7 ('base')",
   "language": "python",
   "name": "python3"
  },
  "language_info": {
   "codemirror_mode": {
    "name": "ipython",
    "version": 3
   },
   "file_extension": ".py",
   "mimetype": "text/x-python",
   "name": "python",
   "nbconvert_exporter": "python",
   "pygments_lexer": "ipython3",
   "version": "3.9.7"
  },
  "orig_nbformat": 4,
  "vscode": {
   "interpreter": {
    "hash": "445da9f97fff3e9607fce724e9f5124fca1a39a333bfa2bf5db6a7377ace2fc6"
   }
  }
 },
 "nbformat": 4,
 "nbformat_minor": 2
}
