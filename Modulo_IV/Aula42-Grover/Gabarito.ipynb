{
 "cells": [
  {
   "cell_type": "code",
   "execution_count": null,
   "metadata": {},
   "outputs": [],
   "source": [
    "from qat.lang.AQASM import Program, QRoutine, RZ, RX, CNOT, H, X, Z\n",
    "from qat.core import Observable, Term\n",
    "from qat.qpus import get_default_qpu, PyLinalg\n",
    "from qat.plugins import ScipyMinimizePlugin\n",
    "from math import sqrt\n",
    "\n",
    "from pysat.formula import CNF"
   ]
  },
  {
   "cell_type": "markdown",
   "metadata": {},
   "source": [
    "# Resolvendo o problema 3-SAT usando Grover\n",
    "\n",
    "<!-- Descrever Grover -->\n",
    "O algoritmo de Grover é um algoritmo quântico que pode ser usado para *busca não estruturada*. O Algoritmo possui a complexidade ótima de $O(\\sqrt{N})$ onde $N$ é o tamanho total do espaço da busca.\n",
    "\n",
    "<!-- Grover não é busca em um banco de dados -->\n",
    "Quando usa-se Grover para resolver um problema, como quebra de uma chave criptográfica, é comum confundir o seu comportamento. O algoritmo não faz consultas a um banco de dados magicamente codificado, o qual precisaria estar armazenado integralmente no circuito quântico. Em vez disso, dada uma função booleana arbitrária $f:\\big\\{0,1\\big\\}^n\\rightarrow \\{0,1\\}$ que seja eficientemente computável, cuja expressão matemática é\n",
    "\n",
    "$$\\begin{equation*}\n",
    "    f(x) = \\left\\{\n",
    "  \\begin{array}{ll}\n",
    "    1, & \\hbox{se $x$ resolve o problema,} \\\\\n",
    "    0, & \\hbox{caso contrário.}\n",
    "  \\end{array}\n",
    "\\right.\n",
    "\\end{equation*}$$\n",
    "e você quer descobrir o valor $x$ para o qual $f(x) = 1$. Como você consegue computar $f(x)$ você pode rodar $f$ em um computador quântico e usar Grover para encontrar $x$.\n",
    "\n",
    "Sua relevância como algoritmo é pelo fato de que uma grande parte de problemas interessantes, diga-se a classe NP, possuem soluções que são difíceis de computar mas são fáceis de verificar. Portanto, Grover oferece um ganho quadrático para qualquer método de força-bruta para resolver essa classe de problemas."
   ]
  },
  {
   "cell_type": "markdown",
   "metadata": {},
   "source": [
    "## SAT\n",
    "\n",
    "<!-- Descrever 3-SAT -->\n",
    "O Problema de Satisfatibilidade Booleana é o problema de determinar se existe uma interpretação que satisfaça uma fórmula Booleana. Ou seja, o problema busca uma sequência de valores VERDADEIRO ou FALSO que possa substituir as variáveis da fórmula Booleana de forma que seu valor final seja VERDADEIRO. Caso exista essa sequência, a fórmula é *satisfazível*. Por outro lado, se não existe essa sequência, a expressão definida pela fórmula é FALSO para todos os valores e é *insatisfazível*.\n",
    "\n",
    "\n",
    "<!-- Descrever CNF -->\n",
    "## Forma Normal Conjuntiva\n",
    "\n",
    "Uma fórmula booleana é formada por variáveis booleanas, também chamadas de literais. A Forma Normal Conjuntiva é uma forma padrão que pode ser usada para representar qualquer sentença lógica. Nessa forma, a sentença lógica é representada por uma conjunção de cláusulas. Uma conjunção ($\\wedge$) é representada pela operação lógica E. Uma cláusula é uma disjunção ($\\vee$, operação lógica OU) de literais. Por exemplo, a expressão\n",
    "\n",
    "$$ (A \\vee B \\vee C) \\wedge (D \\vee E) \\wedge (F \\vee G)$$\n",
    "\n",
    "Se traduz por \"A ou B ou C e D ou E e F ou G\". A FNC é fácil de se trabalhar e manipular e é possível transformar qualquer sentença lógica em uma forma normal conjuntiva aplicando-se regras de inferência e algumas transformações.\n",
    "\n",
    "Em sua formulação 3-SAT, todas as cláusulas possuem 3 literais.\n",
    "\n",
    "<!-- Usando Grover em 3-SAT -->\n",
    "Grover aplicado ao 3-SAT possui complexidade $O(2^{\\frac{n}{2}}) = O(1.414^n)$.\n",
    "Entretanto, para o problema do 3-SAT, o melhor algoritmo clássico conhecido possui a complexidade de $O(1.307^n)$.\n",
    "Isso é porque problemas NP-completos possuem uma estrutura que pode ser explorada para se obter soluções, enquanto o algoritmo de Grover é ótimo para problemas sem estrutura.\n",
    "Apesar de não parecer vantajoso usar Grover para resolver 3-SAT, as técnicas usadas aqui podem ser expandidas para casos gerais, como o k-SAT, no qual Grover supera o melhor algoritmo clássico atual."
   ]
  },
  {
   "cell_type": "code",
   "execution_count": null,
   "metadata": {},
   "outputs": [],
   "source": [
    "# remove one of the clauses\n",
    "cnf = CNF(from_file='example.cnf')\n",
    "#cnf = CNF(from_file='uf20-01.cnf')\n",
    "num_literals = cnf.nv\n",
    "\n",
    "print(cnf.clauses)\n",
    "print(num_literals)"
   ]
  },
  {
   "cell_type": "code",
   "execution_count": null,
   "metadata": {},
   "outputs": [],
   "source": [
    "def oracle(num_qubits, cnf):\n",
    "    routine = QRoutine()\n",
    "    wires = routine.new_wires(num_qubits)\n",
    "    ancilla = routine.new_wires(len(cnf.clauses)+1)\n",
    "    routine.set_ancillae(ancilla)\n",
    "\n",
    "    for i, clause in enumerate(cnf.clauses):\n",
    "        qubits = [abs(q) for q in clause]\n",
    "        for control in clause:\n",
    "            if control < 0:\n",
    "                X(wires[abs(control)-1])\n",
    "        X.ctrl(len(qubits))([wires[n-1] for n in qubits], ancilla[i])\n",
    "        for control in clause:\n",
    "            if control < 0:\n",
    "                X(wires[abs(control)-1])\n",
    "\n",
    "    for qubit in ancilla[:-1]:\n",
    "        X(qubit)\n",
    "    X.ctrl(len(ancilla)-1)(ancilla[:-1], ancilla[-1])\n",
    "    for qubit in ancilla[:-1]:\n",
    "        X(qubit)\n",
    "    Z(ancilla[-1])\n",
    "\n",
    "    # Uncomputation\n",
    "    for qubit in ancilla[:-1]:\n",
    "        X(qubit)\n",
    "    X.ctrl(len(ancilla)-1)(ancilla[:-1], ancilla[-1])\n",
    "    for qubit in ancilla[:-1]:\n",
    "        X(qubit)\n",
    "\n",
    "    for i, clause in enumerate(reversed(cnf.clauses)):\n",
    "        qubits = [abs(q) for q in clause]\n",
    "        for control in clause:\n",
    "            if control < 0:\n",
    "                X(wires[abs(control)-1])\n",
    "        X.ctrl(len(qubits))([wires[n-1] for n in qubits], ancilla[-i+len(cnf.clauses)-1])\n",
    "        for control in clause:\n",
    "            if control < 0:\n",
    "                X(wires[abs(control)-1])\n",
    "\n",
    "\n",
    "    return routine"
   ]
  },
  {
   "cell_type": "code",
   "execution_count": null,
   "metadata": {},
   "outputs": [],
   "source": [
    "def diffusion(num_qubits):\n",
    "    routine = QRoutine()\n",
    "    wires = routine.new_wires(num_qubits)\n",
    "    # Apply transformation |s> -> |00..0> (H-gates)\n",
    "    for qubit in wires:\n",
    "        H(qubit)\n",
    "    # Apply transformation |00..0> -> |11..1> (X-gates)\n",
    "    for qubit in wires:\n",
    "        X(qubit)\n",
    "    # Do multi-controlled-Z gate\n",
    "    H(wires[0])\n",
    "    X.ctrl(len(wires)-1)(wires[1:], wires[0])\n",
    "    H(wires[0])\n",
    "    # Apply transformation |11..1> -> |00..0>\n",
    "    for qubit in wires:\n",
    "        X(qubit)\n",
    "    # Apply transformation |00..0> -> |s>\n",
    "    for qubit in wires:\n",
    "        H(qubit)\n",
    "\n",
    "    return routine"
   ]
  },
  {
   "cell_type": "code",
   "execution_count": null,
   "metadata": {},
   "outputs": [],
   "source": [
    "def check_result(num_qubits):\n",
    "    routine = QRoutine()\n",
    "    wires = routine.new_wires(num_qubits)\n",
    "    ancilla = routine.new_wires(len(cnf.clauses)+1)\n",
    "    routine.set_ancillae(ancilla)\n",
    "\n",
    "    for i, clause in enumerate(cnf.clauses):\n",
    "        qubits = [abs(q) for q in clause]\n",
    "        for control in clause:\n",
    "            if control > 0:\n",
    "                X(wires[abs(control)-1])\n",
    "        X.ctrl(len(qubits))([wires[n-1] for n in qubits], ancilla[i])\n",
    "        for control in clause:\n",
    "            if control > 0:\n",
    "                X(wires[abs(control)-1])\n",
    "\n",
    "    for qubit in ancilla[:-1]:\n",
    "        X(qubit)\n",
    "    X.ctrl(len(ancilla)-1)(ancilla[:-1], ancilla[-1])\n",
    "    for qubit in ancilla[:-1]:\n",
    "        X(qubit)\n",
    "    Z(ancilla[-1])\n",
    "\n",
    "    return routine"
   ]
  },
  {
   "cell_type": "code",
   "execution_count": null,
   "metadata": {},
   "outputs": [],
   "source": [
    "qprog = Program()\n",
    "num_qubits = num_literals\n",
    "# --------------------------\n",
    "# Initial state preparation\n",
    "# --------------------------\n",
    "qbits = qprog.qalloc(num_qubits)\n",
    "cbits = qprog.calloc(num_qubits)\n",
    "for q in qbits:\n",
    "    H(q)\n",
    "\n",
    "# ----------------------------------\n",
    "# Alternate application of operators\n",
    "# ----------------------------------\n",
    "oracle_operator = oracle(num_qubits, cnf)\n",
    "diffusion_operator = diffusion(num_qubits)\n",
    "check = check_result(num_qubits)\n",
    "\n",
    "for step in range(int(sqrt(num_qubits))):\n",
    "    oracle_operator(qbits)\n",
    "    diffusion_operator(qbits)\n",
    "check(qbits)"
   ]
  },
  {
   "cell_type": "markdown",
   "metadata": {},
   "source": [
    "### Visualização do Circuito"
   ]
  },
  {
   "cell_type": "code",
   "execution_count": null,
   "metadata": {},
   "outputs": [],
   "source": [
    "circuit = qprog.to_circ()\n",
    "print(\"total number of gates: \", len(circuit.ops))\n",
    "# Display quantum circuit\n",
    "%qatdisplay circuit --svg"
   ]
  },
  {
   "cell_type": "code",
   "execution_count": null,
   "metadata": {},
   "outputs": [],
   "source": [
    "# Create a job\n",
    "job = circuit.to_job(nbshots=1000)\n",
    "\n",
    "qpu = PyLinalg()\n",
    "\n",
    "# Submit the job to the QPU\n",
    "result = qpu.submit(job)\n",
    "\n",
    "# Iterate over the final state vector to get all final components\n",
    "for sample in result:\n",
    "     print(\"State %s: probability %s +/- %s amplitude %s \" % (sample.state, sample.probability, sample.err, sample.amplitude))"
   ]
  }
 ],
 "metadata": {
  "kernelspec": {
   "display_name": "Python 3.9.12 ('QLM-env')",
   "language": "python",
   "name": "python3"
  },
  "language_info": {
   "codemirror_mode": {
    "name": "ipython",
    "version": 3
   },
   "file_extension": ".py",
   "mimetype": "text/x-python",
   "name": "python",
   "nbconvert_exporter": "python",
   "pygments_lexer": "ipython3",
   "version": "3.9.12"
  },
  "orig_nbformat": 4,
  "vscode": {
   "interpreter": {
    "hash": "22e2fa0b988ad3c2d827ff085d7b60caf41c3b4887530b545c2ef6d6c16e1ea5"
   }
  }
 },
 "nbformat": 4,
 "nbformat_minor": 2
}
