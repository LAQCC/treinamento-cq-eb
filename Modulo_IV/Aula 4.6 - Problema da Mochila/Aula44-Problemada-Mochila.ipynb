{
 "cells": [
  {
   "cell_type": "code",
   "execution_count": null,
   "metadata": {},
   "outputs": [],
   "source": [
    "from qat.lang.AQASM import Program, H, CNOT, RX, RY, RZ, X, Z\n",
    "import numpy as np\n",
    "from qat.qpus import PyLinalg\n",
    "from numpy import linalg\n",
    "from qat.qpus import get_default_qpu\n",
    "from qat.core import Observable, Term\n",
    "\n",
    "# pyqubo imports\n",
    "from pyqubo import Binary, Spin\n",
    "from pprint import pprint\n",
    "from dimod import ExactSolver\n",
    "\n",
    "import scipy\n",
    "from scipy.optimize import minimize\n",
    "import matplotlib.pyplot as plt"
   ]
  },
  {
   "cell_type": "markdown",
   "metadata": {},
   "source": [
    "# Hands-on: Problema da Mochila no VQE"
   ]
  },
  {
   "cell_type": "markdown",
   "metadata": {},
   "source": [
    "## Descrição do problema\n",
    "\n",
    "Imagine que voce tem uma mochila com capacidade $W$ (peso total) e barras de ouro de diversos pesos, $w_i$. Você quer colocar o máximo de ouro dentro da mochila, sem que sua capacidade seja ultrapassada. Quais barras de ouro colocar de forma a maximizar a quantidade de ouro dentro da mochila? Esta é uma versão simplificada do problema. Este exemplo pode ser generalizado para várias mochilas e objetos com valores e pesos diferentes.\n",
    "\n",
    "<img src=\"mochila.jpeg\" width=750 />\n",
    "\n",
    "## Formulação como otimização irrestrita\n",
    "\n",
    "Como queremos maximizar a quantidade de ouro dentro da mochila, podemos criar uma função objetivo de minimização da seguinte forma\n",
    "\n",
    "$$H(\\vec{x}) = \\left(W - \\sum_{i=0}^{n}w_ix_i\\right)^2$$\n",
    "onde $x_i=1$ se a barra de ouro $i$ está dentro da mochila e $x_i=0$ caso contrário. \n",
    "\n",
    "\n",
    "\n"
   ]
  },
  {
   "cell_type": "markdown",
   "metadata": {},
   "source": [
    "## Hands-on\n",
    "\n",
    "Vamos fazer um exemplo simples, com poucas variáveis. Imagine que 3 clientes te pediram barras de um determinado material, cujos comprimentos são: Cliente 1 - `5m`; Cliente 2 - `3m`; e Cliente 3 - `1m`. No entando, você tem apenas uma barra com `6m`. Como cortar a barra de `6m` de forma a minimizar a sobra. Use o VQE para solucionar o problema.\n",
    "\n",
    "### Exercício 1\n",
    "\n",
    "Crie a função objetivo do problema usando o `Pyqubo`. Lembre-se de usar a classe `Binary(\"xi\")` como suas variáveis binárias."
   ]
  },
  {
   "cell_type": "code",
   "execution_count": null,
   "metadata": {},
   "outputs": [],
   "source": [
    "# -----------------------------\n",
    "# criando a F.O. com pyqubo\n",
    "# -----------------------------\n",
    "\n",
    "# escreva seu codigo abaixo\n",
    "num_variables = FIXME\n",
    "\n",
    "# [...]\n",
    "\n",
    "H = FIXME\n",
    "# fim do seu codigo\n",
    "\n",
    "# -----------------------------------\n",
    "# Transformando de Binary para Ising\n",
    "# -----------------------------------\n",
    "\n",
    "model = H.compile()\n",
    "model = model.to_ising()\n",
    "linear, quadratic = model[0], model[1]\n",
    "\n",
    "print(\"Termos lineares do modelo de Ising\", linear)\n",
    "print(\"Termos cruzados do modelo de Ising\", quadratic)"
   ]
  },
  {
   "cell_type": "markdown",
   "metadata": {},
   "source": [
    "### Exercício 2\n",
    "\n",
    "Escreva o modelo de Ising em termos de operadores de Pauli-Z. Crie um dicionário para armazenar cada termo da seguinte forma:\n",
    "\n",
    "Exemplo: `hamiltonian = {\"ZIZ\": 4, ...}` onde as chaves são strings com operadores de Pauli-Z e Identidade e os respectivos valores são seus coeficientes."
   ]
  },
  {
   "cell_type": "code",
   "execution_count": null,
   "metadata": {},
   "outputs": [],
   "source": [
    "# escreva o codigo abaixo\n",
    "  \n",
    "hamiltonian = FIXME\n",
    "# fim do seu codigo\n",
    "\n",
    "print(hamiltonian)"
   ]
  },
  {
   "cell_type": "markdown",
   "metadata": {},
   "source": [
    "Agora, escreva o operador na forma matricial. Dica: crie as matrizes $Z$ e $I$ e use np.kron() para fazer o produto tensorial."
   ]
  },
  {
   "cell_type": "code",
   "execution_count": null,
   "metadata": {},
   "outputs": [],
   "source": [
    "# Escreva seu codigo abaixo\n",
    "\n",
    "h_matrix = FIXME\n",
    "# fim do seu codigo"
   ]
  },
  {
   "cell_type": "markdown",
   "metadata": {},
   "source": [
    "### Ansatz\n",
    "\n",
    "O ansatz é um circuito quântico parametrizado. Sua forma variacional pode ser dada por padrões heurísticos geralmente implementada através de operadores de rotação e portas CNOT para realizar emaranhamento entre os qubits. Uma forma variacional eficiente é aquela capaz de generalizar bem um estado quântico, aumentando o espaço de busca. Podemos escrever a atuação do circuito variacional, $U(\\vec{\\theta})$, sobre um sistema com $n$ qubits de estado inicial, $|0\\rangle^{\\otimes n}$, como\n",
    "\n",
    "$$U(\\vec{\\theta})|0\\rangle^{\\otimes n} = |\\psi(\\vec{\\theta})\\rangle$$"
   ]
  },
  {
   "cell_type": "markdown",
   "metadata": {},
   "source": [
    "Agora, realizaremos o mesmo processo do exemplo anterios, mas agora não estaremos interessados em ter um número como solução, e sim um vetor, o $\\vec{z}$. Embora minimizaremos o valor esperado de um operador, estaremos interessados no autoestado com maior probabilidade, associado ao menor valor esperado."
   ]
  },
  {
   "cell_type": "markdown",
   "metadata": {},
   "source": [
    "### Exercício 3\n",
    "\n",
    "Aplique as operações no ansatz e defina, no lugar do `FIXME`, o numero de parametros variacionais que voce usou."
   ]
  },
  {
   "cell_type": "code",
   "execution_count": null,
   "metadata": {},
   "outputs": [],
   "source": [
    "def ansatz(var_params):\n",
    "\n",
    "    qprog = Program()\n",
    "    qbits = qprog.qalloc(num_variables)\n",
    "\n",
    "    # escreva seu codigo abaixo\n",
    "    \n",
    "\n",
    "    # fim do seu codigo\n",
    "  \n",
    "    circ = qprog.to_circ()\n",
    "    return circ\n",
    "\n",
    "num_params = FIXME\n",
    "\n",
    "circuit = ansatz([i for i in range(num_params)])\n",
    "%qatdisplay circuit --svg"
   ]
  },
  {
   "cell_type": "markdown",
   "metadata": {},
   "source": [
    "### Exercício 4\n",
    "\n",
    "Na função de calculo do valor esperado, defina os termos do Observável. Cada termo deve ser escrito como `Term(coeficiente, operador, [0,1,2])` e devem estar dentro da lista `pauli_terms`."
   ]
  },
  {
   "cell_type": "code",
   "execution_count": null,
   "metadata": {},
   "outputs": [],
   "source": [
    "def expected_value(params):\n",
    "\n",
    "    # chamando o ansatz\n",
    "    circuit = ansatz(var_params = params)\n",
    "    \n",
    "    # criando o observavel\n",
    "    # a classe Oservable é responsavel por realizar as medidas em diferentes bases\n",
    "    # cada termo do observavel deve ser definido como Term(coeficiente, operador, [0,1,2]) \n",
    "    pauli_terms = [ FIXME ]\n",
    "    obs = Observable(3, pauli_terms = pauli_terms)\n",
    "                                    \n",
    "    # calcula o valor esperado do observavel para um conjunto de parametros\n",
    "    job = circuit.to_job(observable=obs, nbshots=1000)\n",
    "    result = get_default_qpu().submit(job)\n",
    "    print(\" CUSTO: \\t \", result.value)\n",
    "    conv.append(result.value)\n",
    "\n",
    "    return result.value\n",
    "\n",
    "def run_vqe_comb():\n",
    "\n",
    "    res = scipy.optimize.minimize(expected_value, x0=np.ones(num_params), \n",
    "                                method = 'COBYLA', callback=None,\n",
    "                                options={'maxiter': 500, 'ftol': 1e-06, 'iprint': 20, 'disp': True, \n",
    "                                'eps': 1.4901161193847656e-08, 'finite_diff_rel_step': None})\n",
    "\n",
    "    print(\"\\n\" , 100*\"-\",  \"\\n Aproximação da Energia Fundamental: \\t \", res['fun'], \"\\n\", 100*\"-\")\n",
    "    print(\"\\n Parametros ótimos do circuito varicional: \\t \", res['x'])\n",
    "\n",
    "    return res['x'], conv\n",
    "\n",
    "conv = []\n",
    "best_params, conv = run_vqe_comb()"
   ]
  },
  {
   "cell_type": "markdown",
   "metadata": {},
   "source": [
    "### Exercicio 5\n",
    "\n",
    "Pegue os melhores parametros encontrados na minimização do valor esperado e aplique-os no ansatz. Este circuito será o circuito \"ótimo\" e medidas neste circuito nos dará informações sobre as melhores soluções."
   ]
  },
  {
   "cell_type": "code",
   "execution_count": null,
   "metadata": {},
   "outputs": [],
   "source": [
    "# corrija os FIXMEs aqui\n",
    "best_circuit = FIXME\n",
    "job = FIXME.to_job()\n",
    "# fim do exercicio\n",
    "\n",
    "result = get_default_qpu().submit(job)\n",
    "\n",
    "states, probs = [], []\n",
    "for sample in result:\n",
    "    print(f\"Estado:  {sample.state} \\t Probabilidade:  {sample.probability}\")\n",
    "    states.append(sample.state)\n",
    "    probs.append(sample.probability)\n",
    "\n",
    "print(f\" \\n \\n Autoestado com maior ocorrência:  {str(states[probs.index(max(probs))])} \\t Probabilidade:  {max(probs)}\")"
   ]
  },
  {
   "cell_type": "markdown",
   "metadata": {},
   "source": [
    "O autoestado com maior ocorrência indica a solução ótima."
   ]
  },
  {
   "cell_type": "code",
   "execution_count": null,
   "metadata": {},
   "outputs": [],
   "source": [
    "plt.plot(conv)\n",
    "plt.xlabel(\"Iteracao\")\n",
    "plt.ylabel(\"Valor Esperado <H>\")\n",
    "plt.grid()"
   ]
  },
  {
   "cell_type": "markdown",
   "metadata": {},
   "source": []
  }
 ],
 "metadata": {
  "kernelspec": {
   "display_name": "Python 3.9.7 ('base')",
   "language": "python",
   "name": "python3"
  },
  "language_info": {
   "codemirror_mode": {
    "name": "ipython",
    "version": 3
   },
   "file_extension": ".py",
   "mimetype": "text/x-python",
   "name": "python",
   "nbconvert_exporter": "python",
   "pygments_lexer": "ipython3",
   "version": "3.9.7"
  },
  "orig_nbformat": 4,
  "vscode": {
   "interpreter": {
    "hash": "445da9f97fff3e9607fce724e9f5124fca1a39a333bfa2bf5db6a7377ace2fc6"
   }
  }
 },
 "nbformat": 4,
 "nbformat_minor": 2
}
