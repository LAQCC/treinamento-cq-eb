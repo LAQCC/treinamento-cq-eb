{
 "cells": [
  {
   "cell_type": "code",
   "execution_count": 1,
   "metadata": {},
   "outputs": [],
   "source": [
    "from qat.lang.AQASM import Program, QRoutine, RZ, RX, CNOT, H, X, Z\n",
    "from qat.core import Observable, Term\n",
    "from qat.qpus import get_default_qpu, PyLinalg\n",
    "from qat.plugins import ScipyMinimizePlugin\n",
    "from copy import deepcopy\n",
    "import matplotlib.pyplot as plt\n",
    "import math as m"
   ]
  },
  {
   "cell_type": "markdown",
   "metadata": {},
   "source": [
    "# Hands-on: Algoritmo de Grover\n",
    "$\\newcommand{\\ket}[1]{{\\left\\vert{#1}\\right\\rangle}}$\n",
    "$\\newcommand{\\bra}[1]{{\\left\\langle{#1}\\right\\vert}}$\n",
    "## Sumário do Algoritmo de Grover\n",
    "\n",
    "Seja $N=2^n$. Consideramos um registrador de $n$ qubits de modo que um dos elementos da base computacional é dado por $|x_0\\rangle$. Definimos inicialmente uma condição inicial uniforme\n",
    "\n",
    "$$|\\psi_0\\rangle =  \\frac{1}{\\sqrt{2^n}}\\sum_{i=0}^{2^n-1} |x\\rangle$$\n",
    "\n",
    "Daí, definimos os operadores:\n",
    "\n",
    "$$U_{f} \\ket{x}\\ket{i}=\\ket{x}\\ket{i\\oplus f(x)},$$\n",
    "chamado de oráculo (codifica a função $f$ onde $f(x_0)=-1$ e $f(x)=0$ se $x\\neq x_0$, onde $x_0$ é chamado elemento marcado).\n",
    "O operador $G$ é\n",
    "$$G = (2|\\psi_0\\rangle\\langle \\psi_0| - \\mathrm{I}_N)\\otimes \\mathrm{I}_2, $$\n",
    "chamado de operador de inversão em torno da média.\n",
    "\n",
    "## Os passos do algoritmo\n",
    "\n",
    "O algoritmo tem os seguintes passos (usando $n+1$ qubits)\n",
    "\n",
    "1. Primeiro, preparar o estado inicial $\\ket{\\psi_0}\\ket{-}$;\n",
    "\n",
    "2. Aplicar o operator $U_f$;\n",
    "\n",
    "3. Aplicar o operator $G$;\n",
    "\n",
    "4. Repetir $t$ vezes os passos 2 e 3 onde\n",
    "\n",
    "$$\n",
    "t=\\left\\lfloor\\frac{\\pi}{4}\\sqrt N\\right\\rfloor;\n",
    "$$\n",
    "\n",
    "5. Medir o primeiro registrador na base computacional.\n",
    "\n",
    "A medição retorna o estado $x_0$ com probabilidade de aproximadamente $1 - \\frac{1}{\\sqrt{N}}$."
   ]
  },
  {
   "cell_type": "markdown",
   "metadata": {},
   "source": [
    "### Execício 1\n",
    "\n",
    "(a) Implemente no $\\verb|QLM|$ o circuito do operador $U_{f}$ no caso $N=4$ e $x_0=10$, ou seja, $f(10)=1$ e $f(j)=0$ se $ j\\neq 10$. Mostre o circuito.\n",
    "\n",
    "(b) Rode o circuito quando a entrada é $\\ket{10}\\ket{0}$ e verifique que a saída é $\\ket{10}\\ket{1}$, como previsto.\n",
    "\n",
    "(c) Rode o circuito quando a entrada é $\\ket{10}\\ket{-}$ e verifique que a saída é $\\big(-\\ket{10}\\ket{-}\\big)$, como previsto.\n",
    "\n",
    "(d) Rode o circuito quando a entrada é $\\ket{\\psi_0}\\ket{0}$ onde\n",
    "$$|\\psi_0\\rangle =  \\frac{1}{2}\\sum_{i=0}^{3} |x\\rangle$$\n",
    "e verifique que a saída é uma superposição que tem $\\ket{1}$ no segundo registrador apenas para o elemento marcado, como previsto.\n",
    "\n",
    "(e) Rode o circuito quando a entrada é $\\ket{\\psi_0}\\ket{-}$ e verifique que a saída é uma superposição com sinal invertido apenas para o elemento marcado, como previsto."
   ]
  },
  {
   "cell_type": "markdown",
   "metadata": {},
   "source": [
    "### Exercício 2\n",
    "\n",
    "O objetivo deste exercício é aprender implementar o operador \n",
    "$$ A=( \\mathrm{I}_N - 2|0\\rangle\\langle 0| ) {\\otimes }\\mathrm{I}_2$$\n",
    "quando a entrada do segundo registrador é $\\ket{-}$ (a sua implementação só funciona neste caso).\n",
    "\n",
    "(a) Verifique através de uma análise algébrica que $A=U_f$, onde $f(0)=1$ e $f(j)=0$ caso contrário (sempre tome a entrada do segundo registrado como $\\ket{-}$).\n",
    "\n",
    "(b) Implemente no $\\verb|QLM|$ o circuito do operador $A$ para $N=4$.  Rode o circuito quando a entrada é $\\ket{\\psi_0}\\ket{-}$ onde\n",
    "$$|\\psi_0\\rangle =  \\frac{1}{2}\\sum_{i=0}^{3} |x\\rangle$$\n",
    "e verifique que a saída é uma superposição com sinal invertido apenas quando o primeiro registrador é $\\ket{0}$, como previsto."
   ]
  },
  {
   "cell_type": "markdown",
   "metadata": {},
   "source": [
    "### Exercício 3\n",
    "\n",
    "O objetivo deste exercício é aprender implementar o operador \n",
    "$$ G=( \\mathrm{I}_N - 2\\ket{\\psi_0}\\bra{\\psi_0} ) {\\otimes }\\mathrm{I}_2$$\n",
    "quando a entrada do segundo registrador é $\\ket{-}$ (a sua implementação só funciona neste caso). Vimos na aula que $G=H^{\\otimes n} A H^{\\otimes n}$. Use este fato e a implementação de $A$ vista acima para fazer este exercício. [*NOTA: O operador $G$ neste exercício tem uma inversão de sinal. Isto não afeta o resultado do algoritmo, como visto em aula.*]\n",
    "\n",
    "(a) Implemente no $\\verb|QLM|$ o circuito do operador $G$ para $N=4$.  Rode o circuito quando a entrada é $\\ket{\\psi_0}\\ket{-}$ onde\n",
    "$$|\\psi_0\\rangle =  \\frac{1}{2}\\sum_{i=0}^{3} |x\\rangle$$\n",
    "e verifique que a saída é igual a $(-\\ket{\\psi_0}\\ket{-})$, como previsto.\n",
    "\n",
    "(b) Escolha um vetor ortogonal a $\\ket{\\psi_0}$. Vamos denotar por $\\ket{\\psi_0^\\perp}$. Rode o circuito quando a entrada é $\\ket{\\psi_0^\\perp}\\ket{-}$\n",
    "e verifique que a saída é igual a entrada, como previsto.\n"
   ]
  },
  {
   "cell_type": "markdown",
   "metadata": {},
   "source": [
    "### Exercício 4\n",
    "\n",
    "Determine o número de repetições do algoritmo de Grover quando $N=4$."
   ]
  },
  {
   "cell_type": "markdown",
   "metadata": {},
   "source": [
    "### Exercício 5\n",
    "\n",
    "Implemente o algoritmo de Grover completo para $N=4$ e rode o algoritmo quando a entrada é $\\ket{0}\\ket{-}$ e o elemento marcado é $x_0=2$. Verifique se a saída da medição do primeiro registrador tem como saída a cadeia de bits correta."
   ]
  },
  {
   "cell_type": "markdown",
   "metadata": {},
   "source": [
    "## Algoritmo de Grover com mais de 1 elemento marcado"
   ]
  },
  {
   "cell_type": "markdown",
   "metadata": {},
   "source": [
    "### Execício 6\n",
    "\n",
    "(a) Implemente no $\\verb|QLM|$ o circuito do operador $U_{f}$ no caso $N=8$ tal que $f(x)=1$ se $x=110$ ou $x=011$ e $f(x)=0$ se caso contrário. Mostre o circuito.\n",
    "\n",
    "(b) Rode o circuito quando a entrada é $\\ket{\\psi_0}\\ket{0}$ onde\n",
    "$$|\\psi_0\\rangle =  \\frac{1}{\\sqrt{8}}\\sum_{i=0}^{7} |x\\rangle$$\n",
    "e verifique que a saída é uma superposição que tem $\\ket{1}$ no segundo registrador apenas para os elementos marcados, como previsto.\n",
    "\n",
    "(c) Rode o circuito quando a entrada é $\\ket{\\psi_0}\\ket{-}$ e verifique que a saída é uma superposição com sinal invertido apenas para os elementos marcados, como previsto."
   ]
  },
  {
   "cell_type": "markdown",
   "metadata": {},
   "source": [
    "### Exercício 7\n",
    "\n",
    "Seja \n",
    "$$ G=( \\mathrm{I}_N - 2\\ket{\\psi_0}\\bra{\\psi_0} ) {\\otimes }\\mathrm{I}_2$$\n",
    "Tome $N=8$ e seja\n",
    "$$|\\psi_0\\rangle =  \\frac{1}{\\sqrt{8}}\\sum_{i=0}^{7} |x\\rangle$$\n",
    "\n",
    "(a) Implemente no $\\verb|QLM|$ o circuito do operador $G$ para $N=8$.  Rode o circuito quando a entrada é $\\ket{\\psi_0}\\ket{-}$ e verifique que a saída é igual a $(-\\ket{\\psi_0}\\ket{-})$, como previsto.\n",
    "\n",
    "(b) Escolha um vetor ortogonal a $\\ket{\\psi_0}$. Vamos denotar por $\\ket{\\psi_0^\\perp}$. Rode o circuito quando a entrada é $\\ket{\\psi_0^\\perp}\\ket{-}$\n",
    "e verifique que a saída é igual a entrada, como previsto."
   ]
  },
  {
   "cell_type": "markdown",
   "metadata": {},
   "source": [
    "### Exercício 8\n",
    "\n",
    "Determine o número de repetições do algoritmo de Grover quando $N=8$ com $m=2$ elementos marcados. Use a fórmula $\\left\\lfloor\\frac{\\pi}{4}\\sqrt{\\frac{N}{m}}\\right\\rfloor$."
   ]
  },
  {
   "cell_type": "markdown",
   "metadata": {},
   "source": [
    "### Exercício 9\n",
    "\n",
    "Implemente o algoritmo de Grover completo para $N=8$ com os elementos marcados $110$ e $011$. Rode o algoritmo quando a entrada é $\\ket{0}\\ket{-}$ e o elemento marcado é $x_0=2$. Verifique se a saída da medição do primeiro registrador é a cadeia de bits correta."
   ]
  },
  {
   "cell_type": "markdown",
   "metadata": {},
   "source": [
    "## Implementação econômica do algoritmo de Grover"
   ]
  },
  {
   "cell_type": "markdown",
   "metadata": {},
   "source": [
    "### Execício 10\n",
    "\n",
    "O objetivo do próximo exercício é implementar o algoritmo de Grover sem usar o segundo registrador. Vamos re-definir o operador $U_f$ usando apenas o primeiro registrador ($n$ qubits) como\n",
    "$$U_{f} \\ket{x}=(-1)^{f(x)}\\ket{x},$$\n",
    "onde $f(x_0)=1$ e $f(x)=0$ se $x\\neq x_0$ e $x_0=(i_1,...,i_n)_2$. Use o seguinte circuito para implementar $U_f$:\n",
    "\n",
    "<img src=\"./Grover-econ.png\" width=\"450px\">\n",
    "\n",
    "Note que $X^{i_1}=\\text{I}$ se $i_1=0$ e $X^{i_1}=X$ se $i_1=1$.\n",
    "\n",
    "(a) Implemente no $\\verb|QLM|$ o circuito do operador $U_{f}$ no caso $N=8$ tal que $f(x)=1$ se $x=110$ e $f(x)=0$ caso contrário. Mostre o circuito.\n",
    "\n",
    "(b) Rode o circuito quando a entrada é $\\ket{\\psi_0}$ onde\n",
    "$$|\\psi_0\\rangle =  \\frac{1}{\\sqrt{8}}\\sum_{i=0}^{7} |x\\rangle$$\n",
    "e verifique que a saída é uma superposição com sinal invertido apenas para o elemento marcado, como previsto.\n",
    "\n",
    "(c) Implemente no $\\verb|QLM|$ o circuito do operador $G$ no caso $N=8$ usando apenas 3 qubits. Use o fato de que $G=H^{\\otimes n}U_{f_0}H^{\\otimes n}$ quando $f_0(x)=1$ se $x=000$ e $f_0(x)=0$ se caso contrário. Mostre o circuito e cheque que o operador $G$ está implementado corretamente.\n",
    "\n",
    "(d) Implemente no $\\verb|QLM|$ o circuito do algoritmo de Grover no caso $N=8$ com $x_0=110$ usando apenas 3 qubits. Faça um histograma que mostre a probabilidade de sucesso com pelo menos 3 casas decimais. Compare com o valor exato de $121/128$. "
   ]
  },
  {
   "cell_type": "code",
   "execution_count": null,
   "metadata": {},
   "outputs": [],
   "source": []
  }
 ],
 "metadata": {
  "kernelspec": {
   "display_name": "Python 3 (ipykernel)",
   "language": "python",
   "name": "python3"
  },
  "language_info": {
   "codemirror_mode": {
    "name": "ipython",
    "version": 3
   },
   "file_extension": ".py",
   "mimetype": "text/x-python",
   "name": "python",
   "nbconvert_exporter": "python",
   "pygments_lexer": "ipython3",
   "version": "3.9.12"
  },
  "vscode": {
   "interpreter": {
    "hash": "445da9f97fff3e9607fce724e9f5124fca1a39a333bfa2bf5db6a7377ace2fc6"
   }
  }
 },
 "nbformat": 4,
 "nbformat_minor": 4
}
