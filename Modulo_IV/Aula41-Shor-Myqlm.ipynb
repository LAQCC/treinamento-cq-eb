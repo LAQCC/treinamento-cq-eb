{
 "cells": [
  {
   "cell_type": "markdown",
   "id": "973650de",
   "metadata": {},
   "source": [
    "# Desafio\n",
    "\n",
    "A proposta desse desafio é usar o Algoritmo de Shor para decriptar uma mensagem encriptada pelo método RSA. Para realizar esta tarefa, será necessário encontrar fatores primos, $p$ e $q$, de um dado número inteiro, $N$, e, \\underline{sem} seguida, com o uso das chaves pública, $e$, e privada, $d$, será possível descobrir a mensagem cifrada. \n",
    "\n",
    "### Relembrando os passos do método RSA para encriptação\n",
    "\n",
    "1. Selecionar um par de números primos, $p$ e $q$ e calcular N, tal que  \n",
    "\n",
    "$$p \\times q = N$$\n",
    "\n",
    "2. Calcular $\\phi$:\n",
    "\n",
    "$$\\phi = (p-1)(q-1)$$\n",
    "\n",
    "3. Cálculo das chaves pública, $e$, e privada, $d$, que devem satisfazer as seguintes condições:\n",
    "\n",
    "$$\\text{mdc}(e, p-1) = \\text{mdc}(e, q-1) = 1$$\n",
    "$$e \\times d \\mod \\phi = 1$$\n",
    "\n",
    "\n",
    "### Passos para decifrar uma mensagem\n",
    "\n",
    "Uma vez que temos $N$, $e$ e $d$, sujeitos às restrições dadas acima, estamos prontos para encriptar e decriptar mensagens. Sabendo que as mensagens devem ser convertidas em números inteiros no protocolo RSA, uma mensagem $m$ pode ser encriptada da seguinte maneira:\n",
    "\n",
    "$$m^* = m^e\\mod N$$\n",
    "\n",
    "Uma vez que a mensagem é encriptada, qualquer pessoa com acesso a chave privada, $d$, pode decifrar a mensagem através da seguinte relação:\n",
    "\n",
    "$$m' = m^{*d} \\mod N$$\n",
    "\n",
    "Logo, $m = m'$ caso a mensagem tenha sido decrifrada com sucesso.\n",
    "\n",
    "\n"
   ]
  },
  {
   "cell_type": "markdown",
   "id": "8230306f",
   "metadata": {},
   "source": [
    "Colocar um exemplo com o número 15."
   ]
  },
  {
   "cell_type": "code",
   "execution_count": 12,
   "id": "43031fb9",
   "metadata": {},
   "outputs": [],
   "source": [
    "from qat.lang.AQASM import *\n",
    "from qat.lang.AQASM.qftarith import QFT\n",
    "from qat.qpus import PyLinalg\n",
    "from qat.qpus import get_default_qpu\n",
    "import numpy as np\n",
    "from math import modf, gcd\n",
    "import matplotlib.pyplot as plt"
   ]
  },
  {
   "cell_type": "markdown",
   "id": "96e1be8b",
   "metadata": {},
   "source": [
    "# Algoritmo de Shor\n",
    "\n",
    "Neste notebook, vamos implementar um algoritmo quântico para fatorar o número 15. Escreveremos um código de implementação do Algoritmo de Shor em `myQLM`, seguindo o material apresentado em sala.\n",
    "\n",
    "Material de apoio:\n",
    "- **Algoritmo de Shor**: aula shor\n",
    "- **Estimativa de Fase Quântica**: aula qpe\n",
    "- **Transformada de Fourier Quântica**: aula qft\n",
    "\n",
    "## Revisão do Algoritmo de Shor\n",
    "Lembrando das aulas anteriores, o Algoritmo de Shor pode ser utilizado para encontrar fatores de um número inteiro $N$, sendo\n",
    "\n",
    "$$N = pq$$\n",
    "\n",
    "onde $p$ e $q$ são números primos. Isso é feito em quatro etapas principais, semelhantes à implementação da estimativa de fase quântica. Neste caso, usaremos dois registradores de qubits. O primeiro registro terá $n = \\lfloor \\log_2 N^2 \\rfloor = \\lfloor 2 \\log_2 N \\rfloor$ qubits e conterá os qubits de medição. O segundo registrador terá $m = \\lceil \\log_2 N \\rceil$ qubits, e será o autoestado para a estimativa da fase quântica.\n",
    "\n",
    "1. Primeiro, começamos inicializando nossos qubits. Criamos uma superposição de todos os estados de base computacional $2^n$ nos qubits de medição $n$ aplicando uma porta Hadamard ($H$) em cada qubit começando no estado $\\vert0\\rangle^{\\otimes n}$ . Também inicializamos os qubits de destino $m = \\lceil \\log_2 N \\rceil$  no estado $\\vert1\\rangle$. Aqui, o expoente $\\otimes n$ significa que temos um produto tensorial dos estados de $n = 2m$ qubits.\n",
    "\n",
    "2. Em segundo lugar, aplicamos o operador unitário $U|x\\rangle = |ax \\mod N\\rangle $ com várias potências nos qubits alvo, controlando-o com cada um dos diferentes qubits de medição. O operador unitário, neste caso, implementa a exponenciação modular. O esquema abaixo mostra a ordenação e respectivas potências.\n",
    "\n",
    "\n",
    "\n",
    "<img src=\"shorimage.png\" width=500 />\n",
    "\n",
    "\n",
    "\n",
    "3. Em terceiro lugar, aplicamos uma transformada de Fourier quântica inversa nos qubits de medição $n$.\n",
    "\n",
    "4. Finalmente, medimos os primeiros $n$ qubits, colapsando para o estado $|\\ell\\rangle$ .\n",
    "\n",
    "Depois que os resultados da medição forem determinados, precisaremos fazer um pós-processamento clássico adicional para determinar os fatores ou decidir executar o programa novamente.\n",
    "\n",
    "5. A expansão em uma fração continuada de $\\frac{\\ell}{2^m}$, onde $\\ell$ é a saída do algoritmo, é dada por\n",
    "$$\\frac{\\ell}{2^m}=\\cfrac{1}{a_1 + \\cfrac{1}{a_2 + \\cfrac{1}{ \\ddots + \\cfrac{1}{a_k} }}}$$\n",
    "Os sucessivos convergentes da fração continuada são $[a_1]$, $[a_1,a_2]$, $[a_1,a_2,a_3]$ e assim por diante onde\n",
    "$$[a_1]=\\cfrac{1}{a_1},\\;\\;[a_1,a_2]=\\cfrac{1}{a_1 + \\cfrac{1}{a_2 }},\\;\\;[a_1,a_2,a_3]=\\cfrac{1}{a_1 + \\cfrac{1}{a_2 + \\cfrac{1}{ a_3}}}, \\;\\;\\cdots$$\n",
    "O último convergente é $[a_1,a_2,...,a_k]$, que é igual a $\\frac{\\ell}{2^m}$. No algoritmo de Shor, temos que escolher o convergente mais próximo de $\\frac{\\ell}{2^m}$ tal que o denominador seja menor do que $N$.\n",
    "\n",
    "\n",
    "## Implementando o Algoritmo de Shor com o `myQLM`\n",
    "\n",
    "Neste notebook, vamos implementar o Algoritmo de Shor para fatorar o número 35.\n",
    "\n",
    "\n",
    "### 1. Inicializando os qubits\n",
    "\n",
    "Inicializamos o registrador de medida como uma superposição uniforme através da operação $H^{\\otimes n}|0\\rangle^{\\otimes n}$. O segundo registrador, onde será aplicada a exponenciação modular, é inicializado no estado $|1\\rangle \\equiv |00...001\\rangle$.\n",
    "\n",
    "Logo, o estado inicializado, $|\\psi_0\\rangle$, é dado por\n",
    "\n",
    "$$|\\psi_0\\rangle = \\frac{1}{\\sqrt{2^n}}\\sum_{i=0}^{2^n-1}|i\\rangle\\otimes |1\\rangle$$\n",
    "\n",
    "#### 1.1 Código de inicialização"
   ]
  },
  {
   "cell_type": "code",
   "execution_count": 13,
   "id": "b8b5643c",
   "metadata": {},
   "outputs": [
    {
     "data": {
      "text/plain": [
       "7.110696122978827"
      ]
     },
     "execution_count": 13,
     "metadata": {},
     "output_type": "execute_result"
    }
   ],
   "source": [
    "import math\n",
    "math.log(35**2)"
   ]
  },
  {
   "cell_type": "code",
   "execution_count": 74,
   "id": "73440b4f",
   "metadata": {},
   "outputs": [],
   "source": [
    "#n=4; m=5; num_qubits = n+m\n",
    "#a=8; N=35 #usar \n",
    "\n",
    "a=8; m=5; n=4\n",
    "num_qubits = n+m\n",
    "N=35\n",
    "\n",
    "def initialize_qubits():\n",
    "    init_circ = QRoutine()\n",
    "    wires = init_circ.new_wires(num_qubits)\n",
    "\n",
    "    for i in range(n):\n",
    "        init_circ.apply(H, wires[i])\n",
    "\n",
    "    init_circ.apply(X, wires[num_qubits - 1])\n",
    "\n",
    "    return init_circ"
   ]
  },
  {
   "cell_type": "markdown",
   "id": "c66d6689",
   "metadata": {},
   "source": [
    "### 2. Exponenciação Modular Quântica\n",
    "\n",
    "Nessa etapa, o segundo registrador deve armazenar, em superposição, os valores da exponenciação modular, $a^{x}\\mod N$, para cada inteiro $x$. Portanto, devemos criar um operador $M$, que aplicado à $|\\psi_0\\rangle$, resulta em\n",
    "\n",
    "$$ |\\psi_1\\rangle = M|\\psi_0\\rangle = \\frac{1}{\\sqrt{2^n}}\\sum_{x=0}^{2^n-1}|x\\rangle\\otimes |a^{x}\\mod N\\rangle $$\n",
    "\n",
    "Uma maneira simples de implementar a exponenciação modular é através de uma estrutura muito semelhante à Estimativa de Fase Quântica (QPE). \n",
    "\n",
    "### Multiplicação modular\n",
    "\n",
    "Circuito para realizar a multiplicação modular $|8y\\mod 35\\rangle$\n",
    "\n",
    "<img src=\"mult_modular.png\" width=250 />"
   ]
  },
  {
   "cell_type": "code",
   "execution_count": 75,
   "id": "96615b41",
   "metadata": {},
   "outputs": [],
   "source": [
    "def modular_exponentiation():\n",
    "    #\"\"\"\n",
    "    circ = QRoutine()\n",
    "    wires = circ.new_wires(num_qubits)\n",
    "\n",
    "    # |9^1 mod 35> = |01001>\n",
    "    circ.apply(CNOT, n-1, 11)\n",
    "\n",
    "    # |9^2 mod 35> = |01011>\n",
    "    circ.apply(CNOT, n-2, 11)\n",
    "    circ.apply(CNOT, n-2, 13)\n",
    "\n",
    "    # |9^3 mod 35> = |11101>\n",
    "    circ.apply(CNOT, n-3, 10)\n",
    "    circ.apply(CNOT, n-3, 11)\n",
    "    circ.apply(CNOT, n-3, 12)\n",
    "\n",
    "    # |9^4 mod 35> = |10000>\n",
    "    circ.apply(CNOT, n-4, 10)\n",
    "    circ.apply(CNOT, n-4, 14)\n",
    "\n",
    "    # |9^5 mod 35> = |00100>\n",
    "    circ.apply(CNOT, n-5, 12)\n",
    "    circ.apply(CNOT, n-5, 14)\n",
    "    #\"\"\"\n",
    "\n",
    "    \"\"\"\n",
    "    circ = QRoutine()\n",
    "    wires = circ.new_wires(num_qubits)\n",
    "    # |aaaa>|00001>\n",
    "    # |8^2^0 mod 35> = |01000>\n",
    "    circ.apply(CNOT, n-1, 5)\n",
    "    circ.apply(CNOT, n-1, 8)\n",
    "\n",
    "    # |8^2^1 mod 35> = |11101>\n",
    "    circ.apply(CNOT, n-2, 4)\n",
    "    circ.apply(CNOT, n-2, 5)\n",
    "    circ.apply(CNOT, n-2, 6)\n",
    "\n",
    "    # |8^2^2 mod 35> = |00001>\n",
    "    \"\"\"\n",
    "    return circ\n",
    "\n",
    "def controlled_modular_exponentiation(i):\n",
    "    circ = QRoutine()\n",
    "    wires = circ.new_wires(1 + 4) #1 qubit de controle e 4 onde ocorrem a multiplicação\n",
    "    for j in range(2**i):\n",
    "\n",
    "        circ.apply(CNOT,0,1)\n",
    "        circ.apply(CNOT,0,3)\n",
    "        circ.apply(CNOT,0,5)\n",
    "\n",
    "        circ.apply(CCNOT,0,2,1)\n",
    "        circ.apply(CCNOT,0,2,3)\n",
    "        circ.apply(CCNOT,0,2,5)\n",
    "\n",
    "        #SWAP\n",
    "        circ.apply(CCNOT,0,2,5)\n",
    "        circ.apply(CCNOT,0,5,2)\n",
    "        circ.apply(CCNOT,0,2,5)\n",
    "\n",
    "    return circ"
   ]
  },
  {
   "cell_type": "markdown",
   "id": "79920bf9",
   "metadata": {},
   "source": [
    "### 3. Criando o programa\n",
    "\n",
    "O programa consiste na aplicação das três principais operações descritas acima:\n",
    "\n",
    "1. Inicialização do circuito\n",
    "2. Exponenciação modular\n",
    "3. Transformada Quântica de Fourier (QFT)\n",
    "\n",
    "As medidas serão feitas no registrador da QFT e usadas no pós processamento a fim de se encontrar o período $r$.\n"
   ]
  },
  {
   "cell_type": "code",
   "execution_count": 76,
   "id": "739f7aa9",
   "metadata": {},
   "outputs": [
    {
     "data": {
      "text/html": [
       "<svg baseProfile=\"full\" height=\"400\" version=\"1.1\" viewBox=\"0 0 5860 389\" width=\"1200\" xmlns=\"http://www.w3.org/2000/svg\" xmlns:ev=\"http://www.w3.org/2001/xml-events\" xmlns:xlink=\"http://www.w3.org/1999/xlink\"><defs><style type=\"text/css\"><![CDATA[@font-face{ \n",
       "    font-family: \"STIXMathJax_Main-Italic\"; \n",
       "    src: url(\"data:application/x-font-opentype;charset=utf-8;base64,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\"); \n",
       "}\n",
       "]]></style></defs><text style=\"font-family: STIXMathJax_Main-Italic; font-size: 16px;\" x=\"10\" y=\"37\">Q0</text><line stroke=\"rgb(0,0,0)\" x1=\"50\" x2=\"5860\" y1=\"32\" y2=\"32\" /><text style=\"font-family: STIXMathJax_Main-Italic; font-size: 16px;\" x=\"10\" y=\"69\">Q1</text><line stroke=\"rgb(0,0,0)\" x1=\"50\" x2=\"5860\" y1=\"64\" y2=\"64\" /><text style=\"font-family: STIXMathJax_Main-Italic; font-size: 16px;\" x=\"10\" y=\"101\">Q2</text><line stroke=\"rgb(0,0,0)\" x1=\"50\" x2=\"5860\" y1=\"96\" y2=\"96\" /><text style=\"font-family: STIXMathJax_Main-Italic; font-size: 16px;\" x=\"10\" y=\"133\">Q3</text><line stroke=\"rgb(0,0,0)\" x1=\"50\" x2=\"5860\" y1=\"128\" y2=\"128\" /><text style=\"font-family: STIXMathJax_Main-Italic; font-size: 16px;\" x=\"10\" y=\"165\">Q4</text><line stroke=\"rgb(0,0,0)\" x1=\"50\" x2=\"5860\" y1=\"160\" y2=\"160\" /><text style=\"font-family: STIXMathJax_Main-Italic; font-size: 16px;\" x=\"10\" y=\"197\">Q5</text><line stroke=\"rgb(0,0,0)\" x1=\"50\" x2=\"5860\" y1=\"192\" y2=\"192\" /><text style=\"font-family: STIXMathJax_Main-Italic; font-size: 16px;\" x=\"10\" y=\"229\">Q6</text><line stroke=\"rgb(0,0,0)\" x1=\"50\" x2=\"5860\" y1=\"224\" y2=\"224\" /><text style=\"font-family: STIXMathJax_Main-Italic; font-size: 16px;\" x=\"10\" y=\"261\">Q7</text><line stroke=\"rgb(0,0,0)\" x1=\"50\" x2=\"5860\" y1=\"256\" y2=\"256\" /><text style=\"font-family: STIXMathJax_Main-Italic; font-size: 16px;\" x=\"10\" y=\"293\">Q8</text><line stroke=\"rgb(0,0,0)\" x1=\"50\" x2=\"5860\" y1=\"288\" y2=\"288\" /><rect fill=\"white\" height=\"24\" stroke=\"black\" stroke-width=\"2\" width=\"30\" x=\"60\" y=\"20\" /><text style=\"font-family: STIXMathJax_Main-Italic; font-size: 16px;\" x=\"68\" y=\"37\">H</text><rect fill=\"white\" height=\"24\" stroke=\"black\" stroke-width=\"2\" width=\"30\" x=\"60\" y=\"52\" /><text style=\"font-family: STIXMathJax_Main-Italic; font-size: 16px;\" x=\"68\" y=\"69\">H</text><rect fill=\"white\" height=\"24\" stroke=\"black\" stroke-width=\"2\" width=\"30\" x=\"60\" y=\"84\" /><text style=\"font-family: STIXMathJax_Main-Italic; font-size: 16px;\" x=\"68\" y=\"101\">H</text><rect fill=\"white\" height=\"24\" stroke=\"black\" stroke-width=\"2\" width=\"30\" x=\"60\" y=\"116\" /><text style=\"font-family: STIXMathJax_Main-Italic; font-size: 16px;\" x=\"68\" y=\"133\">H</text><rect fill=\"white\" height=\"24\" stroke=\"black\" stroke-width=\"2\" width=\"28\" x=\"60\" y=\"276\" /><text style=\"font-family: STIXMathJax_Main-Italic; font-size: 16px;\" x=\"68\" y=\"293\">X</text><line stroke=\"rgb(0,0,0)\" x1=\"116\" x2=\"116\" y1=\"160\" y2=\"128\" /><circle cx=\"116\" cy=\"128\" fill=\"black\" r=\"4\" /><g><circle cx=\"116\" cy=\"160\" fill=\"white\" r=\"8\" stroke=\"black\" stroke-width=\"1\" /><line stroke=\"rgb(0,0,0)\" x1=\"108\" x2=\"124\" y1=\"160\" y2=\"160\" /><line stroke=\"rgb(0,0,0)\" x1=\"116\" x2=\"116\" y1=\"152\" y2=\"168\" /></g><line stroke=\"rgb(0,0,0)\" x1=\"158\" x2=\"158\" y1=\"224\" y2=\"128\" /><circle cx=\"158\" cy=\"128\" fill=\"black\" r=\"4\" /><g><circle cx=\"158\" cy=\"224\" fill=\"white\" r=\"8\" stroke=\"black\" stroke-width=\"1\" /><line stroke=\"rgb(0,0,0)\" x1=\"150\" x2=\"166\" y1=\"224\" y2=\"224\" /><line stroke=\"rgb(0,0,0)\" x1=\"158\" x2=\"158\" y1=\"216\" y2=\"232\" /></g><line stroke=\"rgb(0,0,0)\" x1=\"200\" x2=\"200\" y1=\"288\" y2=\"128\" /><circle cx=\"200\" cy=\"128\" fill=\"black\" r=\"4\" /><g><circle cx=\"200\" cy=\"288\" fill=\"white\" r=\"8\" stroke=\"black\" stroke-width=\"1\" /><line stroke=\"rgb(0,0,0)\" x1=\"192\" x2=\"208\" y1=\"288\" y2=\"288\" /><line stroke=\"rgb(0,0,0)\" x1=\"200\" x2=\"200\" y1=\"280\" y2=\"296\" /></g><line stroke=\"rgb(0,0,0)\" x1=\"242\" x2=\"242\" y1=\"160\" y2=\"128\" /><circle cx=\"242\" cy=\"128\" fill=\"black\" r=\"4\" /><line stroke=\"rgb(0,0,0)\" x1=\"242\" x2=\"242\" y1=\"160\" y2=\"192\" /><circle cx=\"242\" cy=\"192\" fill=\"black\" r=\"4\" /><g><circle cx=\"242\" cy=\"160\" fill=\"white\" r=\"8\" stroke=\"black\" stroke-width=\"1\" /><line stroke=\"rgb(0,0,0)\" x1=\"234\" x2=\"250\" y1=\"160\" y2=\"160\" /><line stroke=\"rgb(0,0,0)\" x1=\"242\" x2=\"242\" y1=\"152\" y2=\"168\" /></g><line stroke=\"rgb(0,0,0)\" x1=\"284\" x2=\"284\" y1=\"224\" y2=\"128\" /><circle cx=\"284\" cy=\"128\" fill=\"black\" r=\"4\" /><line stroke=\"rgb(0,0,0)\" x1=\"284\" x2=\"284\" y1=\"224\" y2=\"192\" /><circle cx=\"284\" cy=\"192\" fill=\"black\" r=\"4\" /><g><circle cx=\"284\" cy=\"224\" fill=\"white\" r=\"8\" stroke=\"black\" stroke-width=\"1\" /><line stroke=\"rgb(0,0,0)\" x1=\"276\" x2=\"292\" y1=\"224\" y2=\"224\" /><line stroke=\"rgb(0,0,0)\" x1=\"284\" x2=\"284\" y1=\"216\" y2=\"232\" /></g><line stroke=\"rgb(0,0,0)\" x1=\"326\" x2=\"326\" y1=\"288\" y2=\"128\" /><circle cx=\"326\" cy=\"128\" fill=\"black\" r=\"4\" /><line stroke=\"rgb(0,0,0)\" x1=\"326\" x2=\"326\" y1=\"288\" y2=\"192\" /><circle cx=\"326\" cy=\"192\" fill=\"black\" r=\"4\" /><g><circle cx=\"326\" cy=\"288\" fill=\"white\" r=\"8\" stroke=\"black\" stroke-width=\"1\" /><line stroke=\"rgb(0,0,0)\" x1=\"318\" x2=\"334\" y1=\"288\" y2=\"288\" /><line stroke=\"rgb(0,0,0)\" x1=\"326\" x2=\"326\" y1=\"280\" y2=\"296\" /></g><line stroke=\"rgb(0,0,0)\" x1=\"368\" x2=\"368\" y1=\"288\" y2=\"128\" /><circle cx=\"368\" cy=\"128\" fill=\"black\" r=\"4\" /><line stroke=\"rgb(0,0,0)\" x1=\"368\" x2=\"368\" y1=\"288\" y2=\"192\" /><circle cx=\"368\" cy=\"192\" fill=\"black\" r=\"4\" /><g><circle cx=\"368\" cy=\"288\" fill=\"white\" r=\"8\" stroke=\"black\" stroke-width=\"1\" /><line stroke=\"rgb(0,0,0)\" x1=\"360\" x2=\"376\" y1=\"288\" y2=\"288\" /><line stroke=\"rgb(0,0,0)\" x1=\"368\" x2=\"368\" y1=\"280\" y2=\"296\" /></g><line stroke=\"rgb(0,0,0)\" x1=\"410\" x2=\"410\" y1=\"192\" y2=\"128\" /><circle cx=\"410\" cy=\"128\" fill=\"black\" r=\"4\" /><line stroke=\"rgb(0,0,0)\" x1=\"410\" x2=\"410\" y1=\"192\" y2=\"288\" /><circle cx=\"410\" cy=\"288\" fill=\"black\" r=\"4\" /><g><circle cx=\"410\" cy=\"192\" fill=\"white\" r=\"8\" stroke=\"black\" stroke-width=\"1\" /><line stroke=\"rgb(0,0,0)\" x1=\"402\" x2=\"418\" y1=\"192\" y2=\"192\" /><line stroke=\"rgb(0,0,0)\" x1=\"410\" x2=\"410\" y1=\"184\" y2=\"200\" /></g><line stroke=\"rgb(0,0,0)\" x1=\"452\" x2=\"452\" y1=\"288\" y2=\"128\" /><circle cx=\"452\" cy=\"128\" fill=\"black\" r=\"4\" /><line stroke=\"rgb(0,0,0)\" x1=\"452\" x2=\"452\" y1=\"288\" y2=\"192\" /><circle cx=\"452\" cy=\"192\" fill=\"black\" r=\"4\" /><g><circle cx=\"452\" cy=\"288\" fill=\"white\" r=\"8\" stroke=\"black\" stroke-width=\"1\" /><line stroke=\"rgb(0,0,0)\" x1=\"444\" x2=\"460\" y1=\"288\" y2=\"288\" /><line stroke=\"rgb(0,0,0)\" x1=\"452\" x2=\"452\" y1=\"280\" y2=\"296\" /></g><line stroke=\"rgb(0,0,0)\" x1=\"494\" x2=\"494\" y1=\"160\" y2=\"96\" /><circle cx=\"494\" cy=\"96\" fill=\"black\" r=\"4\" /><g><circle cx=\"494\" cy=\"160\" fill=\"white\" r=\"8\" stroke=\"black\" stroke-width=\"1\" /><line stroke=\"rgb(0,0,0)\" x1=\"486\" x2=\"502\" y1=\"160\" y2=\"160\" /><line stroke=\"rgb(0,0,0)\" x1=\"494\" x2=\"494\" y1=\"152\" y2=\"168\" /></g><line stroke=\"rgb(0,0,0)\" x1=\"536\" x2=\"536\" y1=\"224\" y2=\"96\" /><circle cx=\"536\" cy=\"96\" fill=\"black\" r=\"4\" /><g><circle cx=\"536\" cy=\"224\" fill=\"white\" r=\"8\" stroke=\"black\" stroke-width=\"1\" /><line stroke=\"rgb(0,0,0)\" x1=\"528\" x2=\"544\" y1=\"224\" y2=\"224\" /><line stroke=\"rgb(0,0,0)\" x1=\"536\" x2=\"536\" y1=\"216\" y2=\"232\" /></g><line stroke=\"rgb(0,0,0)\" x1=\"578\" x2=\"578\" y1=\"288\" y2=\"96\" /><circle cx=\"578\" cy=\"96\" fill=\"black\" r=\"4\" /><g><circle cx=\"578\" cy=\"288\" fill=\"white\" r=\"8\" stroke=\"black\" stroke-width=\"1\" /><line stroke=\"rgb(0,0,0)\" x1=\"570\" x2=\"586\" y1=\"288\" y2=\"288\" /><line stroke=\"rgb(0,0,0)\" x1=\"578\" x2=\"578\" y1=\"280\" y2=\"296\" /></g><line stroke=\"rgb(0,0,0)\" x1=\"620\" x2=\"620\" y1=\"160\" y2=\"96\" /><circle cx=\"620\" cy=\"96\" fill=\"black\" r=\"4\" /><line stroke=\"rgb(0,0,0)\" x1=\"620\" x2=\"620\" y1=\"160\" y2=\"192\" /><circle cx=\"620\" cy=\"192\" fill=\"black\" r=\"4\" /><g><circle cx=\"620\" cy=\"160\" fill=\"white\" r=\"8\" stroke=\"black\" stroke-width=\"1\" /><line stroke=\"rgb(0,0,0)\" x1=\"612\" x2=\"628\" y1=\"160\" y2=\"160\" /><line stroke=\"rgb(0,0,0)\" x1=\"620\" x2=\"620\" y1=\"152\" y2=\"168\" /></g><line stroke=\"rgb(0,0,0)\" x1=\"662\" x2=\"662\" y1=\"224\" y2=\"96\" /><circle cx=\"662\" cy=\"96\" fill=\"black\" r=\"4\" /><line stroke=\"rgb(0,0,0)\" x1=\"662\" x2=\"662\" y1=\"224\" y2=\"192\" /><circle cx=\"662\" cy=\"192\" fill=\"black\" r=\"4\" /><g><circle cx=\"662\" cy=\"224\" fill=\"white\" r=\"8\" stroke=\"black\" stroke-width=\"1\" /><line stroke=\"rgb(0,0,0)\" x1=\"654\" x2=\"670\" y1=\"224\" y2=\"224\" /><line stroke=\"rgb(0,0,0)\" x1=\"662\" x2=\"662\" y1=\"216\" y2=\"232\" /></g><line stroke=\"rgb(0,0,0)\" x1=\"704\" x2=\"704\" y1=\"288\" y2=\"96\" /><circle cx=\"704\" cy=\"96\" fill=\"black\" r=\"4\" /><line stroke=\"rgb(0,0,0)\" x1=\"704\" x2=\"704\" y1=\"288\" y2=\"192\" /><circle cx=\"704\" cy=\"192\" fill=\"black\" r=\"4\" /><g><circle cx=\"704\" cy=\"288\" fill=\"white\" r=\"8\" stroke=\"black\" stroke-width=\"1\" /><line stroke=\"rgb(0,0,0)\" x1=\"696\" x2=\"712\" y1=\"288\" y2=\"288\" /><line stroke=\"rgb(0,0,0)\" x1=\"704\" x2=\"704\" y1=\"280\" y2=\"296\" /></g><line stroke=\"rgb(0,0,0)\" x1=\"746\" x2=\"746\" y1=\"288\" y2=\"96\" /><circle cx=\"746\" cy=\"96\" fill=\"black\" r=\"4\" /><line stroke=\"rgb(0,0,0)\" x1=\"746\" x2=\"746\" y1=\"288\" y2=\"192\" /><circle cx=\"746\" cy=\"192\" fill=\"black\" r=\"4\" /><g><circle cx=\"746\" cy=\"288\" fill=\"white\" r=\"8\" stroke=\"black\" stroke-width=\"1\" /><line stroke=\"rgb(0,0,0)\" x1=\"738\" x2=\"754\" y1=\"288\" y2=\"288\" /><line stroke=\"rgb(0,0,0)\" x1=\"746\" x2=\"746\" y1=\"280\" y2=\"296\" /></g><line stroke=\"rgb(0,0,0)\" x1=\"788\" x2=\"788\" y1=\"192\" y2=\"96\" /><circle cx=\"788\" cy=\"96\" fill=\"black\" r=\"4\" /><line stroke=\"rgb(0,0,0)\" x1=\"788\" x2=\"788\" y1=\"192\" y2=\"288\" /><circle cx=\"788\" cy=\"288\" fill=\"black\" r=\"4\" /><g><circle cx=\"788\" cy=\"192\" fill=\"white\" r=\"8\" stroke=\"black\" stroke-width=\"1\" /><line stroke=\"rgb(0,0,0)\" x1=\"780\" x2=\"796\" y1=\"192\" y2=\"192\" /><line stroke=\"rgb(0,0,0)\" x1=\"788\" x2=\"788\" y1=\"184\" y2=\"200\" /></g><line stroke=\"rgb(0,0,0)\" x1=\"830\" x2=\"830\" y1=\"288\" y2=\"96\" /><circle cx=\"830\" cy=\"96\" fill=\"black\" r=\"4\" /><line stroke=\"rgb(0,0,0)\" x1=\"830\" x2=\"830\" y1=\"288\" y2=\"192\" /><circle cx=\"830\" cy=\"192\" fill=\"black\" r=\"4\" /><g><circle cx=\"830\" cy=\"288\" fill=\"white\" r=\"8\" stroke=\"black\" stroke-width=\"1\" /><line stroke=\"rgb(0,0,0)\" x1=\"822\" x2=\"838\" y1=\"288\" y2=\"288\" /><line stroke=\"rgb(0,0,0)\" x1=\"830\" x2=\"830\" y1=\"280\" y2=\"296\" /></g><line stroke=\"rgb(0,0,0)\" x1=\"872\" x2=\"872\" y1=\"160\" y2=\"96\" /><circle cx=\"872\" cy=\"96\" fill=\"black\" r=\"4\" /><g><circle cx=\"872\" cy=\"160\" fill=\"white\" r=\"8\" stroke=\"black\" stroke-width=\"1\" /><line stroke=\"rgb(0,0,0)\" x1=\"864\" x2=\"880\" y1=\"160\" y2=\"160\" /><line stroke=\"rgb(0,0,0)\" x1=\"872\" x2=\"872\" y1=\"152\" y2=\"168\" /></g><line stroke=\"rgb(0,0,0)\" x1=\"914\" x2=\"914\" y1=\"224\" y2=\"96\" /><circle cx=\"914\" cy=\"96\" fill=\"black\" r=\"4\" /><g><circle cx=\"914\" cy=\"224\" fill=\"white\" r=\"8\" stroke=\"black\" stroke-width=\"1\" /><line stroke=\"rgb(0,0,0)\" x1=\"906\" x2=\"922\" y1=\"224\" y2=\"224\" /><line stroke=\"rgb(0,0,0)\" x1=\"914\" x2=\"914\" y1=\"216\" y2=\"232\" /></g><line stroke=\"rgb(0,0,0)\" x1=\"956\" x2=\"956\" y1=\"288\" y2=\"96\" /><circle cx=\"956\" cy=\"96\" fill=\"black\" r=\"4\" /><g><circle cx=\"956\" cy=\"288\" fill=\"white\" r=\"8\" stroke=\"black\" stroke-width=\"1\" /><line stroke=\"rgb(0,0,0)\" x1=\"948\" x2=\"964\" y1=\"288\" y2=\"288\" /><line stroke=\"rgb(0,0,0)\" x1=\"956\" x2=\"956\" y1=\"280\" y2=\"296\" /></g><line stroke=\"rgb(0,0,0)\" x1=\"998\" x2=\"998\" y1=\"160\" y2=\"96\" /><circle cx=\"998\" cy=\"96\" fill=\"black\" r=\"4\" /><line stroke=\"rgb(0,0,0)\" x1=\"998\" x2=\"998\" y1=\"160\" y2=\"192\" /><circle cx=\"998\" cy=\"192\" fill=\"black\" r=\"4\" /><g><circle cx=\"998\" cy=\"160\" fill=\"white\" r=\"8\" stroke=\"black\" stroke-width=\"1\" /><line stroke=\"rgb(0,0,0)\" x1=\"990\" x2=\"1006\" y1=\"160\" y2=\"160\" /><line stroke=\"rgb(0,0,0)\" x1=\"998\" x2=\"998\" y1=\"152\" y2=\"168\" /></g><line stroke=\"rgb(0,0,0)\" x1=\"1040\" x2=\"1040\" y1=\"224\" y2=\"96\" /><circle cx=\"1040\" cy=\"96\" fill=\"black\" r=\"4\" /><line stroke=\"rgb(0,0,0)\" x1=\"1040\" x2=\"1040\" y1=\"224\" y2=\"192\" /><circle cx=\"1040\" cy=\"192\" fill=\"black\" r=\"4\" /><g><circle cx=\"1040\" cy=\"224\" fill=\"white\" r=\"8\" stroke=\"black\" stroke-width=\"1\" /><line stroke=\"rgb(0,0,0)\" x1=\"1032\" x2=\"1048\" y1=\"224\" y2=\"224\" /><line stroke=\"rgb(0,0,0)\" x1=\"1040\" x2=\"1040\" y1=\"216\" y2=\"232\" /></g><line stroke=\"rgb(0,0,0)\" x1=\"1082\" x2=\"1082\" y1=\"288\" y2=\"96\" /><circle cx=\"1082\" cy=\"96\" fill=\"black\" r=\"4\" /><line stroke=\"rgb(0,0,0)\" x1=\"1082\" x2=\"1082\" y1=\"288\" y2=\"192\" /><circle cx=\"1082\" cy=\"192\" fill=\"black\" r=\"4\" /><g><circle cx=\"1082\" cy=\"288\" fill=\"white\" r=\"8\" stroke=\"black\" stroke-width=\"1\" /><line stroke=\"rgb(0,0,0)\" x1=\"1074\" x2=\"1090\" y1=\"288\" y2=\"288\" /><line stroke=\"rgb(0,0,0)\" x1=\"1082\" x2=\"1082\" y1=\"280\" y2=\"296\" /></g><line stroke=\"rgb(0,0,0)\" x1=\"1124\" x2=\"1124\" y1=\"288\" y2=\"96\" /><circle cx=\"1124\" cy=\"96\" fill=\"black\" r=\"4\" /><line stroke=\"rgb(0,0,0)\" x1=\"1124\" x2=\"1124\" y1=\"288\" y2=\"192\" /><circle cx=\"1124\" cy=\"192\" fill=\"black\" r=\"4\" /><g><circle cx=\"1124\" cy=\"288\" fill=\"white\" r=\"8\" stroke=\"black\" stroke-width=\"1\" /><line stroke=\"rgb(0,0,0)\" x1=\"1116\" x2=\"1132\" y1=\"288\" y2=\"288\" /><line stroke=\"rgb(0,0,0)\" x1=\"1124\" x2=\"1124\" y1=\"280\" y2=\"296\" /></g><line stroke=\"rgb(0,0,0)\" x1=\"1166\" x2=\"1166\" y1=\"192\" y2=\"96\" /><circle cx=\"1166\" cy=\"96\" fill=\"black\" r=\"4\" /><line stroke=\"rgb(0,0,0)\" x1=\"1166\" x2=\"1166\" y1=\"192\" y2=\"288\" /><circle cx=\"1166\" cy=\"288\" fill=\"black\" r=\"4\" /><g><circle cx=\"1166\" cy=\"192\" fill=\"white\" r=\"8\" stroke=\"black\" stroke-width=\"1\" /><line stroke=\"rgb(0,0,0)\" x1=\"1158\" x2=\"1174\" y1=\"192\" y2=\"192\" /><line stroke=\"rgb(0,0,0)\" x1=\"1166\" x2=\"1166\" y1=\"184\" y2=\"200\" /></g><line stroke=\"rgb(0,0,0)\" x1=\"1208\" x2=\"1208\" y1=\"288\" y2=\"96\" /><circle cx=\"1208\" cy=\"96\" fill=\"black\" r=\"4\" /><line stroke=\"rgb(0,0,0)\" x1=\"1208\" x2=\"1208\" y1=\"288\" y2=\"192\" /><circle cx=\"1208\" cy=\"192\" fill=\"black\" r=\"4\" /><g><circle cx=\"1208\" cy=\"288\" fill=\"white\" r=\"8\" stroke=\"black\" stroke-width=\"1\" /><line stroke=\"rgb(0,0,0)\" x1=\"1200\" x2=\"1216\" y1=\"288\" y2=\"288\" /><line stroke=\"rgb(0,0,0)\" x1=\"1208\" x2=\"1208\" y1=\"280\" y2=\"296\" /></g><line stroke=\"rgb(0,0,0)\" x1=\"1250\" x2=\"1250\" y1=\"160\" y2=\"64\" /><circle cx=\"1250\" cy=\"64\" fill=\"black\" r=\"4\" /><g><circle cx=\"1250\" cy=\"160\" fill=\"white\" r=\"8\" stroke=\"black\" stroke-width=\"1\" /><line stroke=\"rgb(0,0,0)\" x1=\"1242\" x2=\"1258\" y1=\"160\" y2=\"160\" /><line stroke=\"rgb(0,0,0)\" x1=\"1250\" x2=\"1250\" y1=\"152\" y2=\"168\" /></g><line stroke=\"rgb(0,0,0)\" x1=\"1292\" x2=\"1292\" y1=\"224\" y2=\"64\" /><circle cx=\"1292\" cy=\"64\" fill=\"black\" r=\"4\" /><g><circle cx=\"1292\" cy=\"224\" fill=\"white\" r=\"8\" stroke=\"black\" stroke-width=\"1\" /><line stroke=\"rgb(0,0,0)\" x1=\"1284\" x2=\"1300\" y1=\"224\" y2=\"224\" /><line stroke=\"rgb(0,0,0)\" x1=\"1292\" x2=\"1292\" y1=\"216\" y2=\"232\" /></g><line stroke=\"rgb(0,0,0)\" x1=\"1334\" x2=\"1334\" y1=\"288\" y2=\"64\" /><circle cx=\"1334\" cy=\"64\" fill=\"black\" r=\"4\" /><g><circle cx=\"1334\" cy=\"288\" fill=\"white\" r=\"8\" stroke=\"black\" stroke-width=\"1\" /><line stroke=\"rgb(0,0,0)\" x1=\"1326\" x2=\"1342\" y1=\"288\" y2=\"288\" /><line stroke=\"rgb(0,0,0)\" x1=\"1334\" x2=\"1334\" y1=\"280\" y2=\"296\" /></g><line stroke=\"rgb(0,0,0)\" x1=\"1376\" x2=\"1376\" y1=\"160\" y2=\"64\" /><circle cx=\"1376\" cy=\"64\" fill=\"black\" r=\"4\" /><line stroke=\"rgb(0,0,0)\" x1=\"1376\" x2=\"1376\" y1=\"160\" y2=\"192\" /><circle cx=\"1376\" cy=\"192\" fill=\"black\" r=\"4\" /><g><circle cx=\"1376\" cy=\"160\" fill=\"white\" r=\"8\" stroke=\"black\" stroke-width=\"1\" /><line stroke=\"rgb(0,0,0)\" x1=\"1368\" x2=\"1384\" y1=\"160\" y2=\"160\" /><line stroke=\"rgb(0,0,0)\" x1=\"1376\" x2=\"1376\" y1=\"152\" y2=\"168\" /></g><line stroke=\"rgb(0,0,0)\" x1=\"1418\" x2=\"1418\" y1=\"224\" y2=\"64\" /><circle cx=\"1418\" cy=\"64\" fill=\"black\" r=\"4\" /><line stroke=\"rgb(0,0,0)\" x1=\"1418\" x2=\"1418\" y1=\"224\" y2=\"192\" /><circle cx=\"1418\" cy=\"192\" fill=\"black\" r=\"4\" /><g><circle cx=\"1418\" cy=\"224\" fill=\"white\" r=\"8\" stroke=\"black\" stroke-width=\"1\" /><line stroke=\"rgb(0,0,0)\" x1=\"1410\" x2=\"1426\" y1=\"224\" y2=\"224\" /><line stroke=\"rgb(0,0,0)\" x1=\"1418\" x2=\"1418\" y1=\"216\" y2=\"232\" /></g><line stroke=\"rgb(0,0,0)\" x1=\"1460\" x2=\"1460\" y1=\"288\" y2=\"64\" /><circle cx=\"1460\" cy=\"64\" fill=\"black\" r=\"4\" /><line stroke=\"rgb(0,0,0)\" x1=\"1460\" x2=\"1460\" y1=\"288\" y2=\"192\" /><circle cx=\"1460\" cy=\"192\" fill=\"black\" r=\"4\" /><g><circle cx=\"1460\" cy=\"288\" fill=\"white\" r=\"8\" stroke=\"black\" stroke-width=\"1\" /><line stroke=\"rgb(0,0,0)\" x1=\"1452\" x2=\"1468\" y1=\"288\" y2=\"288\" /><line stroke=\"rgb(0,0,0)\" x1=\"1460\" x2=\"1460\" y1=\"280\" y2=\"296\" /></g><line stroke=\"rgb(0,0,0)\" x1=\"1502\" x2=\"1502\" y1=\"288\" y2=\"64\" /><circle cx=\"1502\" cy=\"64\" fill=\"black\" r=\"4\" /><line stroke=\"rgb(0,0,0)\" x1=\"1502\" x2=\"1502\" y1=\"288\" y2=\"192\" /><circle cx=\"1502\" cy=\"192\" fill=\"black\" r=\"4\" /><g><circle cx=\"1502\" cy=\"288\" fill=\"white\" r=\"8\" stroke=\"black\" stroke-width=\"1\" /><line stroke=\"rgb(0,0,0)\" x1=\"1494\" x2=\"1510\" y1=\"288\" y2=\"288\" /><line stroke=\"rgb(0,0,0)\" x1=\"1502\" x2=\"1502\" y1=\"280\" y2=\"296\" /></g><line stroke=\"rgb(0,0,0)\" x1=\"1544\" x2=\"1544\" y1=\"192\" y2=\"64\" /><circle cx=\"1544\" cy=\"64\" fill=\"black\" r=\"4\" /><line stroke=\"rgb(0,0,0)\" x1=\"1544\" x2=\"1544\" y1=\"192\" y2=\"288\" /><circle cx=\"1544\" cy=\"288\" fill=\"black\" r=\"4\" /><g><circle cx=\"1544\" cy=\"192\" fill=\"white\" r=\"8\" stroke=\"black\" stroke-width=\"1\" /><line stroke=\"rgb(0,0,0)\" x1=\"1536\" x2=\"1552\" y1=\"192\" y2=\"192\" /><line stroke=\"rgb(0,0,0)\" x1=\"1544\" x2=\"1544\" y1=\"184\" y2=\"200\" /></g><line stroke=\"rgb(0,0,0)\" x1=\"1586\" x2=\"1586\" y1=\"288\" y2=\"64\" /><circle cx=\"1586\" cy=\"64\" fill=\"black\" r=\"4\" /><line stroke=\"rgb(0,0,0)\" x1=\"1586\" x2=\"1586\" y1=\"288\" y2=\"192\" /><circle cx=\"1586\" cy=\"192\" fill=\"black\" r=\"4\" /><g><circle cx=\"1586\" cy=\"288\" fill=\"white\" r=\"8\" stroke=\"black\" stroke-width=\"1\" /><line stroke=\"rgb(0,0,0)\" x1=\"1578\" x2=\"1594\" y1=\"288\" y2=\"288\" /><line stroke=\"rgb(0,0,0)\" x1=\"1586\" x2=\"1586\" y1=\"280\" y2=\"296\" /></g><line stroke=\"rgb(0,0,0)\" x1=\"1628\" x2=\"1628\" y1=\"160\" y2=\"64\" /><circle cx=\"1628\" cy=\"64\" fill=\"black\" r=\"4\" /><g><circle cx=\"1628\" cy=\"160\" fill=\"white\" r=\"8\" stroke=\"black\" stroke-width=\"1\" /><line stroke=\"rgb(0,0,0)\" x1=\"1620\" x2=\"1636\" y1=\"160\" y2=\"160\" /><line stroke=\"rgb(0,0,0)\" x1=\"1628\" x2=\"1628\" y1=\"152\" y2=\"168\" /></g><line stroke=\"rgb(0,0,0)\" x1=\"1670\" x2=\"1670\" y1=\"224\" y2=\"64\" /><circle cx=\"1670\" cy=\"64\" fill=\"black\" r=\"4\" /><g><circle cx=\"1670\" cy=\"224\" fill=\"white\" r=\"8\" stroke=\"black\" stroke-width=\"1\" /><line stroke=\"rgb(0,0,0)\" x1=\"1662\" x2=\"1678\" y1=\"224\" y2=\"224\" /><line stroke=\"rgb(0,0,0)\" x1=\"1670\" x2=\"1670\" y1=\"216\" y2=\"232\" /></g><line stroke=\"rgb(0,0,0)\" x1=\"1712\" x2=\"1712\" y1=\"288\" y2=\"64\" /><circle cx=\"1712\" cy=\"64\" fill=\"black\" r=\"4\" /><g><circle cx=\"1712\" cy=\"288\" fill=\"white\" r=\"8\" stroke=\"black\" stroke-width=\"1\" /><line stroke=\"rgb(0,0,0)\" x1=\"1704\" x2=\"1720\" y1=\"288\" y2=\"288\" /><line stroke=\"rgb(0,0,0)\" x1=\"1712\" x2=\"1712\" y1=\"280\" y2=\"296\" /></g><line stroke=\"rgb(0,0,0)\" x1=\"1754\" x2=\"1754\" y1=\"160\" y2=\"64\" /><circle cx=\"1754\" cy=\"64\" fill=\"black\" r=\"4\" /><line stroke=\"rgb(0,0,0)\" x1=\"1754\" x2=\"1754\" y1=\"160\" y2=\"192\" /><circle cx=\"1754\" cy=\"192\" fill=\"black\" r=\"4\" /><g><circle cx=\"1754\" cy=\"160\" fill=\"white\" r=\"8\" stroke=\"black\" stroke-width=\"1\" /><line stroke=\"rgb(0,0,0)\" x1=\"1746\" x2=\"1762\" y1=\"160\" y2=\"160\" /><line stroke=\"rgb(0,0,0)\" x1=\"1754\" x2=\"1754\" y1=\"152\" y2=\"168\" /></g><line stroke=\"rgb(0,0,0)\" x1=\"1796\" x2=\"1796\" y1=\"224\" y2=\"64\" /><circle cx=\"1796\" cy=\"64\" fill=\"black\" r=\"4\" /><line stroke=\"rgb(0,0,0)\" x1=\"1796\" x2=\"1796\" y1=\"224\" y2=\"192\" /><circle cx=\"1796\" cy=\"192\" fill=\"black\" r=\"4\" /><g><circle cx=\"1796\" cy=\"224\" fill=\"white\" r=\"8\" stroke=\"black\" stroke-width=\"1\" /><line stroke=\"rgb(0,0,0)\" x1=\"1788\" x2=\"1804\" y1=\"224\" y2=\"224\" /><line stroke=\"rgb(0,0,0)\" x1=\"1796\" x2=\"1796\" y1=\"216\" y2=\"232\" /></g><line stroke=\"rgb(0,0,0)\" x1=\"1838\" x2=\"1838\" y1=\"288\" y2=\"64\" /><circle cx=\"1838\" cy=\"64\" fill=\"black\" r=\"4\" /><line stroke=\"rgb(0,0,0)\" x1=\"1838\" x2=\"1838\" y1=\"288\" y2=\"192\" /><circle cx=\"1838\" cy=\"192\" fill=\"black\" r=\"4\" /><g><circle cx=\"1838\" cy=\"288\" fill=\"white\" r=\"8\" stroke=\"black\" stroke-width=\"1\" /><line stroke=\"rgb(0,0,0)\" x1=\"1830\" x2=\"1846\" y1=\"288\" y2=\"288\" /><line stroke=\"rgb(0,0,0)\" x1=\"1838\" x2=\"1838\" y1=\"280\" y2=\"296\" /></g><line stroke=\"rgb(0,0,0)\" x1=\"1880\" x2=\"1880\" y1=\"288\" y2=\"64\" /><circle cx=\"1880\" cy=\"64\" fill=\"black\" r=\"4\" /><line stroke=\"rgb(0,0,0)\" x1=\"1880\" x2=\"1880\" y1=\"288\" y2=\"192\" /><circle cx=\"1880\" cy=\"192\" fill=\"black\" r=\"4\" /><g><circle cx=\"1880\" cy=\"288\" fill=\"white\" r=\"8\" stroke=\"black\" stroke-width=\"1\" /><line stroke=\"rgb(0,0,0)\" x1=\"1872\" x2=\"1888\" y1=\"288\" y2=\"288\" /><line stroke=\"rgb(0,0,0)\" x1=\"1880\" x2=\"1880\" y1=\"280\" y2=\"296\" /></g><line stroke=\"rgb(0,0,0)\" x1=\"1922\" x2=\"1922\" y1=\"192\" y2=\"64\" /><circle cx=\"1922\" cy=\"64\" fill=\"black\" r=\"4\" /><line stroke=\"rgb(0,0,0)\" x1=\"1922\" x2=\"1922\" y1=\"192\" y2=\"288\" /><circle cx=\"1922\" cy=\"288\" fill=\"black\" r=\"4\" /><g><circle cx=\"1922\" cy=\"192\" fill=\"white\" r=\"8\" stroke=\"black\" stroke-width=\"1\" /><line stroke=\"rgb(0,0,0)\" x1=\"1914\" x2=\"1930\" y1=\"192\" y2=\"192\" /><line stroke=\"rgb(0,0,0)\" x1=\"1922\" x2=\"1922\" y1=\"184\" y2=\"200\" /></g><line stroke=\"rgb(0,0,0)\" x1=\"1964\" x2=\"1964\" y1=\"288\" y2=\"64\" /><circle cx=\"1964\" cy=\"64\" fill=\"black\" r=\"4\" /><line stroke=\"rgb(0,0,0)\" x1=\"1964\" x2=\"1964\" y1=\"288\" y2=\"192\" /><circle cx=\"1964\" cy=\"192\" fill=\"black\" r=\"4\" /><g><circle cx=\"1964\" cy=\"288\" fill=\"white\" r=\"8\" stroke=\"black\" stroke-width=\"1\" /><line stroke=\"rgb(0,0,0)\" x1=\"1956\" x2=\"1972\" y1=\"288\" y2=\"288\" /><line stroke=\"rgb(0,0,0)\" x1=\"1964\" x2=\"1964\" y1=\"280\" y2=\"296\" /></g><line stroke=\"rgb(0,0,0)\" x1=\"2006\" x2=\"2006\" y1=\"160\" y2=\"64\" /><circle cx=\"2006\" cy=\"64\" fill=\"black\" r=\"4\" /><g><circle cx=\"2006\" cy=\"160\" fill=\"white\" r=\"8\" stroke=\"black\" stroke-width=\"1\" /><line stroke=\"rgb(0,0,0)\" x1=\"1998\" x2=\"2014\" y1=\"160\" y2=\"160\" /><line stroke=\"rgb(0,0,0)\" x1=\"2006\" x2=\"2006\" y1=\"152\" y2=\"168\" /></g><line stroke=\"rgb(0,0,0)\" x1=\"2048\" x2=\"2048\" y1=\"224\" y2=\"64\" /><circle cx=\"2048\" cy=\"64\" fill=\"black\" r=\"4\" /><g><circle cx=\"2048\" cy=\"224\" fill=\"white\" r=\"8\" stroke=\"black\" stroke-width=\"1\" /><line stroke=\"rgb(0,0,0)\" x1=\"2040\" x2=\"2056\" y1=\"224\" y2=\"224\" /><line stroke=\"rgb(0,0,0)\" x1=\"2048\" x2=\"2048\" y1=\"216\" y2=\"232\" /></g><line stroke=\"rgb(0,0,0)\" x1=\"2090\" x2=\"2090\" y1=\"288\" y2=\"64\" /><circle cx=\"2090\" cy=\"64\" fill=\"black\" r=\"4\" /><g><circle cx=\"2090\" cy=\"288\" fill=\"white\" r=\"8\" stroke=\"black\" stroke-width=\"1\" /><line stroke=\"rgb(0,0,0)\" x1=\"2082\" x2=\"2098\" y1=\"288\" y2=\"288\" /><line stroke=\"rgb(0,0,0)\" x1=\"2090\" x2=\"2090\" y1=\"280\" y2=\"296\" /></g><line stroke=\"rgb(0,0,0)\" x1=\"2132\" x2=\"2132\" y1=\"160\" y2=\"64\" /><circle cx=\"2132\" cy=\"64\" fill=\"black\" r=\"4\" /><line stroke=\"rgb(0,0,0)\" x1=\"2132\" x2=\"2132\" y1=\"160\" y2=\"192\" /><circle cx=\"2132\" cy=\"192\" fill=\"black\" r=\"4\" /><g><circle cx=\"2132\" cy=\"160\" fill=\"white\" r=\"8\" stroke=\"black\" stroke-width=\"1\" /><line stroke=\"rgb(0,0,0)\" x1=\"2124\" x2=\"2140\" y1=\"160\" y2=\"160\" /><line stroke=\"rgb(0,0,0)\" x1=\"2132\" x2=\"2132\" y1=\"152\" y2=\"168\" /></g><line stroke=\"rgb(0,0,0)\" x1=\"2174\" x2=\"2174\" y1=\"224\" y2=\"64\" /><circle cx=\"2174\" cy=\"64\" fill=\"black\" r=\"4\" /><line stroke=\"rgb(0,0,0)\" x1=\"2174\" x2=\"2174\" y1=\"224\" y2=\"192\" /><circle cx=\"2174\" cy=\"192\" fill=\"black\" r=\"4\" /><g><circle cx=\"2174\" cy=\"224\" fill=\"white\" r=\"8\" stroke=\"black\" stroke-width=\"1\" /><line stroke=\"rgb(0,0,0)\" x1=\"2166\" x2=\"2182\" y1=\"224\" y2=\"224\" /><line stroke=\"rgb(0,0,0)\" x1=\"2174\" x2=\"2174\" y1=\"216\" y2=\"232\" /></g><line stroke=\"rgb(0,0,0)\" x1=\"2216\" x2=\"2216\" y1=\"288\" y2=\"64\" /><circle cx=\"2216\" cy=\"64\" fill=\"black\" r=\"4\" /><line stroke=\"rgb(0,0,0)\" x1=\"2216\" x2=\"2216\" y1=\"288\" y2=\"192\" /><circle cx=\"2216\" cy=\"192\" fill=\"black\" r=\"4\" /><g><circle cx=\"2216\" cy=\"288\" fill=\"white\" r=\"8\" stroke=\"black\" stroke-width=\"1\" /><line stroke=\"rgb(0,0,0)\" x1=\"2208\" x2=\"2224\" y1=\"288\" y2=\"288\" /><line stroke=\"rgb(0,0,0)\" x1=\"2216\" x2=\"2216\" y1=\"280\" y2=\"296\" /></g><line stroke=\"rgb(0,0,0)\" x1=\"2258\" x2=\"2258\" y1=\"288\" y2=\"64\" /><circle cx=\"2258\" cy=\"64\" fill=\"black\" r=\"4\" /><line stroke=\"rgb(0,0,0)\" x1=\"2258\" x2=\"2258\" y1=\"288\" y2=\"192\" /><circle cx=\"2258\" cy=\"192\" fill=\"black\" r=\"4\" /><g><circle cx=\"2258\" cy=\"288\" fill=\"white\" r=\"8\" stroke=\"black\" stroke-width=\"1\" /><line stroke=\"rgb(0,0,0)\" x1=\"2250\" x2=\"2266\" y1=\"288\" y2=\"288\" /><line stroke=\"rgb(0,0,0)\" x1=\"2258\" x2=\"2258\" y1=\"280\" y2=\"296\" /></g><line stroke=\"rgb(0,0,0)\" x1=\"2300\" x2=\"2300\" y1=\"192\" y2=\"64\" /><circle cx=\"2300\" cy=\"64\" fill=\"black\" r=\"4\" /><line stroke=\"rgb(0,0,0)\" x1=\"2300\" x2=\"2300\" y1=\"192\" y2=\"288\" /><circle cx=\"2300\" cy=\"288\" fill=\"black\" r=\"4\" /><g><circle cx=\"2300\" cy=\"192\" fill=\"white\" r=\"8\" stroke=\"black\" stroke-width=\"1\" /><line stroke=\"rgb(0,0,0)\" x1=\"2292\" x2=\"2308\" y1=\"192\" y2=\"192\" /><line stroke=\"rgb(0,0,0)\" x1=\"2300\" x2=\"2300\" y1=\"184\" y2=\"200\" /></g><line stroke=\"rgb(0,0,0)\" x1=\"2342\" x2=\"2342\" y1=\"288\" y2=\"64\" /><circle cx=\"2342\" cy=\"64\" fill=\"black\" r=\"4\" /><line stroke=\"rgb(0,0,0)\" x1=\"2342\" x2=\"2342\" y1=\"288\" y2=\"192\" /><circle cx=\"2342\" cy=\"192\" fill=\"black\" r=\"4\" /><g><circle cx=\"2342\" cy=\"288\" fill=\"white\" r=\"8\" stroke=\"black\" stroke-width=\"1\" /><line stroke=\"rgb(0,0,0)\" x1=\"2334\" x2=\"2350\" y1=\"288\" y2=\"288\" /><line stroke=\"rgb(0,0,0)\" x1=\"2342\" x2=\"2342\" y1=\"280\" y2=\"296\" /></g><line stroke=\"rgb(0,0,0)\" x1=\"2384\" x2=\"2384\" y1=\"160\" y2=\"64\" /><circle cx=\"2384\" cy=\"64\" fill=\"black\" r=\"4\" /><g><circle cx=\"2384\" cy=\"160\" fill=\"white\" r=\"8\" stroke=\"black\" stroke-width=\"1\" /><line stroke=\"rgb(0,0,0)\" x1=\"2376\" x2=\"2392\" y1=\"160\" y2=\"160\" /><line stroke=\"rgb(0,0,0)\" x1=\"2384\" x2=\"2384\" y1=\"152\" y2=\"168\" /></g><line stroke=\"rgb(0,0,0)\" x1=\"2426\" x2=\"2426\" y1=\"224\" y2=\"64\" /><circle cx=\"2426\" cy=\"64\" fill=\"black\" r=\"4\" /><g><circle cx=\"2426\" cy=\"224\" fill=\"white\" r=\"8\" stroke=\"black\" stroke-width=\"1\" /><line stroke=\"rgb(0,0,0)\" x1=\"2418\" x2=\"2434\" y1=\"224\" y2=\"224\" /><line stroke=\"rgb(0,0,0)\" x1=\"2426\" x2=\"2426\" y1=\"216\" y2=\"232\" /></g><line stroke=\"rgb(0,0,0)\" x1=\"2468\" x2=\"2468\" y1=\"288\" y2=\"64\" /><circle cx=\"2468\" cy=\"64\" fill=\"black\" r=\"4\" /><g><circle cx=\"2468\" cy=\"288\" fill=\"white\" r=\"8\" stroke=\"black\" stroke-width=\"1\" /><line stroke=\"rgb(0,0,0)\" x1=\"2460\" x2=\"2476\" y1=\"288\" y2=\"288\" /><line stroke=\"rgb(0,0,0)\" x1=\"2468\" x2=\"2468\" y1=\"280\" y2=\"296\" /></g><line stroke=\"rgb(0,0,0)\" x1=\"2510\" x2=\"2510\" y1=\"160\" y2=\"64\" /><circle cx=\"2510\" cy=\"64\" fill=\"black\" r=\"4\" /><line stroke=\"rgb(0,0,0)\" x1=\"2510\" x2=\"2510\" y1=\"160\" y2=\"192\" /><circle cx=\"2510\" cy=\"192\" fill=\"black\" r=\"4\" /><g><circle cx=\"2510\" cy=\"160\" fill=\"white\" r=\"8\" stroke=\"black\" stroke-width=\"1\" /><line stroke=\"rgb(0,0,0)\" x1=\"2502\" x2=\"2518\" y1=\"160\" y2=\"160\" /><line stroke=\"rgb(0,0,0)\" x1=\"2510\" x2=\"2510\" y1=\"152\" y2=\"168\" /></g><line stroke=\"rgb(0,0,0)\" x1=\"2552\" x2=\"2552\" y1=\"224\" y2=\"64\" /><circle cx=\"2552\" cy=\"64\" fill=\"black\" r=\"4\" /><line stroke=\"rgb(0,0,0)\" x1=\"2552\" x2=\"2552\" y1=\"224\" y2=\"192\" /><circle cx=\"2552\" cy=\"192\" fill=\"black\" r=\"4\" /><g><circle cx=\"2552\" cy=\"224\" fill=\"white\" r=\"8\" stroke=\"black\" stroke-width=\"1\" /><line stroke=\"rgb(0,0,0)\" x1=\"2544\" x2=\"2560\" y1=\"224\" y2=\"224\" /><line stroke=\"rgb(0,0,0)\" x1=\"2552\" x2=\"2552\" y1=\"216\" y2=\"232\" /></g><line stroke=\"rgb(0,0,0)\" x1=\"2594\" x2=\"2594\" y1=\"288\" y2=\"64\" /><circle cx=\"2594\" cy=\"64\" fill=\"black\" r=\"4\" /><line stroke=\"rgb(0,0,0)\" x1=\"2594\" x2=\"2594\" y1=\"288\" y2=\"192\" /><circle cx=\"2594\" cy=\"192\" fill=\"black\" r=\"4\" /><g><circle cx=\"2594\" cy=\"288\" fill=\"white\" r=\"8\" stroke=\"black\" stroke-width=\"1\" /><line stroke=\"rgb(0,0,0)\" x1=\"2586\" x2=\"2602\" y1=\"288\" y2=\"288\" /><line stroke=\"rgb(0,0,0)\" x1=\"2594\" x2=\"2594\" y1=\"280\" y2=\"296\" /></g><line stroke=\"rgb(0,0,0)\" x1=\"2636\" x2=\"2636\" y1=\"288\" y2=\"64\" /><circle cx=\"2636\" cy=\"64\" fill=\"black\" r=\"4\" /><line stroke=\"rgb(0,0,0)\" x1=\"2636\" x2=\"2636\" y1=\"288\" y2=\"192\" /><circle cx=\"2636\" cy=\"192\" fill=\"black\" r=\"4\" /><g><circle cx=\"2636\" cy=\"288\" fill=\"white\" r=\"8\" stroke=\"black\" stroke-width=\"1\" /><line stroke=\"rgb(0,0,0)\" x1=\"2628\" x2=\"2644\" y1=\"288\" y2=\"288\" /><line stroke=\"rgb(0,0,0)\" x1=\"2636\" x2=\"2636\" y1=\"280\" y2=\"296\" /></g><line stroke=\"rgb(0,0,0)\" x1=\"2678\" x2=\"2678\" y1=\"192\" y2=\"64\" /><circle cx=\"2678\" cy=\"64\" fill=\"black\" r=\"4\" /><line stroke=\"rgb(0,0,0)\" x1=\"2678\" x2=\"2678\" y1=\"192\" y2=\"288\" /><circle cx=\"2678\" cy=\"288\" fill=\"black\" r=\"4\" /><g><circle cx=\"2678\" cy=\"192\" fill=\"white\" r=\"8\" stroke=\"black\" stroke-width=\"1\" /><line stroke=\"rgb(0,0,0)\" x1=\"2670\" x2=\"2686\" y1=\"192\" y2=\"192\" /><line stroke=\"rgb(0,0,0)\" x1=\"2678\" x2=\"2678\" y1=\"184\" y2=\"200\" /></g><line stroke=\"rgb(0,0,0)\" x1=\"2720\" x2=\"2720\" y1=\"288\" y2=\"64\" /><circle cx=\"2720\" cy=\"64\" fill=\"black\" r=\"4\" /><line stroke=\"rgb(0,0,0)\" x1=\"2720\" x2=\"2720\" y1=\"288\" y2=\"192\" /><circle cx=\"2720\" cy=\"192\" fill=\"black\" r=\"4\" /><g><circle cx=\"2720\" cy=\"288\" fill=\"white\" r=\"8\" stroke=\"black\" stroke-width=\"1\" /><line stroke=\"rgb(0,0,0)\" x1=\"2712\" x2=\"2728\" y1=\"288\" y2=\"288\" /><line stroke=\"rgb(0,0,0)\" x1=\"2720\" x2=\"2720\" y1=\"280\" y2=\"296\" /></g><line stroke=\"rgb(0,0,0)\" x1=\"2762\" x2=\"2762\" y1=\"160\" y2=\"32\" /><circle cx=\"2762\" cy=\"32\" fill=\"black\" r=\"4\" /><g><circle cx=\"2762\" cy=\"160\" fill=\"white\" r=\"8\" stroke=\"black\" stroke-width=\"1\" /><line stroke=\"rgb(0,0,0)\" x1=\"2754\" x2=\"2770\" y1=\"160\" y2=\"160\" /><line stroke=\"rgb(0,0,0)\" x1=\"2762\" x2=\"2762\" y1=\"152\" y2=\"168\" /></g><line stroke=\"rgb(0,0,0)\" x1=\"2804\" x2=\"2804\" y1=\"224\" y2=\"32\" /><circle cx=\"2804\" cy=\"32\" fill=\"black\" r=\"4\" /><g><circle cx=\"2804\" cy=\"224\" fill=\"white\" r=\"8\" stroke=\"black\" stroke-width=\"1\" /><line stroke=\"rgb(0,0,0)\" x1=\"2796\" x2=\"2812\" y1=\"224\" y2=\"224\" /><line stroke=\"rgb(0,0,0)\" x1=\"2804\" x2=\"2804\" y1=\"216\" y2=\"232\" /></g><line stroke=\"rgb(0,0,0)\" x1=\"2846\" x2=\"2846\" y1=\"288\" y2=\"32\" /><circle cx=\"2846\" cy=\"32\" fill=\"black\" r=\"4\" /><g><circle cx=\"2846\" cy=\"288\" fill=\"white\" r=\"8\" stroke=\"black\" stroke-width=\"1\" /><line stroke=\"rgb(0,0,0)\" x1=\"2838\" x2=\"2854\" y1=\"288\" y2=\"288\" /><line stroke=\"rgb(0,0,0)\" x1=\"2846\" x2=\"2846\" y1=\"280\" y2=\"296\" /></g><line stroke=\"rgb(0,0,0)\" x1=\"2888\" x2=\"2888\" y1=\"160\" y2=\"32\" /><circle cx=\"2888\" cy=\"32\" fill=\"black\" r=\"4\" /><line stroke=\"rgb(0,0,0)\" x1=\"2888\" x2=\"2888\" y1=\"160\" y2=\"192\" /><circle cx=\"2888\" cy=\"192\" fill=\"black\" r=\"4\" /><g><circle cx=\"2888\" cy=\"160\" fill=\"white\" r=\"8\" stroke=\"black\" stroke-width=\"1\" /><line stroke=\"rgb(0,0,0)\" x1=\"2880\" x2=\"2896\" y1=\"160\" y2=\"160\" /><line stroke=\"rgb(0,0,0)\" x1=\"2888\" x2=\"2888\" y1=\"152\" y2=\"168\" /></g><line stroke=\"rgb(0,0,0)\" x1=\"2930\" x2=\"2930\" y1=\"224\" y2=\"32\" /><circle cx=\"2930\" cy=\"32\" fill=\"black\" r=\"4\" /><line stroke=\"rgb(0,0,0)\" x1=\"2930\" x2=\"2930\" y1=\"224\" y2=\"192\" /><circle cx=\"2930\" cy=\"192\" fill=\"black\" r=\"4\" /><g><circle cx=\"2930\" cy=\"224\" fill=\"white\" r=\"8\" stroke=\"black\" stroke-width=\"1\" /><line stroke=\"rgb(0,0,0)\" x1=\"2922\" x2=\"2938\" y1=\"224\" y2=\"224\" /><line stroke=\"rgb(0,0,0)\" x1=\"2930\" x2=\"2930\" y1=\"216\" y2=\"232\" /></g><line stroke=\"rgb(0,0,0)\" x1=\"2972\" x2=\"2972\" y1=\"288\" y2=\"32\" /><circle cx=\"2972\" cy=\"32\" fill=\"black\" r=\"4\" /><line stroke=\"rgb(0,0,0)\" x1=\"2972\" x2=\"2972\" y1=\"288\" y2=\"192\" /><circle cx=\"2972\" cy=\"192\" fill=\"black\" r=\"4\" /><g><circle cx=\"2972\" cy=\"288\" fill=\"white\" r=\"8\" stroke=\"black\" stroke-width=\"1\" /><line stroke=\"rgb(0,0,0)\" x1=\"2964\" x2=\"2980\" y1=\"288\" y2=\"288\" /><line stroke=\"rgb(0,0,0)\" x1=\"2972\" x2=\"2972\" y1=\"280\" y2=\"296\" /></g><line stroke=\"rgb(0,0,0)\" x1=\"3014\" x2=\"3014\" y1=\"288\" y2=\"32\" /><circle cx=\"3014\" cy=\"32\" fill=\"black\" r=\"4\" /><line stroke=\"rgb(0,0,0)\" x1=\"3014\" x2=\"3014\" y1=\"288\" y2=\"192\" /><circle cx=\"3014\" cy=\"192\" fill=\"black\" r=\"4\" /><g><circle cx=\"3014\" cy=\"288\" fill=\"white\" r=\"8\" stroke=\"black\" stroke-width=\"1\" /><line stroke=\"rgb(0,0,0)\" x1=\"3006\" x2=\"3022\" y1=\"288\" y2=\"288\" /><line stroke=\"rgb(0,0,0)\" x1=\"3014\" x2=\"3014\" y1=\"280\" y2=\"296\" /></g><line stroke=\"rgb(0,0,0)\" x1=\"3056\" x2=\"3056\" y1=\"192\" y2=\"32\" /><circle cx=\"3056\" cy=\"32\" fill=\"black\" r=\"4\" /><line stroke=\"rgb(0,0,0)\" x1=\"3056\" x2=\"3056\" y1=\"192\" y2=\"288\" /><circle cx=\"3056\" cy=\"288\" fill=\"black\" r=\"4\" /><g><circle cx=\"3056\" cy=\"192\" fill=\"white\" r=\"8\" stroke=\"black\" stroke-width=\"1\" /><line stroke=\"rgb(0,0,0)\" x1=\"3048\" x2=\"3064\" y1=\"192\" y2=\"192\" /><line stroke=\"rgb(0,0,0)\" x1=\"3056\" x2=\"3056\" y1=\"184\" y2=\"200\" /></g><line stroke=\"rgb(0,0,0)\" x1=\"3098\" x2=\"3098\" y1=\"288\" y2=\"32\" /><circle cx=\"3098\" cy=\"32\" fill=\"black\" r=\"4\" /><line stroke=\"rgb(0,0,0)\" x1=\"3098\" x2=\"3098\" y1=\"288\" y2=\"192\" /><circle cx=\"3098\" cy=\"192\" fill=\"black\" r=\"4\" /><g><circle cx=\"3098\" cy=\"288\" fill=\"white\" r=\"8\" stroke=\"black\" stroke-width=\"1\" /><line stroke=\"rgb(0,0,0)\" x1=\"3090\" x2=\"3106\" y1=\"288\" y2=\"288\" /><line stroke=\"rgb(0,0,0)\" x1=\"3098\" x2=\"3098\" y1=\"280\" y2=\"296\" /></g><line stroke=\"rgb(0,0,0)\" x1=\"3140\" x2=\"3140\" y1=\"160\" y2=\"32\" /><circle cx=\"3140\" cy=\"32\" fill=\"black\" r=\"4\" /><g><circle cx=\"3140\" cy=\"160\" fill=\"white\" r=\"8\" stroke=\"black\" stroke-width=\"1\" /><line stroke=\"rgb(0,0,0)\" x1=\"3132\" x2=\"3148\" y1=\"160\" y2=\"160\" /><line stroke=\"rgb(0,0,0)\" x1=\"3140\" x2=\"3140\" y1=\"152\" y2=\"168\" /></g><line stroke=\"rgb(0,0,0)\" x1=\"3182\" x2=\"3182\" y1=\"224\" y2=\"32\" /><circle cx=\"3182\" cy=\"32\" fill=\"black\" r=\"4\" /><g><circle cx=\"3182\" cy=\"224\" fill=\"white\" r=\"8\" stroke=\"black\" stroke-width=\"1\" /><line stroke=\"rgb(0,0,0)\" x1=\"3174\" x2=\"3190\" y1=\"224\" y2=\"224\" /><line stroke=\"rgb(0,0,0)\" x1=\"3182\" x2=\"3182\" y1=\"216\" y2=\"232\" /></g><line stroke=\"rgb(0,0,0)\" x1=\"3224\" x2=\"3224\" y1=\"288\" y2=\"32\" /><circle cx=\"3224\" cy=\"32\" fill=\"black\" r=\"4\" /><g><circle cx=\"3224\" cy=\"288\" fill=\"white\" r=\"8\" stroke=\"black\" stroke-width=\"1\" /><line stroke=\"rgb(0,0,0)\" x1=\"3216\" x2=\"3232\" y1=\"288\" y2=\"288\" /><line stroke=\"rgb(0,0,0)\" x1=\"3224\" x2=\"3224\" y1=\"280\" y2=\"296\" /></g><line stroke=\"rgb(0,0,0)\" x1=\"3266\" x2=\"3266\" y1=\"160\" y2=\"32\" /><circle cx=\"3266\" cy=\"32\" fill=\"black\" r=\"4\" /><line stroke=\"rgb(0,0,0)\" x1=\"3266\" x2=\"3266\" y1=\"160\" y2=\"192\" /><circle cx=\"3266\" cy=\"192\" fill=\"black\" r=\"4\" /><g><circle cx=\"3266\" cy=\"160\" fill=\"white\" r=\"8\" stroke=\"black\" stroke-width=\"1\" /><line stroke=\"rgb(0,0,0)\" x1=\"3258\" x2=\"3274\" y1=\"160\" y2=\"160\" /><line stroke=\"rgb(0,0,0)\" x1=\"3266\" x2=\"3266\" y1=\"152\" y2=\"168\" /></g><line stroke=\"rgb(0,0,0)\" x1=\"3308\" x2=\"3308\" y1=\"224\" y2=\"32\" /><circle cx=\"3308\" cy=\"32\" fill=\"black\" r=\"4\" /><line stroke=\"rgb(0,0,0)\" x1=\"3308\" x2=\"3308\" y1=\"224\" y2=\"192\" /><circle cx=\"3308\" cy=\"192\" fill=\"black\" r=\"4\" /><g><circle cx=\"3308\" cy=\"224\" fill=\"white\" r=\"8\" stroke=\"black\" stroke-width=\"1\" /><line stroke=\"rgb(0,0,0)\" x1=\"3300\" x2=\"3316\" y1=\"224\" y2=\"224\" /><line stroke=\"rgb(0,0,0)\" x1=\"3308\" x2=\"3308\" y1=\"216\" y2=\"232\" /></g><line stroke=\"rgb(0,0,0)\" x1=\"3350\" x2=\"3350\" y1=\"288\" y2=\"32\" /><circle cx=\"3350\" cy=\"32\" fill=\"black\" r=\"4\" /><line stroke=\"rgb(0,0,0)\" x1=\"3350\" x2=\"3350\" y1=\"288\" y2=\"192\" /><circle cx=\"3350\" cy=\"192\" fill=\"black\" r=\"4\" /><g><circle cx=\"3350\" cy=\"288\" fill=\"white\" r=\"8\" stroke=\"black\" stroke-width=\"1\" /><line stroke=\"rgb(0,0,0)\" x1=\"3342\" x2=\"3358\" y1=\"288\" y2=\"288\" /><line stroke=\"rgb(0,0,0)\" x1=\"3350\" x2=\"3350\" y1=\"280\" y2=\"296\" /></g><line stroke=\"rgb(0,0,0)\" x1=\"3392\" x2=\"3392\" y1=\"288\" y2=\"32\" /><circle cx=\"3392\" cy=\"32\" fill=\"black\" r=\"4\" /><line stroke=\"rgb(0,0,0)\" x1=\"3392\" x2=\"3392\" y1=\"288\" y2=\"192\" /><circle cx=\"3392\" cy=\"192\" fill=\"black\" r=\"4\" /><g><circle cx=\"3392\" cy=\"288\" fill=\"white\" r=\"8\" stroke=\"black\" stroke-width=\"1\" /><line stroke=\"rgb(0,0,0)\" x1=\"3384\" x2=\"3400\" y1=\"288\" y2=\"288\" /><line stroke=\"rgb(0,0,0)\" x1=\"3392\" x2=\"3392\" y1=\"280\" y2=\"296\" /></g><line stroke=\"rgb(0,0,0)\" x1=\"3434\" x2=\"3434\" y1=\"192\" y2=\"32\" /><circle cx=\"3434\" cy=\"32\" fill=\"black\" r=\"4\" /><line stroke=\"rgb(0,0,0)\" x1=\"3434\" x2=\"3434\" y1=\"192\" y2=\"288\" /><circle cx=\"3434\" cy=\"288\" fill=\"black\" r=\"4\" /><g><circle cx=\"3434\" cy=\"192\" fill=\"white\" r=\"8\" stroke=\"black\" stroke-width=\"1\" /><line stroke=\"rgb(0,0,0)\" x1=\"3426\" x2=\"3442\" y1=\"192\" y2=\"192\" /><line stroke=\"rgb(0,0,0)\" x1=\"3434\" x2=\"3434\" y1=\"184\" y2=\"200\" /></g><line stroke=\"rgb(0,0,0)\" x1=\"3476\" x2=\"3476\" y1=\"288\" y2=\"32\" /><circle cx=\"3476\" cy=\"32\" fill=\"black\" r=\"4\" /><line stroke=\"rgb(0,0,0)\" x1=\"3476\" x2=\"3476\" y1=\"288\" y2=\"192\" /><circle cx=\"3476\" cy=\"192\" fill=\"black\" r=\"4\" /><g><circle cx=\"3476\" cy=\"288\" fill=\"white\" r=\"8\" stroke=\"black\" stroke-width=\"1\" /><line stroke=\"rgb(0,0,0)\" x1=\"3468\" x2=\"3484\" y1=\"288\" y2=\"288\" /><line stroke=\"rgb(0,0,0)\" x1=\"3476\" x2=\"3476\" y1=\"280\" y2=\"296\" /></g><line stroke=\"rgb(0,0,0)\" x1=\"3518\" x2=\"3518\" y1=\"160\" y2=\"32\" /><circle cx=\"3518\" cy=\"32\" fill=\"black\" r=\"4\" /><g><circle cx=\"3518\" cy=\"160\" fill=\"white\" r=\"8\" stroke=\"black\" stroke-width=\"1\" /><line stroke=\"rgb(0,0,0)\" x1=\"3510\" x2=\"3526\" y1=\"160\" y2=\"160\" /><line stroke=\"rgb(0,0,0)\" x1=\"3518\" x2=\"3518\" y1=\"152\" y2=\"168\" /></g><line stroke=\"rgb(0,0,0)\" x1=\"3560\" x2=\"3560\" y1=\"224\" y2=\"32\" /><circle cx=\"3560\" cy=\"32\" fill=\"black\" r=\"4\" /><g><circle cx=\"3560\" cy=\"224\" fill=\"white\" r=\"8\" stroke=\"black\" stroke-width=\"1\" /><line stroke=\"rgb(0,0,0)\" x1=\"3552\" x2=\"3568\" y1=\"224\" y2=\"224\" /><line stroke=\"rgb(0,0,0)\" x1=\"3560\" x2=\"3560\" y1=\"216\" y2=\"232\" /></g><line stroke=\"rgb(0,0,0)\" x1=\"3602\" x2=\"3602\" y1=\"288\" y2=\"32\" /><circle cx=\"3602\" cy=\"32\" fill=\"black\" r=\"4\" /><g><circle cx=\"3602\" cy=\"288\" fill=\"white\" r=\"8\" stroke=\"black\" stroke-width=\"1\" /><line stroke=\"rgb(0,0,0)\" x1=\"3594\" x2=\"3610\" y1=\"288\" y2=\"288\" /><line stroke=\"rgb(0,0,0)\" x1=\"3602\" x2=\"3602\" y1=\"280\" y2=\"296\" /></g><line stroke=\"rgb(0,0,0)\" x1=\"3644\" x2=\"3644\" y1=\"160\" y2=\"32\" /><circle cx=\"3644\" cy=\"32\" fill=\"black\" r=\"4\" /><line stroke=\"rgb(0,0,0)\" x1=\"3644\" x2=\"3644\" y1=\"160\" y2=\"192\" /><circle cx=\"3644\" cy=\"192\" fill=\"black\" r=\"4\" /><g><circle cx=\"3644\" cy=\"160\" fill=\"white\" r=\"8\" stroke=\"black\" stroke-width=\"1\" /><line stroke=\"rgb(0,0,0)\" x1=\"3636\" x2=\"3652\" y1=\"160\" y2=\"160\" /><line stroke=\"rgb(0,0,0)\" x1=\"3644\" x2=\"3644\" y1=\"152\" y2=\"168\" /></g><line stroke=\"rgb(0,0,0)\" x1=\"3686\" x2=\"3686\" y1=\"224\" y2=\"32\" /><circle cx=\"3686\" cy=\"32\" fill=\"black\" r=\"4\" /><line stroke=\"rgb(0,0,0)\" x1=\"3686\" x2=\"3686\" y1=\"224\" y2=\"192\" /><circle cx=\"3686\" cy=\"192\" fill=\"black\" r=\"4\" /><g><circle cx=\"3686\" cy=\"224\" fill=\"white\" r=\"8\" stroke=\"black\" stroke-width=\"1\" /><line stroke=\"rgb(0,0,0)\" x1=\"3678\" x2=\"3694\" y1=\"224\" y2=\"224\" /><line stroke=\"rgb(0,0,0)\" x1=\"3686\" x2=\"3686\" y1=\"216\" y2=\"232\" /></g><line stroke=\"rgb(0,0,0)\" x1=\"3728\" x2=\"3728\" y1=\"288\" y2=\"32\" /><circle cx=\"3728\" cy=\"32\" fill=\"black\" r=\"4\" /><line stroke=\"rgb(0,0,0)\" x1=\"3728\" x2=\"3728\" y1=\"288\" y2=\"192\" /><circle cx=\"3728\" cy=\"192\" fill=\"black\" r=\"4\" /><g><circle cx=\"3728\" cy=\"288\" fill=\"white\" r=\"8\" stroke=\"black\" stroke-width=\"1\" /><line stroke=\"rgb(0,0,0)\" x1=\"3720\" x2=\"3736\" y1=\"288\" y2=\"288\" /><line stroke=\"rgb(0,0,0)\" x1=\"3728\" x2=\"3728\" y1=\"280\" y2=\"296\" /></g><line stroke=\"rgb(0,0,0)\" x1=\"3770\" x2=\"3770\" y1=\"288\" y2=\"32\" /><circle cx=\"3770\" cy=\"32\" fill=\"black\" r=\"4\" /><line stroke=\"rgb(0,0,0)\" x1=\"3770\" x2=\"3770\" y1=\"288\" y2=\"192\" /><circle cx=\"3770\" cy=\"192\" fill=\"black\" r=\"4\" /><g><circle cx=\"3770\" cy=\"288\" fill=\"white\" r=\"8\" stroke=\"black\" stroke-width=\"1\" /><line stroke=\"rgb(0,0,0)\" x1=\"3762\" x2=\"3778\" y1=\"288\" y2=\"288\" /><line stroke=\"rgb(0,0,0)\" x1=\"3770\" x2=\"3770\" y1=\"280\" y2=\"296\" /></g><line stroke=\"rgb(0,0,0)\" x1=\"3812\" x2=\"3812\" y1=\"192\" y2=\"32\" /><circle cx=\"3812\" cy=\"32\" fill=\"black\" r=\"4\" /><line stroke=\"rgb(0,0,0)\" x1=\"3812\" x2=\"3812\" y1=\"192\" y2=\"288\" /><circle cx=\"3812\" cy=\"288\" fill=\"black\" r=\"4\" /><g><circle cx=\"3812\" cy=\"192\" fill=\"white\" r=\"8\" stroke=\"black\" stroke-width=\"1\" /><line stroke=\"rgb(0,0,0)\" x1=\"3804\" x2=\"3820\" y1=\"192\" y2=\"192\" /><line stroke=\"rgb(0,0,0)\" x1=\"3812\" x2=\"3812\" y1=\"184\" y2=\"200\" /></g><line stroke=\"rgb(0,0,0)\" x1=\"3854\" x2=\"3854\" y1=\"288\" y2=\"32\" /><circle cx=\"3854\" cy=\"32\" fill=\"black\" r=\"4\" /><line stroke=\"rgb(0,0,0)\" x1=\"3854\" x2=\"3854\" y1=\"288\" y2=\"192\" /><circle cx=\"3854\" cy=\"192\" fill=\"black\" r=\"4\" /><g><circle cx=\"3854\" cy=\"288\" fill=\"white\" r=\"8\" stroke=\"black\" stroke-width=\"1\" /><line stroke=\"rgb(0,0,0)\" x1=\"3846\" x2=\"3862\" y1=\"288\" y2=\"288\" /><line stroke=\"rgb(0,0,0)\" x1=\"3854\" x2=\"3854\" y1=\"280\" y2=\"296\" /></g><line stroke=\"rgb(0,0,0)\" x1=\"3896\" x2=\"3896\" y1=\"160\" y2=\"32\" /><circle cx=\"3896\" cy=\"32\" fill=\"black\" r=\"4\" /><g><circle cx=\"3896\" cy=\"160\" fill=\"white\" r=\"8\" stroke=\"black\" stroke-width=\"1\" /><line stroke=\"rgb(0,0,0)\" x1=\"3888\" x2=\"3904\" y1=\"160\" y2=\"160\" /><line stroke=\"rgb(0,0,0)\" x1=\"3896\" x2=\"3896\" y1=\"152\" y2=\"168\" /></g><line stroke=\"rgb(0,0,0)\" x1=\"3938\" x2=\"3938\" y1=\"224\" y2=\"32\" /><circle cx=\"3938\" cy=\"32\" fill=\"black\" r=\"4\" /><g><circle cx=\"3938\" cy=\"224\" fill=\"white\" r=\"8\" stroke=\"black\" stroke-width=\"1\" /><line stroke=\"rgb(0,0,0)\" x1=\"3930\" x2=\"3946\" y1=\"224\" y2=\"224\" /><line stroke=\"rgb(0,0,0)\" x1=\"3938\" x2=\"3938\" y1=\"216\" y2=\"232\" /></g><line stroke=\"rgb(0,0,0)\" x1=\"3980\" x2=\"3980\" y1=\"288\" y2=\"32\" /><circle cx=\"3980\" cy=\"32\" fill=\"black\" r=\"4\" /><g><circle cx=\"3980\" cy=\"288\" fill=\"white\" r=\"8\" stroke=\"black\" stroke-width=\"1\" /><line stroke=\"rgb(0,0,0)\" x1=\"3972\" x2=\"3988\" y1=\"288\" y2=\"288\" /><line stroke=\"rgb(0,0,0)\" x1=\"3980\" x2=\"3980\" y1=\"280\" y2=\"296\" /></g><line stroke=\"rgb(0,0,0)\" x1=\"4022\" x2=\"4022\" y1=\"160\" y2=\"32\" /><circle cx=\"4022\" cy=\"32\" fill=\"black\" r=\"4\" /><line stroke=\"rgb(0,0,0)\" x1=\"4022\" x2=\"4022\" y1=\"160\" y2=\"192\" /><circle cx=\"4022\" cy=\"192\" fill=\"black\" r=\"4\" /><g><circle cx=\"4022\" cy=\"160\" fill=\"white\" r=\"8\" stroke=\"black\" stroke-width=\"1\" /><line stroke=\"rgb(0,0,0)\" x1=\"4014\" x2=\"4030\" y1=\"160\" y2=\"160\" /><line stroke=\"rgb(0,0,0)\" x1=\"4022\" x2=\"4022\" y1=\"152\" y2=\"168\" /></g><line stroke=\"rgb(0,0,0)\" x1=\"4064\" x2=\"4064\" y1=\"224\" y2=\"32\" /><circle cx=\"4064\" cy=\"32\" fill=\"black\" r=\"4\" /><line stroke=\"rgb(0,0,0)\" x1=\"4064\" x2=\"4064\" y1=\"224\" y2=\"192\" /><circle cx=\"4064\" cy=\"192\" fill=\"black\" r=\"4\" /><g><circle cx=\"4064\" cy=\"224\" fill=\"white\" r=\"8\" stroke=\"black\" stroke-width=\"1\" /><line stroke=\"rgb(0,0,0)\" x1=\"4056\" x2=\"4072\" y1=\"224\" y2=\"224\" /><line stroke=\"rgb(0,0,0)\" x1=\"4064\" x2=\"4064\" y1=\"216\" y2=\"232\" /></g><line stroke=\"rgb(0,0,0)\" x1=\"4106\" x2=\"4106\" y1=\"288\" y2=\"32\" /><circle cx=\"4106\" cy=\"32\" fill=\"black\" r=\"4\" /><line stroke=\"rgb(0,0,0)\" x1=\"4106\" x2=\"4106\" y1=\"288\" y2=\"192\" /><circle cx=\"4106\" cy=\"192\" fill=\"black\" r=\"4\" /><g><circle cx=\"4106\" cy=\"288\" fill=\"white\" r=\"8\" stroke=\"black\" stroke-width=\"1\" /><line stroke=\"rgb(0,0,0)\" x1=\"4098\" x2=\"4114\" y1=\"288\" y2=\"288\" /><line stroke=\"rgb(0,0,0)\" x1=\"4106\" x2=\"4106\" y1=\"280\" y2=\"296\" /></g><line stroke=\"rgb(0,0,0)\" x1=\"4148\" x2=\"4148\" y1=\"288\" y2=\"32\" /><circle cx=\"4148\" cy=\"32\" fill=\"black\" r=\"4\" /><line stroke=\"rgb(0,0,0)\" x1=\"4148\" x2=\"4148\" y1=\"288\" y2=\"192\" /><circle cx=\"4148\" cy=\"192\" fill=\"black\" r=\"4\" /><g><circle cx=\"4148\" cy=\"288\" fill=\"white\" r=\"8\" stroke=\"black\" stroke-width=\"1\" /><line stroke=\"rgb(0,0,0)\" x1=\"4140\" x2=\"4156\" y1=\"288\" y2=\"288\" /><line stroke=\"rgb(0,0,0)\" x1=\"4148\" x2=\"4148\" y1=\"280\" y2=\"296\" /></g><line stroke=\"rgb(0,0,0)\" x1=\"4190\" x2=\"4190\" y1=\"192\" y2=\"32\" /><circle cx=\"4190\" cy=\"32\" fill=\"black\" r=\"4\" /><line stroke=\"rgb(0,0,0)\" x1=\"4190\" x2=\"4190\" y1=\"192\" y2=\"288\" /><circle cx=\"4190\" cy=\"288\" fill=\"black\" r=\"4\" /><g><circle cx=\"4190\" cy=\"192\" fill=\"white\" r=\"8\" stroke=\"black\" stroke-width=\"1\" /><line stroke=\"rgb(0,0,0)\" x1=\"4182\" x2=\"4198\" y1=\"192\" y2=\"192\" /><line stroke=\"rgb(0,0,0)\" x1=\"4190\" x2=\"4190\" y1=\"184\" y2=\"200\" /></g><line stroke=\"rgb(0,0,0)\" x1=\"4232\" x2=\"4232\" y1=\"288\" y2=\"32\" /><circle cx=\"4232\" cy=\"32\" fill=\"black\" r=\"4\" /><line stroke=\"rgb(0,0,0)\" x1=\"4232\" x2=\"4232\" y1=\"288\" y2=\"192\" /><circle cx=\"4232\" cy=\"192\" fill=\"black\" r=\"4\" /><g><circle cx=\"4232\" cy=\"288\" fill=\"white\" r=\"8\" stroke=\"black\" stroke-width=\"1\" /><line stroke=\"rgb(0,0,0)\" x1=\"4224\" x2=\"4240\" y1=\"288\" y2=\"288\" /><line stroke=\"rgb(0,0,0)\" x1=\"4232\" x2=\"4232\" y1=\"280\" y2=\"296\" /></g><line stroke=\"rgb(0,0,0)\" x1=\"4274\" x2=\"4274\" y1=\"160\" y2=\"32\" /><circle cx=\"4274\" cy=\"32\" fill=\"black\" r=\"4\" /><g><circle cx=\"4274\" cy=\"160\" fill=\"white\" r=\"8\" stroke=\"black\" stroke-width=\"1\" /><line stroke=\"rgb(0,0,0)\" x1=\"4266\" x2=\"4282\" y1=\"160\" y2=\"160\" /><line stroke=\"rgb(0,0,0)\" x1=\"4274\" x2=\"4274\" y1=\"152\" y2=\"168\" /></g><line stroke=\"rgb(0,0,0)\" x1=\"4316\" x2=\"4316\" y1=\"224\" y2=\"32\" /><circle cx=\"4316\" cy=\"32\" fill=\"black\" r=\"4\" /><g><circle cx=\"4316\" cy=\"224\" fill=\"white\" r=\"8\" stroke=\"black\" stroke-width=\"1\" /><line stroke=\"rgb(0,0,0)\" x1=\"4308\" x2=\"4324\" y1=\"224\" y2=\"224\" /><line stroke=\"rgb(0,0,0)\" x1=\"4316\" x2=\"4316\" y1=\"216\" y2=\"232\" /></g><line stroke=\"rgb(0,0,0)\" x1=\"4358\" x2=\"4358\" y1=\"288\" y2=\"32\" /><circle cx=\"4358\" cy=\"32\" fill=\"black\" r=\"4\" /><g><circle cx=\"4358\" cy=\"288\" fill=\"white\" r=\"8\" stroke=\"black\" stroke-width=\"1\" /><line stroke=\"rgb(0,0,0)\" x1=\"4350\" x2=\"4366\" y1=\"288\" y2=\"288\" /><line stroke=\"rgb(0,0,0)\" x1=\"4358\" x2=\"4358\" y1=\"280\" y2=\"296\" /></g><line stroke=\"rgb(0,0,0)\" x1=\"4400\" x2=\"4400\" y1=\"160\" y2=\"32\" /><circle cx=\"4400\" cy=\"32\" fill=\"black\" r=\"4\" /><line stroke=\"rgb(0,0,0)\" x1=\"4400\" x2=\"4400\" y1=\"160\" y2=\"192\" /><circle cx=\"4400\" cy=\"192\" fill=\"black\" r=\"4\" /><g><circle cx=\"4400\" cy=\"160\" fill=\"white\" r=\"8\" stroke=\"black\" stroke-width=\"1\" /><line stroke=\"rgb(0,0,0)\" x1=\"4392\" x2=\"4408\" y1=\"160\" y2=\"160\" /><line stroke=\"rgb(0,0,0)\" x1=\"4400\" x2=\"4400\" y1=\"152\" y2=\"168\" /></g><line stroke=\"rgb(0,0,0)\" x1=\"4442\" x2=\"4442\" y1=\"224\" y2=\"32\" /><circle cx=\"4442\" cy=\"32\" fill=\"black\" r=\"4\" /><line stroke=\"rgb(0,0,0)\" x1=\"4442\" x2=\"4442\" y1=\"224\" y2=\"192\" /><circle cx=\"4442\" cy=\"192\" fill=\"black\" r=\"4\" /><g><circle cx=\"4442\" cy=\"224\" fill=\"white\" r=\"8\" stroke=\"black\" stroke-width=\"1\" /><line stroke=\"rgb(0,0,0)\" x1=\"4434\" x2=\"4450\" y1=\"224\" y2=\"224\" /><line stroke=\"rgb(0,0,0)\" x1=\"4442\" x2=\"4442\" y1=\"216\" y2=\"232\" /></g><line stroke=\"rgb(0,0,0)\" x1=\"4484\" x2=\"4484\" y1=\"288\" y2=\"32\" /><circle cx=\"4484\" cy=\"32\" fill=\"black\" r=\"4\" /><line stroke=\"rgb(0,0,0)\" x1=\"4484\" x2=\"4484\" y1=\"288\" y2=\"192\" /><circle cx=\"4484\" cy=\"192\" fill=\"black\" r=\"4\" /><g><circle cx=\"4484\" cy=\"288\" fill=\"white\" r=\"8\" stroke=\"black\" stroke-width=\"1\" /><line stroke=\"rgb(0,0,0)\" x1=\"4476\" x2=\"4492\" y1=\"288\" y2=\"288\" /><line stroke=\"rgb(0,0,0)\" x1=\"4484\" x2=\"4484\" y1=\"280\" y2=\"296\" /></g><line stroke=\"rgb(0,0,0)\" x1=\"4526\" x2=\"4526\" y1=\"288\" y2=\"32\" /><circle cx=\"4526\" cy=\"32\" fill=\"black\" r=\"4\" /><line stroke=\"rgb(0,0,0)\" x1=\"4526\" x2=\"4526\" y1=\"288\" y2=\"192\" /><circle cx=\"4526\" cy=\"192\" fill=\"black\" r=\"4\" /><g><circle cx=\"4526\" cy=\"288\" fill=\"white\" r=\"8\" stroke=\"black\" stroke-width=\"1\" /><line stroke=\"rgb(0,0,0)\" x1=\"4518\" x2=\"4534\" y1=\"288\" y2=\"288\" /><line stroke=\"rgb(0,0,0)\" x1=\"4526\" x2=\"4526\" y1=\"280\" y2=\"296\" /></g><line stroke=\"rgb(0,0,0)\" x1=\"4568\" x2=\"4568\" y1=\"192\" y2=\"32\" /><circle cx=\"4568\" cy=\"32\" fill=\"black\" r=\"4\" /><line stroke=\"rgb(0,0,0)\" x1=\"4568\" x2=\"4568\" y1=\"192\" y2=\"288\" /><circle cx=\"4568\" cy=\"288\" fill=\"black\" r=\"4\" /><g><circle cx=\"4568\" cy=\"192\" fill=\"white\" r=\"8\" stroke=\"black\" stroke-width=\"1\" /><line stroke=\"rgb(0,0,0)\" x1=\"4560\" x2=\"4576\" y1=\"192\" y2=\"192\" /><line stroke=\"rgb(0,0,0)\" x1=\"4568\" x2=\"4568\" y1=\"184\" y2=\"200\" /></g><line stroke=\"rgb(0,0,0)\" x1=\"4610\" x2=\"4610\" y1=\"288\" y2=\"32\" /><circle cx=\"4610\" cy=\"32\" fill=\"black\" r=\"4\" /><line stroke=\"rgb(0,0,0)\" x1=\"4610\" x2=\"4610\" y1=\"288\" y2=\"192\" /><circle cx=\"4610\" cy=\"192\" fill=\"black\" r=\"4\" /><g><circle cx=\"4610\" cy=\"288\" fill=\"white\" r=\"8\" stroke=\"black\" stroke-width=\"1\" /><line stroke=\"rgb(0,0,0)\" x1=\"4602\" x2=\"4618\" y1=\"288\" y2=\"288\" /><line stroke=\"rgb(0,0,0)\" x1=\"4610\" x2=\"4610\" y1=\"280\" y2=\"296\" /></g><line stroke=\"rgb(0,0,0)\" x1=\"4652\" x2=\"4652\" y1=\"160\" y2=\"32\" /><circle cx=\"4652\" cy=\"32\" fill=\"black\" r=\"4\" /><g><circle cx=\"4652\" cy=\"160\" fill=\"white\" r=\"8\" stroke=\"black\" stroke-width=\"1\" /><line stroke=\"rgb(0,0,0)\" x1=\"4644\" x2=\"4660\" y1=\"160\" y2=\"160\" /><line stroke=\"rgb(0,0,0)\" x1=\"4652\" x2=\"4652\" y1=\"152\" y2=\"168\" /></g><line stroke=\"rgb(0,0,0)\" x1=\"4694\" x2=\"4694\" y1=\"224\" y2=\"32\" /><circle cx=\"4694\" cy=\"32\" fill=\"black\" r=\"4\" /><g><circle cx=\"4694\" cy=\"224\" fill=\"white\" r=\"8\" stroke=\"black\" stroke-width=\"1\" /><line stroke=\"rgb(0,0,0)\" x1=\"4686\" x2=\"4702\" y1=\"224\" y2=\"224\" /><line stroke=\"rgb(0,0,0)\" x1=\"4694\" x2=\"4694\" y1=\"216\" y2=\"232\" /></g><line stroke=\"rgb(0,0,0)\" x1=\"4736\" x2=\"4736\" y1=\"288\" y2=\"32\" /><circle cx=\"4736\" cy=\"32\" fill=\"black\" r=\"4\" /><g><circle cx=\"4736\" cy=\"288\" fill=\"white\" r=\"8\" stroke=\"black\" stroke-width=\"1\" /><line stroke=\"rgb(0,0,0)\" x1=\"4728\" x2=\"4744\" y1=\"288\" y2=\"288\" /><line stroke=\"rgb(0,0,0)\" x1=\"4736\" x2=\"4736\" y1=\"280\" y2=\"296\" /></g><line stroke=\"rgb(0,0,0)\" x1=\"4778\" x2=\"4778\" y1=\"160\" y2=\"32\" /><circle cx=\"4778\" cy=\"32\" fill=\"black\" r=\"4\" /><line stroke=\"rgb(0,0,0)\" x1=\"4778\" x2=\"4778\" y1=\"160\" y2=\"192\" /><circle cx=\"4778\" cy=\"192\" fill=\"black\" r=\"4\" /><g><circle cx=\"4778\" cy=\"160\" fill=\"white\" r=\"8\" stroke=\"black\" stroke-width=\"1\" /><line stroke=\"rgb(0,0,0)\" x1=\"4770\" x2=\"4786\" y1=\"160\" y2=\"160\" /><line stroke=\"rgb(0,0,0)\" x1=\"4778\" x2=\"4778\" y1=\"152\" y2=\"168\" /></g><line stroke=\"rgb(0,0,0)\" x1=\"4820\" x2=\"4820\" y1=\"224\" y2=\"32\" /><circle cx=\"4820\" cy=\"32\" fill=\"black\" r=\"4\" /><line stroke=\"rgb(0,0,0)\" x1=\"4820\" x2=\"4820\" y1=\"224\" y2=\"192\" /><circle cx=\"4820\" cy=\"192\" fill=\"black\" r=\"4\" /><g><circle cx=\"4820\" cy=\"224\" fill=\"white\" r=\"8\" stroke=\"black\" stroke-width=\"1\" /><line stroke=\"rgb(0,0,0)\" x1=\"4812\" x2=\"4828\" y1=\"224\" y2=\"224\" /><line stroke=\"rgb(0,0,0)\" x1=\"4820\" x2=\"4820\" y1=\"216\" y2=\"232\" /></g><line stroke=\"rgb(0,0,0)\" x1=\"4862\" x2=\"4862\" y1=\"288\" y2=\"32\" /><circle cx=\"4862\" cy=\"32\" fill=\"black\" r=\"4\" /><line stroke=\"rgb(0,0,0)\" x1=\"4862\" x2=\"4862\" y1=\"288\" y2=\"192\" /><circle cx=\"4862\" cy=\"192\" fill=\"black\" r=\"4\" /><g><circle cx=\"4862\" cy=\"288\" fill=\"white\" r=\"8\" stroke=\"black\" stroke-width=\"1\" /><line stroke=\"rgb(0,0,0)\" x1=\"4854\" x2=\"4870\" y1=\"288\" y2=\"288\" /><line stroke=\"rgb(0,0,0)\" x1=\"4862\" x2=\"4862\" y1=\"280\" y2=\"296\" /></g><line stroke=\"rgb(0,0,0)\" x1=\"4904\" x2=\"4904\" y1=\"288\" y2=\"32\" /><circle cx=\"4904\" cy=\"32\" fill=\"black\" r=\"4\" /><line stroke=\"rgb(0,0,0)\" x1=\"4904\" x2=\"4904\" y1=\"288\" y2=\"192\" /><circle cx=\"4904\" cy=\"192\" fill=\"black\" r=\"4\" /><g><circle cx=\"4904\" cy=\"288\" fill=\"white\" r=\"8\" stroke=\"black\" stroke-width=\"1\" /><line stroke=\"rgb(0,0,0)\" x1=\"4896\" x2=\"4912\" y1=\"288\" y2=\"288\" /><line stroke=\"rgb(0,0,0)\" x1=\"4904\" x2=\"4904\" y1=\"280\" y2=\"296\" /></g><line stroke=\"rgb(0,0,0)\" x1=\"4946\" x2=\"4946\" y1=\"192\" y2=\"32\" /><circle cx=\"4946\" cy=\"32\" fill=\"black\" r=\"4\" /><line stroke=\"rgb(0,0,0)\" x1=\"4946\" x2=\"4946\" y1=\"192\" y2=\"288\" /><circle cx=\"4946\" cy=\"288\" fill=\"black\" r=\"4\" /><g><circle cx=\"4946\" cy=\"192\" fill=\"white\" r=\"8\" stroke=\"black\" stroke-width=\"1\" /><line stroke=\"rgb(0,0,0)\" x1=\"4938\" x2=\"4954\" y1=\"192\" y2=\"192\" /><line stroke=\"rgb(0,0,0)\" x1=\"4946\" x2=\"4946\" y1=\"184\" y2=\"200\" /></g><line stroke=\"rgb(0,0,0)\" x1=\"4988\" x2=\"4988\" y1=\"288\" y2=\"32\" /><circle cx=\"4988\" cy=\"32\" fill=\"black\" r=\"4\" /><line stroke=\"rgb(0,0,0)\" x1=\"4988\" x2=\"4988\" y1=\"288\" y2=\"192\" /><circle cx=\"4988\" cy=\"192\" fill=\"black\" r=\"4\" /><g><circle cx=\"4988\" cy=\"288\" fill=\"white\" r=\"8\" stroke=\"black\" stroke-width=\"1\" /><line stroke=\"rgb(0,0,0)\" x1=\"4980\" x2=\"4996\" y1=\"288\" y2=\"288\" /><line stroke=\"rgb(0,0,0)\" x1=\"4988\" x2=\"4988\" y1=\"280\" y2=\"296\" /></g><line stroke=\"rgb(0,0,0)\" x1=\"5030\" x2=\"5030\" y1=\"160\" y2=\"32\" /><circle cx=\"5030\" cy=\"32\" fill=\"black\" r=\"4\" /><g><circle cx=\"5030\" cy=\"160\" fill=\"white\" r=\"8\" stroke=\"black\" stroke-width=\"1\" /><line stroke=\"rgb(0,0,0)\" x1=\"5022\" x2=\"5038\" y1=\"160\" y2=\"160\" /><line stroke=\"rgb(0,0,0)\" x1=\"5030\" x2=\"5030\" y1=\"152\" y2=\"168\" /></g><line stroke=\"rgb(0,0,0)\" x1=\"5072\" x2=\"5072\" y1=\"224\" y2=\"32\" /><circle cx=\"5072\" cy=\"32\" fill=\"black\" r=\"4\" /><g><circle cx=\"5072\" cy=\"224\" fill=\"white\" r=\"8\" stroke=\"black\" stroke-width=\"1\" /><line stroke=\"rgb(0,0,0)\" x1=\"5064\" x2=\"5080\" y1=\"224\" y2=\"224\" /><line stroke=\"rgb(0,0,0)\" x1=\"5072\" x2=\"5072\" y1=\"216\" y2=\"232\" /></g><line stroke=\"rgb(0,0,0)\" x1=\"5114\" x2=\"5114\" y1=\"288\" y2=\"32\" /><circle cx=\"5114\" cy=\"32\" fill=\"black\" r=\"4\" /><g><circle cx=\"5114\" cy=\"288\" fill=\"white\" r=\"8\" stroke=\"black\" stroke-width=\"1\" /><line stroke=\"rgb(0,0,0)\" x1=\"5106\" x2=\"5122\" y1=\"288\" y2=\"288\" /><line stroke=\"rgb(0,0,0)\" x1=\"5114\" x2=\"5114\" y1=\"280\" y2=\"296\" /></g><line stroke=\"rgb(0,0,0)\" x1=\"5156\" x2=\"5156\" y1=\"160\" y2=\"32\" /><circle cx=\"5156\" cy=\"32\" fill=\"black\" r=\"4\" /><line stroke=\"rgb(0,0,0)\" x1=\"5156\" x2=\"5156\" y1=\"160\" y2=\"192\" /><circle cx=\"5156\" cy=\"192\" fill=\"black\" r=\"4\" /><g><circle cx=\"5156\" cy=\"160\" fill=\"white\" r=\"8\" stroke=\"black\" stroke-width=\"1\" /><line stroke=\"rgb(0,0,0)\" x1=\"5148\" x2=\"5164\" y1=\"160\" y2=\"160\" /><line stroke=\"rgb(0,0,0)\" x1=\"5156\" x2=\"5156\" y1=\"152\" y2=\"168\" /></g><line stroke=\"rgb(0,0,0)\" x1=\"5198\" x2=\"5198\" y1=\"224\" y2=\"32\" /><circle cx=\"5198\" cy=\"32\" fill=\"black\" r=\"4\" /><line stroke=\"rgb(0,0,0)\" x1=\"5198\" x2=\"5198\" y1=\"224\" y2=\"192\" /><circle cx=\"5198\" cy=\"192\" fill=\"black\" r=\"4\" /><g><circle cx=\"5198\" cy=\"224\" fill=\"white\" r=\"8\" stroke=\"black\" stroke-width=\"1\" /><line stroke=\"rgb(0,0,0)\" x1=\"5190\" x2=\"5206\" y1=\"224\" y2=\"224\" /><line stroke=\"rgb(0,0,0)\" x1=\"5198\" x2=\"5198\" y1=\"216\" y2=\"232\" /></g><line stroke=\"rgb(0,0,0)\" x1=\"5240\" x2=\"5240\" y1=\"288\" y2=\"32\" /><circle cx=\"5240\" cy=\"32\" fill=\"black\" r=\"4\" /><line stroke=\"rgb(0,0,0)\" x1=\"5240\" x2=\"5240\" y1=\"288\" y2=\"192\" /><circle cx=\"5240\" cy=\"192\" fill=\"black\" r=\"4\" /><g><circle cx=\"5240\" cy=\"288\" fill=\"white\" r=\"8\" stroke=\"black\" stroke-width=\"1\" /><line stroke=\"rgb(0,0,0)\" x1=\"5232\" x2=\"5248\" y1=\"288\" y2=\"288\" /><line stroke=\"rgb(0,0,0)\" x1=\"5240\" x2=\"5240\" y1=\"280\" y2=\"296\" /></g><line stroke=\"rgb(0,0,0)\" x1=\"5282\" x2=\"5282\" y1=\"288\" y2=\"32\" /><circle cx=\"5282\" cy=\"32\" fill=\"black\" r=\"4\" /><line stroke=\"rgb(0,0,0)\" x1=\"5282\" x2=\"5282\" y1=\"288\" y2=\"192\" /><circle cx=\"5282\" cy=\"192\" fill=\"black\" r=\"4\" /><g><circle cx=\"5282\" cy=\"288\" fill=\"white\" r=\"8\" stroke=\"black\" stroke-width=\"1\" /><line stroke=\"rgb(0,0,0)\" x1=\"5274\" x2=\"5290\" y1=\"288\" y2=\"288\" /><line stroke=\"rgb(0,0,0)\" x1=\"5282\" x2=\"5282\" y1=\"280\" y2=\"296\" /></g><line stroke=\"rgb(0,0,0)\" x1=\"5324\" x2=\"5324\" y1=\"192\" y2=\"32\" /><circle cx=\"5324\" cy=\"32\" fill=\"black\" r=\"4\" /><line stroke=\"rgb(0,0,0)\" x1=\"5324\" x2=\"5324\" y1=\"192\" y2=\"288\" /><circle cx=\"5324\" cy=\"288\" fill=\"black\" r=\"4\" /><g><circle cx=\"5324\" cy=\"192\" fill=\"white\" r=\"8\" stroke=\"black\" stroke-width=\"1\" /><line stroke=\"rgb(0,0,0)\" x1=\"5316\" x2=\"5332\" y1=\"192\" y2=\"192\" /><line stroke=\"rgb(0,0,0)\" x1=\"5324\" x2=\"5324\" y1=\"184\" y2=\"200\" /></g><line stroke=\"rgb(0,0,0)\" x1=\"5366\" x2=\"5366\" y1=\"288\" y2=\"32\" /><circle cx=\"5366\" cy=\"32\" fill=\"black\" r=\"4\" /><line stroke=\"rgb(0,0,0)\" x1=\"5366\" x2=\"5366\" y1=\"288\" y2=\"192\" /><circle cx=\"5366\" cy=\"192\" fill=\"black\" r=\"4\" /><g><circle cx=\"5366\" cy=\"288\" fill=\"white\" r=\"8\" stroke=\"black\" stroke-width=\"1\" /><line stroke=\"rgb(0,0,0)\" x1=\"5358\" x2=\"5374\" y1=\"288\" y2=\"288\" /><line stroke=\"rgb(0,0,0)\" x1=\"5366\" x2=\"5366\" y1=\"280\" y2=\"296\" /></g><line stroke=\"rgb(0,0,0)\" x1=\"5408\" x2=\"5408\" y1=\"160\" y2=\"32\" /><circle cx=\"5408\" cy=\"32\" fill=\"black\" r=\"4\" /><g><circle cx=\"5408\" cy=\"160\" fill=\"white\" r=\"8\" stroke=\"black\" stroke-width=\"1\" /><line stroke=\"rgb(0,0,0)\" x1=\"5400\" x2=\"5416\" y1=\"160\" y2=\"160\" /><line stroke=\"rgb(0,0,0)\" x1=\"5408\" x2=\"5408\" y1=\"152\" y2=\"168\" /></g><line stroke=\"rgb(0,0,0)\" x1=\"5450\" x2=\"5450\" y1=\"224\" y2=\"32\" /><circle cx=\"5450\" cy=\"32\" fill=\"black\" r=\"4\" /><g><circle cx=\"5450\" cy=\"224\" fill=\"white\" r=\"8\" stroke=\"black\" stroke-width=\"1\" /><line stroke=\"rgb(0,0,0)\" x1=\"5442\" x2=\"5458\" y1=\"224\" y2=\"224\" /><line stroke=\"rgb(0,0,0)\" x1=\"5450\" x2=\"5450\" y1=\"216\" y2=\"232\" /></g><line stroke=\"rgb(0,0,0)\" x1=\"5492\" x2=\"5492\" y1=\"288\" y2=\"32\" /><circle cx=\"5492\" cy=\"32\" fill=\"black\" r=\"4\" /><g><circle cx=\"5492\" cy=\"288\" fill=\"white\" r=\"8\" stroke=\"black\" stroke-width=\"1\" /><line stroke=\"rgb(0,0,0)\" x1=\"5484\" x2=\"5500\" y1=\"288\" y2=\"288\" /><line stroke=\"rgb(0,0,0)\" x1=\"5492\" x2=\"5492\" y1=\"280\" y2=\"296\" /></g><line stroke=\"rgb(0,0,0)\" x1=\"5534\" x2=\"5534\" y1=\"160\" y2=\"32\" /><circle cx=\"5534\" cy=\"32\" fill=\"black\" r=\"4\" /><line stroke=\"rgb(0,0,0)\" x1=\"5534\" x2=\"5534\" y1=\"160\" y2=\"192\" /><circle cx=\"5534\" cy=\"192\" fill=\"black\" r=\"4\" /><g><circle cx=\"5534\" cy=\"160\" fill=\"white\" r=\"8\" stroke=\"black\" stroke-width=\"1\" /><line stroke=\"rgb(0,0,0)\" x1=\"5526\" x2=\"5542\" y1=\"160\" y2=\"160\" /><line stroke=\"rgb(0,0,0)\" x1=\"5534\" x2=\"5534\" y1=\"152\" y2=\"168\" /></g><line stroke=\"rgb(0,0,0)\" x1=\"5576\" x2=\"5576\" y1=\"224\" y2=\"32\" /><circle cx=\"5576\" cy=\"32\" fill=\"black\" r=\"4\" /><line stroke=\"rgb(0,0,0)\" x1=\"5576\" x2=\"5576\" y1=\"224\" y2=\"192\" /><circle cx=\"5576\" cy=\"192\" fill=\"black\" r=\"4\" /><g><circle cx=\"5576\" cy=\"224\" fill=\"white\" r=\"8\" stroke=\"black\" stroke-width=\"1\" /><line stroke=\"rgb(0,0,0)\" x1=\"5568\" x2=\"5584\" y1=\"224\" y2=\"224\" /><line stroke=\"rgb(0,0,0)\" x1=\"5576\" x2=\"5576\" y1=\"216\" y2=\"232\" /></g><line stroke=\"rgb(0,0,0)\" x1=\"5618\" x2=\"5618\" y1=\"288\" y2=\"32\" /><circle cx=\"5618\" cy=\"32\" fill=\"black\" r=\"4\" /><line stroke=\"rgb(0,0,0)\" x1=\"5618\" x2=\"5618\" y1=\"288\" y2=\"192\" /><circle cx=\"5618\" cy=\"192\" fill=\"black\" r=\"4\" /><g><circle cx=\"5618\" cy=\"288\" fill=\"white\" r=\"8\" stroke=\"black\" stroke-width=\"1\" /><line stroke=\"rgb(0,0,0)\" x1=\"5610\" x2=\"5626\" y1=\"288\" y2=\"288\" /><line stroke=\"rgb(0,0,0)\" x1=\"5618\" x2=\"5618\" y1=\"280\" y2=\"296\" /></g><line stroke=\"rgb(0,0,0)\" x1=\"5660\" x2=\"5660\" y1=\"288\" y2=\"32\" /><circle cx=\"5660\" cy=\"32\" fill=\"black\" r=\"4\" /><line stroke=\"rgb(0,0,0)\" x1=\"5660\" x2=\"5660\" y1=\"288\" y2=\"192\" /><circle cx=\"5660\" cy=\"192\" fill=\"black\" r=\"4\" /><g><circle cx=\"5660\" cy=\"288\" fill=\"white\" r=\"8\" stroke=\"black\" stroke-width=\"1\" /><line stroke=\"rgb(0,0,0)\" x1=\"5652\" x2=\"5668\" y1=\"288\" y2=\"288\" /><line stroke=\"rgb(0,0,0)\" x1=\"5660\" x2=\"5660\" y1=\"280\" y2=\"296\" /></g><line stroke=\"rgb(0,0,0)\" x1=\"5702\" x2=\"5702\" y1=\"192\" y2=\"32\" /><circle cx=\"5702\" cy=\"32\" fill=\"black\" r=\"4\" /><line stroke=\"rgb(0,0,0)\" x1=\"5702\" x2=\"5702\" y1=\"192\" y2=\"288\" /><circle cx=\"5702\" cy=\"288\" fill=\"black\" r=\"4\" /><g><circle cx=\"5702\" cy=\"192\" fill=\"white\" r=\"8\" stroke=\"black\" stroke-width=\"1\" /><line stroke=\"rgb(0,0,0)\" x1=\"5694\" x2=\"5710\" y1=\"192\" y2=\"192\" /><line stroke=\"rgb(0,0,0)\" x1=\"5702\" x2=\"5702\" y1=\"184\" y2=\"200\" /></g><line stroke=\"rgb(0,0,0)\" x1=\"5744\" x2=\"5744\" y1=\"288\" y2=\"32\" /><circle cx=\"5744\" cy=\"32\" fill=\"black\" r=\"4\" /><line stroke=\"rgb(0,0,0)\" x1=\"5744\" x2=\"5744\" y1=\"288\" y2=\"192\" /><circle cx=\"5744\" cy=\"192\" fill=\"black\" r=\"4\" /><g><circle cx=\"5744\" cy=\"288\" fill=\"white\" r=\"8\" stroke=\"black\" stroke-width=\"1\" /><line stroke=\"rgb(0,0,0)\" x1=\"5736\" x2=\"5752\" y1=\"288\" y2=\"288\" /><line stroke=\"rgb(0,0,0)\" x1=\"5744\" x2=\"5744\" y1=\"280\" y2=\"296\" /></g><rect fill=\"white\" height=\"120\" stroke=\"black\" stroke-width=\"2\" width=\"72\" x=\"5770\" y=\"20\" /><text style=\"font-family: STIXMathJax_Main-Italic; font-size: 16px;\" x=\"5778\" y=\"85\">QFT [4]</text></svg>"
      ],
      "text/plain": [
       "<IPython.core.display.HTML object>"
      ]
     },
     "execution_count": 76,
     "metadata": {},
     "output_type": "execute_result"
    }
   ],
   "source": [
    "\"\"\"\n",
    "shor = Program()\n",
    "qr = shor.qalloc(num_qubits)\n",
    "\n",
    "init_circ = initialize_qubits()\n",
    "modular_exp = modular_exponentiation()\n",
    "\n",
    "shor.apply(init_circ, qr)\n",
    "shor.apply(modular_exp, qr)\n",
    "QFT(n)(tuple([qr[i] for i in range(n)]))\n",
    "\n",
    "#QFT(n)(qr[0], qr[1], qr[2], qr[3])\n",
    "\n",
    "circuit = shor.to_circ()\n",
    "\"\"\"\n",
    "shor = Program()\n",
    "qr = shor.qalloc(num_qubits)\n",
    "init_circ = initialize_qubits()\n",
    "shor.apply(init_circ, qr)\n",
    "\n",
    "for i in range(4):\n",
    "    modularExponentiation = controlled_modular_exponentiation(i)\n",
    "    shor.apply(modularExponentiation, qr[3-i], qr[4], qr[5], qr[6], qr[7], qr[8])\n",
    "\n",
    "\n",
    "QFT(4)(qr[0], qr[1], qr[2], qr[3])\n",
    "circuit = shor.to_circ()\n",
    "\n",
    "#Obs: na interface web do jupyter é possível dar zoom na imagem e visualizar melhor o circuito\n",
    "%qatdisplay circuit --svg\n"
   ]
  },
  {
   "cell_type": "code",
   "execution_count": 77,
   "id": "287f3ac1",
   "metadata": {},
   "outputs": [
    {
     "name": "stdout",
     "output_type": "stream",
     "text": [
      "i: 0 State |000000001>: probability 0.14062499999999983 \n",
      "i: 1 State |000001000>: probability 0.09765624999999986 \n",
      "i: 2 State |000010100>: probability 0.09765624999999986 \n",
      "i: 3 State |000101000>: probability 0.0039062499999999965 \n",
      "i: 4 State |000110100>: probability 0.0039062499999999965 \n",
      "i: 5 State |001000001>: probability 0.007812499999999989 \n",
      "i: 6 State |001001000>: probability 0.003906249999999995 \n",
      "i: 7 State |001010100>: probability 0.003906249999999995 \n",
      "i: 8 State |001100001>: probability 0.007812499999999991 \n",
      "i: 9 State |001101000>: probability 0.003906249999999995 \n",
      "i: 10 State |001110100>: probability 0.003906249999999995 \n",
      "i: 11 State |010000001>: probability 0.002288228271980094 \n",
      "i: 12 State |010001000>: probability 0.0006702065439601939 \n",
      "i: 13 State |010010100>: probability 0.000670206543960194 \n",
      "i: 14 State |010100001>: probability 0.013336771728019886 \n",
      "i: 15 State |010101000>: probability 0.02276729345603977 \n",
      "i: 16 State |010110100>: probability 0.022767293456039776 \n",
      "i: 17 State |011000001>: probability 0.013336771728019886 \n",
      "i: 18 State |011001000>: probability 0.02276729345603977 \n",
      "i: 19 State |011010100>: probability 0.02276729345603977 \n",
      "i: 20 State |011100001>: probability 0.0022882282719800936 \n",
      "i: 21 State |011101000>: probability 0.0006702065439601939 \n",
      "i: 22 State |011110100>: probability 0.000670206543960194 \n",
      "i: 23 State |100000001>: probability 0.00185336696919285 \n",
      "i: 24 State |100001000>: probability 0.0004816743818604918 \n",
      "i: 25 State |100010100>: probability 0.0004816743818604923 \n",
      "i: 26 State |100100001>: probability 0.0008274592066479234 \n",
      "i: 27 State |100101000>: probability 0.005435195250020085 \n",
      "i: 28 State |100110100>: probability 0.005435195250020082 \n",
      "i: 29 State |101000001>: probability 0.08760305978150615 \n",
      "i: 30 State |101001000>: probability 0.07095472920574186 \n",
      "i: 31 State |101010100>: probability 0.07095472920574183 \n",
      "i: 32 State |101100001>: probability 0.0034661140426529373 \n",
      "i: 33 State |101101000>: probability 0.0012534011623774684 \n",
      "i: 34 State |101110100>: probability 0.001253401162377465 \n",
      "i: 35 State |110000001>: probability 0.0034661140426529356 \n",
      "i: 36 State |110001000>: probability 0.0012534011623774684 \n",
      "i: 37 State |110010100>: probability 0.001253401162377464 \n",
      "i: 38 State |110100001>: probability 0.08760305978150615 \n",
      "i: 39 State |110101000>: probability 0.07095472920574186 \n",
      "i: 40 State |110110100>: probability 0.07095472920574183 \n",
      "i: 41 State |111000001>: probability 0.000827459206647927 \n",
      "i: 42 State |111001000>: probability 0.005435195250020085 \n",
      "i: 43 State |111010100>: probability 0.0054351952500200805 \n",
      "i: 44 State |111100001>: probability 0.0018533669691928496 \n",
      "i: 45 State |111101000>: probability 0.0004816743818604908 \n",
      "i: 46 State |111110100>: probability 0.00048167438186049214 \n"
     ]
    }
   ],
   "source": [
    "job = circuit.to_job()\n",
    "result = get_default_qpu().submit(job)\n",
    "\n",
    "states = []\n",
    "for i, sample in enumerate(result):\n",
    "     print(\"i: %s State %s: probability %s \" % (i, sample.state, sample.probability))\n",
    "     states.append(sample.state)"
   ]
  },
  {
   "cell_type": "code",
   "execution_count": 36,
   "id": "92c7da08",
   "metadata": {},
   "outputs": [
    {
     "data": {
      "text/plain": [
       "{0, 1, 2, 3, 4, 5, 6, 7, 8, 9, 10, 11, 12, 13, 14, 15}"
      ]
     },
     "execution_count": 36,
     "metadata": {},
     "output_type": "execute_result"
    }
   ],
   "source": [
    "# Converte os autoestados medidos no registrador da QFT em decimais\n",
    "import string\n",
    "decimals = [[str(int(b)) for b in states[i]] for i in range(len(states))]\n",
    "\n",
    "for i,lista in enumerate(decimals):\n",
    "    decimals[i] = list(reversed(lista[:n]))\n",
    "    decimals[i] = int(''.join(decimals[i]),2)\n",
    "    \n",
    "\n",
    "decimals = set(decimals)\n",
    "decimals"
   ]
  },
  {
   "cell_type": "code",
   "execution_count": 18,
   "id": "e5d1f2a8",
   "metadata": {},
   "outputs": [],
   "source": [
    "# Transformando os valores binários medidos no primeiro registrador em números decimais.\n",
    "import string\n",
    "decimals = [[str(int(b)) for b in states[i]] for i in range(len(states))]\n",
    "\n",
    "for i,lista in enumerate(decimals):\n",
    "    decimals[i] = list(reversed(lista[:n]))\n",
    "    decimals[i] = int(''.join(decimals[i]),2)\n",
    "\n",
    "decimals = set(decimals)"
   ]
  },
  {
   "cell_type": "code",
   "execution_count": 19,
   "id": "8293459a",
   "metadata": {},
   "outputs": [
    {
     "data": {
      "text/plain": [
       "{0, 1, 2, 3, 4, 5, 6, 7, 8, 9, 10, 11, 12, 13, 14, 15}"
      ]
     },
     "execution_count": 19,
     "metadata": {},
     "output_type": "execute_result"
    }
   ],
   "source": [
    "decimals"
   ]
  },
  {
   "cell_type": "code",
   "execution_count": 20,
   "id": "24267be2",
   "metadata": {},
   "outputs": [],
   "source": [
    "def frac_cont(decimal_medido):\n",
    "    \"\"\"\n",
    "    Algoritmo de fracoes continuadas    \n",
    "        Argumento: decimal_medido\n",
    "        Output: Candidato a período r\n",
    "    \"\"\"\n",
    "    M = decimal_medido/2**n\n",
    "    for _ in range(2*n):\n",
    "        b, r = modf(M)\n",
    "        if b > round(0, 4):\n",
    "            M = 1/b\n",
    "        else:\n",
    "            break\n",
    "    return int(r)"
   ]
  },
  {
   "cell_type": "code",
   "execution_count": 72,
   "id": "c1e27415",
   "metadata": {},
   "outputs": [
    {
     "data": {
      "text/plain": [
       "[(0, 1), (1, 1), (3, 4), (127, 169)]"
      ]
     },
     "execution_count": 72,
     "metadata": {},
     "output_type": "execute_result"
    }
   ],
   "source": [
    "from contfrac import continued_fraction,convergents  # pip install contfrac\n",
    "list(convergents(127/169))"
   ]
  },
  {
   "cell_type": "code",
   "execution_count": 73,
   "id": "77bf0bcc",
   "metadata": {},
   "outputs": [
    {
     "data": {
      "text/plain": [
       "4"
      ]
     },
     "execution_count": 73,
     "metadata": {},
     "output_type": "execute_result"
    }
   ],
   "source": [
    "list(filter(lambda x: x[1]<N,convergents(127/169)))[-1][1]"
   ]
  },
  {
   "cell_type": "code",
   "execution_count": 63,
   "id": "7d78ee63",
   "metadata": {},
   "outputs": [
    {
     "name": "stdout",
     "output_type": "stream",
     "text": [
      "decimal medido:  4\n"
     ]
    },
    {
     "ename": "ZeroDivisionError",
     "evalue": "float division by zero",
     "output_type": "error",
     "traceback": [
      "\u001b[0;31m---------------------------------------------------------------------------\u001b[0m",
      "\u001b[0;31mZeroDivisionError\u001b[0m                         Traceback (most recent call last)",
      "Input \u001b[0;32mIn [63]\u001b[0m, in \u001b[0;36m<cell line: 4>\u001b[0;34m()\u001b[0m\n\u001b[1;32m      5\u001b[0m \u001b[38;5;28;01mif\u001b[39;00m decimal\u001b[38;5;241m>\u001b[39m\u001b[38;5;241m3\u001b[39m:\n\u001b[1;32m      6\u001b[0m \n\u001b[1;32m      7\u001b[0m     \u001b[38;5;66;03m# calcula o candidato a r por FC\u001b[39;00m\n\u001b[1;32m      8\u001b[0m     \u001b[38;5;28mprint\u001b[39m(\u001b[38;5;124m\"\u001b[39m\u001b[38;5;124mdecimal medido: \u001b[39m\u001b[38;5;124m\"\u001b[39m, decimal)\n\u001b[0;32m----> 9\u001b[0m     cand_r \u001b[38;5;241m=\u001b[39m \u001b[38;5;28;43mlist\u001b[39;49m\u001b[43m(\u001b[49m\u001b[38;5;28;43mfilter\u001b[39;49m\u001b[43m(\u001b[49m\u001b[38;5;28;43;01mlambda\u001b[39;49;00m\u001b[43m \u001b[49m\u001b[43mx\u001b[49m\u001b[43m:\u001b[49m\u001b[43m \u001b[49m\u001b[43mx\u001b[49m\u001b[43m[\u001b[49m\u001b[38;5;241;43m1\u001b[39;49m\u001b[43m]\u001b[49m\u001b[38;5;241;43m<\u001b[39;49m\u001b[43mN\u001b[49m\u001b[43m,\u001b[49m\u001b[43mconvergents\u001b[49m\u001b[43m(\u001b[49m\u001b[43mdecimal\u001b[49m\u001b[38;5;241;43m/\u001b[39;49m\u001b[38;5;241;43m2\u001b[39;49m\u001b[38;5;241;43m*\u001b[39;49m\u001b[38;5;241;43m*\u001b[39;49m\u001b[43mm\u001b[49m\u001b[43m)\u001b[49m\u001b[43m)\u001b[49m\u001b[43m)\u001b[49m[\u001b[38;5;241m-\u001b[39m\u001b[38;5;241m1\u001b[39m][\u001b[38;5;241m1\u001b[39m]\n\u001b[1;32m     10\u001b[0m     \u001b[38;5;28mprint\u001b[39m(\u001b[38;5;124m\"\u001b[39m\u001b[38;5;124mcandidato a r: \u001b[39m\u001b[38;5;124m\"\u001b[39m, cand_r)\n\u001b[1;32m     12\u001b[0m     \u001b[38;5;66;03m# verifica se r é par\u001b[39;00m\n",
      "File \u001b[0;32m~/anaconda3/lib/python3.9/site-packages/contfrac.py:188\u001b[0m, in \u001b[0;36mconvergents\u001b[0;34m(x, max_grade)\u001b[0m\n\u001b[1;32m    186\u001b[0m denominator_2_ago \u001b[38;5;241m=\u001b[39m \u001b[38;5;241m1\u001b[39m\n\u001b[1;32m    187\u001b[0m denominator_1_ago \u001b[38;5;241m=\u001b[39m \u001b[38;5;241m0\u001b[39m\n\u001b[0;32m--> 188\u001b[0m \u001b[38;5;28;01mfor\u001b[39;00m coefficient \u001b[38;5;129;01min\u001b[39;00m continued_fraction(x, maxlen\u001b[38;5;241m=\u001b[39mmax_grade \u001b[38;5;241m+\u001b[39m \u001b[38;5;241m1\u001b[39m):\n\u001b[1;32m    189\u001b[0m     numerator \u001b[38;5;241m=\u001b[39m coefficient \u001b[38;5;241m*\u001b[39m numerator_1_ago \u001b[38;5;241m+\u001b[39m numerator_2_ago\n\u001b[1;32m    190\u001b[0m     numerator_2_ago \u001b[38;5;241m=\u001b[39m numerator_1_ago\n",
      "File \u001b[0;32m~/anaconda3/lib/python3.9/site-packages/contfrac.py:93\u001b[0m, in \u001b[0;36m__float_cont_frac\u001b[0;34m(real_number, max_amount)\u001b[0m\n\u001b[1;32m     91\u001b[0m integer_part \u001b[38;5;241m=\u001b[39m \u001b[38;5;28mint\u001b[39m(\u001b[38;5;28mround\u001b[39m(real_number, \u001b[38;5;241m10\u001b[39m))\n\u001b[1;32m     92\u001b[0m fractional_part \u001b[38;5;241m=\u001b[39m real_number \u001b[38;5;241m-\u001b[39m integer_part\n\u001b[0;32m---> 93\u001b[0m real_number \u001b[38;5;241m=\u001b[39m \u001b[38;5;241;43m1.0\u001b[39;49m\u001b[43m \u001b[49m\u001b[38;5;241;43m/\u001b[39;49m\u001b[43m \u001b[49m\u001b[43mfractional_part\u001b[49m\n\u001b[1;32m     94\u001b[0m amount \u001b[38;5;241m+\u001b[39m\u001b[38;5;241m=\u001b[39m \u001b[38;5;241m1\u001b[39m\n\u001b[1;32m     95\u001b[0m \u001b[38;5;28;01myield\u001b[39;00m integer_part\n",
      "\u001b[0;31mZeroDivisionError\u001b[0m: float division by zero"
     ]
    }
   ],
   "source": [
    "# Encontrando os fatores primos de N\n",
    "prime_factors = ()\n",
    "\n",
    "for decimal in decimals:\n",
    "    if decimal>0:\n",
    "\n",
    "        # calcula o candidato a r por FC\n",
    "        print(\"decimal medido: \", decimal)\n",
    "        cand_r = list(filter(lambda x: x[1]<N,convergents(decimal/2**m)))[-1][1]\n",
    "        print(\"candidato a r: \", cand_r)\n",
    "\n",
    "        # verifica se r é par\n",
    "        if cand_r % 2 != 0 or cand_r == 0:\n",
    "            continue\n",
    "\n",
    "        # calcula a^r mod N e verifica se r é periodo\n",
    "        a_r_modulo_N = np.mod(a**cand_r, N)\n",
    "        if a_r_modulo_N == 1:       \n",
    "            guesses = gcd(a**int(cand_r/2) + 1, N), gcd(a**int(cand_r/2) - 1, N)\n",
    "            prime_factors = guesses[0], guesses[1]\n",
    "            break\n",
    "\n",
    "print(\"\\n Fatores primos encontrados: \", prime_factors)"
   ]
  },
  {
   "cell_type": "markdown",
   "id": "6b2e9355",
   "metadata": {},
   "source": [
    "## Parte final\n",
    "\n",
    "Neste momento, os fatores primos encontrados pelo Algoritmo de Shor serão usados para decriptar uma mensagem encriptada pelo método RSA."
   ]
  },
  {
   "cell_type": "code",
   "execution_count": null,
   "id": "1b16d15d",
   "metadata": {},
   "outputs": [],
   "source": [
    "import numpy as np\n",
    "import string\n",
    "\n",
    "def codificacao(x):\n",
    "    '''\n",
    "    Arg: string --> converte letras minusculas e espaço em inteiros.\n",
    "    '''\n",
    "    if( type(x) == type(1) ):\n",
    "        alfabeto = list(string.ascii_lowercase) + [' ']\n",
    "        if( x < len(alfabeto) ):\n",
    "            return alfabeto[x]\n",
    "        else:\n",
    "            return '?'\n",
    "    if( type(x) == type('s') ):\n",
    "        alfabeto = list(string.ascii_lowercase) + [' ']\n",
    "        code = {}\n",
    "        for inteiro, letra in enumerate(alfabeto):\n",
    "            code[letra]=inteiro\n",
    "        return code[x]\n",
    "\n",
    "# entre com fatores primos encontrados\n",
    "\n",
    "p = 5\n",
    "q = 7\n",
    "n = p*q\n",
    "\n",
    "# entre com as chaves publica 'e' e chave privada 'd'\n",
    "e = 5; d=5\n",
    "\n",
    "M_rsa = [14, 8, 31, 11, 20, 1, 8, 24, 31, 21, 14, 32, 9, 31, 11, 20, 9, 1, 12, 14, 20, 31, 0, 31, 32, 7, 0, 21, 9]\n",
    "\n",
    "# decodifica a mensagem\n",
    "mensagem_encriptada = ''\n",
    "mensagem_decriptada = ''\n",
    "for j in np.arange(len(M_rsa)):\n",
    "    mensagem_encriptada = mensagem_encriptada + codificacao( M_rsa[j] )\n",
    "    mensagem_decriptada = mensagem_decriptada + codificacao( (M_rsa[j]**d)%n )\n",
    "\n",
    "print(\"mensagem encriptada: \", mensagem_encriptada)"
   ]
  },
  {
   "cell_type": "markdown",
   "id": "5025bc78",
   "metadata": {},
   "source": [
    "### Verificando o resultado"
   ]
  },
  {
   "cell_type": "code",
   "execution_count": null,
   "id": "17623755",
   "metadata": {},
   "outputs": [],
   "source": [
    "print(\"mensagem decriptada: \", mensagem_decriptada)"
   ]
  },
  {
   "cell_type": "code",
   "execution_count": null,
   "id": "12c7e71a",
   "metadata": {},
   "outputs": [],
   "source": []
  }
 ],
 "metadata": {
  "kernelspec": {
   "display_name": "Python 3 (ipykernel)",
   "language": "python",
   "name": "python3"
  },
  "language_info": {
   "codemirror_mode": {
    "name": "ipython",
    "version": 3
   },
   "file_extension": ".py",
   "mimetype": "text/x-python",
   "name": "python",
   "nbconvert_exporter": "python",
   "pygments_lexer": "ipython3",
   "version": "3.9.12"
  },
  "vscode": {
   "interpreter": {
    "hash": "445da9f97fff3e9607fce724e9f5124fca1a39a333bfa2bf5db6a7377ace2fc6"
   }
  }
 },
 "nbformat": 4,
 "nbformat_minor": 5
}
