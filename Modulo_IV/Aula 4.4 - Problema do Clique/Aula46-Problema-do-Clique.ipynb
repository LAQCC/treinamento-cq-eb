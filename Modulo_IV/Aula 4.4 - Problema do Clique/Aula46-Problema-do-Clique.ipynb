{
 "cells": [
  {
   "cell_type": "code",
   "execution_count": 4,
   "metadata": {},
   "outputs": [
    {
     "name": "stdout",
     "output_type": "stream",
     "text": [
      "importing Jupyter notebook from QAOAutils.ipynb\n"
     ]
    }
   ],
   "source": [
    "import scipy\n",
    "import numpy as np\n",
    "from scipy.optimize import minimize\n",
    "import matplotlib.pyplot as plt\n",
    "\n",
    "# pyqubo imports\n",
    "from pyqubo import Binary, Spin\n",
    "from pprint import pprint\n",
    "from dimod import ExactSolver\n",
    "\n",
    "#myqlm imports\n",
    "from qat.lang.AQASM import *\n",
    "from qat.lang.AQASM import *\n",
    "from qat.qpus import get_default_qpu\n",
    "import import_ipynb\n",
    "import ipynb\n",
    "\n",
    "import networkx as nx\n",
    "import matplotlib.pyplot as plt\n",
    "\n",
    "from QAOAutils import SolverQAOA"
   ]
  },
  {
   "cell_type": "markdown",
   "metadata": {},
   "source": [
    "# Problema do Clique\n",
    "\n",
    "O Problema do Clique consiste em encontrar um subgrafo completo, $\\hat{G}$, composto por $K$ vértices (nós), em um dado grafo $G(V,E)$. Um grafo é completo quando todos os seus vértices nós interconectados. Na figura abaixo, podemos ver um grafo e seu respectivo clique de tamanho $K=4$.\n",
    "\n",
    "<img src=\"grafo_clique.png\" width=750 />\n",
    "\n"
   ]
  },
  {
   "cell_type": "markdown",
   "metadata": {},
   "source": [
    "É possível verificar que o conjunto dos vértices $|V_c| = \\{0,1,2,3\\} $ formam um clique de tamanho $K=4$, pois formam um grafo completo. "
   ]
  },
  {
   "cell_type": "markdown",
   "metadata": {},
   "source": [
    "## Formulação como Otimização Irrestrita\n",
    "\n",
    "Formularemos o problema como uma função de otimização com variáveis binárias, $x_i \\in \\{0,1\\}$, sendo que o \"estado\" de cada vértice é dado por $x_i$. Se $x_i = 1$, indica que o vértice de índice $i$ faz parte do clique. A solução do exemplo com o grafo apresentado anteriormente é dada por $\\vec{x} = 11110$, visto que apenas o vértice $4$ não faz parte do clique.\n",
    "\n",
    "Apresentaremos dois termos de penalidades necessários para escrever o Problema do Clique como Otimização Irrestrita. Um dos termos está relacionado ao fato de que o número de vértices no estado $x_i = 1$ deve ser igual a $K$. Para isso, criamos o termo\n",
    "\n",
    "$$ H_a = \\left(K - \\sum_{i=0}^{N}x_i\\right)^2. $$\n",
    "\n",
    "Quanto maior a diferença entre $K$ e o número de vértices em estado $1$, maior será a penalidade na função objetivo. O valor de $H_a$ será $0$ (mínimo) quando o critério for atendido. Contudo, claramente, essa condição não é suficiente para garantir que o clique seja encontrado. Para isso, introduziremos outros conceitos, começando pela quantidade de vértices em um clique. Essa quantidade é dada por\n",
    "\n",
    "$$C = \\frac{K(K-1)}{2}.$$\n",
    "\n",
    "Logo, introduziremos um novo termo na função objetivo, cujo papel desempenhado é o de penalizar a função caso o número de arestas do subgrafo que conectam os nós de estado $x_i = 1$ seja diferente de $C$. Queremos que a quantidade de arestas do clique seja igual a $C$, logo, criamos o seguinte termo:\n",
    "\n",
    "$$H_b = C - \\sum_{<ij>}x_ix_j$$\n",
    "onde $<ij>$ representa os índices apenas dos vértices conectados entre si. Introduziremos ainda as variáveis de penalidade dadas por $A$ e $B$, que são números inteiros usados para controlar a função objetivo e garantir que as restrições serão atendidas, pois podera as penalidades. Sendo assim, a função objetivo final é dada por \n",
    "\n",
    "$$H = A\\left(K - \\sum_{i=0}^{N}x_i\\right)^2 + B\\left( C - \\sum_{<ij>}x_ix_j\\right).$$\n",
    "\n",
    "Neste problema, devemos considerar as constantes de penalidade satisfaznedo $A > B$."
   ]
  },
  {
   "cell_type": "markdown",
   "metadata": {},
   "source": [
    "### Exercício 1:\n",
    "\n",
    "Vamos codificar o grafo da figura anterior e desenhá-lo usando a framework `Networkx`.\n",
    "Substitua a resposta correta pelos 2 FIXMEs no código abaixo."
   ]
  },
  {
   "cell_type": "code",
   "execution_count": null,
   "metadata": {},
   "outputs": [],
   "source": [
    "#Criando um grafo G\n",
    "G = nx.Graph()\n",
    "# crie uma lista com os indices de cada nó\n",
    "nodes = FIXME\n",
    "# crie uma estrutura que codifique o grafo\n",
    "# crie uma lista de tuplas com os nos vizinhos: g=[..., (ni,nj),...]\n",
    "g = FIXME\n",
    "\n",
    "G.add_edges_from(g)\n",
    "nx.draw(G, with_labels=True)\n",
    "plt.show()"
   ]
  },
  {
   "cell_type": "markdown",
   "metadata": {},
   "source": [
    "### Exercício 2:\n",
    "\n",
    "Agora, defina os parâmetros do problema. Note que queremos encontrar um clique de tamanho $K=4$ no grafo dado como exemplo.\n",
    "Substitua a resposta correta pelos 4 FIXMEs no código abaixo."
   ]
  },
  {
   "cell_type": "code",
   "execution_count": null,
   "metadata": {},
   "outputs": [],
   "source": [
    "# -----------------\n",
    "# parametros do problema\n",
    "# -----------------\n",
    "\n",
    "# defina o tamanho do clique\n",
    "K= FIXME\n",
    "# numero de nos do grafo\n",
    "num_nodes = FIXME\n",
    "# numero de arestas no clique\n",
    "C = FIXME\n",
    "# penalidades para Ha e Hb\n",
    "A,B = FIXME\n",
    "\n",
    "print(f\"Tamanho do Clique: {K} \\n Número de nós: {num_nodes} \\n Número de arestas no Clique: {C} \\n Constantes de penalidade: {A} e {B}.\")\n"
   ]
  },
  {
   "cell_type": "markdown",
   "metadata": {},
   "source": [
    "### Exercício 3:\n",
    "\n",
    "Escreva a função objetivo inteira em termos das variáveis binárias `Binary(xi)` do Pyqubo.\n",
    "Substitua a resposta correta pelos 6 FIXMEs no código abaixo."
   ]
  },
  {
   "cell_type": "code",
   "execution_count": null,
   "metadata": {},
   "outputs": [],
   "source": [
    "# ----------------------------------------\n",
    "# criando as variaveis binarias com pyqubo\n",
    "# ----------------------------------------\n",
    "\n",
    "# criando o termo Ha\n",
    "x_sum = 0 \n",
    "for i in nodes:\n",
    "    x_sum += Binary(\"x\" + str(FIXME))\n",
    "\n",
    "Ha = FIXME\n",
    "\n",
    "# criando o termo Hb\n",
    "quadratic_terms_sum = 0\n",
    "for edge in G:\n",
    "    quadratic_terms_sum += Binary(\"x\" + str(FIXME))*Binary(\"x\" + str(FIXME))\n",
    "\n",
    "Hb = FIXME\n",
    "\n",
    "# escreva a função objetivo\n",
    "H = FIXME\n",
    "\n",
    "model = H.compile()"
   ]
  },
  {
   "cell_type": "markdown",
   "metadata": {},
   "source": [
    "### Exercício 4:\n",
    "\n",
    "Crie o objeto `qaoa`, através da classe SolverQAOA, com seus argumentos declarados corretamente.\n",
    "Substitua a resposta correta pelos 4 FIXMEs no código abaixo."
   ]
  },
  {
   "cell_type": "code",
   "execution_count": null,
   "metadata": {},
   "outputs": [],
   "source": [
    "qaoa = SolverQAOA(FIXME, FIXME, FIXME, FIXME)"
   ]
  },
  {
   "cell_type": "markdown",
   "metadata": {},
   "source": [
    "### Exercício 5:\n",
    "\n",
    "Crie o circuito para operador de fase do QAOA e atribua um parametro qualquer no intervalo [0, pi].\n",
    "Substitua a resposta correta pelo FIXME no código abaixo."
   ]
  },
  {
   "cell_type": "code",
   "execution_count": null,
   "metadata": {},
   "outputs": [],
   "source": [
    "phase_circuit = FIXME\n",
    "%qatdisplay phase_circuit --svg"
   ]
  },
  {
   "cell_type": "markdown",
   "metadata": {},
   "source": [
    "### Exercício 6:\n",
    "\n",
    "Crie o circuito para operador mixer do QAOA e atribua um parametro qualquer no intervalo [0, pi].\n",
    "Substitua a resposta correta pelo FIXME no código abaixo."
   ]
  },
  {
   "cell_type": "code",
   "execution_count": null,
   "metadata": {},
   "outputs": [],
   "source": [
    "mix_circuit = FIXME\n",
    "%qatdisplay mix_circuit --svg"
   ]
  },
  {
   "cell_type": "markdown",
   "metadata": {},
   "source": [
    "### Exercício 7:\n",
    "\n",
    "Defina um chute inicial para os parametros variacionais de todo o circuito, baseado na profundidade do circuito `depth`. Através do método `full_circuit_measurements`, crie o circuito completo e as `num_measurements` medidas para o chute incicial.\n",
    "Substitua a resposta correta pelos 2 FIXMEs no código abaixo."
   ]
  },
  {
   "cell_type": "code",
   "execution_count": null,
   "metadata": {},
   "outputs": [],
   "source": [
    "# camada única do QAOA e medidas para chute inicial de gamma e beta\n",
    "initial_guess = FIXME\n",
    "full_circ, initial_meas = FIXME\n",
    "%qatdisplay full_circ --svg"
   ]
  },
  {
   "cell_type": "code",
   "execution_count": null,
   "metadata": {},
   "outputs": [],
   "source": [
    "states=[]; probs = []\n",
    "for key, value in initial_meas.items():\n",
    "    states.append(str(key))\n",
    "    probs.append(value)\n",
    "\n",
    "plt.bar(states, probs)"
   ]
  },
  {
   "cell_type": "code",
   "execution_count": null,
   "metadata": {},
   "outputs": [],
   "source": [
    "print(states)\n",
    "print(probs)"
   ]
  },
  {
   "cell_type": "markdown",
   "metadata": {},
   "source": [
    "### Exercício 8:\n",
    "\n",
    "Através do método `cost_function`, calcule as funções custo individuais para as soluções '00001' e '11100'. Interprete os resultados. Supondo que tenhamos realizado 10 medidas no circuito quântico e os autoestados medidos fossem justamente '00001' 2 vezes e '11100' 8 vezes, qual seria a estimativa para o valor esperado nesse caso?\n",
    "Substitua a resposta correta pelo FIXME no código abaixo."
   ]
  },
  {
   "cell_type": "code",
   "execution_count": null,
   "metadata": {},
   "outputs": [],
   "source": [
    "# cada energia relacionada a um autoestado\n",
    "# exemplo:\n",
    "energy_00001 = FIXME\n",
    "energy_11100 = FIXME\n",
    "\n",
    "print(\"Energia associada ao autoestado |11100>:  \", energy_11100, \"\\n\",70*\"#\")\n",
    "print(\"Energia associada ao autoestado |00001>:  \", energy_00001, \"\\n\",70*\"#\")\n",
    "\n",
    "exp_value_00001_11100 = FIXME\n",
    "\n",
    "print(\"Valor esperado das 10 medidas hipoteticas:  \", exp_value_00001_11100, \"\\n\",70*\"#\")"
   ]
  },
  {
   "cell_type": "markdown",
   "metadata": {},
   "source": [
    "### Exercício 9:\n",
    "\n",
    "Através do método `expected_value`, calcule o valor esperado para o número de medidas `num_measurements` que voce escolheu. Note que o argumento do método é o `initial_guess`.\n",
    "Substitua a resposta correta pelo FIXME no código abaixo."
   ]
  },
  {
   "cell_type": "code",
   "execution_count": null,
   "metadata": {},
   "outputs": [],
   "source": [
    "# valor esperado de energia <psi|H|psi> para os chutes iniciais:\n",
    "exp_val = FIXME\n",
    "print(\" \\n \\n Valor esperado de energia para o chute inicial:  \", exp_val, \"\\n\",70*\"#\")"
   ]
  },
  {
   "cell_type": "code",
   "execution_count": null,
   "metadata": {},
   "outputs": [],
   "source": [
    "# Rodando o algoritmo com o método run()\n",
    "res = qaoa_myqlm.run()"
   ]
  },
  {
   "cell_type": "markdown",
   "metadata": {},
   "source": [
    "### Exercício 10:\n",
    "\n",
    "Repita o experimento algumas vezes para $K=3$. Comente os resultados."
   ]
  }
 ],
 "metadata": {
  "kernelspec": {
   "display_name": "Python 3.9.7 ('base')",
   "language": "python",
   "name": "python3"
  },
  "language_info": {
   "codemirror_mode": {
    "name": "ipython",
    "version": 3
   },
   "file_extension": ".py",
   "mimetype": "text/x-python",
   "name": "python",
   "nbconvert_exporter": "python",
   "pygments_lexer": "ipython3",
   "version": "3.9.7"
  },
  "orig_nbformat": 4,
  "vscode": {
   "interpreter": {
    "hash": "445da9f97fff3e9607fce724e9f5124fca1a39a333bfa2bf5db6a7377ace2fc6"
   }
  }
 },
 "nbformat": 4,
 "nbformat_minor": 2
}
