{
 "cells": [
  {
   "cell_type": "code",
   "execution_count": 155,
   "metadata": {},
   "outputs": [],
   "source": [
    "import scipy\n",
    "import numpy as np\n",
    "from scipy.optimize import minimize\n",
    "import matplotlib.pyplot as plt\n",
    "\n",
    "# pyqubo imports\n",
    "from pyqubo import Binary, Spin\n",
    "from pprint import pprint\n",
    "from dimod import ExactSolver\n",
    "\n",
    "#myqlm imports\n",
    "from qat.lang.AQASM import *\n",
    "from qat.lang.AQASM import *\n",
    "from qat.qpus import get_default_qpu\n",
    "import import_ipynb\n",
    "import ipynb\n",
    "\n",
    "import networkx as nx\n",
    "import matplotlib.pyplot as plt\n",
    "\n",
    "from QAOAutils import SolverQAOA"
   ]
  },
  {
   "cell_type": "markdown",
   "metadata": {},
   "source": [
    "# Problema do Clique\n",
    "\n",
    "O Problema do Clique consiste em encontrar um subgrafo completo, $\\hat{G}$, composto por $K$ vértices (nós), em um dado grafo $G(V,E)$. Um grafo é completo quando todos os seus vértices nós interconectados. Na figura abaixo, podemos ver um grafo e seu respectivo clique de tamanho $K=4$.\n",
    "\n",
    "<img src=\"grafo_clique.png\" width=750 />\n",
    "\n"
   ]
  },
  {
   "cell_type": "markdown",
   "metadata": {},
   "source": [
    "É possível verificar que o conjunto dos vértices $|V_c| = \\{0,1,2,3\\} $ formam um clique de tamanho $K=4$, pois formam um grafo completo. "
   ]
  },
  {
   "cell_type": "markdown",
   "metadata": {},
   "source": [
    "## Formulação como Otimização Irrestrita\n",
    "\n",
    "Formularemos o problema como uma função de otimização com variáveis binárias, $x_i \\in \\{0,1\\}$, sendo que o \"estado\" de cada vértice é dado por $x_i$. Se $x_i = 1$, indica que o vértice de índice $i$ faz parte do clique. A solução do exemplo com o grafo apresentado anteriormente é dada por $\\vec{x} = 11110$, visto que apenas o vértice $4$ não faz parte do clique.\n",
    "\n",
    "Apresentaremos dois termos de penalidades necessários para escrever o Problema do Clique como Otimização Irrestrita. Um dos termos está relacionado ao fato de que o número de vértices no estado $x_i = 1$ deve ser igual a $K$. Para isso, criamos o termo\n",
    "\n",
    "$$ H_a = \\left(K - \\sum_{i=0}^{N}x_i\\right)^2. $$\n",
    "\n",
    "Quanto maior a diferença entre $K$ e o número de vértices em estado $1$, maior será a penalidade na função objetivo. O valor de $H_a$ será $0$ (mínimo) quando o critério for atendido. Contudo, claramente, essa condição não é suficiente para garantir que o clique seja encontrado. Para isso, introduziremos outros conceitos, começando pela quantidade de vértices em um clique. Essa quantidade é dada por\n",
    "\n",
    "$$C = \\frac{K(K-1)}{2}.$$\n",
    "\n",
    "Logo, introduziremos um novo termo na função objetivo, cujo papel desempenhado é o de penalizar a função caso o número de arestas do subgrafo que conectam os nós de estado $x_i = 1$ seja diferente de $C$. Queremos que a quantidade de arestas do clique seja igual a $C$, logo, criamos o seguinte termo:\n",
    "\n",
    "$$H_b = C - \\sum_{<ij>}x_ix_j$$\n",
    "onde $<ij>$ representa os índices apenas dos vértices conectados entre si. Introduziremos ainda as variáveis de penalidade dadas por $A$ e $B$, que são números inteiros usados para controlar a função objetivo e garantir que as restrições serão atendidas, pois podera as penalidades. Sendo assim, a função objetivo final é dada por \n",
    "\n",
    "$$H = A\\left(K - \\sum_{i=0}^{N}x_i\\right)^2 + B\\left( C - \\sum_{<ij>}x_ix_j\\right).$$\n",
    "\n",
    "Neste problema, devemos considerar as constantes de penalidade satisfaznedo $A > B$."
   ]
  },
  {
   "cell_type": "markdown",
   "metadata": {},
   "source": [
    "### Exercício 1:\n",
    "\n",
    "Vamos codificar o grafo da figura anterior e desenhá-lo usando a framework `Networkx`.\n",
    "Substitua a resposta correta pelos 2 FIXMEs no código abaixo."
   ]
  },
  {
   "cell_type": "code",
   "execution_count": 156,
   "metadata": {},
   "outputs": [
    {
     "data": {
      "image/png": "[encoded data removed]",
      "text/plain": [
       "<Figure size 432x288 with 1 Axes>"
      ]
     },
     "metadata": {},
     "output_type": "display_data"
    }
   ],
   "source": [
    "#Criando um grafo G\n",
    "G = nx.Graph()\n",
    "num_nodes = 5\n",
    "# crie uma lista com os indices de cada nó\n",
    "nodes = [i for i in range(num_nodes)]\n",
    "# crie uma estrutura que codifique o grafo\n",
    "# crie uma lista de tuplas com os nos vizinhos: g=[..., (ni,nj),...]\n",
    "g = [(0,1),(0,2),(0,3),(1,2),(1,3),(2,3),(2,4),(3,4)]\n",
    "\n",
    "G.add_edges_from(g)\n",
    "nx.draw(G, with_labels=True)\n",
    "plt.show()"
   ]
  },
  {
   "cell_type": "markdown",
   "metadata": {},
   "source": [
    "### Exercício 2:\n",
    "\n",
    "Agora, defina os parâmetros do problema. Note que queremos encontrar um clique de tamanho $K=4$ no grafo dado como exemplo.\n",
    "Substitua a resposta correta pelos 4 FIXMEs no código abaixo."
   ]
  },
  {
   "cell_type": "code",
   "execution_count": 157,
   "metadata": {},
   "outputs": [
    {
     "name": "stdout",
     "output_type": "stream",
     "text": [
      "Tamanho do Clique: 3 \n",
      " Número de nós: 5 \n",
      " Número de arestas no Clique: 3.0 \n",
      " Constantes de penalidade: 4 e 1.\n"
     ]
    }
   ],
   "source": [
    "# -----------------\n",
    "# parametros do problema\n",
    "# -----------------\n",
    "\n",
    "# defina o tamanho do clique\n",
    "K= 3\n",
    "# numero de nos do grafo\n",
    "num_nodes = len(nodes)\n",
    "# numero de arestas no clique\n",
    "C = K*(K-1)/2\n",
    "# penalidades para Ha e Hb\n",
    "A,B = 4,1\n",
    "\n",
    "print(f\"Tamanho do Clique: {K} \\n Número de nós: {num_nodes} \\n Número de arestas no Clique: {C} \\n Constantes de penalidade: {A} e {B}.\")\n"
   ]
  },
  {
   "cell_type": "markdown",
   "metadata": {},
   "source": [
    "### Exercício 3:\n",
    "\n",
    "Escreva a função objetivo inteira em termos das variáveis binárias `Binary('xi')` do Pyqubo.\n",
    "Substitua a resposta correta pelos 6 FIXMEs no código abaixo."
   ]
  },
  {
   "cell_type": "code",
   "execution_count": 158,
   "metadata": {},
   "outputs": [],
   "source": [
    "# ----------------------------------------\n",
    "# criando as variaveis binarias com pyqubo\n",
    "# ----------------------------------------\n",
    "\n",
    "# criando o termo Ha\n",
    "x_sum = 0 \n",
    "for i in nodes:\n",
    "    x_sum += Binary(\"x\" + str(i))\n",
    "\n",
    "Ha = (K - x_sum)**2\n",
    "\n",
    "# criando o termo Hb\n",
    "quadratic_terms_sum = 0\n",
    "for edge in g:\n",
    "    quadratic_terms_sum += Binary(\"x\" + str(edge[0]))*Binary(\"x\" + str(edge[1]))\n",
    "\n",
    "Hb = C - quadratic_terms_sum\n",
    "\n",
    "# escreva a função objetivo\n",
    "H = A*Ha + B*Hb\n",
    "\n",
    "model = H.compile()"
   ]
  },
  {
   "cell_type": "markdown",
   "metadata": {},
   "source": [
    "### Exercício 4:\n",
    "\n",
    "Crie o objeto `qaoa`, através da classe SolverQAOA, com seus argumentos declarados corretamente.\n",
    "Substitua a resposta correta pelos 4 FIXMEs no código abaixo."
   ]
  },
  {
   "cell_type": "code",
   "execution_count": 159,
   "metadata": {},
   "outputs": [],
   "source": [
    "qaoa = SolverQAOA(binary_model = model, num_variables = 5, num_measurements = 1000, depth=4)"
   ]
  },
  {
   "cell_type": "markdown",
   "metadata": {},
   "source": [
    "### Exercício 5:\n",
    "\n",
    "Crie o circuito para operador de fase do QAOA e atribua um parametro qualquer no intervalo [0, pi].\n",
    "Substitua a resposta correta pelo FIXME no código abaixo."
   ]
  },
  {
   "cell_type": "code",
   "execution_count": 160,
   "metadata": {},
   "outputs": [
    {
     "name": "stderr",
     "output_type": "stream",
     "text": [
      "UsageError: Line magic function `%qatdisplay` not found.\n"
     ]
    }
   ],
   "source": [
    "phase_circuit = qaoa.phase_op(gamma = np.pi)\n",
    "%qatdisplay phase_circuit --svg"
   ]
  },
  {
   "cell_type": "markdown",
   "metadata": {},
   "source": [
    "### Exercício 6:\n",
    "\n",
    "Crie o circuito para operador mixer do QAOA e atribua um parametro qualquer no intervalo [0, pi].\n",
    "Substitua a resposta correta pelo FIXME no código abaixo."
   ]
  },
  {
   "cell_type": "code",
   "execution_count": 161,
   "metadata": {},
   "outputs": [
    {
     "name": "stderr",
     "output_type": "stream",
     "text": [
      "UsageError: Line magic function `%qatdisplay` not found.\n"
     ]
    }
   ],
   "source": [
    "mix_circuit = qaoa.mixer_op(np.pi)\n",
    "%qatdisplay mix_circuit --svg"
   ]
  },
  {
   "cell_type": "markdown",
   "metadata": {},
   "source": [
    "### Exercício 7:\n",
    "\n",
    "Defina um chute inicial para os parametros variacionais de todo o circuito, baseado na profundidade do circuito `depth`. Através do método `full_circuit_measurements`, crie o circuito completo e as `num_measurements` medidas para o chute incicial.\n",
    "Substitua a resposta correta pelos 2 FIXMEs no código abaixo."
   ]
  },
  {
   "cell_type": "code",
   "execution_count": 162,
   "metadata": {},
   "outputs": [
    {
     "name": "stderr",
     "output_type": "stream",
     "text": [
      "UsageError: Line magic function `%qatdisplay` not found.\n"
     ]
    }
   ],
   "source": [
    "# camada única do QAOA e medidas para chute inicial de gamma e beta\n",
    "initial_guess = np.random.uniform(0,np.pi,8)\n",
    "full_circ, initial_meas = qaoa.full_circuit_measurements(initial_guess)\n",
    "%qatdisplay full_circ --svg"
   ]
  },
  {
   "cell_type": "code",
   "execution_count": 163,
   "metadata": {},
   "outputs": [
    {
     "data": {
      "text/plain": [
       "<BarContainer object of 32 artists>"
      ]
     },
     "execution_count": 163,
     "metadata": {},
     "output_type": "execute_result"
    },
    {
     "data": {
      "image/png": "[encoded data removed]",
      "text/plain": [
       "<Figure size 432x288 with 1 Axes>"
      ]
     },
     "metadata": {
      "needs_background": "light"
     },
     "output_type": "display_data"
    }
   ],
   "source": [
    "states=[]; probs = []\n",
    "for key, value in initial_meas.items():\n",
    "    states.append(str(key))\n",
    "    probs.append(value)\n",
    "\n",
    "plt.bar(states, probs)"
   ]
  },
  {
   "cell_type": "code",
   "execution_count": 164,
   "metadata": {},
   "outputs": [
    {
     "name": "stdout",
     "output_type": "stream",
     "text": [
      "['|11011>', '|11001>', '|10110>', '|11000>', '|01101>', '|00001>', '|00100>', '|00110>', '|01111>', '|11110>', '|11101>', '|01011>', '|00010>', '|00101>', '|10101>', '|01110>', '|01001>', '|10011>', '|10000>', '|11111>', '|10111>', '|01100>', '|10001>', '|01000>', '|10010>', '|11010>', '|00111>', '|00011>', '|00000>', '|01010>', '|10100>', '|11100>']\n",
      "[0.033, 0.172, 0.026, 0.019, 0.027, 0.088, 0.064, 0.047, 0.052, 0.062, 0.032, 0.028, 0.053, 0.024, 0.023, 0.026, 0.021, 0.027, 0.018, 0.015, 0.035, 0.002, 0.019, 0.012, 0.011, 0.002, 0.028, 0.014, 0.005, 0.004, 0.008, 0.003]\n"
     ]
    }
   ],
   "source": [
    "print(states)\n",
    "print(probs)"
   ]
  },
  {
   "cell_type": "markdown",
   "metadata": {},
   "source": [
    "### Exercício 8:\n",
    "\n",
    "Através do método `cost_function`, calcule as funções custo individuais para as soluções '00001' e '11100'. Interprete os resultados. Supondo que tenhamos realizado 10 medidas no circuito quântico e os autoestados medidos fossem justamente '00001' 2 vezes e '11100' 8 vezes, qual seria a estimativa para o valor esperado nesse caso?\n",
    "Substitua a resposta correta pelo FIXME no código abaixo."
   ]
  },
  {
   "cell_type": "code",
   "execution_count": 165,
   "metadata": {},
   "outputs": [
    {
     "name": "stdout",
     "output_type": "stream",
     "text": [
      "Energia associada ao autoestado |11100>:   -39.0 \n",
      " ######################################################################\n",
      "Energia associada ao autoestado |00001>:   -20.0 \n",
      " ######################################################################\n",
      "Valor esperado das 10 medidas hipoteticas:   -35.2 \n",
      " ######################################################################\n"
     ]
    }
   ],
   "source": [
    "# cada energia relacionada a um autoestado\n",
    "# exemplo:\n",
    "energy_00001 = qaoa.cost_function('00001')\n",
    "\n",
    "energy_11100 = qaoa.cost_function('11100')\n",
    "\n",
    "print(\"Energia associada ao autoestado |11100>:  \", energy_11100, \"\\n\",70*\"#\")\n",
    "print(\"Energia associada ao autoestado |00001>:  \", energy_00001, \"\\n\",70*\"#\")\n",
    "\n",
    "exp_value_00001_11100 =  (energy_00001*2 + energy_11100*8)/10\n",
    "\n",
    "print(\"Valor esperado das 10 medidas hipoteticas:  \", exp_value_00001_11100, \"\\n\",70*\"#\")"
   ]
  },
  {
   "cell_type": "markdown",
   "metadata": {},
   "source": [
    "### Exercício 9:\n",
    "\n",
    "Através do método `expected_value`, calcule o valor esperado para o número de medidas `num_measurements` que voce escolheu. Note que o argumento do método é o `initial_guess`.\n",
    "Substitua a resposta correta pelo FIXME no código abaixo."
   ]
  },
  {
   "cell_type": "code",
   "execution_count": 166,
   "metadata": {},
   "outputs": [
    {
     "name": "stdout",
     "output_type": "stream",
     "text": [
      " \n",
      " \n",
      " Valor esperado de energia para o chute inicial:   -32.219 \n",
      " ######################################################################\n"
     ]
    }
   ],
   "source": [
    "# valor esperado de energia <psi|H|psi> para os chutes iniciais:\n",
    "exp_val = qaoa.expected_value(initial_guess)\n",
    "print(\" \\n \\n Valor esperado de energia para o chute inicial:  \", exp_val, \"\\n\",70*\"#\")"
   ]
  },
  {
   "cell_type": "code",
   "execution_count": 167,
   "metadata": {},
   "outputs": [
    {
     "name": "stderr",
     "output_type": "stream",
     "text": [
      "c:\\Users\\55229\\anaconda3\\lib\\site-packages\\scipy\\optimize\\_minimize.py:548: RuntimeWarning: Method COBYLA does not support callback.\n",
      "  warn('Method %s does not support callback.' % method, RuntimeWarning)\n",
      "c:\\Users\\55229\\anaconda3\\lib\\site-packages\\scipy\\optimize\\_minimize.py:629: OptimizeWarning: Unknown solver options: ftol, iprint, eps, finite_diff_rel_step\n",
      "  return _minimize_cobyla(fun, x0, args, constraints, **options)\n"
     ]
    },
    {
     "name": "stdout",
     "output_type": "stream",
     "text": [
      "\n",
      " \n",
      " QAOA solution:  |11111>\n",
      "Pyqubo solution:  {'x0': 0, 'x1': 0, 'x2': 1, 'x3': 1, 'x4': 1}\n"
     ]
    }
   ],
   "source": [
    "# Rodando o algoritmo com o método run()\n",
    "res = qaoa.run()"
   ]
  },
  {
   "cell_type": "markdown",
   "metadata": {},
   "source": [
    "### Exercício 10:\n",
    "\n",
    "Repita o experimento algumas vezes para $K=3$. Comente os resultados."
   ]
  }
 ],
 "metadata": {
  "kernelspec": {
   "display_name": "Python 3.9.12 ('base')",
   "language": "python",
   "name": "python3"
  },
  "language_info": {
   "codemirror_mode": {
    "name": "ipython",
    "version": 3
   },
   "file_extension": ".py",
   "mimetype": "text/x-python",
   "name": "python",
   "nbconvert_exporter": "python",
   "pygments_lexer": "ipython3",
   "version": "3.9.12"
  },
  "orig_nbformat": 4,
  "vscode": {
   "interpreter": {
    "hash": "4fed6fc55d4ae3f7785493b66026376f3bc14b86eb26260f45711c87f1ac3e26"
   }
  }
 },
 "nbformat": 4,
 "nbformat_minor": 2
}
