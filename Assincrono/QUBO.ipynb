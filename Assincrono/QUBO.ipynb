{
 "cells": [
  {
   "cell_type": "markdown",
   "metadata": {},
   "source": [
    "# QUBO\n",
    "\n",
    "QUBO vem da sigla inglesa Quadratic Unconstrained Binary Optimization. O termo vem de uma classe de problemas matemáticos, assim como um problema matemático específico, com uma formulação específica.\n",
    "\n",
    "Essa classe de problemas vem chamando atenção devido a sua relação com *Quantum Annealers*."
   ]
  },
  {
   "cell_type": "markdown",
   "metadata": {},
   "source": [
    "## O - Optimization\n",
    "Otimização se refere a um tipo de problema específico da matemática. Otimização busca pela melhor solução para um problema, seguindo um conjunto de restrições que podem conflitar entre si.\n",
    "\n",
    "\n",
    "The widely known use of optimization in business is for logistics planning. A truck driver has a series of deliveries to make, to a group of houses.The company wants the driver to minimize her time spent driving, which will save fuel, and allow her to reach more houses during a full day. The company might also wish to minimize the distance driven.\n",
    "\n",
    "However, there are some tradeoffs. For example, highways might offer longer paths which take less time, because of the absence of stoplights. Additionally, if the houses are in areas which involve heavy traffic, outlying roads might offer better paths.\n",
    "\n",
    "We can write this problem as an optimization problem, in which the company weighs the criteria and determines the best solution for potentially hundreds of drivers.\n",
    "\n",
    "Another optimization problem is familiar for those who travel often – the problem of assigning airline prices. If the ticket prices are set too high, flights won’t fill. If the ticket prices are set too low, particular types of seats will fill quickly,  but others may not. In this complicated problem there are many variables – the day of the week, whether there is a holiday, the time of day, the  demand in the market etc.\n",
    "\n",
    "Optimization problems are used in so many ways in business. Especially now, as supply chains grow more complex, logistics shift to demand fast, last mile delivery to consumers, drug discovery becomes more sophisticated and financial applications demand deeper insights for  portfolio management, risk assessment and more."
   ]
  },
  {
   "cell_type": "markdown",
   "metadata": {},
   "source": [
    "## B - Binary\n",
    "A solver refers to the software, and sometimes hardware, that runs the computations to solve an optimization problem. We say that we send the problem to the solver, and the solver returns the best solutions it could find. It is then up to the user to interpret the solutions in terms of the problem’s binary variables, to see whether the optimization criteria have been met successfully.\n",
    "\n",
    "In the above case, binary means that the mathematical form is expressed in binary variables; that is, variables which can only take two values, “off” and “on.” Often we write 0 for the value “Off” and 1 for the value “On,” so that the binary variables are just 0 and 1. There are other choices; for example, in Ising model problems (named after the German physicist Ernst Ising), the binary choices are -1 and 1.\n",
    "\n",
    "How can we solve a complicated problem by using variables which can only take two values?\n",
    "\n",
    "First, let’s look at what’s called constrained optimization. An optimization problem is routinely expressed in terms of a set of variables, an objective function (a quantity to be minimized or maximized) and a set of constraints.\n",
    "\n",
    "Consider choices for that delivery truck we mentioned earlier. Suppose it has four different routes between house A and house B. If we’re expressing the problem in binary variables, we could use four binary variables. The first represents the decision: do we choose the first route? Yes or No? The second route represents the decision: do we choose the second route? Yes or No? You get the idea. You can also realize that when we actually try the optimization, we want only one of these binary variables to be Yes, while the others need to be No. This is called a constraint – a condition on the binary variables."
   ]
  },
  {
   "cell_type": "markdown",
   "metadata": {},
   "source": [
    "## U - Unconstrained\n",
    "What does Unconstrained mean, given that we just explained what a constraint is?\n",
    "\n",
    "The term Unconstrained in the QUBO definition refers to the fact that QUBOs allow the computation to satisfy all the constraints, but won’t rigorously insist that all the constraints MUST be solved.\n",
    "\n",
    "A QUBO gives us methods to penalize potential solutions which violate constraints, but makes it possible to still find solutions which violate constraints. In this sense, the QUBO is unconstrained because we have not rigorously insisted in following all of the constraints.\n",
    "\n",
    "Consider the alternate routes to be taken, in the truck problem we’ve been discussing. If we can choose between four possible routes between A and B, we clearly have a constraint which should be followed by selecting one, and only one, of those routes. But we do not force the solutions to select only one. We allow the computation to find the best solutions – optimized solutions – which have only one of those routes selected.\n",
    "\n",
    "This offers an advantage with QUBOs when processing optimizations, since it allows for multiple answers to be provided as results, even though they do not rigorously meet every single constraint. In large scale problems, this diversity of results often offers much deeper insights than a single, constrained result."
   ]
  },
  {
   "cell_type": "markdown",
   "metadata": {},
   "source": [
    "## Q - Quadratic\n",
    "Finally, let’s consider the word quadratic. You might remember back to your high school algebra, where the word quadratic means “to the power two”. You might remember graphs like circles and parabolas, which were equations involving quadratic powers of a single variable.\n",
    "\n",
    "The word quadratic tells us that the mathematical form of a QUBO may not include anything besides linear terms (like x and y, if those are the independent variables), and xy (known as a “pairwise quadratic” term).\n",
    "\n",
    "Problems expressed in terms of QUBOs are sometimes said to be “models,” and the mathematics of a particular problem determines whether linear terms are sufficient, or whether quadratic terms are needed as well. For example, consider a model that attempts to predict the NCAA basketball tournament winners. Linear terms might describe an individual team’s conference and competitive level of opponents in general; and linear terms might describe whether a team’s roster is depleted, etc. In contrast, quadratic terms would add “pair terms” describing how one team performed versus another specific team, during the course of a season. The research involved in creating quadratic terms might be more expensive and detailed; and a betting pool competitor might want to use only linear terms to save money."
   ]
  },
  {
   "cell_type": "markdown",
   "metadata": {},
   "source": [
    "The Bottom Line\n",
    "OK, so now that we’ve given you a deeper dive into the mathematics terms that form the QUBO, let’s do a simple summary.\n",
    "\n",
    "A QUBO is:\n",
    "\n",
    "A mathematical problem\n",
    "Stated in binary variables,\n",
    "Where variables are linear or pairwise quadratic,\n",
    "Which may include constraints.\n",
    "A QUBO empowers quantum computers to find solutions which satisfy those constraints, without forcing the constraints to hold true. Which adds significant value in problems where multiple results offer deeper insights and more discretion for making better business decisions."
   ]
  }
 ],
 "metadata": {
  "kernelspec": {
   "display_name": "Python 3.10.4 64-bit",
   "language": "python",
   "name": "python3"
  },
  "language_info": {
   "name": "python",
   "version": "3.10.4"
  },
  "orig_nbformat": 4,
  "vscode": {
   "interpreter": {
    "hash": "916dbcbb3f70747c44a77c7bcd40155683ae19c65e1c03b4aa3499c5328201f1"
   }
  }
 },
 "nbformat": 4,
 "nbformat_minor": 2
}
