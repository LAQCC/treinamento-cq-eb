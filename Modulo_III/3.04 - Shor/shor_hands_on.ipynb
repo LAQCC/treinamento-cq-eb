{
 "cells": [
  {
   "cell_type": "code",
   "execution_count": 1,
   "id": "43031fb9",
   "metadata": {},
   "outputs": [],
   "source": [
    "from qat.lang.AQASM import *\n",
    "from qat.lang.AQASM.qftarith import QFT\n",
    "from qat.qpus import PyLinalg\n",
    "from qat.qpus import get_default_qpu\n",
    "import numpy as np\n",
    "import matplotlib.pyplot as plt"
   ]
  },
  {
   "cell_type": "markdown",
   "id": "96e1be8b",
   "metadata": {},
   "source": [
    "# Algoritmo de Shor\n",
    "\n",
    "Neste notebook, vamos implementar um algoritmo quântico para fatorar o número 15. Escreveremos um código de implementação do Algoritmo de Shor em `myQLM`, seguindo o material apresentado em sala.\n",
    "\n",
    "Material de apoio:\n",
    "- **Transformada de Fourier Quântica**: aula qft\n",
    "- **Estimativa de Fase Quântica**: aula qpe\n",
    "- **Algoritmo de Shor**: aula shor\n",
    "\n",
    "\n",
    "## Revisão do Algoritmo de Shor\n",
    "Lembrando da aula X, O Algoritmo de Shor pode ser utilizado para encontrar fatores de um número inteiro, $N$, sendo\n",
    "\n",
    "$$N = pq$$\n",
    "\n",
    "onde $p$ e $q$ são números primos. Isso é feito em quatro etapas principais, semelhantes à implementação da estimativa de fase quântica. Neste caso, usaremos dois registradores de qubits. O primeiro registro terá $n = \\lceil \\log_2 N^2 \\rceil = \\lceil 2 \\log_2 N \\rceil$ qubits e conterá os qubits de medição. O segundo registrador terá $m = \\lceil \\log_2 N \\rceil$ qubits, e será o autoestado para a estimativa da fase quântica. Para o número $15$, podemos usar $m=n$, visto que a ordem é sempre uma potência de $2$.\n",
    "\n",
    "1. Primeiro, começamos inicializando nossos qubits. Criamos uma superposição de todos os estados de base computacional $2^n$ nos $n$ qubits do primeiro registrador, aplicando uma porta Hadamard ($H$) em cada qubit começando no estado $\\vert0\\rangle^{\\otimes n}$. Também inicializamos os qubits de destino $m = \\lceil \\log_2 N \\rceil$  no estado $\\vert1\\rangle$. Aqui, o expoente $\\otimes n$ significa que temos um produto tensorial dos estados de $n = m$ qubits.\n",
    "\n",
    "2. Em segundo lugar, aplicamos o operador unitário $U_a|x\\rangle = |ax \\mod N\\rangle $, que será usado para realizar a exponenciação modular no segundo registrador, controlando-o com cada um dos diferentes qubits do primeiro registrador. O esquema abaixo mostra a ordenação e as respectivas potências.\n",
    "$$$$\n",
    "<img src=\"shorimage.png\" width=500 />\n",
    "\n",
    "$$$$\n",
    "\n",
    "3. Em terceiro lugar, aplicamos uma transformada de Fourier quântica inversa nos qubits do primeiro registrador.\n",
    "\n",
    "4. Finalmente, medimos os primeiros $n$ qubits, colapsando para o estado $|l\\rangle$ .\n",
    "\n",
    "Depois que os resultados da medição forem determinados, precisaremos fazer um pós-processamento clássico adicional para determinar os fatores ou decidir executar o programa novamente.\n",
    "\n",
    "5. Calculamos $\\frac{l}{2^n}$ e tomamos o denominador como candidato a $r$.\n",
    "\n",
    "6. Testar se $r$ é período. Se $ a^r = 1 \\mod N$, então $r$ é o período e é garantido que os fatores primos de $N$ serão obtidos através da relação\n",
    "\n",
    "$$p,q = \\text{mdc}(a^{r/2} \\pm 1, N)$$\n",
    "\n",
    "\n",
    "\n",
    "\n",
    "\n",
    "\n",
    "## Implementando o Algoritmo de Shor com o `myQLM`\n",
    "\n",
    "Neste notebook, vamos implementar o Algoritmo de Shor para fatorar o número 15.\n",
    "\n",
    "\n",
    "### 1. Inicializando os qubits\n",
    "\n",
    "Inicializamos o registrador de medida como uma superposição uniforme através da operação $H^{\\otimes n}|0\\rangle^{\\otimes n}$. O segundo registrador, onde será aplicada a exponenciação modular, é inicializado no estado $|1\\rangle \\equiv |00...001\\rangle$.\n",
    "\n",
    "Logo, o estado inicializado, $|\\psi_0\\rangle$, é dado por\n",
    "\n",
    "$$|\\psi_0\\rangle = \\frac{1}{\\sqrt{2^n}}\\sum_{i=0}^{2^n-1}|i\\rangle\\otimes |1\\rangle$$"
   ]
  },
  {
   "cell_type": "markdown",
   "id": "7a56746d",
   "metadata": {},
   "source": [
    "## Exercício hands-on: Encontrar os fatores primos do número 15\n",
    "\n",
    "Substitua os `FIXME`s pelas respostas corretas.\n",
    "\n",
    "#### 1) Defina o número de qubits em cada registrador\n",
    "\n",
    "Defina o inteiro, $N$, a ser fatorado e leia a descrição do Algoritmo de Shor para obter a resposta para o valor de cada registrador, sendo $n$ o número de qubits no primeiro registrador e $m$ o do segundo."
   ]
  },
  {
   "cell_type": "code",
   "execution_count": null,
   "id": "7de66afb",
   "metadata": {},
   "outputs": [],
   "source": [
    "# inteiro a ser fatorado\n",
    "N = FIXME\n",
    "# numero de qubits no primeiro reg.\n",
    "n = FIXME\n",
    "# numero de qubits no segundo reg.\n",
    "m = FIXME\n",
    "# numero total de qubits\n",
    "num_qubits = FIXME"
   ]
  },
  {
   "cell_type": "markdown",
   "id": "05f89e24",
   "metadata": {},
   "source": [
    "#### 2) Encontre possíveis valores de $a$\n",
    "\n",
    "Esse valor será usado para calcular a exponenciação modular $a^r\\mod15$. Note que ele deve ser coprimo com $N$, ou seja, $MDC(a,N)=1$, e deve ser menor que $N$."
   ]
  },
  {
   "cell_type": "code",
   "execution_count": null,
   "id": "8a05f83b",
   "metadata": {},
   "outputs": [],
   "source": [
    "# Definir um valor para a\n",
    "# Dica: voce pode usar laços de repetição para definir diferentes valores possíveis\n",
    "\n",
    "# Escreva seu código abaixo\n",
    "\n"
   ]
  },
  {
   "cell_type": "markdown",
   "id": "3bc44f4f",
   "metadata": {},
   "source": [
    "#### 3) Código de inicialização dos registradores\n",
    "\n",
    "    - Incialize o estado do primeiro registrador como uma superposição uniforme (use operações Hadamard).\n",
    "    - O estado inicial do segundo registrador deve ser |000...001>."
   ]
  },
  {
   "cell_type": "code",
   "execution_count": null,
   "id": "73440b4f",
   "metadata": {},
   "outputs": [],
   "source": [
    "def initialize_qubits():\n",
    "\n",
    "    init_circ = QRoutine()\n",
    "    wires = init_circ.new_wires(num_qubits)\n",
    "\n",
    "    # escreva seu codigo abaixo\n",
    "\n",
    "    \n",
    "\n",
    "    # fim do seu codigo\n",
    "\n",
    "    return init_circ"
   ]
  },
  {
   "cell_type": "code",
   "execution_count": null,
   "id": "a262092e",
   "metadata": {},
   "outputs": [],
   "source": [
    "# visualizando o circuito de inicialização\n",
    "# Você não precisa modificar nada nesta célula\n",
    "\n",
    "circuit = Program()\n",
    "qubits = circuit.qalloc(num_qubits)\n",
    "circuit.apply(initialize_qubits(), qubits)\n",
    "circuit = circuit.to_circ()\n",
    "%qatdisplay circuit --svg"
   ]
  },
  {
   "cell_type": "markdown",
   "id": "c66d6689",
   "metadata": {},
   "source": [
    "### 2. Exponenciação Modular Quântica\n",
    "\n",
    "Nessa etapa, precisamos gerar os valores da exponenciação modular $7^{2^i} \\mod 15$ no segundo registrador, e para cada inteiro $i$ será associado um qubit no primeiro registrador que irá controlar esta porta.\n",
    "\n",
    "Para tal, precisamos implementar várias vezes o operador:\n",
    "\n",
    "$U_7|y\\rangle = |7 y\\mod 15\\rangle$\n",
    "\n",
    "Que é descrito em https://arxiv.org/pdf/1202.6614.pdf pelo circuito:\n",
    "\n",
    "$$$$\n",
    "\n",
    "<img src=\"M7.jpg\" width=200 />\n",
    "\n",
    "$$$$\n",
    "\n",
    "Para cada $i$, basta aplicarmos este circuito $2^i$ vezes de forma controlada a partir do valor inicial 1.\n",
    "\n",
    "O circuito acima pode ser controlado estendendo as portas $X$ para CNOTS com um qubit de controle e abrindo a porta SWAP em sua decomposição por CNOTs. Assim, cada CNOT pode ser controlado o estendendo para uma porta Toffoli (CCNOT) com o qubit de controle. Vide imagens abaixo:\n",
    "\n",
    "$$$$\n",
    "\n",
    "<img src=\"M7Aberto.jpg\" width=400 />\n",
    "\n",
    "$$$$\n",
    "\n",
    "$$$$\n",
    "\n",
    "<img src=\"CM7.jpg\" width=400 />\n",
    "\n",
    "$$$$\n",
    "\n",
    "Para generalizar esta ideia com um $a$ diferente de 7, basta obter a representação do $U_a$ em CNOTS e SWAPS e convertê-lo para uma versão controlada. O material de referência mostra circuitos para outros valores de $a$\n"
   ]
  },
  {
   "cell_type": "code",
   "execution_count": null,
   "id": "7297d0ab",
   "metadata": {},
   "outputs": [],
   "source": [
    "def controlled_modular_exponentiation(i):\n",
    "    circ = QRoutine()\n",
    "    wires = circ.new_wires(1 + 4) #1 qubit de controle e 4 onde ocorrem a multiplicação\n",
    "    for j in range(2**i):\n",
    "        \n",
    "        #Implementando C(M_7):\n",
    "        circ.apply(CNOT,0,1)\n",
    "        circ.apply(CNOT,0,2)\n",
    "        circ.apply(CNOT,0,3)\n",
    "        circ.apply(CNOT,0,4)\n",
    "\n",
    "        #SWAP 1\n",
    "        circ.apply(CCNOT,0,2,3)\n",
    "        circ.apply(CCNOT,0,3,2)\n",
    "        circ.apply(CCNOT,0,2,3)\n",
    "\n",
    "        #SWAP 2\n",
    "        circ.apply(CCNOT,0,1,2)\n",
    "        circ.apply(CCNOT,0,2,1)\n",
    "        circ.apply(CCNOT,0,1,2)\n",
    "\n",
    "        #SWAP 3\n",
    "        circ.apply(CCNOT,0,1,4)\n",
    "        circ.apply(CCNOT,0,4,1)\n",
    "        circ.apply(CCNOT,0,1,4)\n",
    "\n",
    "    return circ\n",
    "            "
   ]
  },
  {
   "cell_type": "markdown",
   "id": "fd17c77c",
   "metadata": {},
   "source": [
    "#### Exercício Extra\n",
    "\n",
    "Faça a exponenciação modular para um outro valor de $a$, baseado nas referências fornecidas acima."
   ]
  },
  {
   "cell_type": "code",
   "execution_count": null,
   "id": "02ba09a8",
   "metadata": {},
   "outputs": [],
   "source": [
    "#def controlled_modular_exponentiation(i):\n",
    "#    circ = QRoutine()\n",
    "#    wires = circ.new_wires(1 + 4) #1 qubit de controle e 4 onde ocorrem a multiplicação\n",
    "#    for j in range(2**i):\n",
    "        \n",
    "        # Escreva seu codigo aqui\n",
    "\n",
    "\n",
    "\n",
    "        # fim do seu codigo\n",
    "\n",
    "#    return circ"
   ]
  },
  {
   "cell_type": "markdown",
   "id": "1035440b",
   "metadata": {},
   "source": [
    "### 4) Criando o programa\n",
    "\n",
    "Neste exercício, você terá que aplicar todos os blocos de operações do Algoritmo de Shor no circuito quântico.\n",
    "O programa consiste na aplicação das três principais operações descritas acima:\n",
    "\n",
    "1. Inicialização do circuito\n",
    "2. Exponenciação modular\n",
    "3. Transformada Quântica de Fourier (QFT) no orimeiro registrador\n",
    "\n",
    "As medidas serão feitas e usadas no pós processamento a fim de se encontrar o período $r$.\n",
    "\n",
    "Substitua as respostas corretas pelos `FIXME`s."
   ]
  },
  {
   "cell_type": "code",
   "execution_count": null,
   "id": "ff2bd9fe",
   "metadata": {},
   "outputs": [],
   "source": [
    "# criando o objeto shor com a classe Program\n",
    "shor = Program()\n",
    "# alocando qubits no programa shor\n",
    "qr = shor.qalloc(FIXME)\n",
    "# criando o circuito de inicialização e aplicando no circuito\n",
    "init_circ = initialize_qubits()\n",
    "shor.apply(FIXME, qr)\n",
    "\n",
    "for i in range(4):\n",
    "    modularExponentiation = controlled_modular_exponentiation(i)\n",
    "    shor.apply(modularExponentiation,qr[3-i],qr[4],qr[5],qr[6],qr[7])\n",
    "\n",
    "# Aplicando a QFT no primeiro registrador\n",
    "QFT(FIXME)(FIXME)\n",
    "\n",
    "# transformando de programa para circuito \n",
    "circuit = shor.to_circ()\n",
    "\n",
    "# visualizando o circuito\n",
    "# Obs: na interface web do jupyter é possível dar zoom na imagem e visualizar melhor o circuito\n",
    "%qatdisplay circuit --svg"
   ]
  },
  {
   "cell_type": "code",
   "execution_count": null,
   "id": "905fede6",
   "metadata": {},
   "outputs": [],
   "source": [
    "job = circuit.to_job()\n",
    "result = get_default_qpu().submit(job)\n",
    "\n",
    "states = []\n",
    "for sample in result:\n",
    "     print(\"State %s: probability %s \" % (sample.state, sample.probability))\n",
    "     states.append(sample.state)"
   ]
  },
  {
   "cell_type": "code",
   "execution_count": null,
   "id": "e5d1f2a8",
   "metadata": {},
   "outputs": [],
   "source": [
    "# Converte os autoestados medidos no registrador da QFT em decimais\n",
    "import string\n",
    "decimals = [[str(int(b)) for b in states[i]] for i in range(len(states))]\n",
    "\n",
    "for i,lista in enumerate(decimals):\n",
    "    decimals[i] = list(reversed(lista[:n]))\n",
    "    decimals[i] = int(''.join(decimals[i]),2)\n",
    "    \n",
    "\n",
    "decimals = set(decimals)\n",
    "decimals"
   ]
  },
  {
   "cell_type": "markdown",
   "id": "26ccecb9",
   "metadata": {},
   "source": [
    "### Pós processamento dos valores medidos\n",
    "\n",
    "Como visto na teoria, para encontrar o valor do período $r$, usando $a = 7$, para $N=15$, tomaremos o denominador de $l/2^n$ como um candidato a $r$. Como vimos, $l$ é a representação decimal de um resultado obtido através de uma medida no primeiro registrador e $n=4$."
   ]
  },
  {
   "cell_type": "code",
   "execution_count": null,
   "id": "6e925d8a",
   "metadata": {},
   "outputs": [],
   "source": [
    "from math import gcd, modf\n",
    "from labmath import multord  # pip install labmath\n",
    "\n",
    "# funcao que retorna o denominador de l/2^n\n",
    "def fraction(num, denom):\n",
    "    if denom==0:\n",
    "        raise ZeroDivisionError(\"denominador zero\")\n",
    "    d = gcd(num, denom)\n",
    "    num = num//d\n",
    "    denom = denom//d\n",
    "    return (num, denom)\n",
    "\n",
    "\n",
    "# Encontrando os fatores primos de N\n",
    "prime_factors = (); success = []; total_try = []\n",
    "\n",
    "for decimal in decimals:\n",
    "\n",
    "    total_try.append(0)\n",
    "    # calcula o candidato a r\n",
    "    print(\"decimal medido: \", decimal)\n",
    "    numerator, r = fraction(decimal, 2**n)\n",
    "    print(\"candidato a r: \", r, \"\\n \")\n",
    "\n",
    "    # verifica se r é par\n",
    "    if r % 2 != 0 or r == 0:\n",
    "        continue\n",
    "        \n",
    "    # multord calcula a order de a mod N\n",
    "    if multord(a,N)==r:    \n",
    "\n",
    "        success.append(0)    \n",
    "        guesses = gcd(a**int(r/2) + 1, N), gcd(a**int(r/2) - 1, N)\n",
    "        prime_factors = guesses[0], guesses[1]\n",
    "\n",
    "        \n",
    "print(\"Fatores primos encontrados: \", prime_factors)\n",
    "\n",
    "print(\"Probabilidade de sucesso: \", 100*len(success)/len(total_try), \"% \")"
   ]
  },
  {
   "cell_type": "code",
   "execution_count": null,
   "id": "afa55b1a",
   "metadata": {},
   "outputs": [],
   "source": []
  }
 ],
 "metadata": {
  "kernelspec": {
   "display_name": "Python 3 (ipykernel)",
   "language": "python",
   "name": "python3"
  },
  "language_info": {
   "codemirror_mode": {
    "name": "ipython",
    "version": 3
   },
   "file_extension": ".py",
   "mimetype": "text/x-python",
   "name": "python",
   "nbconvert_exporter": "python",
   "pygments_lexer": "ipython3",
   "version": "3.9.7"
  },
  "vscode": {
   "interpreter": {
    "hash": "445da9f97fff3e9607fce724e9f5124fca1a39a333bfa2bf5db6a7377ace2fc6"
   }
  }
 },
 "nbformat": 4,
 "nbformat_minor": 5
}
