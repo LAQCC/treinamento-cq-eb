{
 "cells": [
  {
   "cell_type": "code",
   "execution_count": null,
   "metadata": {},
   "outputs": [],
   "source": [
    "from qat.lang.AQASM import Program, H, CNOT, RX, RY, RZ, X, Z\n",
    "import numpy as np\n",
    "from qat.qpus import PyLinalg\n",
    "from numpy import linalg\n",
    "from qat.qpus import get_default_qpu\n",
    "from qat.core import Observable, Term\n",
    "import scipy\n",
    "from scipy.optimize import minimize\n",
    "import matplotlib.pyplot as plt"
   ]
  },
  {
   "cell_type": "markdown",
   "metadata": {},
   "source": [
    "# Variational Quantum Eigensolver (VQE)\n",
    "\n",
    "O VQE é um algoritmo proposto em \\ref para realizar a preparação do estado fundamental de energia de moléculas, onde o hamiltoniano, $H$, do sistema, que descreve sua energia, é escrito em termos de operadores de Pauli ($X$, $Y$, $Z$ e $I$) e um processo de otimização é realizado a fim de se encontrar o menor autovalor deste operador.\n",
    "\n",
    "    - Material de apoio: Aula VQE\n",
    "\n",
    "Neste notebook tutorial, implementaremos o VQE utilizando as ferramentas `myQLM` e do `SciPy`. Veremos duas possíveis aplicações desse algoritmo. São elas:\n",
    "\n",
    "    - Simulação quântica \n",
    "    - Otimização combinatória\n",
    "\n",
    "### Simulação da molécula $H_2$ no equilíbrio\n",
    "\n",
    "Agora, vamos encontrar o nível fundamental de energia da molécula de hidrogênio com o VQE. Este é um problema extremamente custoso para moléculas com mais átomos. Contudo, é um problema de grande relevância para o descobrimento de novos materiais e novos medicamentos. \n",
    "\n",
    "Neste notebook, concentraremos nossos esforços em encontrar o nível fundamental de energia de um dado Hamiltoniano da molécula de $H_2$ e não nos preocuparemos com a modelagem hamiltoniana, cujo pre-requisito é um conhecimento um pouco mais avançado de conceitos de química quântica. \n",
    "\n",
    "O hamiltoniano da molécula de hidrgênio no equilíbrio, onde a distância entre os dois átomos de hidrogênio é aproximadamente $0.76 \\text{ Angstrom}$, é dado por \n",
    "\n",
    "$$H = (-1.0523732)II + \n",
    "                 (0.39793742)IZ + \n",
    "                 (-0.3979374)ZI + \n",
    "                 (-0.0112801)ZZ + \n",
    "                 (0.18093119)XX$$\n",
    "\n",
    "Note que o produto entre os operadores de cada termo é um produto tensorial (Ex: $IZ \\equiv I \\otimes Z$).\n",
    "\n",
    "##### Exercício:\n",
    "Escreva $H$ na forma matricial e use um solver para encontrar seus autovalores. No final, compare com o resultado do VQE. Dica: use funções do Numpy, como np.matrix() para criar as matrizes de Pauli, np.kron() para realizar produtos tensoriais e np.linalg.eig() para encontrar autovalores.\n",
    "\n",
    "### Ansatz\n",
    "\n",
    "O ansatz é um circuito quântico parametrizado. Sua forma variacional pode ser dada por padrões heurísticos geralmente implementada através de operadores de rotação e portas CNOT para realizar emaranhamento entre os qubits. Uma forma variacional eficiente é aquela capaz de generalizar bem um estado quântico, aumentando o espaço de busca. Podemos escrever a atuação do circuito variacional, $U(\\vec{\\theta})$, sobre um sistema com $n$ qubits de estado inicial, $|0\\rangle^{\\otimes n}$, como\n",
    "\n",
    "$$U(\\vec{\\theta})|0\\rangle^{\\otimes n} = |\\psi(\\vec{\\theta})\\rangle$$"
   ]
  },
  {
   "cell_type": "code",
   "execution_count": null,
   "metadata": {},
   "outputs": [],
   "source": [
    "def ansatz(var_params):\n",
    "\n",
    "    qprog = Program()\n",
    "    qbits = qprog.qalloc(2)\n",
    "\n",
    "    # cria um ansatz com uma layer e 4 parametros\n",
    "    qprog.apply(RX(var_params[0]),qbits[0])\n",
    "    qprog.apply(RY(var_params[1]),qbits[1])\n",
    "    qprog.apply(CNOT, qbits[0],qbits[1])\n",
    "    qprog.apply(RX(var_params[2]),qbits[0])\n",
    "    qprog.apply(RY(var_params[3]),qbits[1])\n",
    "   \n",
    "    \n",
    "    circ = qprog.to_circ()\n",
    "\n",
    "    return circ"
   ]
  },
  {
   "cell_type": "code",
   "execution_count": null,
   "metadata": {},
   "outputs": [],
   "source": [
    "qc = ansatz([i for i in range(6)])\n",
    "%qatdisplay qc --svg"
   ]
  },
  {
   "cell_type": "markdown",
   "metadata": {},
   "source": [
    "### Valor esperado de $H$\n",
    "\n",
    "O operador hamiltoniano da molécula de hidrogênio apresentado foi escrito como uma combinação linear de 5 produtos de operadores de Pauli e seus respectivos coeficientes. Um dos operadores é uma matriz identidade, cujo valor esperado é sempre 1. Portanto, serão necessárias medidas em 4 diferentes bases. O valor esperado de $H$ pode ser escrito como: (Obs: utilizaremos a notação simplificada $\\langle H \\rangle \\equiv \\langle \\vec{\\theta} | H | \\vec{\\theta} \\rangle $.)\n",
    "\n",
    "$$\\langle H \\rangle = (-1.0523732) \\langle II \\rangle  + \n",
    "                 (0.39793742) \\langle IZ \\rangle + \n",
    "                 (-0.3979374) \\langle ZI \\rangle + \n",
    "                 (-0.0112801) \\langle ZZ \\rangle + \n",
    "                 (0.18093119) \\langle XX \\rangle $$\n",
    "\n",
    "Diante do que foi exposto na aula sobre o VQE, podemos observar que o único termo da soma onde serão necessárias operaações adicionais ao circuito quântico para a medida do valor esperado é o termo $\\langle XX \\rangle$. Como foi visto, para calcular esse valor devemos realizar a transformação $X\\otimes X = (HZH) \\otimes (HZH)$ para calcular seu valor esperado através de medidas na base computacional. Felizmente, a classe Observable do `myQLM` nos permite realizar essa tarefa de forma fácil."
   ]
  },
  {
   "cell_type": "code",
   "execution_count": null,
   "metadata": {},
   "outputs": [],
   "source": [
    "def expected_value(params):\n",
    "    \n",
    "\n",
    "    # chamando o ansatz\n",
    "    circuit = ansatz(var_params = params)\n",
    "    \n",
    "    # criando o observavel\n",
    "    # a classe Oservable é responsavel por realizar as medidas em diferentes bases\n",
    "    obs = Observable(2, pauli_terms=[Term(-1.0523732, \"II\", [0,1]),\n",
    "                                    Term(0.39793742, \"IZ\", [0,1]),\n",
    "                                    Term(-0.3979374, \"ZI\", [0,1]),\n",
    "                                    Term(-0.0112801, \"ZZ\", [0,1]),\n",
    "                                    Term(0.18093119, \"XX\", [0,1])])\n",
    "                                    \n",
    "    # calcula o valor esperado do observavel para um conjunto de parametros\n",
    "    job = circuit.to_job(observable=obs, nbshots=1000)\n",
    "    result = get_default_qpu().submit(job)\n",
    "\n",
    "    print(\" Energia: \\t \", result.value, \"Hartrees\")\n",
    "\n",
    "    return result.value"
   ]
  },
  {
   "cell_type": "code",
   "execution_count": null,
   "metadata": {},
   "outputs": [],
   "source": [
    "def run_vqe():\n",
    "\n",
    "    res = scipy.optimize.minimize(expected_value, x0=np.ones(6), \n",
    "                                method = 'COBYLA', callback=None,\n",
    "                                options={'maxiter': 20, 'ftol': 1e-06, 'iprint': 1, 'disp': True, \n",
    "                                'eps': 1.4901161193847656e-08, 'finite_diff_rel_step': None})\n",
    "\n",
    "    print(\"\\n\" , 100*\"-\",  \"\\n Aproximação da Energia Fundamental: \\t \", res['fun'], \"\\n\", 100*\"-\")\n",
    "    print(\"\\n Parametros ótimos do circuito varicional: \\t \", res['x'])\n",
    "    "
   ]
  },
  {
   "cell_type": "code",
   "execution_count": null,
   "metadata": {},
   "outputs": [],
   "source": [
    "run_vqe()"
   ]
  },
  {
   "cell_type": "markdown",
   "metadata": {},
   "source": [
    "### Otimização combinatória\n",
    "\n",
    "Vamos resolver um problema de otimização combinatória muito conhecido, o Particionamento de Conjuntos. É um problema conhecido por possuir um alto custo computacional associado. Para instâncias maiores, o problema se torna intratável e, portanto, se faz necessário o uso de heurísticas para encontrar aproximações da solução exata. \n",
    "\n",
    "Seja um conjunto dado por $V = \\{v_0, v_1, v_2, ..., v_n\\}$, sendo $v_i \\in R$. O problema de particionar determinado conjunto pode ser formulado através de uma função objetivo a ser minimizada. Essa função pode ser dada por\n",
    "\n",
    "$$H(\\vec{z}) = \\left(\\sum_{i=0}^{n}v_iz_i\\right)^2$$\n",
    "cujas variáveis, $\\vec{z}$, são definidas como $z_i \\in \\{-1,+1\\}$. Este é um problema de otimização combinatória de custo exponencial. Dado um simples exemplo , cujo conjunto é dado por $V = \\{2,3,5\\}$. Podemos reescrever a função objetivo como\n",
    "\n",
    "$$H(\\vec{z}) = 38 + 12z_0z_1 + 20z_0z_2 + 30z_1z_2,$$\n",
    "e encontraremos, usando o VQE, a solução, $\\vec{z}$, que minimiza $H(\\vec{z})$. Para isso, será necessário substituir as variáveis $z_i$ por operadores Pauli-Z, $Z_i$, para que o problema seja de minimização de autovalores. Reescrevendo $H$, temos\n",
    "\n",
    "$$H(\\vec{Z}) = 12ZZI + 20ZIZ + 30IZZ$$\n",
    "\n",
    "#### Exercício \n",
    "Escreva $H(\\vec{Z})$ na forma matricial e explique o significado dos valores da diagonal.\n"
   ]
  },
  {
   "cell_type": "code",
   "execution_count": null,
   "metadata": {},
   "outputs": [],
   "source": [
    "# Dicas:\n",
    "#   use funções no numpy\n",
    "#   np.kron() para produtos tensoriais\n",
    "#   np.matrix() para criar as matrizes Z e I.\n",
    "\n",
    "############# escreva aqui seu codigo ################\n",
    "\n",
    "z = \n",
    "i = \n",
    "\n",
    "zzi = \n",
    "ziz = \n",
    "izz = \n",
    "\n",
    "H = \n",
    "\n",
    "print(H)\n",
    "\n",
    "######################################################"
   ]
  },
  {
   "cell_type": "markdown",
   "metadata": {},
   "source": [
    "Agora, realizaremos o mesmo processo do exemplo anterios, mas agora não estaremos interessados em ter um número como solução, e sim um vetor, o $\\vec{z}$. Embora minimizaremos o valor esperado de um operador, estaremos interessados no autoestado com maior probabilidade, associado ao menor valor esperado."
   ]
  },
  {
   "cell_type": "code",
   "execution_count": null,
   "metadata": {},
   "outputs": [],
   "source": [
    "def ansatz_comb(var_params):\n",
    "\n",
    "    qprog = Program()\n",
    "    qbits = qprog.qalloc(3)\n",
    "\n",
    "    # cria um ansatz com 3 layers e 9 parametros\n",
    "    qprog.apply(RX(var_params[0]),qbits[0])\n",
    "    qprog.apply(RX(var_params[1]),qbits[1])\n",
    "    qprog.apply(RX(var_params[2]),qbits[2])\n",
    "\n",
    "    qprog.apply(CNOT, qbits[0],qbits[1])\n",
    "    qprog.apply(CNOT, qbits[0],qbits[2])\n",
    "    qprog.apply(CNOT, qbits[1],qbits[2])\n",
    "\n",
    "    qprog.apply(RY(var_params[3]),qbits[0])\n",
    "    qprog.apply(RY(var_params[4]),qbits[1])\n",
    "    qprog.apply(RY(var_params[5]),qbits[2])\n",
    "\n",
    "    qprog.apply(CNOT, qbits[0],qbits[1])\n",
    "    qprog.apply(CNOT, qbits[0],qbits[2])\n",
    "    qprog.apply(CNOT, qbits[1],qbits[2])\n",
    "\n",
    "    qprog.apply(RY(var_params[6]),qbits[0])\n",
    "    qprog.apply(RY(var_params[7]),qbits[1])\n",
    "    qprog.apply(RY(var_params[8]),qbits[2])\n",
    "\n",
    "    qprog.apply(RY(var_params[9]),qbits[0])\n",
    "    qprog.apply(RY(var_params[10]),qbits[1])\n",
    "    qprog.apply(RY(var_params[11]),qbits[2])\n",
    "   \n",
    "    \n",
    "    circ = qprog.to_circ()\n",
    "\n",
    "    return circ\n",
    "\n",
    "circuit = ansatz_comb([i for i in range(12)])\n",
    "%qatdisplay circuit --svg"
   ]
  },
  {
   "cell_type": "code",
   "execution_count": null,
   "metadata": {},
   "outputs": [],
   "source": [
    "def expected_value_comb(params):\n",
    "\n",
    "    # chamando o ansatz\n",
    "    circuit = ansatz_comb(var_params = params)\n",
    "    \n",
    "    # criando o observavel\n",
    "    # a classe Oservable é responsavel por realizar as medidas em diferentes bases\n",
    "    obs = Observable(3, pauli_terms=[\n",
    "                                    Term(12, \"ZZI\", [0,1,2]),\n",
    "                                    Term(20, \"ZIZ\", [0,1,2]),\n",
    "                                    Term(30, \"IZZ\", [0,1,2])])\n",
    "                                    \n",
    "    # calcula o valor esperado do observavel para um conjunto de parametros\n",
    "    job = circuit.to_job(observable=obs, nbshots=1000)\n",
    "    result = get_default_qpu().submit(job)\n",
    "\n",
    "    print(\" CUSTO: \\t \", result.value)\n",
    "\n",
    "    conv.append(result.value)\n",
    "\n",
    "    return result.value\n",
    "\n",
    "def run_vqe_comb():\n",
    "\n",
    "    res = scipy.optimize.minimize(expected_value_comb, x0=np.ones(12), \n",
    "                                method = 'COBYLA', callback=None,\n",
    "                                options={'maxiter': 250, 'ftol': 1e-06, 'iprint': 20, 'disp': True, \n",
    "                                'eps': 1.4901161193847656e-08, 'finite_diff_rel_step': None})\n",
    "\n",
    "    print(\"\\n\" , 100*\"-\",  \"\\n Aproximação da Energia Fundamental: \\t \", res['fun'], \"\\n\", 100*\"-\")\n",
    "    print(\"\\n Parametros ótimos do circuito varicional: \\t \", res['x'])\n",
    "\n",
    "    return res['x'], conv\n",
    "\n",
    "conv = []\n",
    "best_params, conv = run_vqe_comb()"
   ]
  },
  {
   "cell_type": "code",
   "execution_count": null,
   "metadata": {},
   "outputs": [],
   "source": [
    "best_circuit = ansatz_comb(best_params)\n",
    "job = best_circuit.to_job()\n",
    "result = get_default_qpu().submit(job)\n",
    "\n",
    "states, probs = [], []\n",
    "for sample in result:\n",
    "    print(f\"Estado:  {sample.state} \\t Probabilidade:  {sample.probability}\")\n",
    "    states.append(sample.state)\n",
    "    probs.append(sample.probability)\n",
    "\n",
    "print(f\" \\n \\n Autoestado com maior ocorrência:  {str(states[probs.index(max(probs))])} \\t Probabilidade:  {max(probs)}\")"
   ]
  },
  {
   "cell_type": "markdown",
   "metadata": {},
   "source": [
    "O autoestado com maior ocorrência indica a solução ótima."
   ]
  },
  {
   "cell_type": "code",
   "execution_count": null,
   "metadata": {},
   "outputs": [],
   "source": [
    "plt.plot(conv)\n",
    "plt.xlabel(\"Iteracao\")\n",
    "plt.ylabel(\"Valor Esperado <H>\")\n",
    "plt.grid()"
   ]
  },
  {
   "cell_type": "markdown",
   "metadata": {},
   "source": []
  }
 ],
 "metadata": {
  "kernelspec": {
   "display_name": "Python 3.9.7 ('base')",
   "language": "python",
   "name": "python3"
  },
  "language_info": {
   "codemirror_mode": {
    "name": "ipython",
    "version": 3
   },
   "file_extension": ".py",
   "mimetype": "text/x-python",
   "name": "python",
   "nbconvert_exporter": "python",
   "pygments_lexer": "ipython3",
   "version": "3.9.7"
  },
  "orig_nbformat": 4,
  "vscode": {
   "interpreter": {
    "hash": "445da9f97fff3e9607fce724e9f5124fca1a39a333bfa2bf5db6a7377ace2fc6"
   }
  }
 },
 "nbformat": 4,
 "nbformat_minor": 2
}
